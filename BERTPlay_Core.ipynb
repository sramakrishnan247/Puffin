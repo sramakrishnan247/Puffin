{
  "nbformat": 4,
  "nbformat_minor": 0,
  "metadata": {
    "colab": {
      "name": "BERTPlay_Core.ipynb",
      "provenance": [],
      "collapsed_sections": [
        "JrZp4n57Qge_",
        "GxX4jvLVQ4Mn",
        "ITfz9SZjTT_w",
        "VZnMz__qWgRs",
        "NVhJTIFbYGkL",
        "DXcnrgvMYUKt",
        "LkclRoW7dY_U",
        "Nn4FJ8EV0azm",
        "OLKL3EGGfgyB",
        "jYfEa2NSRAQV",
        "agAA_d0GROBH",
        "wxma6Dg1Stw2",
        "Om7mDhzUTlVU",
        "Yf6fFn_lUIPE",
        "bWD8tMIVVYSe",
        "C_I9Z6oPWOXy",
        "bwF9W9MIWav9",
        "DwmftZYRW04T"
      ],
      "toc_visible": true,
      "authorship_tag": "ABX9TyNBSjMr+mLbThGOAAaaPTni",
      "include_colab_link": true
    },
    "kernelspec": {
      "name": "python3",
      "display_name": "Python 3"
    },
    "accelerator": "GPU",
    "widgets": {
      "application/vnd.jupyter.widget-state+json": {
        "eb6cafa56d8847189e1b91cd2d4cfda8": {
          "model_module": "@jupyter-widgets/controls",
          "model_name": "HBoxModel",
          "state": {
            "_view_name": "HBoxView",
            "_dom_classes": [],
            "_model_name": "HBoxModel",
            "_view_module": "@jupyter-widgets/controls",
            "_model_module_version": "1.5.0",
            "_view_count": null,
            "_view_module_version": "1.5.0",
            "box_style": "",
            "layout": "IPY_MODEL_7f16cab5437e471581c49d2e3eafe0f8",
            "_model_module": "@jupyter-widgets/controls",
            "children": [
              "IPY_MODEL_5014c7697e374c729ecf830ce99ba584",
              "IPY_MODEL_55962961d4864c25b1f9c65578446c82"
            ]
          }
        },
        "7f16cab5437e471581c49d2e3eafe0f8": {
          "model_module": "@jupyter-widgets/base",
          "model_name": "LayoutModel",
          "state": {
            "_view_name": "LayoutView",
            "grid_template_rows": null,
            "right": null,
            "justify_content": null,
            "_view_module": "@jupyter-widgets/base",
            "overflow": null,
            "_model_module_version": "1.2.0",
            "_view_count": null,
            "flex_flow": null,
            "width": null,
            "min_width": null,
            "border": null,
            "align_items": null,
            "bottom": null,
            "_model_module": "@jupyter-widgets/base",
            "top": null,
            "grid_column": null,
            "overflow_y": null,
            "overflow_x": null,
            "grid_auto_flow": null,
            "grid_area": null,
            "grid_template_columns": null,
            "flex": null,
            "_model_name": "LayoutModel",
            "justify_items": null,
            "grid_row": null,
            "max_height": null,
            "align_content": null,
            "visibility": null,
            "align_self": null,
            "height": null,
            "min_height": null,
            "padding": null,
            "grid_auto_rows": null,
            "grid_gap": null,
            "max_width": null,
            "order": null,
            "_view_module_version": "1.2.0",
            "grid_template_areas": null,
            "object_position": null,
            "object_fit": null,
            "grid_auto_columns": null,
            "margin": null,
            "display": null,
            "left": null
          }
        },
        "5014c7697e374c729ecf830ce99ba584": {
          "model_module": "@jupyter-widgets/controls",
          "model_name": "FloatProgressModel",
          "state": {
            "_view_name": "ProgressView",
            "style": "IPY_MODEL_cbe2e3b0f7d742128ce7abbfcb3ca26f",
            "_dom_classes": [],
            "description": "Downloading: 100%",
            "_model_name": "FloatProgressModel",
            "bar_style": "success",
            "max": 231508,
            "_view_module": "@jupyter-widgets/controls",
            "_model_module_version": "1.5.0",
            "value": 231508,
            "_view_count": null,
            "_view_module_version": "1.5.0",
            "orientation": "horizontal",
            "min": 0,
            "description_tooltip": null,
            "_model_module": "@jupyter-widgets/controls",
            "layout": "IPY_MODEL_470bdc4eac3b45a689a51bc5dea662c1"
          }
        },
        "55962961d4864c25b1f9c65578446c82": {
          "model_module": "@jupyter-widgets/controls",
          "model_name": "HTMLModel",
          "state": {
            "_view_name": "HTMLView",
            "style": "IPY_MODEL_da83bfd86d4745dea765bd89adddcd25",
            "_dom_classes": [],
            "description": "",
            "_model_name": "HTMLModel",
            "placeholder": "​",
            "_view_module": "@jupyter-widgets/controls",
            "_model_module_version": "1.5.0",
            "value": " 232k/232k [00:00&lt;00:00, 2.13MB/s]",
            "_view_count": null,
            "_view_module_version": "1.5.0",
            "description_tooltip": null,
            "_model_module": "@jupyter-widgets/controls",
            "layout": "IPY_MODEL_fe53240ac04d43da85c09d3a196276b0"
          }
        },
        "cbe2e3b0f7d742128ce7abbfcb3ca26f": {
          "model_module": "@jupyter-widgets/controls",
          "model_name": "ProgressStyleModel",
          "state": {
            "_view_name": "StyleView",
            "_model_name": "ProgressStyleModel",
            "description_width": "initial",
            "_view_module": "@jupyter-widgets/base",
            "_model_module_version": "1.5.0",
            "_view_count": null,
            "_view_module_version": "1.2.0",
            "bar_color": null,
            "_model_module": "@jupyter-widgets/controls"
          }
        },
        "470bdc4eac3b45a689a51bc5dea662c1": {
          "model_module": "@jupyter-widgets/base",
          "model_name": "LayoutModel",
          "state": {
            "_view_name": "LayoutView",
            "grid_template_rows": null,
            "right": null,
            "justify_content": null,
            "_view_module": "@jupyter-widgets/base",
            "overflow": null,
            "_model_module_version": "1.2.0",
            "_view_count": null,
            "flex_flow": null,
            "width": null,
            "min_width": null,
            "border": null,
            "align_items": null,
            "bottom": null,
            "_model_module": "@jupyter-widgets/base",
            "top": null,
            "grid_column": null,
            "overflow_y": null,
            "overflow_x": null,
            "grid_auto_flow": null,
            "grid_area": null,
            "grid_template_columns": null,
            "flex": null,
            "_model_name": "LayoutModel",
            "justify_items": null,
            "grid_row": null,
            "max_height": null,
            "align_content": null,
            "visibility": null,
            "align_self": null,
            "height": null,
            "min_height": null,
            "padding": null,
            "grid_auto_rows": null,
            "grid_gap": null,
            "max_width": null,
            "order": null,
            "_view_module_version": "1.2.0",
            "grid_template_areas": null,
            "object_position": null,
            "object_fit": null,
            "grid_auto_columns": null,
            "margin": null,
            "display": null,
            "left": null
          }
        },
        "da83bfd86d4745dea765bd89adddcd25": {
          "model_module": "@jupyter-widgets/controls",
          "model_name": "DescriptionStyleModel",
          "state": {
            "_view_name": "StyleView",
            "_model_name": "DescriptionStyleModel",
            "description_width": "",
            "_view_module": "@jupyter-widgets/base",
            "_model_module_version": "1.5.0",
            "_view_count": null,
            "_view_module_version": "1.2.0",
            "_model_module": "@jupyter-widgets/controls"
          }
        },
        "fe53240ac04d43da85c09d3a196276b0": {
          "model_module": "@jupyter-widgets/base",
          "model_name": "LayoutModel",
          "state": {
            "_view_name": "LayoutView",
            "grid_template_rows": null,
            "right": null,
            "justify_content": null,
            "_view_module": "@jupyter-widgets/base",
            "overflow": null,
            "_model_module_version": "1.2.0",
            "_view_count": null,
            "flex_flow": null,
            "width": null,
            "min_width": null,
            "border": null,
            "align_items": null,
            "bottom": null,
            "_model_module": "@jupyter-widgets/base",
            "top": null,
            "grid_column": null,
            "overflow_y": null,
            "overflow_x": null,
            "grid_auto_flow": null,
            "grid_area": null,
            "grid_template_columns": null,
            "flex": null,
            "_model_name": "LayoutModel",
            "justify_items": null,
            "grid_row": null,
            "max_height": null,
            "align_content": null,
            "visibility": null,
            "align_self": null,
            "height": null,
            "min_height": null,
            "padding": null,
            "grid_auto_rows": null,
            "grid_gap": null,
            "max_width": null,
            "order": null,
            "_view_module_version": "1.2.0",
            "grid_template_areas": null,
            "object_position": null,
            "object_fit": null,
            "grid_auto_columns": null,
            "margin": null,
            "display": null,
            "left": null
          }
        },
        "b1aae569eb5f41aab511131d219a3cf5": {
          "model_module": "@jupyter-widgets/controls",
          "model_name": "HBoxModel",
          "state": {
            "_view_name": "HBoxView",
            "_dom_classes": [],
            "_model_name": "HBoxModel",
            "_view_module": "@jupyter-widgets/controls",
            "_model_module_version": "1.5.0",
            "_view_count": null,
            "_view_module_version": "1.5.0",
            "box_style": "",
            "layout": "IPY_MODEL_7c79af664d944c9aace19a908f2bb0ae",
            "_model_module": "@jupyter-widgets/controls",
            "children": [
              "IPY_MODEL_033bd0ee03e6474a8214f51732a716fc",
              "IPY_MODEL_f1f09220b71a43b8930340605b397050"
            ]
          }
        },
        "7c79af664d944c9aace19a908f2bb0ae": {
          "model_module": "@jupyter-widgets/base",
          "model_name": "LayoutModel",
          "state": {
            "_view_name": "LayoutView",
            "grid_template_rows": null,
            "right": null,
            "justify_content": null,
            "_view_module": "@jupyter-widgets/base",
            "overflow": null,
            "_model_module_version": "1.2.0",
            "_view_count": null,
            "flex_flow": null,
            "width": null,
            "min_width": null,
            "border": null,
            "align_items": null,
            "bottom": null,
            "_model_module": "@jupyter-widgets/base",
            "top": null,
            "grid_column": null,
            "overflow_y": null,
            "overflow_x": null,
            "grid_auto_flow": null,
            "grid_area": null,
            "grid_template_columns": null,
            "flex": null,
            "_model_name": "LayoutModel",
            "justify_items": null,
            "grid_row": null,
            "max_height": null,
            "align_content": null,
            "visibility": null,
            "align_self": null,
            "height": null,
            "min_height": null,
            "padding": null,
            "grid_auto_rows": null,
            "grid_gap": null,
            "max_width": null,
            "order": null,
            "_view_module_version": "1.2.0",
            "grid_template_areas": null,
            "object_position": null,
            "object_fit": null,
            "grid_auto_columns": null,
            "margin": null,
            "display": null,
            "left": null
          }
        },
        "033bd0ee03e6474a8214f51732a716fc": {
          "model_module": "@jupyter-widgets/controls",
          "model_name": "FloatProgressModel",
          "state": {
            "_view_name": "ProgressView",
            "style": "IPY_MODEL_ff73979bb12d43b69eb36595f25b5fca",
            "_dom_classes": [],
            "description": "Downloading: 100%",
            "_model_name": "FloatProgressModel",
            "bar_style": "success",
            "max": 443,
            "_view_module": "@jupyter-widgets/controls",
            "_model_module_version": "1.5.0",
            "value": 443,
            "_view_count": null,
            "_view_module_version": "1.5.0",
            "orientation": "horizontal",
            "min": 0,
            "description_tooltip": null,
            "_model_module": "@jupyter-widgets/controls",
            "layout": "IPY_MODEL_a8f7ec4feff4405481d7caf7c00aa49d"
          }
        },
        "f1f09220b71a43b8930340605b397050": {
          "model_module": "@jupyter-widgets/controls",
          "model_name": "HTMLModel",
          "state": {
            "_view_name": "HTMLView",
            "style": "IPY_MODEL_4b5aed0e1be849a59c5117a47efcddae",
            "_dom_classes": [],
            "description": "",
            "_model_name": "HTMLModel",
            "placeholder": "​",
            "_view_module": "@jupyter-widgets/controls",
            "_model_module_version": "1.5.0",
            "value": " 443/443 [00:23&lt;00:00, 18.9B/s]",
            "_view_count": null,
            "_view_module_version": "1.5.0",
            "description_tooltip": null,
            "_model_module": "@jupyter-widgets/controls",
            "layout": "IPY_MODEL_74fc8793e41944ed8f42c23315c953b5"
          }
        },
        "ff73979bb12d43b69eb36595f25b5fca": {
          "model_module": "@jupyter-widgets/controls",
          "model_name": "ProgressStyleModel",
          "state": {
            "_view_name": "StyleView",
            "_model_name": "ProgressStyleModel",
            "description_width": "initial",
            "_view_module": "@jupyter-widgets/base",
            "_model_module_version": "1.5.0",
            "_view_count": null,
            "_view_module_version": "1.2.0",
            "bar_color": null,
            "_model_module": "@jupyter-widgets/controls"
          }
        },
        "a8f7ec4feff4405481d7caf7c00aa49d": {
          "model_module": "@jupyter-widgets/base",
          "model_name": "LayoutModel",
          "state": {
            "_view_name": "LayoutView",
            "grid_template_rows": null,
            "right": null,
            "justify_content": null,
            "_view_module": "@jupyter-widgets/base",
            "overflow": null,
            "_model_module_version": "1.2.0",
            "_view_count": null,
            "flex_flow": null,
            "width": null,
            "min_width": null,
            "border": null,
            "align_items": null,
            "bottom": null,
            "_model_module": "@jupyter-widgets/base",
            "top": null,
            "grid_column": null,
            "overflow_y": null,
            "overflow_x": null,
            "grid_auto_flow": null,
            "grid_area": null,
            "grid_template_columns": null,
            "flex": null,
            "_model_name": "LayoutModel",
            "justify_items": null,
            "grid_row": null,
            "max_height": null,
            "align_content": null,
            "visibility": null,
            "align_self": null,
            "height": null,
            "min_height": null,
            "padding": null,
            "grid_auto_rows": null,
            "grid_gap": null,
            "max_width": null,
            "order": null,
            "_view_module_version": "1.2.0",
            "grid_template_areas": null,
            "object_position": null,
            "object_fit": null,
            "grid_auto_columns": null,
            "margin": null,
            "display": null,
            "left": null
          }
        },
        "4b5aed0e1be849a59c5117a47efcddae": {
          "model_module": "@jupyter-widgets/controls",
          "model_name": "DescriptionStyleModel",
          "state": {
            "_view_name": "StyleView",
            "_model_name": "DescriptionStyleModel",
            "description_width": "",
            "_view_module": "@jupyter-widgets/base",
            "_model_module_version": "1.5.0",
            "_view_count": null,
            "_view_module_version": "1.2.0",
            "_model_module": "@jupyter-widgets/controls"
          }
        },
        "74fc8793e41944ed8f42c23315c953b5": {
          "model_module": "@jupyter-widgets/base",
          "model_name": "LayoutModel",
          "state": {
            "_view_name": "LayoutView",
            "grid_template_rows": null,
            "right": null,
            "justify_content": null,
            "_view_module": "@jupyter-widgets/base",
            "overflow": null,
            "_model_module_version": "1.2.0",
            "_view_count": null,
            "flex_flow": null,
            "width": null,
            "min_width": null,
            "border": null,
            "align_items": null,
            "bottom": null,
            "_model_module": "@jupyter-widgets/base",
            "top": null,
            "grid_column": null,
            "overflow_y": null,
            "overflow_x": null,
            "grid_auto_flow": null,
            "grid_area": null,
            "grid_template_columns": null,
            "flex": null,
            "_model_name": "LayoutModel",
            "justify_items": null,
            "grid_row": null,
            "max_height": null,
            "align_content": null,
            "visibility": null,
            "align_self": null,
            "height": null,
            "min_height": null,
            "padding": null,
            "grid_auto_rows": null,
            "grid_gap": null,
            "max_width": null,
            "order": null,
            "_view_module_version": "1.2.0",
            "grid_template_areas": null,
            "object_position": null,
            "object_fit": null,
            "grid_auto_columns": null,
            "margin": null,
            "display": null,
            "left": null
          }
        },
        "58cb01057f48417a8f386f5b12857c6c": {
          "model_module": "@jupyter-widgets/controls",
          "model_name": "HBoxModel",
          "state": {
            "_view_name": "HBoxView",
            "_dom_classes": [],
            "_model_name": "HBoxModel",
            "_view_module": "@jupyter-widgets/controls",
            "_model_module_version": "1.5.0",
            "_view_count": null,
            "_view_module_version": "1.5.0",
            "box_style": "",
            "layout": "IPY_MODEL_120c8c6d848749a0a20dcce9acdb09f0",
            "_model_module": "@jupyter-widgets/controls",
            "children": [
              "IPY_MODEL_35ee0f8ebb354b378b19bf9423384ef8",
              "IPY_MODEL_e474751191d6484498f023c92291eb59"
            ]
          }
        },
        "120c8c6d848749a0a20dcce9acdb09f0": {
          "model_module": "@jupyter-widgets/base",
          "model_name": "LayoutModel",
          "state": {
            "_view_name": "LayoutView",
            "grid_template_rows": null,
            "right": null,
            "justify_content": null,
            "_view_module": "@jupyter-widgets/base",
            "overflow": null,
            "_model_module_version": "1.2.0",
            "_view_count": null,
            "flex_flow": null,
            "width": null,
            "min_width": null,
            "border": null,
            "align_items": null,
            "bottom": null,
            "_model_module": "@jupyter-widgets/base",
            "top": null,
            "grid_column": null,
            "overflow_y": null,
            "overflow_x": null,
            "grid_auto_flow": null,
            "grid_area": null,
            "grid_template_columns": null,
            "flex": null,
            "_model_name": "LayoutModel",
            "justify_items": null,
            "grid_row": null,
            "max_height": null,
            "align_content": null,
            "visibility": null,
            "align_self": null,
            "height": null,
            "min_height": null,
            "padding": null,
            "grid_auto_rows": null,
            "grid_gap": null,
            "max_width": null,
            "order": null,
            "_view_module_version": "1.2.0",
            "grid_template_areas": null,
            "object_position": null,
            "object_fit": null,
            "grid_auto_columns": null,
            "margin": null,
            "display": null,
            "left": null
          }
        },
        "35ee0f8ebb354b378b19bf9423384ef8": {
          "model_module": "@jupyter-widgets/controls",
          "model_name": "FloatProgressModel",
          "state": {
            "_view_name": "ProgressView",
            "style": "IPY_MODEL_c6f35cd0fc7f47429a583865f6195afa",
            "_dom_classes": [],
            "description": "Downloading: 100%",
            "_model_name": "FloatProgressModel",
            "bar_style": "success",
            "max": 1341090760,
            "_view_module": "@jupyter-widgets/controls",
            "_model_module_version": "1.5.0",
            "value": 1341090760,
            "_view_count": null,
            "_view_module_version": "1.5.0",
            "orientation": "horizontal",
            "min": 0,
            "description_tooltip": null,
            "_model_module": "@jupyter-widgets/controls",
            "layout": "IPY_MODEL_dc7cd749aa0043ff9c69d31712e20ef5"
          }
        },
        "e474751191d6484498f023c92291eb59": {
          "model_module": "@jupyter-widgets/controls",
          "model_name": "HTMLModel",
          "state": {
            "_view_name": "HTMLView",
            "style": "IPY_MODEL_3fb2ac2dba34430d8c6c8eb2513a9eb8",
            "_dom_classes": [],
            "description": "",
            "_model_name": "HTMLModel",
            "placeholder": "​",
            "_view_module": "@jupyter-widgets/controls",
            "_model_module_version": "1.5.0",
            "value": " 1.34G/1.34G [00:23&lt;00:00, 58.1MB/s]",
            "_view_count": null,
            "_view_module_version": "1.5.0",
            "description_tooltip": null,
            "_model_module": "@jupyter-widgets/controls",
            "layout": "IPY_MODEL_b4f9bf4c56104945b673c5c40f4be7f1"
          }
        },
        "c6f35cd0fc7f47429a583865f6195afa": {
          "model_module": "@jupyter-widgets/controls",
          "model_name": "ProgressStyleModel",
          "state": {
            "_view_name": "StyleView",
            "_model_name": "ProgressStyleModel",
            "description_width": "initial",
            "_view_module": "@jupyter-widgets/base",
            "_model_module_version": "1.5.0",
            "_view_count": null,
            "_view_module_version": "1.2.0",
            "bar_color": null,
            "_model_module": "@jupyter-widgets/controls"
          }
        },
        "dc7cd749aa0043ff9c69d31712e20ef5": {
          "model_module": "@jupyter-widgets/base",
          "model_name": "LayoutModel",
          "state": {
            "_view_name": "LayoutView",
            "grid_template_rows": null,
            "right": null,
            "justify_content": null,
            "_view_module": "@jupyter-widgets/base",
            "overflow": null,
            "_model_module_version": "1.2.0",
            "_view_count": null,
            "flex_flow": null,
            "width": null,
            "min_width": null,
            "border": null,
            "align_items": null,
            "bottom": null,
            "_model_module": "@jupyter-widgets/base",
            "top": null,
            "grid_column": null,
            "overflow_y": null,
            "overflow_x": null,
            "grid_auto_flow": null,
            "grid_area": null,
            "grid_template_columns": null,
            "flex": null,
            "_model_name": "LayoutModel",
            "justify_items": null,
            "grid_row": null,
            "max_height": null,
            "align_content": null,
            "visibility": null,
            "align_self": null,
            "height": null,
            "min_height": null,
            "padding": null,
            "grid_auto_rows": null,
            "grid_gap": null,
            "max_width": null,
            "order": null,
            "_view_module_version": "1.2.0",
            "grid_template_areas": null,
            "object_position": null,
            "object_fit": null,
            "grid_auto_columns": null,
            "margin": null,
            "display": null,
            "left": null
          }
        },
        "3fb2ac2dba34430d8c6c8eb2513a9eb8": {
          "model_module": "@jupyter-widgets/controls",
          "model_name": "DescriptionStyleModel",
          "state": {
            "_view_name": "StyleView",
            "_model_name": "DescriptionStyleModel",
            "description_width": "",
            "_view_module": "@jupyter-widgets/base",
            "_model_module_version": "1.5.0",
            "_view_count": null,
            "_view_module_version": "1.2.0",
            "_model_module": "@jupyter-widgets/controls"
          }
        },
        "b4f9bf4c56104945b673c5c40f4be7f1": {
          "model_module": "@jupyter-widgets/base",
          "model_name": "LayoutModel",
          "state": {
            "_view_name": "LayoutView",
            "grid_template_rows": null,
            "right": null,
            "justify_content": null,
            "_view_module": "@jupyter-widgets/base",
            "overflow": null,
            "_model_module_version": "1.2.0",
            "_view_count": null,
            "flex_flow": null,
            "width": null,
            "min_width": null,
            "border": null,
            "align_items": null,
            "bottom": null,
            "_model_module": "@jupyter-widgets/base",
            "top": null,
            "grid_column": null,
            "overflow_y": null,
            "overflow_x": null,
            "grid_auto_flow": null,
            "grid_area": null,
            "grid_template_columns": null,
            "flex": null,
            "_model_name": "LayoutModel",
            "justify_items": null,
            "grid_row": null,
            "max_height": null,
            "align_content": null,
            "visibility": null,
            "align_self": null,
            "height": null,
            "min_height": null,
            "padding": null,
            "grid_auto_rows": null,
            "grid_gap": null,
            "max_width": null,
            "order": null,
            "_view_module_version": "1.2.0",
            "grid_template_areas": null,
            "object_position": null,
            "object_fit": null,
            "grid_auto_columns": null,
            "margin": null,
            "display": null,
            "left": null
          }
        }
      }
    }
  },
  "cells": [
    {
      "cell_type": "markdown",
      "metadata": {
        "id": "view-in-github",
        "colab_type": "text"
      },
      "source": [
        "<a href=\"https://colab.research.google.com/github/sramakrishnan247/Sentence-Similarity/blob/main/BERTPlay_Core.ipynb\" target=\"_parent\"><img src=\"https://colab.research.google.com/assets/colab-badge.svg\" alt=\"Open In Colab\"/></a>"
      ]
    },
    {
      "cell_type": "markdown",
      "metadata": {
        "id": "al6aB03socE4"
      },
      "source": [
        "# **BERTPlay - A semantic similarity checking project**\n",
        "***- By Ramakrishnan Sundareswaran, Kumara Sri Harsha Vajjhala***\n",
        "\n",
        "In this project, we build and experiment with different deep learning models to predict the semantic similarity between two sentences. Semantic similarity prediction task requires a deep understanding of the language, and hence, we require complex models which create word embeddings based on the context in which it is used. We explore two of the most successful architectures in NLP: BERT, and a bi-directional LSTM and compare their performance. \n",
        "\n",
        "The common dataset used to train all the models is : Stanford Natural Language Inference (SNLI). We have also experimented with a BERT-large pre-trained on SQuAD (Stanford Question Answering Dataset)\n",
        "\n",
        "We have used the colab notebook by Mohammed Merchant : https://colab.research.google.com/github/keras-team/keras-io/blob/master/examples/nlp/ipynb/semantic_similarity_with_bert.ipynb#scrollTo=w60qwFa1dWEB as a reference while creating our BERT models. \n",
        "\n",
        "We have also optimized our models using the best optimizing strategies to get excellent results."
      ]
    },
    {
      "cell_type": "markdown",
      "metadata": {
        "id": "nDNi_lrQmPP2"
      },
      "source": [
        "# About BERT\n",
        "\n",
        "BERT(Bidirectional Encoder Representations from Transformers) is a Transformer-based architecture used for Natural Language processing tasks. Prior to BERT, the state of the art NLP models used LSTM (Long Short Term Memory), which are a certain kind of recurrent neural networks that are slow and not completely bi-directional. This led to the invention of Transformers, that are relatively faster, and can accomodate context-aware word embeddings. BERT stacks a number of encoders to acheive excellent results in question answering, semantic similarity, text classification, etc. "
      ]
    },
    {
      "cell_type": "markdown",
      "metadata": {
        "id": "t0YYilBLo35l"
      },
      "source": [
        "# Architecture of BERT"
      ]
    },
    {
      "cell_type": "markdown",
      "metadata": {
        "id": "JUip2HEgp0sO"
      },
      "source": [
        "![image.png](data:image/png;base64,iVBORw0KGgoAAAANSUhEUgAABAAAAAGkCAYAAACvqFfcAAAgAElEQVR4AeydBXhU19b+4bal3AItbW+9RVpoKVLcAgR3AhQNULxQ3N0pVijuLkESAgQnISSEEIV4iBJ3m5kkXPnf795+3+//rBNiEFqgyITseZ7zRGbmnH3evc7ee71rrXeXQr0UAgoBhYBCQCGgEFAIKAQUAgoBhYBCQCGgEHjlESj1yt+hukGFgEJAIaAQUAgoBBQCCgGFgEJAIaAQUAgoBFAEgDIChYBCQCGgEFAIKAQUAgoBhYBCQCGgEFAIlAAEFAFQAjpZ3aJCQCGgEFAIKAQUAgoBhYBCQCGgEFAIKAQUAaBsQCGgEFAIKAQUAgoBhYBCQCGgEFAIKAQUAiUAAUUAlIBOVreoEFAIKAQUAgoBhYBCQCGgEFAIKAQUAgoBRQAoG1AIKAQUAgoBhYBCQCGgEFAIKAQUAgoBhUAJQEARACWgk9UtKgQUAgoBhYBCQCGgEFAIKAQUAgoBhYBCQBEAygYUAgoBhYBCQCGgEFAIKAQUAgoBhYBCQCFQAhBQBEAJ6GR1iwoBhYBCQCGgEFAIKAQUAgoBhYBCQCGgEFAEgLIBhYBCQCGgEFAIKAQUAgoBhYBCQCGgEFAIlAAEFAFQAjpZ3aJCQCGgEFAIKAQUAgoBhYBCQCGgEFAIKAQUAaBsQCGgEFAIKAQUAgoBhYBCQCGgEFAIKAQUAiUAAUUAlIBOVreoEFAIKAQUAgoBhYBCQCGgEFAIKAQUAgoBRQAoG1AIKAQUAgoBhYBCQCGgEFAIKAQUAgoBhUAJQEARACWgk9UtKgQUAgoBhYBCQCGgEFAIKAQUAgoBhYBCQBEAygYUAgoBhYBCQCGgEFAIKAQUAgoBhYBCQCFQAhBQBEAJ6GR1iwoBhYBCQCGgEFAIKAQUAgoBhYBCQCGgEFAEgLIBhYBCQCGgEFAIKAQUAgoBhYBCQCGgEFAIlAAEFAFQAjpZ3aJCQCGgEFAIKAQUAgoBhYBCQCGgEFAIKAQUAaBsQCGgEFAIKAQUAgoBhYBCQCGgEFAIKAQUAiUAAUUAlIBOVreoEFAIKAQUAgqBkoDA//t//4/09HQiIyO5c+cOnp6eXLlyhePHj7Nt2zbWrFnDzz//zNKlS1myZAmLFy82ikPaktueefPmMX36dCZMmMCYMWMYMWIEw4YNY+jQodrPkSNHIseoUaNe6iFtGDJkCH379sXMzIyuXbvSpUsXunXrRs+ePenXrx/m5uYMHjxYO+Sz6lAYvEo28MMPP+Q9l8OHD9eeVWN4Nv/s2DB69Gh+/PFHbfwZP348U6dOZfbs2SxYsMAoxsvccVvGzGXLlrFixQrWrVvH7t27sba25tq1a3h5eREcHExsbCwGg4H//ve/JWEKfOx7VATAY0OlPqgQUAgoBBQCCgGFgDEhIIu6uLg4HBwc2LNnj+ZE5zrPP/30E5MmTdIWrJs2beLIkSOcPXuWS5cuYWtry9WrV1/qYW9vry1UL168qC1c586dy8CBAzVHunfv3prTLM7/xIkTWbRoERs3bsy7B/mOEBt2dnbP/SiI05kzZ7R2CK7SRnH6+/Tpo7VVnI4pU6Zo5MrWrVs5ceIE586dy8P7RbRVXeP524PCuORgXPDZN9bfZSyX8fDUqVPs379fIwKERBUCNXcOEPJi9erVWFhY4O7urpHE//d//2dMU9kLb4siAF445OqCCgGFgEJAIaAQUAg8DQL/+c9/SEtLw8/Pj0OHDjFjxgzNQZYo0K5duzh//ry2wAsNDSU+Pl5b6On1ei0CJFEgYzhSU1MJDw/XnH9x6mWRKotVyUzYt28fly9f5tatW9pnEhMTycjI4EXfQ2ZmpoaVXD8wMFBz5JcvX45EBoVg+eWXX7TFtETafH19tYyL5ORkdDqdUWBsDP2s2mAcz5vqh5LXDzJeyjwh0f+AgABu3LjByZMn2bJli5bFIOOtZA8IQSljsdjI//7v/z7NlFRsv6MIgGLbdarhCgGFgEJAIaAQKBkI3Lt3DxcXFySyPHPmTC2yv2HDBpycnIiJiSElJUVzlGUhJ86rsR1ZWVlERUVpGQji6EsEXaLlO3fu1MoUJItB7iHXgX6Z7RcMpXxCMiYk5VdSgGfNmsWxY8c0MiAhIUFbXMsi+2W2U13b+Oxc9YnqE2O1ARmvpDwsKSkJIYglG0yIYyEDZJw7ePAgQUFBCMlcEl6KACgJvazuUSGgEFAIKAQUAsUMgX//+99aFF9SOyWFU1LkDxw4wM2bNzWnPzcqbqwLTmmXOPU+Pj5adoI4/ZLKL3oEok0gjrSxONHi9EvGhETKRCdByg7kpyyS/f39kawFYyVXjLn/VduUQ6xswDhtQMYzIQQkA0DKGyQ7QLKbJNNJiGV571XWDVAEgBEsiMTAchcKwkzJJKwOhYGyAWUDz9oGJJ03N01XxNJKeg2cEQz/qglFICCOv6RtSnR82rRpWpRGFmgS6Zd0+OKwoBbHX2r8V65cqUWYJGXe1dVVm9slym9M9xAdHa0JZ82fP1/LTBAtBXH6ZawwFoLCmPBSbTFOh071i+qXp7UBIQOkZCAkJAQrKyuNcJ4zZw6WlpbavPMqlgcoAqCIxcez/JcYjSy0xbhk8X379m1sbGw0sSJh1yWtTtJPhG2XdEBhn+SQukZ1KAyUDSgbeFY2kDu2iEMlkUhJ6811riStWqKSzs7O2mQnDso//vEPfvvtt2c5HKpzKQR+FwFx/MPCwhDBPrFXqemXSHlxij6L4y9R9IULF2qlCqJTIM60RJOednH6PL4naxIpOzh9+rSm8C2ZCbI2iYiI0MoQnsc11TmVg6ZsQNmAsdtA7tjo6OjI2rVrNV9M1kfiw71KGQGKAPjd5cjTvSlRNZnsPTw8NFXKXNEJEfqRRY0Y1N69ezVBColqyAJHRHZkuwphn6Q2RR0KA2UDygaetQ3I+CKH1LlJWvL169e1FN/Dhw+zefNmhPEeO3as5rjIOCWKufIZEdIpKXVxTzfqq2/9GQSEaJLovqT3Cym1Y8cOzWmWiIwsxox9wSjtk8wEmcsl0j958mStfl6eX2PMWBCSQpTcpaRCnnnZFUGecRXtV85ZcXjWVBuVnb4IG8gN3Ir2jGRyyXgpJVEyL70KL0UAPINeFIc/d+9hYf5lASB7ZsrEKotoEc6RepK7d+9qhiPRteJQu/giHjB1DTWQKxt4uTYgk5wcMiaJsyKOmJCXEg2UzACJDEp2kuy7K9FCeV9lBzyDiUOdQitBEdsTdWaxsV9//VXLkjNGp/lR45Q8N+LoC9EvmTVCXoiAnjE607kkhahfSzBCcJfnWfrgUfen/v9yx2eFv8Jf2cDLtwEpz5YdT5YuXYqUSomv989//rNYz+KKAPgT3SeOv0yoEiETNWJJqRWnX5RzJRIgir+5EQw1wb78B1gNoqoPlA08vg3ImCVkpegQSD22MN/Cgss4J2SAbJ8jUcNXKSXuT0wH6qtPiIDYjdiVKOKLQyoLKllkFae5UkoTJJKeu8e0bN0nc74xjjOS7n/06FGNaJEMRMk4NDYtAmPETbXp8ecMhZXC6lW2ASF1hTCVtZCUZu7evVsTci2u+gCKAHjCRYt8XFJhRRxHHH1h0WXylxRapZSrBr9XefBT91ay7VscM5kAIyMjuXDhgibMJhFPqdcWR+5f//qXEhV8ivmkpH1FiHPZEs/a2lpL99+/fz8iQlecxhd5FkQ5WqL+ku4vuxQIeWGM9yDPrGgPCckiKayi81GcMiyMEVPVppI9F6r+L9n9L2OqlFGuW7dOIwKEvBb9muL2UgTAE/TY//zP/2i1+tu3b9eiYJLqLyIRwggpJr1kDwhqQlD9X5JsQBwgEcTx8vLS9EzECZL9dGUizM7OVkTAE8wrJemjUusvIn8igCv7LoszaqwR80c9z6LvIyV9ku23evVqTUvD2AT+ctsuz6gQLVJeIcr+UoYoi9fc99VPNW8pG1A2oGzgyW1A1kCSHXn+/HktCCzjq2irCMFdXF6KAHiMnpIOlYl048aNmkCW1MVKxEux6E/+0KiBRmGmbODVsgFxKIQEla1zRPtENAMkFVqJBj7G5FKCPiIp/6ItIVlzUidf3KL+Mm7JnC9181IGc+LECW1dYKzjmaT8i7CniCpKmaKxkhTGip9q16s1T6n+VP35PGxAiADJ/l6+fLlWzial38WFBFAEwO8swCRaIY6/pPqLgv+2bdvw8/NTE2mmGkiex0CizqnsqjjbgBABsoWYEAHidIgAqoyXxTE17nemBfXWUyAgopESKZFtb0VIUubV4mbrQljs3LlTuwcHBwejXQfIglQCFLkLUl9fXxX1V2uWYve8FbfxQbW35K7fZMyV+UG2rZ03b54WACkO6x5FADxiMSPRK9kaRxx/mUhlElUR/5L7gKvBXfW9soHHs4HcyXDfvn1apFQmxVdl25xHTBfq37+DgBBDYgsimiSR6OJYLif1/itWrNBq6GUtIDZujOOBYO3m5qYRcKLNIYtSY22rMeKn2vR4Y7zCSeGkbOBhGxBtOCm5kkxI0UmS3eGM+aUIgAd6R9QcReRKoldS42dvb2+04j7qAXz4AVSYKEyUDRiHDQhh6uPjk1fvLenfIhSoXiUDAUmDlJpIEcoTpX9vb+9i6fxLFovoFchOP6JfYKwOtRArsk2VLD5l62GpT1VjoXGMhaofVD8oGygZNiDBDhmHZatAS0tLTRPJWGd8RQAU6Blha2xtbbW9fGXRIqy/sU72ajApGYOJ6mfVz8XdBmSrNEn7HjdunCZEJhNkcamRKzA9qF+fEAFx/sVplq0jZcu54mjHd+7cYeHChVotvehcGOs9iPMvZQlSeiPPWnETVjRWXFW71PyrbEDZwJPagIzHEvCQXVcsLCyQEjhjfCkC4H6vSOqGpMxJjaKQALJ4edJOV59XA4WyAWUDygYetgGZECWSKjunSDRVflcigca4JPjzbcqN/IsA3apVqzTnv7gR6dJeSfUX5192/RFBPWN9rnMj/6L0L86/EG7G2lbVrofHRoWJwkTZwKtnA1KOJSTA4sWLOXr0qLb17Z+fXZ/tGUo8ASCLFamTE+Vq2dInJCSkWKYpqgHk1RtAVJ+qPn3VbCAhIYHDhw9r9eCyhapsraperxYCuZH/4ur8yzMnInpLlizRyheMPfIvugqys8KZM2eU86/E/hT5o2xA2YCR2ICQs56enpowoOwa889//tOoJvsSTQBIBMrd3V2bPEWkyJgn+lfNEVD3o5xbZQMl0wZkO7IrV65oJIBsqSZ2oEoCjGpd8NSNycrKYveePVrkX8j0op5x+Uzukfd+7v+KWLjlfDb/WXnou4/8TlaR18+7ZhHfk/dCQ0M1zYLt27YRFxtb+Bz325l/jvx7yW1XwZ95n8u9vyJ+5n3mEe151PuSpeDq6qql/Z86deqhXQkKtkP7/XfO/ySffVR7Hvp/3r3m913Bzzx0zYewLfp7Bc+hflcYKRtQNmDMNiAkgPiZEmQ+d+6cUekglVgCQLZoEJXG3LS5pKSkwhP970yWxmxsqm1qMFQ2oGzA2G0glxkXoRzZE17pAjy1z200XxSBR+uTlkyf9BPHDh/imoMDNz39iEtKuz+36oiPDMbd+ToODo7cdPMmOikNfUYqIb4eXHe6gW9wFBn6+wr7Bj2JUcG4uzjj7hNESloGGamx+Hq44OTsTmhMEoYi5um05Fj8PF1wdnEnJDoJg+HxxgNxSCXV/9e1axg1YgQ2F68Sl6LLWxdkpCQQcNuFm66ehMWmoEtPJSLQC6frjkg2y4PHdScXgiLiyUhL5I63O06FPnMdpxvOeHr7E5XwdCn7QUFBWonC/v37HxAqNpASdxePG1exsT6JpZU1F2wd8QuLQfcgFlmZJMeF4+F0FZtTOZ89f+Ua3nciSNM9Hm5FjTX6jESCvD1wun6dW/5hpGXo83DMzDSQmhCFl5tzIcxy8AggNimtyH4t6jrqf0/fRwo7hZ2ygRdjAyKILMKAs2fP1khbEZs3hleJJAAk7VQiT5MnT8bJyekh5lw9FC/moVA4K5yVDZRsGxBxOBGJE7E4US1XmQDGsCx48jb897//1Zz6OTMnsGbK9zT/9isqfVGZ71qbc/iaL2mZWRjSIjm9ZSbNanzJF19UoWHbYVi6B5Mc48+qMd2o/mU1uo5YhGNgLIasLLJ1KbgcX0WHpvXpPHwZPiHRRPmfZUxXE76t3571p91JMxSO8mdlGQi7dY4JZs2p06Qjv1h5kKYv/JlHjTkpKakcPLAXs1YN+faTj6jdvAfrrV1I0hm0jIVov+vM6m9Cg5bd2HzOj8SIQHbPM6fGV5WpVKkSlStXvn9U0v7+qkYzFh2wIzLMmQVDO1O9ciUq5X2mMlW/rEatek3p8+N8zrmGkJ5LfBRBajzY5oiICO25EZ0FKavJe9+gI8rPgeXj+1Lny894p3w53nqrHO9/XIUWZqM4cPkWifedcYMuhYAbp5g13IxaVT/N++y7H31Bgza9WbH3HKFxT0NO6Il0t2aMmQlVK1fFtP8srgfFos+9L0MGgdePMahtXao+gEft+s3o++M8Tjv5kaYzzq0W87DOvR/1M9/+FBYKC2UDRdqAaLNIppZoAshuMsaw1ilxBIBE/sX5lz2JJX1OIlFqQC/ZTojqf9X/ygZeng2IMyPigL/++iuJiYlGMTE+uQtccr/x22+/3RfMW8Tlc8exWvsjVd8pS+lSpXnrg6+Ztv0CMWlZpIV7snJkWyqU+QulSr3OJzW7cuBGAImR3szp05C/vlaaCp/WZuKvJ4lI1pGtS8Zh7xzqfP4h9bpPxfNOJBHeJ+jToDLlP6rJ4qM3SH2IANAT5GLJwCZVePfz75h/0JnUxyAApCzl/PkLzJ4xjp/Hd+Grt8vy+ptv0+j76dj7RpOZnU3EbVtGta7Kh1815OcTXsSH+bJ+bHve/mtZ3v+8Os1bmtK6deu8o22nPqy3ciIq+Brju9TlrTf+ymfV62DSSj5jikmTenzx4Tu8VeEjuoxfh1dEMllZf/wcyjOye/duli5d+tDuCukJoRxZNpQvP6jIh1Vq07lXf8z7m9Hwm88pX+4dGvaezlWfKCQKH+Zuw5gudXm3fDk+rFyLDj36YN6/Ny3qV+fd8m/xUbXmLNhzibg0id5nkZWdTXZ2Fll5C/wC/yvQbkNGPOe3TKXWx+UoXbo073zRgKVHXUhKz83syMDXdg/ta7xP2XIV+fq7prRq1YpmjetR9ZP3+Otb79DIbAIXvSLIeDBjIe/af4yTGtMVRsoGlA0Ykw1IpvnevXs18laI25f9KlEEgEQpxPmfMGECbm5uiErj8zGO3LpA9fA9H3wVrgpXZQOvkg1ERUVpBMDatWu1iKYxsOMve3IuDteXfpK0+WXLlmFhcRR9ahRnNk2gSsW3KFuuPOUqvE+X8RsIiEkm1M2aIa2qUa58ecqVKcsn3z5IAJSi9GtvUqVJXw7Z+5ORnoTjgwSAV0ECwOkPCYAFBx6PAJAazTlz5nLh7FFOb55ItfsERtl3v2TM6hPEpBmILIIA+HVsOyq+/QEdRq/GOzyahMREzX5lcZeYmERaRgZJofaM61KXChU+Z+RqCwKi4klIiCci6Babp/fli3ff4tOmgzjrGqplGvzecy0BCxH7k+2lvL29H9qmOD7YnTm9v6Pi+58xcP4BgmNSSE+Jw+HgUlrU+JQPq7Vh4zk3UtJiOLhwEB+XL8OntTqw9pg9kQkppKelEOhylul9m/HOW+Wo2X40F32iiI8O4vLJI1hYnsU3Mgm9wUCK/O/UUQ5bnsMvPOF+qYWBpFBX5g1syrtvl+f9Dz6g3Fvv0270Gryi7u+sZMgnAN77qilrT7gQGR1DeJAPZ/Ysw7TGh5R7rwrDV1gSkZz+nNZoav74PTtT7yn7UDbwfGwgMjKSNWvWaETAvXv3Xuo0X2IIAIn8y8Qparky2T9u5N+QlkRo8B3CohPQGfJT0iTVMCk2guCQuyTfT6nLytSTFHMXb083btxw4qabJ8GRcXl1d1mZOuIiQ/H39cXHx0c7fH39CAwK1eoki6pnNOaHUDBIiY8i0M+XoLAoUjPy8dHardcRFxGCv/8dohNT/0RdXxb6tCTuhoUQFZ/yB+fJIiM5ntDgIKITirrm/Tb7++W0WVeYBDIYMoiVNgcEEZP4R9d6PgOEMfe5UbbNoMvpMz9/7sYkotMX7hddegp3gwMIDAojKb1wfz/Z/RhIjL5LSLjY+h+fJzk2gjsyPqQVkWWkv29nfgE5bS4wtkibdBnJhN0JICD4LsnpRXz/FYyESSaATIyS1qw0AV7quuCxLy77Gx86dEjrt4iISP5uSODMxvFUfvc9vviqFl9/9j7fdRzDBa9gbpxYQfOvP+Xz2nX56m/v88m3XQplAJR743X++teylKnwET0mrsMrNAKHfQ9kADwHAkB2ARK7k6h6Unww53ZMo9o7b/Hmm3+l7Jtl+LJxbw45BhHiacvoBzIAcgiA92n9wyIcPH0JDAy8f9whODyS1PQMksNyCYAvGL3mKHdiEklOSiT6rj97Fgyh8vvl+Lz5EM65hf0uASCif15eXsyZM4eLFy8WGcBIuuvNqhEtebfC29Q0HcD6g6e56enDnQBvnK7ZcumKI4GRcSSFOzKhaz3KlqlIrxnbuROX72gbMhK5cWI1TSpVpGKVxqy2dMH35kkGt6hBzUbd2esYQppez92bJxnUphbVmphx4Io/Or0Bgz4Nr4tbafv1R3zyjQljxo2gzucV+Vvt7hqpo5UBFCAA3q/WnM1nfe6n+xtIi/Fl/YTO/E2yFfrMwTk0UREAr+BY/2TzbuH5XH1X4VGcbUDGcdkGWXaZcXBwQALTL+tVIggAUfsXoMeMGYOLi8tDrPkjjSkrm2Sfi4zt25HeE9bgGZ4/GWXfS+fyzsX8MGIO9iHxGDJ1BLucZtbwnjRt2JBGjRpRr1592vcZzf7Lt0nKMHBPH8mh5T/Ron496tarR/369anfoCHNWrZl0PjFXHAPKVYpb/f+ruP6sV/o3rwenYbN56pvLJm5qYBZWaTG+PDrxD60NDVjw1lPkh8jFbPIvsi+R5LPZWaPHcZqCydSpSbzEZNiVvY9gh2OMdK8LxutPfPIl5zzZpFtSOGG5Rq6mTSh8+DZ2AUUUHnOyiYt0oNfJvSheevv2XTKVatdLbJNj7i++uyLn5z06ZHsWziCZg0bM2r5EcLi8xezmQYdoR42/NjVhA7fT+RKUCL6p00rNWRwbvMcRkxZhdvd5D8govRc2zOPnsNmYucd87AQWXIwuxeOoHlDE8auOERQfK5QmuCXRbjbcYZ2MqHtgFlcC4jMr599xe1OMgGWL1+uOWMiyqYyAV7W0uCPrysLlxs3bmhCdLdu3dKeh3u5BEDFv9HApAtdW1Tn89ptWWtxhf0LB1OtUiVa9+tDwy8/K0wAfN+Ad9/7FJMO7aj+SUU++LIZS/ec5dzO2YVLAJ4xASBEk+zRLIsxbdcCXSzndkylWsV3qV6vJW2bfkWFdz6iw9hfuHTp9EMEwPqx7Xi77Ju8+3FVGjRuQtOmTXOOZiZ0GTYPB++7pITfLwF4szw1mrZjwOAf+GHIYPr06MC3lT+kQsVPMJuyGd+o1EfOazKvxMbGsm7dOrZu3Vq47r/AmGBIT8Tl5Dra1vqUt/76VypU/BtVvqlLp94/sHDdPlwDo8nQ64l3P0HvxpV5o3w1Zu25SEIh0lRPmOsZBjT5jLf+Vp3JG8/g7nCEnrU/4pNqrdh29Q6pej1h149i1uBT3v+mNTvP+2gEQHpiOAfmD+CTim/TdMBCrl07yYj2tXiz7CeMWn2C6FQDmY8kADLJ1EVjvW4MX71Tjioth3LuVowiAAr0r1pfvPj1hcJcYf6sbUCyz0WEfsGCBdy9e5eXJQr4yhMAEqEQZl8mTYm6ixrjY3dmdjaJbsfp1rASH37xFe2HLOB6YKzmQNy7l4rVih9p2WYw5wKiib5jz/iubRi5cCNXnFzxvOWJm6sLVpvn0rXPKI7a+5OZEcr68T1o0GoQu60vaCrJ16454Hj1LKsn96Vd93Fc8I9CVywG/Cz+/o8MLmybRdNqX1G7cXMmbTytTfDinGdlpuFwdA3dWzXm2+r1mHfEiURdFoYMicb64uxox8WLl3Fy9SIiLvm+U6YnOfYut246cuWyLTc8vImUiH/2P4h3t8K8sylTN18mOcNARko8IYEBhETE5atGy3Xv/R2/89to17Qe8/Y6kaGXtuQOYFnc0ydxZdd06taoSd3vTJi23opYTe04i+ysVBwsVtDdtD5fft2ChfvtScl8PAGpx7apvLbktkn9/LPY6dNCWTuqKzWrf0Oj9t+z44pfHpGWnhTOnsWjaFG3JnWa9uakb5yWvpqeHEegjwfXbC9y6Yo9Hj5BJKRmaE6MQZ9OdGgAN67ZcuWqA55+wSTKe4Z0ji4cQps+k3EITsRwP4ofEBiS9938e9FxdvUwapoO5LRrxMOkQ6I/q37sSLUa9Whi0ot9dt6k3ycmstJC2TFnCM0b1eKb5j9w/nbYA0TWq20zQgLInrmiCSDR2Zc1Of6xC1xyPyFCuvb29lrkPE9LJyuLPALgnfdo8f1Els4cTI1KlWnXqz8dm3/Llw06sXDVQjrW+oKPC2YAfN+Aih9WY+K6wxzZOJcm1T+lyjdN6G3Whi8++Fu+BsAzJABSUlI4fPgw69evJyAgICeinhGjEQBfvfs+zb6fivUFC37s2oB3P6xMy469Ma31IR8U0ACQDIB3yr9DvY5D2bBzLwcOHLh/HOT4WXvCY5O0DADRACj35tt817o7g8170/DrTylX7h2+az+YTUfO4xcWW2geyx9Hcp51SRuV5+HgwYPI8yFRpAc/I3/LmJQYHcJNBzts7a5w5sQBVsydQNeW9aj06WfUbNyFNccdCXex4vumVXi93JdM3xel+H8AACAASURBVHWe+PuK/zlb8+kJdTlFv8af5Wg4bDmLx4MEgE5PqKNFAQLAlwxdOp42m+lU91PKfVCdwdNWcvTYIRaO7sqH5ctSqX539toHkqrLLwEonAGQQwCIhsSXigAosn+L6nP1v1d7PlT9+2r2b3JyspbJJWWPd+7ceSnBjleaAJDIv5WVlbZPrqTmPfGDdJ8AMDOtR99RP2FSpw5DllgQlpjBvb+nYrlidA4BEBhDlN8lBjX9hi4/rcItNEFzRKW+Iz0uGLvLtviExJKtC+XX8WaYdJ/GTamZy8oiMyuLv2cncXHrOBrW68oBtxDSi4WTeJ8A2DKLts3a0Me8K50GzcclJIHMrGwMCb6snzWS/kOG0bpBc+YediIxLYWbluvo064pdes3pkG9WlT5qiaD52zBOyqV5HAP1k3tT/3v6tKwQX2+rVGHIXO3EhBnyCMApmy5TFJSFGe2zKZ71z78cszxvkhRziAhBID/+a20a1KPufuuP5IAaNasM8P6dKLbsLk4h6WSlZWNPj6QjTOGYT68H82atlcEQLGww0xyCIDutOnSi55mHRix9BgxWtq9gVgfG8YN6scP5n1p3qKPRgAkxQZzeMUYWjaqT8PGjalbszrV6piy7KAdMSlpBN84wZiepnxXtyEN639HzQamLDloR1JaKhYLh9BaCICgOMI9zzFpQFfMp/yCe2jCA06+jrOrhvGtEAAuRRAACf6sHNOFFh3NMe/YnB/XWBGbklNWEH/LmjED+zFiRFfqmw4vcQSAjNMSmd20aROrV6/Wfi+5rrZx3rk4pCJCd/78+QLldAUIgLffxdR8PpYHVtKm5se88/bblK9QkcZ9JnPo+Da616n0MAHwQXVm7rYj6q4v6yZ046MKb1KmbFleL1OOej2m5YgAPiMCQBxoZ2dnrZZe9IBy1gZZZOYRAO/RfMB8bkXHcv3YKhpXfpsyZd6k7Juv8V7VfBFArQTgnQ/oPG49wQlpmmMu5849RGwvrwTg7UqMWWdJaFwMjsdW0/bbjyn3zqf0mrwen+iCGUCFF7wiUHjs2DFNZyE8PPx3ygT0RPjYsmrmBMZOWswFr3AyDAZ0unTu+lxlUvd6lCtXkZ4z9xDk78DEbvV4840KdJ+6leD4dBKj/DhraYm9622uHltJ4y/e4b2qTVlr7Y6301F61vmIj6u1YIvtHdJ0eoLtD9O17ke8dz8DIC0+iK3Te/NxuTcoXfovvFGmDG+++SZl3nid0qVL8Xr5j+k/7yChCcl5IoAPEgC6+DtsntxVKwFo8P0snMPysy6feP1WTOYvdV+F7V3hofAoKTYgOwPs2rVLW+vIPb/o1ytLAEjqqEzwuTX/TyX4l0cANGL6zsvsXjiMWvXbseGUG2mZKfkEQEAMGanRWP4ynqZ1alK3cSv6j5jAmu2HcXD31fa11Wdm8XeNAOhB045jOevqQ2hYGGGhofg42zDZrBFNzaZyQysnKA4DQA4BcH7LTFq3+p5FK+fSs+v3bL/sS4akMDsfZ/zIH1m+dindmrVg7mFnokJdWDCsJ4MnreDyzVt437rJ7vmDadTmew5c9cbFejWdTbuxYv85bnt7YL19DmZmwzhyI5RodysGdTFl/MqDHFk3g45tOzNr40lCZdFVYKJ/PAJgGiZt+rJi5Tx6d+vP9ks+ZGQauOt2nPHDRrJq7UI6tuzAwn0qA6A4DMQaATC6B+0HTGX53JF0GTgNx5Ak9PoUHA8sYdDomaxdNJqWrfpw0ieWwBtH6N+xM3M3HsX1tjduDmeZ3b8FLQYvxj3Qj/0S5e8+hpP2rtxyu8q6aQPoPWIZt6PjOCIEQO9xHLY6zLg+7ek2bA7n3YOL2MLr8QiA9uYzWDtrCN3M5+ASnohel8TV3bP44af5/Dp/EE3alEwCQOxONAFky5wjR44gmVzqZRwI/POf/8TCwkLbulEEAPPHiAcIgMGLsHOwYlT7WprC/xvlPmPA7C1ctd3zaAJglx2J6Tr8rx1mYItqvPlaaUq9/tZDBEA52V1gyyn8g0IJCQ7W1PCDQ8KIjk8g4OaJvF0AihIBlCh3TEyMtvOEROwlEyDnHgoSAO/TvP98PGNTSY7yZtMUMz6pUIZSpUrxbtVGebsA5GkADF2Mk1dATjvy2hNCdHwiibkigG9XYux6ayLTDKTHh3Bs9Viq/608Fb+ox6wdF4hO1RXIVstfA/j7+zN//nxsbW0LkC357+fjryfU/STmTaryznuVGTBrG+6B4cTERHH72jGGtPqGcuU+YOCiI0TERnN0+TA+e7sMH33dkiV7bLhosY5uTWvydc161K9ZOWfXgJ5TcQiK4Y7rSfrU+5j3v6jL0mNuxCXGcu3wMhpXfof3vm7NznNeWgnkIJOqlHv7feq36sqAgeYMGjQIc/N+dGhei4pvvcVXpkM54x6C95WcXQDerdqQZftt8Q8M0nQKzu5bQZsaH1P+g68Ys/YUUclPkLFZYB2Qj0lROKn/KXyM1wZkfMrWdtzIJjtLBMVfTFtzsn9yBcwf9fNp25Jzvt+zO+36ufctu41IgLQEPNOSfSYlaFJO96L1AF5ZAkC2WxDn38bG5g8mzd8x6FwCoFUjpu91IyLQielmDWimTYphnMjNAAiI0Wp0dSkx3Dh7iPmTRtKtbTO+/OwDPq5Sh6Hzd+B1N4l7OikB6MrnH3xOrXoNaNS4MY0a1qdWjRo0at2XraddSL6fimf8hp9LAMzAtEUf9pw5ymTz7vy04gSxyXFc2jGLYZNXcspyJ71MhABwIj4lmZA7OaKHIQHe3Lh6ns2zBlKnSRe22bjieuoX2tStR98JSzh69iq3/fzx9QvUFJjj3E8yqEMD6jVuTu0atRi98hihCQVqve8PFI9LADRvM4gDx08w54duDF9xgsiEBK5sncmwCUs5e2YLXRUBUGwG35wMgB50GDSPU6c30aNjT7ad8yIp1o/1UwYxea0FJ9ZNoJVpH6x840hJjMbP14/Q0BD8brthe/ow0/u30NKMb/h4c2DBIOrWa82sNbu4cM1FE2zxuxNOSkYqFgvMqVu/IU0a1qZe+xGc9QwvwvmXMeUxCYChy7E9/iu9uvRky+UAEqL8WTX6e+ZsseDw6pElmgCQBYA4PyJ6JtotL3pyNA5327haIeUYkq64aNEinJycHhgjHiQAlnDT15N1Yzvxt7deo/zn9Zi35wq3HffTo04RJQCSAbDLjoT0LAwpkZzZNIVvPyrHXx4iAKrw+utl+ajSV9SsVYta2lGTOnVb8tPyvdjZH/1dAkDm1itXrmjRf7Gv/Lm2aAJAdETCXCwxb1mNMn8pTADkaACUocL7n/LNtzXvt0XaVJPa9Rozfs1xgvzstG0AKxQgALIyDcQFOjG7f3PNMf7SZBCWzsFIoCC/PZlayeKePXs0skJ2Fij4XlG/p8UFs3+hOZUqluWv73xEPZP2mPXoQqNvK1PuzTJ8WKMDW897kmYwEOF9mYnd6/P2m2Wo8LdKNGzeika1q1KuzGuULlWKN9/+nMGL9mvzbGyAIxM716Bcubep07ovEyeOoXOTr3n7rbK8+3Vrtp+6wfntU/nmg7f5ol53DjgEkJicikS4UlMS8T6/lbbffkiZ92owZ9dZnC/sov0371GmbDk+rVKdmjVr8vWXX/Behbd4vUwFmvaZjr1/dIkqfSqqP9X/fmd9/qo5h1lZ6FIT8HWx49jBvWzfvpOjpy7hHRKTV9Io+kCGjHRSUlK17NansQ+DQaeRnqIFon0/K5OUhAi8b3sRHBqK181rnD93lrNnCx/nL9pxKzDiEeud3+kng464cH+cXTyJjCta50SfkUzQLSesjuxjx46dHDx+BveAuwXu+3fOX8ztQLIdpeRR9F3k9xf5eiUJAIkW7dixQ6uZKxyheEIjKkQAuJKclobvxW10btqAYUt3snH2UFq0GczZgGhSkuKJionTVH/TUxMJu+ODk50Nq6eb83XV75i98yKJqSGsH9+duk2/Z91eC6xPneLU6TOcv2SHh18IScVK7TufAGhl0pvDN9w5tGQ0PYfN4YrLDVaOH8Lcbda4XT1Ar+Y5BEBCcgI3rLcxxrwX7du0xrRVS5rVrcbntduz+fQtkqP9OLBiIqYN6lCzVh0at+zAhCXbuX03lTh3awaYfMX7n1aiStUa9J26Ce/olHzRwSclAFqbc+KaC4dXjaNTv5lcdb3Gz+MGMnuTNd72OxQBUIwG1VwCoOPgBTjcvsGCQV0YveIwN+2tGNVvMHttXbDZODGPAEiMDuTor7Pp16MzbVq3omULE+p98wXfdpnMDf9I7t66xMLRvahfqwa16zagTZd+rNp3gaikZCwW9OOzD/7GV9W/4pumPdlv56eJUj48ET8uAbACb99rzDTvzuifj+PqYIF5r0EcueLMqV9Hl2gCQDAVEuDUqVNaJoDoAShRwBe5PHj4WlLWJvsYb9++nfj4+AeiNEIAJHJ57wJa1v6O/pN/xSc8nIs759Cq3rc07TqMo84BBLpZMrJTUxp3+AFL92CSY6Qcphu1GrblZ4vrJGZIvxuIC7rB4lHdqFWjFl2HL8U7JJoo/7OM7W5CtWrVHjq++bY+wxZs56rTacb3akHtZl34xdKdtALis2JPYkcrV67U0uolvT7/2c0iUxeH3aEltK5Xh97j1+Aj4pxZWRjSRBxwDi3rfkPdlj3YfNaPxIgAds01p06N+22pXr1Qm6p/U4eRyw4TFHCdBUM7U7OOCXN3XyA6LUfE1qBL4daFHfRv25AatZswfvVRIpLzd/yQMgIRV5w3b54WHZK/89v6iLWM7IgS7MbmeaNpXqcan336CZ988gmfV6pKg7Z9+eXwFe4m5JQbGHSphHhe5ufJg2lY8ys+/+xTPvnkU76oXJUaNarx0Xvv8PGXDZi09jh3IiK4euhnOjWuwWeffUa1mo35YeSP9GrflPrt+rPb6gLrJ/enbu3v6Dt1M/4xhXfgyYi9zc9je/Lt198yYPYmLp7ez6C2Dfi6QD9Wr/4NDUw6Mm7+Buw8Q+7vDPCI+yxG89Mf9pm6lz+261ccI4nyp8cHc2TtTDq3bkn7zl3padadtqat6NR3DPsveZKkyyQl+g4ntqxi/cHzhCfri8wY+j1706dFYXt0Cyt/PYB/rKyfs8jOTMPz4h5mz13BcWtr5gxqR53v6mLS0pTWrVtrh6mpKe26mbP6kC1xT7STUhZZumScjq6i75BJnHUO1bIaCrYxI+kuNjsX832nNrTt0AUzsx50aNOK9j2GsNHKqVCJb8HvvUq/h4aG8vPPP2NnZ8dvv/328MT7nP7zShIA169f1+r+JbXisSbNRw0uhQgAF5LSM8nKiMVi2XDqNWpJpzYmNGw1iHN+EbidWEXfYTO55BleyCmND3VmTKta9J29k9C4oDwNAOcw2TmgOE9uhQkAC7c7eF/YiFm3fixevoAfzEdy8Ko/dxwP5hAAFjfxv2HJgNb16dBvAjuOnMbZ4zZXds2iWctubD7lTkpCFEFBdzRxtrMWO5n1Yx/q16zLxK22BDpZMaBtIwbO3MTBX6djatKOZYeuPZQx8dgZAK0HYukcxO2zW+nZuQfzli7jhz6DOODgR5DjTrqoDIBiMynnEgAdBi3ELSwM63U/0f778axbNpE+IxfjcieMC5vuEwA+0TgeWkSjOg0ZNn0lx2xs8XC/yfbpZjToMZUbfneJiwwhMPAOPi5XObBlBcO6m1C7cRf2OgZxYN5AGrTuzw6Lg4zrbkKXUSs0zY+Hn+XHJQB+xj8yEqsVo2g7YDq/zPuJXqOW4hoUgs16RQDIJC+Rz1WrVmkCaC9739znNA8Xm9OKQyrpih4eHo+YWw2kpSQQFRlBTHwSOr2e9Pt/R0XHkZqhQ5eRSlx0FJHRsdrfBr2OxLhoIiOjSExJz5sXJVKVFB9DZEQE0XGJ6HR69Lo07buinPzgIdsQxiYkk56eSnxMFJGR0TninQXmWSkFPH36tKZfIPX0Dy8ipf2JREVGEiPXzHO6DWSkJhEdGUFkVDRJaTqk3ckJsUREPNwWrW0REcQmpmg1+Amx0URERJGQnFZIK0QvWMREaeUusYJX3vUySUxMZMuWLWzbtk37/eG2PmL9YNCTlhRPqP8trl48x+nTNtg5uRN0NyYH7wJ4ZBr0pCbFEeJ/C/tL57E5dwEndy8Cfd05tHYmZt16snjPFWJTM9ClJRPi686VS5dw9vQnNj5Ra7v0Y3JqqtaHOX2QUugetXZrfZmDlfRlamoysVGRhbCTkp+o6FiSUgSjxyA7Ct6H+r0IW36EfSisjA6rLH06fpe20a9rZyasOopPSCRxcTH4XD/JpP4d6D58ETeC44m9c5MFQ3sydsVBgpMNZGcJWZpNdnYW+ox00jP02t+56fPynsyZQjAYDJnokv3ZMmcYA0Yvxys2jazsbAwp0Vitn8v4BZu4ZHeaiT1b0X/qWpx8w7RxXJ5L7YiK1sYvWetkZ9/j3r2c68o4KJlL0oa8MUorY8jKmSMykrHfO582XX7A8lpQYQLAkEGQkxWjerRl6LyteARFEBsbQ/Bte5aMNsOk5zjO34rUSiLkPqQ0QnRVZCcn+b1geYTci+CRkZ6mCarmv59TUlGovdr3C7T3JT8TMi9JtrqscyR7/UW9XjkCQCL+s2bNekCc6CkHwocIAIPGmCUEXWdWPxM+fLsC1ZoN4FxAFIGO++jSqAEjFu/B924sySkpWpqN37VDdG/UgEkbThGfHFKAAEjIW+jkPTQv2QifrB0PEADuocSH3mRGvw40rF+f7mOW4xaZSJBjTgbAvGMuOFmupUWDeszeYUtsYjJxd73ZPr031eq0YZOVI9ePr2HEmNnY3AwkMSWZcHcbhrVvyMBl1vhes2RQZ1OmbL5EdKgnK8f0oGX3Mdh4hhdKExQCwE/SDRt/x/Stl4iKjSc+Lg6xi/iEJHRp8VzZNY3mrQdy4kYI8aGOzBjYlrp1G9Nj5FJuhccTcl0RAE9mC0/5fD0je88nABbgEZOIn+0+ejRtRNPmJkxYb01EUlw+AeAVyfHF5tQw6cOxa4EkJiUS7HGBCV3r8E2n8Ti6urB32XjGztuGT3gsiYmxOB9Zhmmzlqw968v+uYNp/f0k7AMicLZcQ/tmJkzdbENMan7kLge7HAKgRos+WNj5EhObY4NihwlJKeji/TQRwPZDfyZQ2my3g04tmtK0QTMmbzxPTEIUZzcoAiDXDn19fbU6aNF1UaUAL2p5UPg6sgCTHXUkJT2/bv4Rz/6DdasP1XM+vPjK362l8DkLLvJy7OFR9amFz/ng+WRRLI656EqcOXMmR/X/kWNQ4XPl2qGk4D7UHq1Ot6g2PXAfv3Ot3AV7/nUyNZJl9uzZv0O2FD5/we/m/p4rRvg4gZC8z95vZ0ZqAmFBd4iILezQa5971L081M8PtPGB9+W+Cx657VY/H8DtUXir/+c7ncUZi4wUru9fQKdOPbSspWQtCyobQ0Y8Tqf3smr1Nuxvu3N80zxMa1aldgszlu06Q0hcLJ5XrVg6/ScGDehHn74DmbxoPXa3wkjPSMDD3opfV69h2azJjBwxgnFTxtC+SS2q127BhBV78AqNI+WuC6tmjGfprgt4uVxkUi9Tfpi/i4B4Pffu1+LnPqOSMZARF8ZFi21s2rGb9cvmMHzQAIaMnsLuU9eJFs0OQwYR/s7sWDGToYMHMXrCDGaOG4BJ5x+wdHiQAEjB7exWepu2Ze7ui8Tdv+8sfRreV4+xcMlabD2CCPNyZPfG9Wzbvo5pPw3HfPAIFm88zK3QWM2PSku4i73VTmaOH0n/vn3obz6c+esOcjs0Hl1aJLYn97N58y62rJrHiMEDGTRiApuOXiEqyXg0RmRuEtHjS5cuIbvsvIjXK0UA/Pvf/9a24JFaij+V+n9/IBFGKdH1GF1NGjBlt2QA3GelDen4XNxGuxof81XTvtj4x5CeHMHxtZMwbVSfVl368tOkqUz+aRgdWjalw+BZXPGKJEsXyrqfutGsyxRuvCIZAOc2TcOkqRmH3ULRp0dzeMlgqlT6mh/X2RCXruOOwz56NGnK7MPOBHmcY0THetQz6cqYCRMZbt6btq0aUKV6c5YesMXH6RjDOjWjaftejJs0iaG929HU9Ht22voT4WLJgA4mTNp4iZQMHX52++jbuhH9ZmzDT0oBcvvsPgHQssZH1GjYGjOznvTsKYcZ/UfNxNreg0s7p9C4ZT+OOwWjS43mxDJzKleqztgNNsSmZRDiuJ2Ozdsyf+9VtQ1gMZhUhQBYM6IrbQfOwz02lZTwm0zr2ZBKNVuz0zaQtIwEzm8cj4lJLyy9o3GxWk2zmt/QxmwwEyeMpZ9ZJ5o2qEG1pubYuHpxec8C2jRuQOf+I5g0aSzdTRvRfuAsrgdHc2ieOS17TcA+OJG0+EA2T+1DI9O+HHIIeKAUQMeZlUP45NNKNG/TBTPNBnNsccS8rXh53+TnUR1pM3gZATHJJIa6MN2sFpW/bc9+pxDSUmOx+XUkDVvJXtihhUiuXFsvaT9PnjzJ8uXLtYwAVQrwIpYH+dcQvIOCgrTIuWz7VxxtTxaxIqQngnqiY2DM9yDbFe/fv1/bolAyAYy5raptyllXNvDnbCBLIuGOhxjYrjGNOw5m1U4Lrt7wICQyTtPRSE5KIikhBMtN82hd80tqt+zJ8p0ncbI9zOhe7enw/QgWrVjJwmkjMW3ajMGzt+ITGcypLVNo9E1NOn4/kvkL5zN3/kTaN61N9dotmbhiL14hMYQ4WjD1p0kcsA8gyPMyE3u2zMsAkOyr3AwArcRZl0lqqAerR3ekZp3G9Bo2kfkLZjO4R2tadhnBsRuBxN29xYZpg2jRuivjZ85n7qRhmNSpylfN+j1MAGTqCHc/x09mTWnQuhdLNu7nkoMLd8JjSElLJSkxidS0VDzP7qR74xrUad6eH6fOYfbkkbRracroJfsJionF2Wod3VqZ0GfEZFatWcXUUX1pUNeEOdttiIjzY8P0vtSuUZ+e5mM1HEb2bk/zdv3Yaxf41FoKz9rmpRxNiGnxX+X3F/F6pQiA4OBgpkyZgqen5yPSE5/wIRW2KzqQs9ZWXPeNLrRPryE1BqcLJzh26hIh95XoM5Iicb58ko2rFjNj6hSmz1nElv1WeNyJJl2fSbYhGc9r57A+60hUcsHawydsl5E4ZVnZekK9rmN98jwBMUlkZukI972B1XErXO/EoMvMJDHCj/NWJ7Xa6rSMZHyv27B++TymTZ/NL9sOYXvdARsraxxvB5OWnoTPjfNsWrWI6dOmMX/ZOqyvuhOfnkl6zB0u2cjnZE/0LPSpMbhcOcWJM3aExBXYQikri4RQb04d2cPOnTs0LQjRg5Bjz2FrPAPvEubjiNWpiwRGJSECT1H+Thw/bo1bUDT6TANJkd7YnDzNTd+72j086wddne/Z2rtBn4yH3VnOXHYmNk2PQZfErWvnOGEtz2Y6BkMGobcdsLa+QFB8GqmJEVy12s2SOTOYMXcJuyzO4HjdDivLc/hFJpAqbPKpgyxfMEuz05Ub93LdO4x0vY6Am5c5dcGBiKQMDJkGogNcOHH0BE7eYaTpC6atGghxv8K+3TsfssNDp68RERWB21UbTl9xJVHSidMTuX3tNMet7biblI5Bn0bILTssT9kSGptczLOFnk1/i3J77tZzQvaq14tD4F//+hfHjx/XUtKFXBdnujiNY9Je2Xd548aNmmMtYkvG3P6QkBCNqHB0dHw2axkjWTMYM+aqbc9mnFY4Ph2OutRYHKy2MdysFd9Wr8a3dRrQtmtfpi3biqOsPwyZRPpcY5Z5V0Yu3YN/TDJ3PW3Zs3M3l92CSEhKIirInRVjetP1h9lc9fXHasMkTJv3ZNNZN5J1epJjb7FumjnfD1uE291EdBlxXNq7jHHTfuZmaDzhXpcZ36UeX9WoS7vO3enRo4d2dO/eg2GTFnPRK5bkEHeWD29H857juSAiyOlJ3LTaSJ9OXVh22B6Xs9vo370bs7eJblI6KVF+bJnej+9M+xdBAMg2zvG4XTzI5EFdqPV1Nb6pVZdWHXowft4vXHILIiU9Dc8zW+lu0oDhyw4TLEGeuBAOLhtLZ7OhWFz3x9PuJFt2HsY1IJKU5CQCbp5jXDcTBs/fgV+4D79O6kPzNkM44RJManoKvhd30K9bJ+ZstyUlN7BrBGOkENOiBSCixy8iyPHKEAD/+c9/tG2JxNH7w/TEJ+zonNS4hx/q3JS5ggOewaAnPS2ZhIR4EpKSSdfpCy3ei/pOwe8Xv9/v73mch+kj/jbk4Cf4pKUkkZCQRGq6TlvcFMJX8EsV/BIeqgXUPpd3nUwy7++3XBRmuTg/9DNTnLRHtDHv3A++/3DfF3VN9b+XiNMDtpDb73l98sD7el0GyUmJWjp+hjyjBqmRy3fgpa4tJTmRhITEHDvNtY0HzpNnS/ftO+962ufv29H97+S2Kfc6uX/nfufBv3PPnfu++pnJ5cuXtQlShNzU68UhEBsby4oVK7QI+lNtqZv7/LzEn15eXppT7e3tbdTOv06nQ7JdJB00KirKqNuqxqSXOOe9xGdJ9fuz7vecOnWDLo3osECcbW3YvmYRw/p2pm7t2nQZNg8732gi/ZyYM7g7o5fv406iDn2a7BpwlcO7NrJw5iSG9O1Ova+/xKTfDGy9/bDaOJWu3X/E2jUIQ3Y26Yk+bJgxmL4jluIZnUpajA/bFoxl5tpjmqjg3duXmNC9Kaa9RrB68y727tmjlXzt2b2Ho9YX8Y9KJSXEjRWju9Bz/Fp8I0XVX4e/7UGG9ezK/F0XOLV1AWY9B7DnaogWrBMRQPuDi+jYbWiRBIDoFGTq04mNCMHN4RJ7N61gzOCeNKlbi2ZmP2Ht7I/bmR2Ym/Vmw4VbpMpOKfo0PCx/oVd3M9ZYuhMfG4HrVRt2bVrNZw1v/QAAIABJREFUrElj6du1Ld9UqkSfmdvwCfNh/bRB9Bg0H9e7kk2lJ8LlOCP79GDmxvMkP5Go4bPu98LnE2JaRHbleBFbH78SBIAwJSJONHPmTG3bKDU4FTYqhYfCQ9nAs7GBXOdd4fls8HxSHEUgR4RyxEGSqLR6PX8EZH4V4kVwL1o47+XYwpPYjiysRLtARPUkQGDMGQyRkZFapouIFRZXsuVJ+kZ91vifH9VHz7OPZPu/KK6fO4HlWUeiNT0hA3qdjqSYEE5tmE5b0w4sOehIsNf1fAIgPhn/q4cYaWZKI5P2DPlxEgsXL+aH7q1oZz4DWy8/rDZNo3uv8Zx1DyEzO4v0hHwC4FZMCuGeF5k5eiSbrZ1Jy8oi/NYlTQNgyLwd+EWnIyKhMgblHAYMWdmkhrixcnQX+k7ZiH90ukYABNgdYnjvbszbeR7LDXMw62XOwevh6EQzxZDKjROr6G42HKsHRAD1qQncsj/NEWtbQmNytgjU63WkJkZx+dAq2jdoxNSNVtid3MkPvQey85ov6VnZiGii9+kN9O5hxvIDtlw8sJKuLRrSsoMZoyfNZMG8WfRsUY8Bs7fhE+rD+ulD6D1sCZ6RSTkEgNsJRvU1Y8bG86QYEQEg60t3d3eWLVtGWFjYc88CeCUIAFF7lMXJ4cOHtX0U1WD1PAcrdW5lXyXTBmRAPmJhgeP162qceUnRJ3HcHBwctH3oRTRH9qVXr+eLgIx3okR/7NgxbV/64jj+SUr9ggULuHr1qlE7/4LtzZs3EfE/2cWoOGKt2lwy50fV70/f7xlJwexbNIqeAyZgczsSvabsn012ZgbeZzbRp1s3Fu6/RlAeAbAf/8hgDi0ZRYdOA9h5yYPIuERiQz1YOrIr7QdM48rtfALAxuMBAmDkUryi43G12cLI0TM453aXrHv5BMDQBbu5k2Dg75rSv6j95x73SAt9BAHQqxsL9lzmqsVaenXryapjLqQYsshKj+P0+kmYdDB/IAMgC31yBDZbZ9K5xzAO2fmgz7tOJoFOlgxqY8Lk9cexO7mdvh07sOjwdZL12WRmJHBh6xy69+jPphOnWTyyJ+36TuKMayDxiUnccbVhVIcG9J+xtRAB4GHkBIA8Q1JiJ6VqogfwvEsdXwkCwM/Pj0mTJmkiRSpC9/SDkBrAFXbKBh62AWG/r9rZMcnMjDkVKzK+Rg22r19PdFRUobIBhd3D2D0PTKSWW4RyLC0tVRbA8/X9tbML8SURCdHWeR79+bzPKaTRtWvXWLhwobZGMObov4j/HTlyRBP/Ezt/3tio87+YMUvhrHD+XRsQ1ftLO+nfwYROgyaz65iNFmg4b7mHyYO60aX/RE67hxMVcJP5QzpjNnohZx2d2Ld0FC1bdGLBDitsbc+zfdl4mtaoTP3uE7no4Y3l/QwAGy0DQEoA/Nk6ezCdeozm8AU7di+dxtj5W/CKTtO28ZMMACkBaNt3LBt2H8LCwiLnOHIEi6OWXLnpS4T/zSIzAIb16sqCffYEedsz94dutPt+LLstz3LGYhP9235HtWZ9HyAApIw3nTs3TjCyWwva9hrF5oPW2Ds6YmtzlAVj+9GiwyAO2t3GzWYbHetWpWG3UeyyPMvpI5sY0q0t/Sas4cbtm6waa0aTdgPYfPwC9pesWTaxL9U+/YhuEzZwO8hLywDoNXQJeQSA6wlG9u3BjA3njCoDQGxE5oBz585paxxZez7PV7EnACQ9cevWrezatUtTy/zdh+wlRa1Um9Tgr2ygeNqApOPu2riRGfXqcfWNNzCUKsXd0qVZ99FHzB8yhJvOzsU2KlqcbdLe3l6rSZfadPV6fgiIto4o5wvhIroLxuw8P8qeRVFZFPUlqmLsTrVo34gI1IULFxAtgEfdk/p/8ZxPVL+pfnuUDehSY3A8tZOxA7rRxtSUNm3a0KZdR233qqO2niSkG0iPC+Ho2sm0a2XKyFlrOXvxBLNH9qZ58xa06dCFgSPGM3PKjwwZt4Dzzh5cPLyG8ZN/5ppvhFYCoE+P59qR1fRpb0r73kP58cdJbDl+jfh0vTa2RwU4sXxsX1q3ak37Dh3p2DH/6NytF9N+OYK3jyd7lvzEtNWHCYnLICtTT+hNG+ZPHsfmU24kpaZw++pRJg/pSZvWrenYrRdDhg/B/Md5XHYPf2gO0aUm4H7pCDNG9qWNaStay323bUfvIePZdcaZmKQUPM5sp6dJPVp3M6Nrpw60btOBQROWcN41iLS0JNzP72aYWTtatDClfefujPhpCtMnDOXHeZtwD7jNwbVzmDx/G36xsmOYnhjvSyyaNoG1hxxINaISALENCWKLXo3seCSigM/zVewJANkiZ9q0aYiwj4r+q8H1UYOr+r+yjSe1AQ8PD2aNHMnyd94honRp/rdUKbh/ZJcqxenXX2dCkyYc3LMHqU1/0vOrzz+dTYoTKjsCSFRaiIDffvvtec6RJfrckvq5efNmjh49WizLXsRWhMSTEsHz588bdU197sJv3rx5WqaCGh+ebnxQuCnciqsNaOLDiTEE+tzixg1nbvsFEZuUii5XoNhgIDUhGt9b7tzyCSIxNZ2kuAi8PFxxv+1HVHwy6elppKamkaHToctI137XFdihKCMtkWC/W7h6eBMek6AJlefiZdDrSUtNJikpEfGtCh9JpKSla2NoeloqqWkZ6HPFvfUZpKWmkp6h19ZBch9JsRH43vbEOzCUhOSUh9qRe035KeLgqUnxBPt7aUEVD68AouOTkXYb9Ol4nN7GgK7dWHnMHh8fb277BBKTmJp/fZ2ICAbj4eaKp28QcUmppKenateUKHqGYCJtv4+jtC+nvcZJssr6Zu3atVy8ePG5rj+KNQEg9Z+SoiLRCWPbK1cWHsUxWlLwoTSm3xWealJ/UfYoNVhH9u1jcqNG2Pz1r1rU//8KOP+5JMD/lCpFwGuv8fPHH7N0wgRue3oatYPxovB7EdeR8UCcUhF1k0ipej0fBMR5FqLF2dm52BJcrq6ueen/L8I2n/YakvopNr1hwwZFKKpszWL7vD2t/avvFV7jaTsTPfI5MGjbEOdhVuQuRIXPl/fZ3HM+zXdyv/scfxqEEChw/hwCYCv9u3RjzWl3UvS/twVt/k5OD91vgXMa+3uyppG5YOfOndy7d+/5TO5AsSYAJLVvxowZmrCPMUX/JWoi9cEO9vbadnaKCPiDgegPHsys7GwCAwI0cSRRc1Z4/jk8jX3we5nt8/XzY/748Sz86COCS5fmv0U4/rkEgPwUYiCzVCksypZlgokJVidOkJKaqhZvf/BM/9k+ljEgKChI29bNx8dHZQE8pyWCCC6uXLmS0NDQYmnTskaQhdSmTZu09H9jnjvi4+O19H9ra+tiifWffabV99W8rmxA2cCDNmAw6Ai6eYG1y3/mlEsQ6YbfIwBeDfzEnxXiWrbela1gn9erWBMAkvYv4n8RERFGMWHK4kJYfIdr15jerx8/Vq3K/FGj8HB3V3XCT+EQCJ6S2XHi6FEmtG7N6Jo1WbdgAXcCA1W5x1Pg+eDAqv7OnyykNtj6+HGmtW3LsbfeIvWBlP+CTn9Rv/+7VCluvfYaC6pUYc3s2ZqNSuqZwjgf42eNhTh327dv10TTXsSeuc9rEjbW80qG3fHjx7UdAGTrvGfdfy/ifFKakysYaew19YGBgVqmgmRbGDNR8SL6TV3j+Y2bCluFbXGzAV1GGkmJiaRlGGfK/vPAUxx/0QGQbQGf125HxZoAEGEf2Z5IosLPowOe5JwS9ZfU4W2bNmkq4XZlypBeqhRWb77JuIYNsTh0yOgjEE9yv8/7s7IACg4J4edZs5j92Wfc/stfiC9dmm3lyzO5Rw9sL19WpIoiAZ7Jc+/v78/KOXOYV6kSt197DUntL8rJ/6P/iUZAeunS7C1fnont23PuzBky0tOfSRuf9/NWXM8v27qJaJo4eur1bBGQ1ENJQbSysiq2gnSyVaRs/yeZDMbsVEvbXFxctIwWEX4y5rYW17FCtVs5vsoGlA0UFxuQoJQI3NvY2Dy37QCLLQEg6sSS/i975r7MSJtM1BJZcHVxYc7w4az78EPCCqQOizPhV7o0S774guWTJuHj7V1sF1Mv4sERPFNTUzlvY8OUrl3ZV6ECKQWisX8vVQqHN95gds2abF29mvC7d1U2gCICntrJlgyTeXPn0qBmTXpXrsxPlSoxvlIlxnzwATZ/+csflgAIKRBbujSLypdn3Gefad8dXqkSzapUoVuXLpqgzcscn17EM/uyriFjRXBwMEuWLOH27dvIjjDq9ewQkJR0ESJydHQstmOsCHkuXrxYEwk2ZqdaUj5l66elS5dqZYMv65lS11UOkrIBZQPKBl6+DUiGo2TgPU8dgGJLAEi63OzZs7WtiV6WscqCQliaQwcOMLlJE86ULYu+dGmtLrhgtFDqhNNKl2Z/2bJM6diRM9bWmpNrzAuSl4GpZFGIQ//rihXM+vprbrzxBv8oIhr7W6lSmir7r++9x5zBg7nu6KiRQArPlz9ovQy7+TPXFOdc6pulnCj3EGdy0/r1bKhQAUntL/gsF/W7z2uvMcvMDDtb27xzyLn8/PyUmNdzJqck+0tSvE+dOoWQwur17BAICAjQBABlrv0zz9jL/O6lS5c0DQPJBDDm+UHseN++fezYsQNZ+L1MzNS11TyqbEDZgLKBl2sDsjaVXY6kDEBKy5/Hq1gSABLpednp/7lb9iyZOJHln32G71/+wn/+wFkQZ8L19deZV6UKaxct0vZ4NCbxwpf1wMvCLD0jA3tbW2b378/mihWJKhD1L8rpElJFtmI7X6YMM+rXZ+/27S+VDHpZ2KnrPvtBWgZeq+PHNTt8HALA+7XXWD5kCGHFVCitONuQkIbi/IvI2/OaJJ/HxGvs55StFa9du6ZlAEhpmzE7z4+yX8nM+//svQd0XNd1NQxS3ap2bEdWPid2ir/EjpXEiaskKy6SqMbeC0D03nsHiF5I9F4JkOi99977DDoJkmInSKpSJfqzvrX/de7gAYPhAJiOgfWw1ltv8Op95557zr77nntuVlYWWylCm3MYkGwp2iI0NBTl5eV8hKCaScO19IU/rnpfysuUlymvA4rrAA0kUYTj/Py8WiDDliQAaG4iCYXYfU13oMlZU4h6cVERbP70J2Q//bRcCcNo9Jrmsse+8AIcd+5ko4aLd+9uSYClioZN8rx8+TKS4uJg9/LLqHniCdaxl7bsmjQigKZYTG7fDv8XX4SPiQkGBgc1rhOqkAP/DMWNpKplRx0HeQkAP54A2JRRSyIAxsbGWJj33NwcPw1ARTDhq6++Qn5+PpKSkrZk7hryKzS9h3IE0SoA2pwAkMpKCZ8oVwFlftY0plG1/eSfpz2+jK8Lvi54Hdi6OkDRqUFBQSwRoIpc+6rHbEkCgEYkHB0dMTg4qFHQSY6Zlp7yd3OD09/9HboefZQtAUadUFk7rJQojEYVP9TRQe2jj8L6X/4FUSEhbCWDb5rjpxE7yuHgrKuLgL/+awi2bcNnOjoskkJWeRKh8pWODm7q6ODsk0/C7JVXkJuVxcAfb/i2ruHbzLrjCYCtpTdEyBIhTNnT//d//3eVg+P/UUwCDx48QGpqKnJycliSXeqkbmablPfdXKf6zJkzbFRd2/NwEK5wcnJiUYHyfit//dayV3x98fWliA4QLvnggw9w7fp1rSEJqc9y4+ZNNohHeF6R71LHPXcWFxmpqs2RX7J8Nw2ORkREsKXuFfPk69+1JQkAmptIy/9RWIQsQlTFNQQoKDvvm2++if/+wQ/g/vzziH/uOcQ/+yySH30U1zYI/+dGrye3bUPyY4+x++Keew4OL7yAX/7gBzAyNgbNU1RFWbfCMz578IBlt3z9t7/Fu9/7HgKefx4Jzz2HuGefReEjj+ATGeRJUy56dXQQ/8QTSHzuOUQ9/zwMvv1tvPwP/4DQkBB+/jUfSqlQe+IJgK0F0KhzR9lyCwsL8cUXX6zv8fizMkmA/B11nml6hTYBO1l9G5WfIkIorJ7mUWo7uT4wMMAiAGhJYyq7rN/JX7e1bBVfX3x9yasDZA+uX7+O4rw8WLz/PhyOHEFDXd2m5hGjMpFfINLd09gYZm+9hezkZFy6fHlT7RfZeRo1jwkOhv7vf49QNzcWIajt9n8tnaB6j46OZn0lmRy3nBdtOQKA5v/T0k+enp4sNHEtwanj+MLCApISEpCRmIhzKSlsy4iPx4E//hHtjz22YbIwIgFSnnoKFnv3IiMubvkZKXFxbC1rimxQR7m18ZkUujs4MICk+HhkJSUtyyIuMhJGP/kJZrdt21CeH+voIOSFF+BsYLB8f25KCuKjo1FdWckMpDZ+O18m7QYBHAEQ88ILMi0JyOcA2Pz6pM4/OUpqW/yf8hIgUoWWV9yMaXaqsI8EUGmgICAgAL29vVpNAJCsKd8ClfXKlSubCqBVIXv+GZtvD/k6+MuoA7INo2NjCHRwgPePf4yWRx5BJa2C9fOfIyYoCHPz8/hoEwZ6yE6lx8fD/le/Ykudd23fjqAf/ABexsZsGtNmkMaUSLWuuhoOu3cj5tvfxiAtyfzss3B4802UFBSwSIWt1i7om2gVAJrGpo6/LUcAUHKilJQUtmk6Wy6xSNQgxbfbd+7A3dISnU8+uWGHlQiA1OeeQ0pYGG7eurXqOfTMraacypZXUp70/8z8PJxfew0zMhAAH+noIOaHP0RxdjY+lKibrcr4KStT/n7lHT8RAPnnzsH3uecwQytObLCVb98OtyNH+CSAmwBEOH2nkQha7u3mzZvq8JPfuGfStAoi2Ts6OrZkh5QIZkqgRDoxMTGh1b6VfD8l/4uMjGQjfXwEgPI2nLML/J6X5VbUAbIBlMOk6Px5OL/1FjKefx5Xt20DTXmlyNe57dsR/d3vwvXgQTTU1mpkmhaVibBRF436Gxoi5KWXMPHII2wKLk1tpuW6C59+Gk6vvMIG9Ygk0ITsCevTcsBxQUFwe/ll1D/+OJuaTWWiZcO7HnsM3j/5CcLc3NjKTFupr0VlPXv2LJuOp45VjrYcAfD111+zUDmKAtCGiiQSwsPKSi4CIDU8HEQcaKJxbKV3kIGZu3gRLnIQALF/+7coOXsWH/Nhk7w+qagDSnaFwoYNd+yA46uvwnmDzfjVVxHk789G77ZSe/tLKSvZDZpDTR1WmqZFUWL8n3ISoLmH1Hmm0HSS71bTFSpzd3f3cli9NpefRsso10J8fLzGoxq1WS582fjO+zdVB2gJ4QBnZ3j+6EfoWepkc9OIuT2tglX32GNw+tnPEBUWxqYQq8tW03Mp/0B6cjLsfvlLFD3+OO5LyX1G5AStiHbqxRfhaWKCXjUnNaX+FxEgtHrY6eefx4KU1cOICLhO0QDPPAO7t95CcWHhlokOJnKjpKSE+QZKfq/qvy1HAFB2YjMzMxbepw2jvDwBoDonRUaGJwBUJ89vqvNUxXdT8phJoRAT4+MybZcvXdIKQlIV374Vn0Ed1sDAQJZU9P/9v/+naj/5jXsezZ/39fXF8PDwliUAWlpa4OXlBW1fxpAIAFrWmCIbKfJiK7Y/vsy83+Z1QDkdIPx7/cYNFBcUwPnNN5H53HNsxTAa9ec6/ZJ7LhrgzHe/C49Dh9DY0KDS3ABUJrJP3V1d8DM2RsBLL2HskUfWnRpJHe4727ah4FvfEkUDpKSwJIH0LFXpyPKof0gIXH72M9Q/8QTLG7ZW8nA6TtEAHRQN8E//xKIBaPUgbehDricTKl91dTXLcUQDU6r+23IEACmjhYUFy/C4nuA0dY4nAJQzeuL1xBMAqpOluFz534rJlfRR1o2XsWIyVpXcKFlOWFgY6uvrQdPE+D/lJEAhlf7+/iyMXpXATVX1LctzKIqHVoe4du2aVpMYhGloxYW0tDQWyivLt/HXbK694eXPy1+VOkA2Vjg5yUb9nf/2b9moP60WJtnhX+v/z3V0UEOriv3sZ4gNDwflK1PWbtP9ZDszUlNh+atfIf+JJ1ho/VqdbMmyETkxvn07vL/3PXjQEt1DQ0oTAFQmspdEdDjs3YvIb38bl5emRki+X9r/RE7c0NFB4tNPw+att1BaUgJaMUBZWalSF8SfRQRAbW0tYmJi2PQL5bz6w3dvOQKAMv87OzszVl9cUPL+pgrnNnnv5a6n+xUhANLCw1XK0nHl2ep7kue8AlMASnNylK7LrS47vvw8INlqOkDtXVVlpmQ5lLW+tLSUJwAe9vNyH2HL3fr7Y3R0dENwpKwfVZUOcM/h9IqmCfr5+ck0r36zvoHeS4A2OTmZRQEQnuC+Y639ZpV1rfLwx3nfw+uA4jpA5HVZXh6b65/5/PMsXH29UX9pHVs6RsuRz2/fjhjqcB88iOa6Oii6DB75057OTvgZGSH0b/4G42tMQ1irLNxx6nAv6uiw3ACOv/sdKEm3IrkByObRCPjM9DTiAwLg8fLLaFia6y8rIcGViYsGoNwAXv/wD4hwc4NgfJx1sOk96tJlRew2EQA0qEEJjsk3qPpvyxEAfX19LDSRGo2iFUUVQQwZzbsj0Hj69GmFt7DwcOx8/XV0PvqoTGxd0pNPwmDPHjZapcx7/xLvpbrw8feH7j/+Iy7KkASQlgoM+853YKmnp3D9/SXKkf8mxdszLzvNyI7rrCtjx8XtPzlKmkNNNl0dyXJU7Xi1/XmUS4FWAaAwyfVAEQHFtrY2xMXFaZ0Ntra2hp2dHUumtd43UGKr9vZ2pj+b0f7Dw8Ohr6+PpKQkBvLE9Vry961btxggpGUvN6Os/Ds1Yx95OX8z5ExrvBsYGOCVH/4QTtu3I0dHB3k6OihdSjwsCxFAI+0T1MleujdTRwfGjz2G1/75n2Fjbc2Si8qrTy7OzvjvX/wCx554AilLzy3Q0cGAjg5L+sd1ptfas3n3Ojqo1tHBeR0dnNPRge+2bXj1+9/H0SNH2PKs8paJVkl5/+238cZzzyFi2zYmJ5JVg44O7skYLfGZjg7alr6H7o3X0cGuZ57Bn197jfUr5S2TrNcT3snMzIRQKJRrqijhmoaGBp4A4AATLUtEoZ7kCCWdo6z/P3jwgM2peOmll/Dkk0/iiSeeUGp78pFH8LqODvbLsP27jg6eevRRpd6nbHm1+f7Hn3gC39++HW/LIMvdOjr4l23b8NRjj/HyVFKHtVkn+LIpZ5+0UX5kd//1X/+VZT+nEVBZbfda11HW9+zsbDaS+sUXX3Dugt8rKAFZCACSOREEO3bswLe+9S2ts8FPPfUUjhw5siEBQKBsz549eOaZZzbtG77//e8jKipqQwKAVrv43e9+p5Xy1kY7w5fpL893/KXV6WOPPYbHt23Dczo6+LaODl7Q0cEPdXQQraODL2To2NJAmLuODl5cupfuf1ZHB49t2wZ6tiLyevzxx/HY9u14RuyZ39PRgREl1JOhTBSNQB3sny7dT9/1vI4OHtfRwaNK9H8efeQRPClWJvrWXyx16tciI7jjNPI/raODdyXuf5rKtH076JsVkZUs9xDe+R5FZnh4sJWK1sIxksd5AkACwNB6iDTaoEyynM8//xwuLi4ggPDc89/Bf/zXq/jNq28otf321Tcg66bsu74J9/OyVE4fvwk6wn/jFtSR197Az17+Lzzx5FN48cUXVTbvmTLkUrZcGhklJ8r/KScBWQgAkjll2v/5z3+Oxx5/HP/wk5/h16/8WSk/qso2/fN//zX0DYw2JAB6enrw29/+VvQN//RT9g2/fvXP0NT2q1f+hH//z18jJjZ2XQKAwCAlhPrxj3/M2s8//cvLrIyqlBn/rC1oU5XErnyda1edk935t5/8DOGPPwGa2891YNfaf6ijA6cnnsS//+sv8JvX1PQtr72BX/zbL2H49LO4IkOZKH9B5qOP4Zc/+kf88nd/VJtP+M9fv47fvvRDNG7fvqGciAAQbNuGnd/+K/ziV79Xn6wk2iO963t//RIjF/T09FheBcmO/lr/8wSABI6hbLk0X06WuXJrCZUIAMojQAQANZjssl7U9lxBTTe/8TLgdYDXAV4H1KUDtb0fICajGn//Tz9lBAAlP6Mw8rVstazHqTNaVVXFkuVQRAH/p5wEZCUAurq6GAHwV9/9a7j4xqC68xJqtMKXXkZEYjFc3X02zAFABMBvfvMbPPf8t+HgdRpVXQuo6b6ssa2i/QJcfE8jJTV9XVzDEQA/+tGP8dL/+TH8IjJR1Ull5e0VLwNeB/4idKDnCmvTXp6RSPyr78tEANByfKf++iWEn8lBXd9VtdiD2p4PEJdcCq9//CmuyDA9lwiAgudfgLupC0pbZtTTv+q5jPPVI7Ddp4e2J56UiQAQbn8EDr9+HWcrBtRTpodsMZVxGO/uOYGnn34GPAGgHC5hS+UQaFQVAfDHHXtR03MZgxf+h994GfA6wOsArwNq1IHhha9xvnoIP335l3jxxR+w7OeqIgBoepi6kuUo6ba23O3yEgDff/FvEBxzHgNzX2pN+0nNb4OH1ymZCYAXvvNd+EdmoX9es9/QO/MApyLTkZqesS6uWSEAfoS/+/ufIDarBv1aJG8eQ/EYktcB5XRg6OLXrE2HhaUj+fsvykwABL70QyRn1WD40v+qxf5Suc4VdcLvn/9NZgKg6IXvINAxEB3Cj0H3q0M3Ggauw+2EBdqefEomAmBy+yNwe+1NRlKrq0yS39k4eAMHdS3xzLPP8QSAskgoMTGRhY2qigD4EyMALqlFOSUVgf9fOePIy4+XH68DW1sHyOmqiwCoq6tj86iJUOD/lJOAogSANnVI0xQkADRNYihKAMTwBACP29RI1vK+dnN8LdlQRgB87wfyEwAL6iIA/j/kFnbJSQD8FSMAOtVJAPQrSAB0X1EbKSHZbhoGiACw4AkA5SCJ6G4iAGgagDKJo8SnAPAEwOYYOclGwv/P1wOvA3/5OsATAKrwgup/Bk/9BTSpAAAgAElEQVQAaK4t8gSA5mTN+xhe1tquAzwBILuONvAEgFJgYMstA8gTALI3Dm03dHz5+LrkdeCbpQM8AaCUv9bYzTwBoLl2yRMAmpM17294WWu7DhABEBqWjqTvvYiPdXRAGfXX2+5QDgBuCoBaIwA64fvPL2Nh27Z1y0NlfUA5AF74DgIcA6DWCIClKQDNTz61YZmoXOPbH4GrhqcA8BEAKoQtPAHAG3BtN+B8+Xgd5XVAug7wBIAKnaEaH8UTANL1Vx3tmicANCdrddQf/0y+/lSpAwPzXyI4MhvG/+dHSHrqaWR8a/0t6qmncezv/y+SzzZgWG0EwNfILe3Fif/4DYK/9QwyNyhTylNPw+z7L8HDLQxdk59gUE05ABoHb8JC3wYuL3xnwzKlP/U0/J55Fvp/3glKRkxYRJX1ttazeAJAhUBFUwTAwPxXoI3YuL7ZLzS69c9+wd5L719LqfjjvNPhdYDXga2mAzwBoEJnqMZH8QSA5myLqgkAcexCWEISv/TPfgnxbb3zfbOr8Y/4fdxv8fsJL9HGlWGr2Se+vJrTe17Wa8u6vGUGIWEZCPCNQaBf7LobXRMRlYv6PvV2apuHbiEmqQSnNigPlZfKFBScgoLaMWYP1FXXPdOfIauoEwGnEtaVEZOhbwwCTsUjObtOREpoKH8GTwCoEKiomwAgx0UOrWf6AZqGbqO4aQr5tWPIqxnV2JZfO46ylhm0jt5F78znzJmu34CIydrETUNM2voyWNuYyn/f5smSsZIyyXPzyrihrrHyU/lkqZPN+Q5Nsb+yyUAWOYlfszkyW6l38bLI95snAFToDNX4KJ4AkE+vlWnnqiIACLtQh7978lO2FFhhvUA6diE8w201UrANd04q7hG7l52XvH8MBXXjKGudRevoIsMvRAhsJB+yCyKbvHrPHefOMRtE/mVpY8e5e2Xciz9r9fM1V+cbyUOV57lvJJlxvyX3ohHatc9Lu56OSXsm5yfE7xEdk0W+m+3bZHg/wzfrf8vQhY1luZ7Mqf45Eo1WJeGIteU9tXU6vjRISdfSPZJ1oko9Gpz/H1aOvrkvIMvWP/eFDH2XteXI6Q+nY9yeO86+9cLXGLiwJAsiH+dF5CNHQrL9nGggt5/2dP7CV2vrrZQ2oqwMeQJAhUBFnQQANaLe6QdoH7+PpHPNOGnmjMMnDXDc0BDHjQw0uh3SNYCJjReyy/rQKfgI1JgkFZGVd+YByNHHZdXiTFqFxreYzBqcrx5loIMMhGQZt8r/nLFtH/8QZ8v6EZ1RrXFZRqVVID67nq2bSoZLUnYrZbzHykiyj06v0rKtGnFZdSASi9hZad9A39Y0dAtpBe2ISqvUuJyj0yqRfK4Z9f3XlHJQkt+mzv+p7smB0brfZJs2RW7pVUgv7ELLyOIyOJH3m8lp86sAqNAhqulRPAGgOV+mCgKAYYHpB6D1ur1DUnFU3xzHDKRgFkPCM1I2Dt+sd46uISy00TVGBjhy0pDhl8zi7iX8It2fkS+o7LiAxNymZZtGfpCwDO3FNw7fiB9b7zf3DG4vfu3KsyrZexPONqC8bV7GARfN6Ya89pW7nsMK1V2Xmb8gn8fJgdtLl8cKhhQ/L/57RXYP1xN3TvQOkWzjs+tQ0jzN8MCAtEGB+f9hI7J5NWOIz6rTMjyzGl/FZdcx8ozmtXMylpQ5+ceskh5EZ1StK3OSqXhdiP8Wlzf3mzvP7bnj3HNWjlciJqMaORWDrC/DlW8r7EU450s0Dd5CemEnotJl01v6dm4Tl4v4b/HzK7JasTHi5wlfUZ/qfPUIuoSfPIRj5ZElTwCoEKSokwCg0XYadY9MLsURPX1EpUairrcKbaONaNfgRu+r7a5ASGwgjugbIfl8MzrG7y+H0jBnP/M56/hbOPrimKER7Nwd4eztCidvF41tzj6ucPB0hq6xMYysXJBV2ssiJ+RpHNpwLYGQLsHHSC1ow0lTe+ibmbHv0qQ8nb1dQPK0dXXEMUNj2LgFs1EUjgigOiciKOFsPXRNbGBgYQ57T2c4erlo3Wbv4QQ9E1MYWrkgp2KAkWrMsM9+gdaROwhPLMThk8YwtbWCkwZ1lsmY5OztAktHWxzRN4FvWBojI6h82qCL0spAOlDfdw3uAfE4amAMKyc71sbpOzTV3p19RO8ytrbEcSMLBszJVnL6Ka3c0o7xBIAKnaEaH8UTAJrr5ClLADA8MP0ANd2XYe8eAgsHa5yrzEbzUJ3GsQvhpLaRBlR3liEsPhTHDE2QmNOADjaIsUICUKRCddcluPhFs2usnO2YXdakTSPbyeyajytsXB1wRN8Qjl7hKG+b29JEANnkut6r8AxOwnFDM+br2Ldq0F+I3ucKJ8I0bo44bmQMa5cAFDYIGEYknWV6O/OAdZaNrFxx0syUXauNmIYrE32LrrEJTGw9kFHcxTqH9B0k8/axe4jJqMJJUzsYWprD0ct5EzC5CEfSuw0tzKFvbo+kc03oFIgIC2k+WVuOkQybh28jPKEQxw3NYWJjBUeG1zTXr2EY0UckQ8KxJ83MYGzthsziLhGBpQBO5AkAFQIV9RAAl1kD7hB8yDrVB44bILMoFdO3xnHh3tSmbfT+0LhAmNi6s85g99SnzGj2zXyOspZZHDe0gn+EH3om2yG4OgzhtREIr9FeU9sIe+/gXDcik8Jw3Mgc56qGQYBGW4zKRuUgo9Mz9RlS89tw8IQe4rNjMHShFwImQ83Lc+LqEDrGm+ER6M7qvabnimhKytRnSMxpxIHjJ5BekIThhV4me6p3bdsmrg6jb6YTZ1LCcczQjE2dId2lyJrgmHPQNTJAUf15jF7q3wSdHWZ1O35lkIFUIysTeIcms3BVcuQb6Yumz5N+to4swt4jHFZOtqjvq8L45cEl/dRUOxe9h9rE2OUBnK/MxmG9E4hOr3gI2G8kH54AUKEzVOOjeAJgqxAAonxBbeP3mG01d7BG+1jTpmEWcbw0dXMMp1MiYGbvgfL2+WUATTatceAGbN2DYeduj8aBGox/sHk2TXBtBBMfiPyuq58LzB28WaQVDQhtZM+07TzXiXLxjWJEUHVHGcjXifCM5v0FyZbwCWEan1BvmNp5oLhxkhEsFCGYWzEIfXNbnE4OR+9UOwg7aBuekSxP/0wnw7sGFjZs0Kt78hM2OBOVXgFdE1OkFyRjeKFvUzAkh1tpPzjfjZRzidA3t0RibuNy+9M2naXykN62jd1DSOx5GFiaI6/mLMOHpD+a68+s4BySn+DqEKiuo9JOQ9/MmkXdUoT4oJw4kScAVAhU1EEAVHdfZqOUxD4FRefCyMoMA3NdmL87uanbhftTaBqshb65GRJz6lkDodwE1JHyCU1hzpMUlJzuZpaV3j/+wRC8gj3hdiqajahSg9ZGQyNeJsZATz9AXe8HsHTyQ2DUKWZsNlWe9yZZfXYL22Djao+w+ALGLNNoiYWDF86kRGDqxpiozu9trn6uqXNL5SJQ5RPqAyefSNT1XWPhVMcMzZFbnoXZO4JN1Vuq47lFIao6y3DS1Aznqoa0jrgi/STihCKAjKytUNdTycq8ptw1YK9IblR3CWejYe7ggdIWCu2UnfDjCQAVOkM1PoonALYOAUCEe1XnRZjaeiImIwoztyc2FQ+I26cuYSvDL8nnWxhuofxKFFJL4bXmDrZo6K8R2TQt8WUd400wsbFEVFoZ2sSiLsVxg7b+Jn9BnWqaImZub4/K9lLM3t5cP0u6QD6Dtp7JNhZZGRKTi5bhOwwTOHiF4dTpANbZY3qjJXogrsOSv+lbRi71wzfcF67+UajouIiCegEsnb0RmxnNBjXoGsn7NPr/Eo6kjuzp5EjYeQSitueK3BF7mtB1hnMmP8X56mGY2jojvTBl0/EhV1cX7k1idKEfgWcC4eJ7mk1NkLdvwxMAKgQq6iEALrE5SNQRdPI+A2dfV8aackqwWXsyIsTimdpaICyhgLHm1PmnJSxOmtmzhqItzp4aSn5tDvTMbFbme8nJlGnC2Ii/gxoyhdXTfC1DS2tUtpdsrtEW68BRJ+tM6mlYOPqjom0emcU9OGFsxEZ3NksfFXlvSVMBDuuZ4Gz5AELj8mBmZ4meqXatkTONUlk527CytY/f0yoHSWC5ZeQOXPxi4RvmC8EHw1ohN7JLXYIWGFlbIDmvGe0TK9OTxNuXtN88AaBCZ6jGR/EEwNYgAMhG0AgkJd7TM7VDdmmGVtgIzldQVKKRtTnCEgrZwED31GcMxzj5nGGgWnh9RKvKS+R6UPQpOPsSaX2VkcLUQZFmy7TtGOlC29hduPjHwifEl0U1cPWgDfu5u0JEp52GrdspluT6XNUIdE0sUVB3Tqt0QBZZ0eDB+aqzMHdwQVphB5sSZ+HkgIb+aq36FvLVVR2lMLNzZDiXiyLWJt0lvaXphGdSSmHtbI+OpQgmWepBE9dQXRfWnYexjRPy68bltgk8AaBCoKIWAqDrEusIVnZehJ17KFz8tIcAGLrQA1NbcwRG57A5fpQ8jcL/j+qboaA2F3N3hFphcC7en0JtdzmOGpiyed+ixIXaHQVAUymog0WJ9wytLNE8WIsLYp1wTRiX9d6RdC4BhlaubFpFbFYdjhnqY/hir1bU93rl5s6R86ntrsT+4/qIzayFR1AibN3sGanFXbPZeyJaaB6od2gKaE3Z3pmHk21ulrOk0Rxi7a2cghAaFwoiKzZbXuz99yYxfLEPxjZmiEorR9MQyU22KACeAFChM1Tjo3gCYIsQADOfM+xCU+90ja1xtjRTO2zEkh+dvD4KY2vCL7msQ90x8RELr7dyDkBkUgSbZqkVNm2pvOQPotIiYO3iz3IBULTCViEAyF9Qrhhr52AERwdj6ta4VunCwoczSM1LhImtKwunpkiFYwYmbCoeYQVt0oONykJkRnlLEUxs7Fjn3/90Niyd7NA50aJV33Hx/jSLsjF3cGT5o2gAcWBeu3A5RRDW919HYNRZ2Ls7srB7GlDcqA40dZ4IgIq2EhjbOCCjuJsNFstjE3gCQIVART0EwAJLskdZYK1dg+GiZAQAGbOFj2Zx+eNZXPpoBhcVNG70HI4AOHU6C5UdF5mBL6ifwCFdYxTWndv0kGCuEZKhqeutwJGTRsgo6mLTFWid4M3qPMnyXnKY1DjPpFawpHrNQ7XQJsOTfC4RJ80cmDwjk8tw1EAPIwt9WmMYubpfa0/6S2Hre4/oIjyxGM6+Z5YIgB6t+QaOAHAPiGNTQXpk7MjKol/KXMOFxVGbN7P3Q2hciFYRAKSHxtZmLKEjjZTRyJ4sTpEnAFToDNX4KJ4A2AIEQGYNm7rYMfEhcisGcMLISgUEwBQufjiDSwy7zGLhvnIdMyIAjKzNcOp0Nmq7r6B19B4bwDCz98VpLSUAotMjYe7ghaIGIUi22tZhkuZXRP7iE1R3LcDcwV87CYCPZpCWnwQDS0ek5rezTPWEF2u6yjd1OuBa+GW944wAaC2CkZU1QmLz4BmcDAsHWxYZt959mj5HuLyxvwZmdvZsdQUa8KIEnNJ0aFOO0TTHyU9Q03UJvuHpsHN3YASApuW03vuIAKhsK4WhpR1S8lrRPvGhXJGiPAGgQqCiagLgjzv2oqprgc1Po7VrrV2ClJsCcHsMvUNFSEjyh7u/E/xiIlDS34bJW/KP1HMEgImNOfwjM1kiHVrmJ69mBAdPGKKwLlcuAmDuzgQmr1NSjYe3qZsTmFtiwddrDGudI0NT31uBQ3oGzLhT4jIK7dkUoyJtqRnJYzRfbupTNioRmVQKA3MzyEMAzC0KMHVjdA1ZjmNuUXkGM/lcAnRNREYnNL4QR/V1NyQAZm+Pr1HHo5i+JdBox5sjAPYcPo6g2POw9wyHjZsdBudlIwDWk/HkDSmjG4sCTN8cw8xt2dsaRwC4+kezCBtKCKkNOkuArkv4MSra5mBi6y0zAbBeG5++tc7c4EXhkuxk0JF7k0wPjaxMERKXx+RGTpwnAFTo6Db5UTwBsHUIABrVyynvx3ElCYC5xQmMzjQg93wE/IJd4Bnmj7SaMgxfG1cYGzACwMoM/hFZoCXpaIm04qZJmNp6KxQBsLZ/G8HULeUwDGEb8gdEAFCyuvy6MdFAxhbJZ0RL01W0z8PUzhdB0UGYuiVHxNiiEDM3x6TiGeH1McyqINJ0YYkA0De3YwmNT6eU4bCegUwEwJp+7fqoqN5VgLfWwrbSjnMEgIGFJU6dOQtX/ziY29vIRQCsh2+mbkrBkIRvbo1j+rYMPnoJy3MEgKmtHU6nlrFpONqEyzmcQwMdFIXJCIDZTplw6uztNfoz18kWCNa0WSR3EU6UTY5cBAAlfaQVFShZoTx5AHgCQIVgRi0EQOcCq1RGADgrQQAsjqIy3x/7dv4Re/SOw8rFDMeO7MDv392HqKpqCOXomJDRWU0AZLCQtJruKywknFYqkI8AEGKwPxse7iYwMNeDvtkJ6JmegD79tjSCb1o2Rq9K6VTJSAosEwC6BowloyQvFGKvDZ0pqWWY/x+WYI3yPtDoNCValJUAuHBPiNGpMgT7WazI0uQ49M11cdLcAIGx8RBck8P5riFjmgJwwtgWSeebERybjyMbEQCLI2hqSoCj7UkYUFlMj4vq2EIXRjaWyC4vkYswkub45DlG+lvbU4ndh44hICoXtu6hsHGVlQAQYmyuEhEBVjCy0GPfo7ckYwOLk/AKOw0CJuLlmZ6rRUyMF1KamjFzRzYChgCfk48zXPyi2OhJ96RopQ2pOiNJIqnxf84xlrfOwsTaS0YCYBydXWlwdzWGoQW1ca7+9aBvYYLk/PMgYCEuM9HvKQgXahEZ6YPs5jpMbmSnxAgAWtWBElTKGirLRwCo0Bmq8VE8AbBVCIDP2eDF2bJ+tiqQ4lMABOjuSoet0ft45+A+GNmbwsh4P9565y3YRCej5/JqW/uwDZFub1cTAJfYlLuiRiFMbDwVIACEaGtKhpubEQzE7Zu5HgytjBCSV4CR67KTv9K+YZkAsHVnq9ewpU61eSBjyQdx+YxoCUMTWx/5CABK7Hq5FZkpXjC1WsIOJsdx0kwXBma6sPD1R/lAh9KDGhwBcNLMjk27jEgqwSFdfdR0bhQBIEBnRya8PDm/toJdDa2NEZRzDv1X1iG318BX0upf1mMcAaBvbsEG55x9Y2Buby0zAUAYckhQgohgWxiZ6zI8TnhN30wXJ80MEBgTg9HLw2KREUJMCMsRlxSI9MZ6TN2RLTJnhQCwZcubi6Y5ag8uH2B5uIi4ugCvkCTYutujXwYCYO7OOFqakuHuZsRwt3h/xtDaBGH5BRi9MSllSq8Qo8IaxMX6I6O1HlN3N5YjRwDoW1gjIbeR5SuQh0ThCQAVAhW1EgAtM7AiAsBH/hwAlLF/uD8Vx95/DUd9ItE02Qfh9VGMCMvhZvAHvGvhgaZZ+RLeiBMAfpEZKGudY6NtNN9PEQJgTFCBpLQQhER5wfToK/jpL/8b1n5eCIoNQmp1BSauK25EVwgAfVDGX1pRQZuX0aEOFo1a0hxrEQFgKhcBMHGhEVlZ4QiJ9YeV8bv46U//A3puTgiICkRmSR6kjlDL6YiIADhubIPE3CYExeTh8MkT60cALI6he6AAsfEBCIxwwaG3/wv//vu34RLpj5C4cFR2NGieAOiuwO6DR3HqTA5s3ELkIgAEl5qRezYCwdG+sLfZi3/9l5dxzNkBgdEBSM7LAUWtiDvs6fk6BLocg2dOBSZvSwek4tfTb44AcPaNYnNTu7SIAKARnbLWGTkIgAkMjpUgMSUYITHeOLH7t3j5t3+CTaAnAqNDUNJcvUYUyBQmF6rh6XQSQbkFmLi5ATO+TACYIDgmVyQ3oWzrDPMEgAqdoRofxRMA3yQCQIjphXr42+3BDl0LnOtuxtjVEYxfaEV6tDneeP8QkpobMSun/yL7upoAWGC4gELrjRUkAPoGi5CQGozACA/o7voN/u31t2Dl74Xg2CBkN9di4qZqCAATG3ecrxllS7BqVcj0GqQzRwAQRjS28UZQlDwRAFOYu9aNiqpEhMUGwNtDF7/+z5/jHV1j+J/2Q0R2KlqEvSojAPTMbBGXXcdw1yHdkzIQAEIMjJYhOT0Ewac9oL/vFfzn63+CmS/VezAy66swcm0Dn6WA7kpiBfH/xQkAv4hMOPtEy00AjM81IPfcaYRG+8LKdCd+8R//haMOdgiICUJmyXkIrtJqTys4RiAoRaCPGfxzijBxa0pK53blWq6sDxMAN7QKl3N6S4muPYNlJwDmFyfQO1CExLRgBIS5QXfPK/i3378BS3+KlgzGWbIFtx6Wx/xdIgAqccrVFAF5eZi4O70KQ3JyE98vEwDmVkjIaWBLRvMEgBrBx3qPVg8BcJFFAJQqQQBcvD+GggRT/P7N/cjs78LMksG5cHcCfSOlKO2ow7icHWxpBEB19yXkVg0pQABQYxCyDs/8rQHknj6K3+8xQuloP2YXBUp3DJcJgBN/+QSAyDgIRQkY742j+KwLXn/9HSR2NGP6jkBliRnFCYBARgAcX58AuDvJ6nHujgBTV1sR5rgLO07ao/XqOAvhI0MmbtjU/ZtFADxEANjKPAVgfpFkLMDs7RHUlp3CH157A9FN9Zi+Q3r88LfMXG5BYpQ30jtaMCNjSODDBIBsoezqjhCgeaedwo8YAWAscwTAJEhm9E1ziwOI8zmCNw6ZoXyyj4UNrlf/U5ebER/jg6zWZkzJHAGwQgAQWcFPAVjPc22tczwBsNUIgD7FIwAWBehpjsXB9/8I+4x8jC9PVxRifL4VFc3F6L44tGZI7Xp+ZBUB0KksAbBi36audCPB6yB2GNiiZKx/yeY97BPWK5u0c1wEgDgBIA/YV7dfWOv5XEdKMQJA1FEi/zC7OImBnnjse//PcIzPZph1lvywCjrQXASA/ATACq6ZvdqDtFPH8L6+OfKG+zFzR6g0dpWmBxsdk0YAmNnJHgEger4IQ84tjqAk1xPvvrMLUbXVmF7CcZJlEMzWIjk5GFmtDZha3Hjkmu7nCAATW5ulCAAtJQDa5SQAlmREujl5qQMJvsexQ88SRWODmF+3PyPExFw9EhKDkd3SgBkZ8rM9RADIOb2ZjwBQIfbRWgJgsRfRnjvx2gFrNM0+vFyXOJMn2bDX+l+SAChtnQMjACqJANCXcwrACht2cXEI588cw+t7jVFODUaMZVyrLBsdX0UAnNs6EQA1PVcQllAEfXPZIwDEZXHxQwFKc9zw36+/i+SuVsyqQJbc8xUhALh7Z663I8JpN97Wd0T7dc2y41wZHiIAXCkCQA4CgAMdi2OorwjAH197EzEta49EzV3vR5egXS6ibYUAOLMUAaBdBACRksZWsk4BEGvj94aQ4HcUbx42R+X0wIajdzM3B9A13obxGzLM9xWLAAiKFkUA8ASACp2cFjyKJwC+OQTA3OIoagq88c6b7yKyuQHTMoTFcjZ+o73KCYAlnzBztRdJ3ofwtqEdSicGVUZsb30CYFaBCIAVvzF/bxpDfYk4sPPPcE7MgUCFeYOWCQBTG8Rl1coRAbBSvrnrfUgPOI6dBhbIHx1UCTGxkQ5LOy9OAPhGZLAIAPkJANF3Xbg3htLzXnjv3d2Irq/F7H1po9JCTF/rQ89kB8auSZvGtyIj8fJuGQKgbU6+CAAOG96dwvSVLiT6ncDbJ61QIqBpE9JlIZKLENNXB9A72Y4xGQdkeQJACwAJVwTtJACmsLDYi1jPXXjtoDWaJQgAGsWcuSN/J2xtAmCQJwDWCIVbiyGXPM5NAeAJgPWMpXLnNE0AkIGXd6SCJwDE6ljGqAkiDGkVACMrE/AEAOeZ/rL2PAHwTSIAxlBT6IN33noXpyUJAEoOd3vthFrinQ1pv3kCQDN6tBIBwBMA0vRQ1cc0TwCI+enlzu/Gx3gCYGMZbaQbPAGgRdhGOwkACrUZQ368CX6/4xByR3qXR9wu3KPkOmkIio1C08yAXB0UngBQn/PkCQDlDeNGhnMzCICNyiR5nicAFNADngDQIo+onqLwBID6fI8kGd078wCnItORmp6Bu3fv4uOPP5a6ffTRR6iursaPfvQj/N3f/wQxbBlALgmgclMAeptjcOC9P8E5twSC5fwpQoxP1yIhPgBnO5owJStBKNZB4QkAzegRTwAo4MfE9FQSF2z0P08AqEavOb2l1Y7kygGwXHfyRgDIryc8AaAejKHQU7WVAKAkgEPdiTjw9ms4GRyH9vlBzNyewNh0NXxM/oj/PmaDSsEWIQDWDaGR3oD4KQASUwDuTa0ORZJhrpGk01HHFADqlNNG76I91Rv3//xd0TnSZbbRtUvXLf+/pBviz5EsN/c/XVMrngNAXVMAFNBXrozfNALgoXoT0wdOJhvueQJAId+1lW7iCQDVAFzJzr60/zedALgrxNTFGnhZvo939O1QNNgB4c1xCC914GyCNf7wxnuIqKjC9BYiANYPA5aOYcju8VMA1p4CsIITJjEviW+WO2Rry1adUwDE/Rr93hDXLPk9RXAN6YlGCQAl8M03OQJAXCcYplEE6yzlGqhoK4E+lwSQzwGweVBGWwkApmC3h5Cfao8/vPKfeOPAQVg6m2L/rlfxH79/G8HFZZhYTq6ztpFkz1kypqTAQxd6YGJjDloFYCUHgBqnACwKILg6hEk5y8oTAOIEgACCK70Yvjwsypx7Zxzjl/owdm1MrggQlRIA9yYxd2cMg1Mt6JjswuRNASbmWlDTUYoWQTdLWjl9bQBdo3VoHKhBY38NWsZaMfrBEPoETWgaqEHzSDOGroxi9tYIO9Y1Q8nl1k68RPqrfgJAiMlrQwqvuvCNIgAWJzAy14n+C4MseRIRPtNX+9A72wOhPHM9eQJg8xyght7MEwDfJAKAkutNoLUxBrp7XsOrO97GSWtjnNR7D7977VUYBUej4+KoQvPsNyMCgNb5FlwZZMlixfmOgRsAACAASURBVPGULL95AkAaAUDzzwcxvDCwlCBWCOEH/Ri9MrzkR2TDs+ohAKYwd2cCI7Nt6BR0QHhjHIKFDjR0laFxrIMtaTt7Ywi9E40MwzT2V6N5tAXDlwYYFmoerEHTcCP6F4Yxc2sUg9Ot6JrqhlBihSFJ3dEYAbAowOS1YYXxzTeVAJi7PY6RuQ4MXCSsQ/ZNgMmr/eif64Vwo1WOJMgsPgJAQ6BDltdoNQFwdxIz1/pQ35iB09FecPFxhF9MBPLb6zF+Y/WSZZIGRdr/6iMAhlGUbIpdBnaoFg4tJwGcvTmEhupIuAadQsXYkEzLjHDllpUAoGXAhhe+xtBFEcBa/n9pTv/QwtJ5Jef4SxtpET+myikAVUX+2L33CLL62jF3dwpztwdRkOEOY0dXlAsG2Bq7aSmBSGmiBEuyOUuSq3IEQCfi/HRxxNYbXTcELBpBeKkOwZ4mcI1PRHFlItw9bOAW5Ap7NxuEF+SjqjYOZiZHYOPhAFc/R5yKP4PytrNwsdaDmbsdnL2sYeHsgMSKXMSEW8M8IBwd82sDQ9URAONorovA3t0HkNLZsjy9Zu72GLp7c+Dq5Yhzna0sgzGnj7LuZSMAvgbTy4tfQ6RDIh0d5v5f1mnuvPKdB24VAEWTAF64N4z0CFMcMHNC7ewgk9nsjU5EeZ3EcWcf1E0P4cL9CRQkO+GErZNIT2Ud4eMJAFlc1Za+hicAlG/D4v5mvd+bHwEg8klE7HYPFCEpNRCepxzhEXYKKeUF6F0YUXgJOLURANf6kRlqhMP2HqiaHFoiJ4SYuTGIiuIIuAQGo35e/pULZCUAOJzC1evq/yX9hfp1iQulLmtVNgfAFIYH02Gguw++WfkQ3BKCVrLqao2BlZ0V4muqIbg5ioriSJzJO4eBK7InpFMFATB/ox85Z8xwws4ZpRNDmLs3hemFFsRF2sM5MhKF5UkIDHSA6ykXOHpYIzArC1U1SXBw1IeFiw1c/RzgHROJwrosBPmYwMTBCk5eNrB0sUPUuTQkxLvB2tcfFeM9LMphLRyhagKgqiQIx47rIrm1AbP3RRGac7dH0daeDp9gb+S2Ny3jnrXKJO24zASABIZZxuVLGGflf9XqMqe3ik8BmMTMBz3IiDTHYRtXVE6O4OK9SQjnGnHG9wT0vQLRNDMCWj0iL9UZRm5eqBzrXx2duwEm5wkALYIy6iEAFtgygGVKLAMo3vio4zN/R4Dpm+OsU8L+30DJxO/nfksSALTES3X3ZeRWKhcBQMsBTn3Qh8EL/csjuBQK1dGeBgeTnXjnhBHO9Q+ongCY/xz1Tb1ILuxF/cgnGJz7FJW1XUgtHkDDxOcYnLmPkqoOpJaMoWXq86XOlmoNDuewVUUAUF1NXRvE4FzPMrM4d6sfmRGGeOX3r8AsMgUDU7WICLBBSEkFpuTQA2UIAGI8BZd6MUQM6CKF+9PyJ2XwdrZEQmMNsmKsoe8Vgra5PrS2ZSLqbArO5wbAyNENteP9EFwbZtvgQBqsTC2QMdiG4flGxIeZwyY8HoWF4TD39EHj9MiaI0MqIwDuTmL6xhCTsWCZmRdCICjBKbcT+MPOPYirrVcbATAwdQvnipqRVTePrtkv0TN2FdkFDchtuoq+uS/RMXwRGefqUNB5C33zqtFXZQkAauPCK0ttfGnJxJnrrQiwfBu/2XUESY1NmPugFp6Oh/HWXn3kDffKLj+eANAij6ieovAEgGraMedv1turhgDoV3wZQDGfJMIqQszcGmfJ/yjUm8MjiuylEwACGNt4IjIpAtO3ZO9Arnr/ohDCy30YWh6VnsT8nRG0NMbB0mQ33jthi9Kpfrki7uj5shAAA9Mfo7y6DWnl42gTfo6+qbsoKGlCVs002qa+RO/EdZwrakVO/Tw6Z75QK47h9IrrSClNAJAMbo1geL4HY1dFEYsX7o6juToYe/78O+y2dkX5aAdyUt3gHp+MnoUxmXGiSggAWvbtSh+GLi5FI9ybwtRsLcJCnBBVdA5ZKR6w8vRB2WgnOrvPISE3FTm5wbB0d0FBdxOE14YhvD6CweFceHlZI6q8GoPzHciId4ZDUDDyCyLh4uOFgsEOzC11xFfp3VJbUSUBQL56+voQhuZ7sYxvFgUYGirAKdfj2HHoGGKqa2Re2li8vLIQAEMXvkBr7xTS89tR0nMLfXOfo7F9HOmFXajsv4/+uU9R2zyE9KIe1Ix8igEVDs5xeqsMAUBYl9kCMZ2YmKqGj917+MMePaS3NWJwsgqnbPbifSNzFPT3MJJAXE7r/eYJAPVgDIWeqlYCoHUWVs5BcPF1xfgV1S0ts55yrXdOGgFQ030Z56poGUADhZcBZO+UmA9Dc+bGLnSgpiYW9u6OyO/vl9mw0/OWIwB09ZF8fo1lAGfuI9HfHn/ebYekmusYmL6OIEdLvHnIE6lt9zE4PgN3KwO8cSIYeQMfqtVxcgRAbc8VhCcqvgwgV38i4CQaSZm71Yez8Q4wsTeHqbU5os4lI+iUDUJLNUgAkKMSm6cnIgDK4edui8zeTrQ1J8La/Ah0LY3hcSYCpQPNqCwOxJ7d78Layw3eIV44k5OF5t4UmJw4Cs/0OKTmhMHORg9+OXmoq42Dta8fmuQhANwUXAZwyemKy5g5zcvdaGk/BzdXEyQ1NMjegRUDvLJEAPQP9EN/3wEcdDqPWuFnaGloxKFde6B3qgEdk5+isrwIO994B1YJ/eiaUU3HgSMAylpnYGwt/zKA0to4EQBhHsdxUP8kvDPPoqE2AS6+pjiqb4lCRQmAGH4ZQIUcmZbfxBMAqmnHXAdtvb02EQCcP1PVfhUB0LWA5uHbKGoQKk8ASPg3Vl6a4jTbhvLqSFjZe6BiWj0EQO/oZfha6WKHfhiKuu+jc0gA6yN7sc8mGcWDn6G9vQ36B47imNs5VI59olYcw+kV15GiQSJjG28ERQVh6taYwuSNuK8lAqCpKhK29qYwsTOAZ2ICos84wSNBQQLAzAZx2XUKLQP4kF9jBEANIsLdkFBThdaOLHg66+OEmQGcQwNxvqMBdZWROHFiL0xc7OAd7I6InDRUtmbD1V4PDmERSMk9AxdnY3gmpqCmPgmep3xQKAcB4BeRqdQygKK2tpKbSaTLQkxe7kVzUxq8/ByRWKcuAuBrDM9/irysJLz7jh7c0/vRMf0RMqJD8fY+EwSdn0bP5E3EBHrhvf3WOF19A/3zqot05PS2om1ewSSASxG14v2Ze1OYmKpBoJcBjhuexKnMLFTWJsDJ3hCGjo4oGuAJAA5+6HA/tspe1QTAn3bsRVXXAtrH76G8dRbWLkFw1jICwNTGHP6RmShvm0NNDxEAwzioLAEg1gkSGaBJlvhtZCgXrl5O6iEA5r9Ex9AHqOz6AB2Tn2Nw/nO0DlxGVfdVdE5/icG5z9DcdwmV3TfQPfulWh3nagKgGPrmpmgeqpUrNIiTm+SeCIDseCe4xyUiK9MXxibHYWBpiNDSSoUjAIJi8nD45Am2/Jrk+2T5X5wASOtuQ89YLRr7qlBYGgsvN33oOXsgI80bxw0NEZOXhfyaXFR016F7IBUGB3fD7JQHQuJCkFSah96FYbQ3xsHaR0YC4NBRnDqTAxslCYCHv3MK03P18PMyV54A8ItCVecCuiY/AekGB6zYfvYT1HVdRM3AInrnv0L/1Ieo7byAuqEP0T//FXqFd1HdPo/GsY8xoOIIACIATBQlACTaOBEAod4m8Ax2hY2PF4LCPRAU5wFTSxuFCABjKxME8wTAVnGdcpWTJwC2DgHQMX4fZ8tVEwHwsI2VfcqatHtFBIAp/COzUN11CS3Dd1RHAEjYN+79vX0psHNSHwEwMPcALX0LqOq5ge6ZLzEw+ykauy+gpv82ume/Qv/0R6jrWkAt+Ys5CV+iwtFTcR/FdaRURQBwsqQ9EQCNVRFwCwpEZvFp2Duaw8D4KJxiFSUAbFcTAF3lYomI5dQ3MQIgvqIc3RNNaOqvRElVEk75mcHAwQVnErxhaGWCkIwE5NfkoKy7Fm19uXCyPAh9RycExAQjvuAs2mb60dOZBg8FCQBzO2t0CVoUJl3EZc5+35uBQFCKoBBXJClJAJja2iIyuRSNgzfQNyMZXfsVuiduoarjEprHCcN8ic7RG6jquozWiU8xMP852oevobrrCtoIt6tQhzm9rWhXkgAQtwVLBECwvwWc/Z3g6u+OgEhv+IS4wtbHnScAxJAATwDs2IvqrgV0TNxnHWwHr9MwtbVQuKP1UCMWV0w5fxML2znRDD0TIwRG54AaCY1YnycC4IQhM2Y0gqmqd9I0gOHBHLh4OiJP7giAKdR0l+OQrgFS81vRMnxbiqH5HwxepPn/Kwwi/V7vf1Uam1XPmv8K3VOforb3CiKSinHSzJQliaHEaMrKkxEAcQ7wSMpG31QDTnscwK9efxMBck4BSMyJxwkjGySda0ZwbD6OnDzBkkIqUj5xAiC1vQ6ZCa7wTc1E10wnasvCYWpvh+REdxjYOaFsoAOD890YutiL/r5UWJlZ4exYF0tEQ2tCU8hVh4wEQE13BXYdOIrAqFzYuofA2tkGg3PdSsuYkwEjADzMkFSveASAg5cTXPyiGUDtnvxUqoOTrqdcJ0Gkw1xei1V6pqCzJBKiS/gxytpmYWLjhZDYYEzdVHxEh+RFBECIpwnCC9LhbnkU+8zMkVh8BlZWNiiQIwKAooWGL/bC0JIIgHPMfnYJpRAnUr6d5Hi+egg/ffmXePHFHyA1NRWLi4tSlz1bazk0acc/++wz1NXVISoqij1PzMfxPxWQAE8AcG1b/XulIgBmHjDscr56GMcMrZCUmwAKWeXs42bvyY/omhggJC4fNT1X0DJyB0WNogiA8IRwxacArIOlevuSYevgrnAEQFRqBExs3ZFXO4rW0bvon304jF+6P+BwDecPuP/Vr0NcR6q8bR4mtj4IPBOIaSX9Bac7jACoDIdrUAhqhK3Iy3DHO3/+DfQCY+WbAvDhDFLOJ+CkmR3izzYgIrkUB3X1UdVRpjwBEOGGhNJ8nM0KhH9CHBon2tHQEAtHFwcERrrD1MURZ1tqGH4aXuhH30AOvL1sEFtdj/HrS9Nd7grR3y07AVDWUgh9cxqcy4KzbzTM7KzQOdGkurZ3bxqCiVIEBbsgsVbxCICG/moYW9vgdEoZGgdvovchAmAFlw9xPnsJl6/5P3edkvuBuS/RKfiY9W28QpJh42qHvplOxfWB7MISARDkb43ApDM45XIQB6wdEZseDld/N8UIgFbqI1ghMbcRraOL6JNiE9bCfQ0DN3BQ1wLPPPsc9PT0cO3aNZnxDi392tDQgOjoaLZErAKufN1beAKAEQCX0Cn4kClhWHwh3t27H2UtRZvuSIkASMqNw/7j+ojNqmEjlHW9V5FXM4qj+haIy4pWqQOl940LyxCdHInqCfmSAJKzyC5NwxF9U2SWdDOmX55GslbjUdvx+a/QM/Up6no/QExGNY6cNERRQ966iV84h7jRnpIAlhVGILakFBM3BejtyYSzszWSmhtlTgI4c2uCdfpOmjkhrbADEUklOKSry7LzzyuwLMwKAWCHrP5udHVlwdvDFGb2prB0skJ4wXlU1cbDzOgADK2NYW5vArtTPsipSkdoeCiq54exQo4I0dWcAJsNpgCQnM5XncWuA8dYuB85yeNG+uicaFHOwIuBv5lLbUhMCkBBT5tCUwAEV4dhZGUCn9BU1HZfxloEgNr0cA0HyhEAlR0XYOMawhzX6OUBpcDF7M0upCf5I6ujGefTveF4Jha1A3kIjQxF7eSAzIm+yE40D9XhhLEhmz5DI3s8AbCun91yJ3kCQP2dNs6mKEwAZNUwkr1T8BFKm6dh5RIIew8H1smhNrqRn1L3+bk7AmQUpuCogQkSchtR13eVdagpsamVcyC8g70x8QGXwE/OkV8xHyD5HUPj+QiPiUbTBfmTAAqvj8I7xBOWTn4oqBtD25h0AoCrO23Zk7+gjlRlx0XYuoXCxddNZYNYlASwsz0d0ZmpaFsYxsRsNSJDbOGXkYPBK+MyTxWdvT2BsPhgGFm5sGmi0ZnVOKhriJzyLMWxNhcBEOGOxJpqdPblIzTIBmb2xjB3tERgZiYqapLg5KAHfUtDmNsbw9bHC2eLEhGXHIb83i7MLIraChHbAz0Z8Azw3XgKwKIQmcWpOGFsjsDoc/AMSoK+uRmqO8tU1+7uTWNyth6pWaeR372S/FhS39f7n+xASWMBTppZsKiL5qFbcnVe1a3fHAFAOIeinI2tzdE8WMemFK/3Xeufm4Jwvhmp6SHIri1GfrYvvOMTUNGah5i0KNRNDMgV6UuDrLnlWThhbIn0wo41ScG1ZMUTACqEP+qYAlDdLQKwBGRT89tw0twZh3SPshF2ygVATkGTG4XNjV0eYM5z98H9sHENxtmyPtZZJWUqbBDA1j0MJ4z00DrSwDpT1NBVsdHoLo00zrLEcTI+8/4U+mY6YG5vDgtHf0ZQEEsmjTlfq5FsxvGe6c9Q33cVWSU9OGFkB3tPOzayqbwcKZHOGKZpaTUGxISYuj7KliWS5dlk3Op6KnHCyADuAQnIrRhkDvOYoTW8gj1YfgpZnrPqmvuTEF6ogKeNLrxz8jB8dRyCy73onmhB72wvW95n9s44Jq4MYPSSaBu7MoSpW+OYujHGMtByz5u+2o2cREfoufigeXZ0Tb0bmOuGpaMljKzckHC2HkSu7dx/FFFpp1mCTO55Su0pgc7NMbYckbzPIZIluyQN+4/pIjazBvX910A6sRm6KPlORgBMfgKyTSS3/ceOI782lyXmkvc7V66fXJYV6efkzQnQklmsfuVo72QL/cK9cMzQkkWn1PZ+wIgTKrPkd0j+z0cAqNAZqvFRPAGwRQiA2S/YtCWavnQmtZzlBnIPcEP7aCME10ZAWELT2IXeN7LQL7KtRw/D1i2ETVtsGryJ9vH7bCAjKDoXR/X1UdyQxxLvrdgoGTHHOniHljScujHOEgDK81zyu1UdpThw/Bi8Q1NQ0jTFykudFEk7pm3/c/6CckSFxhXgyEkD5JRnqszP0lJ7U7cmlmQ6iZmbY5i8RStbyVZfJNv6viqcNDOCk88ZZJf2soENQyt3OHg5on+mY00csW4d3p/G9Hw9Qv3N4RqbjL4LQ5j8oB+9whb0zPRAcFPAlgkUXh1cxjWjhGtujDHZ0BJxoudPY/ZaH4pzfWHi5IrC4S7Mfzi9Zpl6ptph42oLQ0s3RKVXsQGaowaW8I/wZbq/bpnX0d2H7iN8Qwk57wjXLMtD94g9n5YR9wj0gJGVK8ORLXKuYa9uPef0lvpeMZnVOHzSBJHJ4awPst53bXiOw4W3BQyLT92cYHZGPDH7hs9YIlG7J9sYsWrhQKTgOJsuThE3ssqGJwBUCFTURQAQ8G8cuIFz1cNsVOuYoS127NyFw3pHYWBhCANLIxhYGqt5o3cYQd/CEPuPHcSOnbthZOWB6PQqFDUI0DR0C9SAaZ5XVHol9h4xgLG1Cc5XZaNluB7tY00a34iAKG7Mg6WTJfYc1mMjvbSaQvsEZQ+VvZHI2phUeR2NvFBIFEVU+ISl4d09B+Dk7QAK7aLvah9r1LA8G9E8WIus4jRG7pwwsUfy+WYU1guQWzkEz+BkvL1rL3xCPVHdUYqOsSZ0jDfLtNFUktaBIpyJcIF3XDQqehvZ9BI6vryN0++W1Rs71ozOpffQtU29BYg+4wLPmGhU9dWz+8XL0TbayICdjas19h7WQ3BsHjKKu1hnkUYndh44gOCYANR0lW+CjKmNNKKhrxrRaZHYffAAbN1DmXybhm5LD49bY5Relboo7Vk9U0RQXUNWaS+MrT1x4PgRJObEsrKTjDXd3umdVGf+Ed54Z88+uJ6KYyuSkN3snX6AQZ4AUKGn29xH8QTAFiEA5r5gpGXDwHVmw7xDUrHnkB527t8LXWM9GDLcIo5dRBhDhGfEf3PYRvwY95s7R3vumORedI7ep29O+OUQ3t2zH0bWnoxcJUxA4fSdwo9ZJEBGUSfrPB3WO4bkc/Gg9dk17285vMT53VQcN9TFCWMKUa9no+k0qi4LsSnNfmvyGJWxm/mLq8gs7oaprQ/2Hz2M2MwzoBDwzfAXIv/UiJahOmSXpjMcTYMYZ9IqkF83jvPVIwiJzce+o/qw97BDUcN5Vk5xLLHRb8IrbQNlSEz0hteZcJS2V63gGQ7bbIBrCNvQc1p7i5GY5APP02Eo6KhCx8TD2Iphm8Y82LnbYt/Rk6AEgBShmZLfBme/WOw6eIRFkFS2laBtlDAkp2Oa3dO7S5sK4OrnjH1H9XDqdDZKW6bRNn5P63A54RyKDsou64O9ZwT2HjmKoOhTLJqCiMzNkiH1qYrqz8PW1QYHjhsykoeSFVLEFeVJkLV98wSACrGMOggASqxH4eqUCJDm2ZMBDU8sZvN6DCzccNzIHscM7TS2nTB2YICfRn+j0iqRUzHIkv91CD5iDpRG3HLKBxBwJgdH9K3x5ru7WKdq7+FD2MO2g9hzWN2b6F27Dh7Am+/twkFdM/iGZyC7rB+1PTQiKNucYFkbkTquowiFtrF7oKVzks81w9U/DrsPncRb7+9iHUNNy3LPkUPYuX8fduzch5NmzohMLkNB/QQbMaEQT1pdwcknCjsP6OLtnbtB9b3v6GHsPUr7jbe9Rw6BIkp2HjwAepcs90i7Zu+Rg9h1cB97Dj1z5ZrDrDx7DhF5tQcHjpvCPyKTtafC+gk2ChSdUcUSbb696yDe2b1nSU81pbeHmMyoXt/dswfv7j0MS6dAJOY2obx1jo32aBNpRcl6KGlWceMkm6ZiYuuNHTsP4L19+8Tkpu52Ts8X1c9uVq+78P7+43DwikRCToMIVIzdlTmskI8AUKEzVOOjeAJgaxAA/XNfgDYC9oRd0gs7ERKbBxvXUJw0c9E4diGcJMIvXvAITGR2izp6RGRSglUi3dlKAI1C1hGkAY63dx3A+/v2YS/DLOK+gPvN7aXZOjrH2aiN9txzxO8R/X5//z68+d4e6Jk6sRF0Wmmpvv86qHOyFQgAwkc0t5vlWGgQskEjEzsfvLPnEN7bu1dMRty3S5OVpHy5ayX3G13Hnaf7CNPsZ5jmuJEdgmPOI6diABTyTUmts0p64R2aiv3HjNngBmEHwjQK4ZoD+9n7VvCIODbZ+DfhGnF8xOEq0X4F27y1czcOHDeBR1ASUvLakF87xgaREnIa4eh9BrsP6uHtXbtB/pLznSt4XF5ZctdzMuX23HFuv3Kc4bxDB5k89x0xhGdQMjJLelgODsorpG363Dcr0lvCObFZtSxZ9Hv7jojw4UMy5L6X9txv7tu5PXdccs+d5/bSztMxEU6kvs3bO/fikK4F/COyGMFKdoxyh8kjQ54AUCFQURcBMHCB5oR/xpwTdQiJjSKAS4kzwhIKERpfwNhKYizl3/JkvofeQ+RDVFoFGzGlkd+qzotsLhp1CMjIU3g9lZHmo9ASdm6n4tjyheYO/jCz94OpHW2+atz82HvofaJlE2OYjKg8VC6WJENaopFNGkldizxgrPnkp6DRk7zaMcb6E6ni6H0aFo4BMLP3hxmTpbplSvL0Z+8k4EYj/dRRzq0cRE23KHEShacX1E0gMaeBET8OnpFLZVR3XcujR34gnaBOtYtfLMITikAjPTTnk0grmp9Izj8mowq+4emw8wiHucMpDemsL6tL8yU507v9T2exNk5hXY0DBPbkM+xr6ZWqjpN+ksOmPBUESGmagndoGuzcw2DB5Oavgba+Wm72HhHwj8xmbYUiZ0gvKW+CrA6RJwBU6AzV+CieANgqBMCXrO0x7DJ0GzTSnl3ah/js+iXsUoSQODHsEpfPOrgUJs5tq/DMeufpXPzKfQ/dz84XLuGXSqTktbBRXprGRKH/NMjCMowLPmKdEZraRvl3KGqBIsNENs2P2Wnyu2yz5/Zk60S+aPkcXSN2XnS9yGevukbKdaJncTjmFKxdQuAemMgypWcVd6Oi4wIbHNDqPEYSeIolAhR+LJJt5RCTLUU22rqFwcKR/KyEbEh2S9uashW7hrt2ReZc3aw8h87Rs7i6IP9u7RLMZEt5jCg/FBFVRAJR9CWNSqcVtCE0Lh8uvjEMO3DP4MqkDXszO18QdiBsQ4MwRGSw6MwGAWjaBYWwkz+kqY4BZ84ygnwZQ3I6yvRQhNG5uhB9m0iOhNvpuCmT+cp+We6r9PhhmXP3k8wtnWk1s2jW70graGdypuhhqQkAJfRIVfhF1uewPADCjxhGpBXOKN8ZRVbYeUQs48NVOieuk5xN4GTMnVtLVpLHxf5frgvCiKS3zsFsUDAisRiZxV1MbykniLw2gScAVAhU1EMAXGLhHFyHkBoKNeqS5mnWqKkjRh0X0dbPltyhZXdk2bi5TkQorHd9TkX/8juoEdDIL3WmKTSGnCcx51Q+VsapT5kBLW+bZffQyDAxZzQtgMKraC6g+rcKRKdXsgiFhLMNLCKBykth1BSKJmuHQFYjoa7rKAqgc+Ij1smiUWoKVScmNzqjmpEwp1PLEZ5YwkAN/VaXXInwoXdS6GFaQQdjlUkHqe4J3FEoIrGPtIYyRagk5jQyB0/3qatMcj+XviG9CnFZtSxagdoLsfykEx0TH7EQUFpxg7Irpxa0s2+l6zX5DRRRQ6CT6pjACMmT5EphXdo0+s/pO5F+pAOkCxQ2SSN8REwSQaSs3EifieCURa/pXSQ3yt6cUdQFaitETFBUkjy5PngCQIXOUI2P4gmArUMAkK0Q4YLP2AhwTddllDRNimGXfuafc8oJY6zgDA7TnC3vY0QtgVzRNRzWof1qnMPds3q/+plEVhJZTba/of8aOiY+XNXxoBE/irakThONntLAAWEIzueeSeV8WsUSnqmQsHV0XrSJbCB3fmW/jIOW/CNdJ/LlxayTz/k2Os58ts0AMgAAIABJREFUVnYdUvJaca5yCBXtF5gcye9uFRyz7C9YJOt9JlvCrYQNiQwi2Ypk8rBsl2UlgW9Esi1flj33Pyc7bs+Ok5wlsMiybLPqkJrXygY0qPNPUQo0ikqJY2laKw0QEDZmODZzCccu64D6MBdXftn2IrxLJDxFDNK0vOKmSTZ41D7+IdNn8oc0XZMwJA3UkL9ckfmSzjIZScqK0+fyletXXSd2npMLJ2/uOq7ulvQ5NlOEwUiuIlx+c4molz10ndMpTexFNmEJ5zCb0CnChxlVKzKhb0xbauPcnvtuthfp9unUMoaJOb0U6e3DMhQdX9FvTg9W9LaW2QQahGV6O3xHoYggngBQIVBRJwHAOVLqbFOHgEaym4ZustwANNKlyEaNjzrzBOBlub+h/zpjRokhpfB0CpsTMecrCbaoo0LOiebU0aoA5GhpaR1yuvm148ypkmNV3zbOOiPUkaNOFDUQcuYkr63qNGluIjkj+g4ifijRIo0MU/gidXhoo6WW1CVTehe9s6R5io2U07xqAk7UASQQQp0sGg3mykhOkyujZupcBn2ib6ifYI6RdJJ0k3SUdIJ0ltoVdWbJIFI0QHHzFLueOraa+YZxVqfU6Sf5UV1TVlwCIvKyuppwiuwd818xHSBdoBGTys4FkX7Wi/RTGX0k3aYEmEQ4rv8cTm6kn9NsSgrZRbKR8sqNJwBU6AzV+CieANhaBMAydpl+wKYJkt0lX0F4Qhx30P+SG02BZL6nZYYNOKw+vxr3rD4nepbk88l3EX4hW0/RQZL4hfwZ+TVm08gXdF5kfo86T8wXMH9A/kaEM1b2nA/i/IXkebH/l3HQEh6qG2dJ0Ih4zizuYX6dnsv8LvmsxkkG8okMJtxFOaG2QvI/ST/EyZbqn3wcRTYSNixsmFgtW5Kx+LaMFzn8KCZLzj9z++Vrl+qDO872K3W0LNsmkWxpMItGUJlsCdPMfcmIABpwowhBym0lwrFc/XLP2uy9SBYF9eMoahSwKBuKzGwevsPwOWEz6sDSIA35RRrkoMgGalPLMmYyk5Qp911i37tKlmLXc/rMyVj8Ou5Y7diyPpMcCYORXFtHFlk71MYBjhX9/YrJkLMJFPUswuESerumTRDJkpZIp0FX6pMs40pOVpwMuT13nNsv1ZG43pa3z7NE4W1LOFYRm8ATACoEKuomADiFZJ0u1mn5nCW46pl+wAwXGS9ZN+pUVndfBq3N2kIKJNO9D9j7yKBQg6VycGUS39NxCuchgoAaTevYXZYgkNhVcr7q3+4w40KOkxwNvZfKs1Z5xcuujb9J1lQ/VGc0OkFkBn0TAQL6RtqI4SWjL9pUKeM77F30Tno3dayoLJLGRlRGEcAjcMWVkeaJq7++N/pe0Te0jC4yAEU6yYE/Ljkc6QaBQYoQoZFjAloto6L7NFL+EU7Odxk4JUKFi6zRRp0UL9Oyfgo+WqWfysiNQAzpdXXX5XX1h/SL2gKBStI7AjqU9E9SP8XLu9ZvngBQoTNU46N4AmDrEQBcm+PsrGjK4GrcQvZOfCNc0zxyh3V+yR6Q76G2vfoaDvOsPs5dI45rRMc+Z3Z+PfxCZRW3aZTDgHwH2RnaqEzcb27P+V3u/4323DNo3zR8m5HONBhDHQvqjJLtpGeQHyVfRD6JRqYlCQtOrltlT/VP30IrQxD2JEKGOtkkP/peTi50TCRD0TlOHtLOc9eJ9uJ1QzIUe84S/uSuE8n27pqypbKK41giCOherq6V8W+qvJd9z+gdRmBQgmtRPovVeHdZnxmGvM/0eUWWnNwXl+Qvkhknc/bNTOdXzovu5WRL94v0VbTnjq88h3vXsj5PfCi1nNqsx0Sm0IAR2SGGD1fpq7jerejysl4P30Ztz5WlQYqLrM2L9JCTFVcHK3vR+aVnsX7T/8/ee4BLVV77//97rQhKsSL2xCTXknhNcmOSGxPT701ijDEacxONXcReUREFBSyoiKIIiAUVewMB6Z3DoSPtiKhI7x3UJL/1fz5rvWvvPXNm5rSZOQec8zz72XNmdnnrWt/1Xetdr32O2jAPMqFEAOQRqBSLAKjrJEGwYQDR+Xj/GdB8V9fnpt/PMxE8xkLCRBbnQGgzSQANTDoMA8qRXr6d639bYkE9aMcJ87eqIkKRcgAiAEyFbGPenXucpJaxkGWp7bMZi7nqEY3Z0M61fU9d7stVvoY6ZvPZbpAwHomBB8+Bb1VtWtd2KxEAeVSGBXxUiQDYeQmAmsgv5jNGF55C5IHu5lHENcFJmUYyQ+RP8pz8nEk2pf9OfZLX+e+QFERQ4ZCByMe4gKzw37mvrrKtJu1eyGupx4jpYLNFGuWGgU5dM7Ut9fc2SP6e/Oy/+9na10gec1Sl9pv/rjggYIGcbVthS1i0D4qEX62MNcfK1cI2AZNneoe3oZ/Tr/Hv08/epn6u/Lv3xza1BbQtq8SSxZNxNRnvKTIhRFck26ly3a0fmeNsNUr0wKCQdJT70q/P9r+/I/7dsDjlqUn5068tEQB5BCo7CwHAIGDgKMM+ZYUK3/SBsbP/T/0w/EfPWFcrb2BDrz/1s6UByxQ8GImzs5McDVPoN/SxsKuVD4Mfw59lEES5QFYWo44lAiCPyrCAjyoRAMWTkxhnHbv2kV59npLVq1fLhg0bMh7r16+XAQMGyFFHHSVHHvM1eeTpgXkh3TEW8GoStVVXsFsMGVK7d1j0GZGS6HTqXLvnFG9c1LZ81A2sAuHhS7VqE61V2/eX7mv4Y2RX7CMl+cqWRpiGSMWGIM9KBEAegcrORAAwyWCVCDPZFRUOYJ7kbigbD/Pe1QSLkgCz1gdwtOuChl2t30r1yQ1CkEeEMZIDgfmLZ6MYbVYiAPKoDAv4qBIBkHv+5HOu1DcBQF1Gz1qnYdr5rFdDexa6fCR5CeZAdtbNq9fQ6pZeHurqfdoQjKD08pX+L558+bK0tWOa4VNWyOiw60hDqHuJAMgjUCkRAA1HcADmMR6UAChi2GCxJzVrxVlTt6uSHMVuz9L76n8OM3cVEE9fU9TopBIBkEdlWMBHlQiA4s3RhkEA7Pp6PJUAKF7/1pe+U2w2e0NRiN36qmPpvbv+OK5JHxO+Tx4ttnQGa9Tk3kJdWyIA8ghUGjIBgIKZtGCHrh0nHAWmGSFMNl7CzvifNXZ423Y+VtbXnm/T9WRMMOpDHgCOce9v1MR1gJmofhU7n3CyPrSM9SQjoV4kP6OOEAF8R/4D2Madrw93vv4olFD+Mj53UoWtj2VZEnOX8TyMLRpDohtkFnkvLFqpMB6yEgGQR2VYxaP++c9/yrp162TTpk3yxRdfVHF16s8lAqB4srLYBIDpONPj5AKJddxq0+Oq41gfv3PruLIg7yaQfDnIOxKajpq+ZpeqJ7pM+5S8RSSrBptFuMX6VLFnyAPAtWW7sMPmy6jbv4x1LvsAm2R7JXuLCACWJjMPFNPUM14vEQCp2KJO/zVEAoD1VYBqjH0GHmFmsFCjZ3KwRt7OfGeHrbfTLf4aeOZ8lAWJXlAo1CWug9ctrl/8e6gf26s18Pq58ozryJ6ucT21/7Qfk33I717HnSeT/JdRSXzZ6wwj7ll1bX762GX8hrmrY9m+t7G/NiIFJmIE5BEslgiAOqm/Gt28ZcsWefnll+Wxxx6TESNGyKJFi2Tbtm3VekaJANi1CADV4/Ncj5uOIxGe6THX4a7jYllAGDm6X/V4HuVAIeSyG8GAfrBYLO/WhBwHLu+8nmuE3QciXf7+xp1qJyMIGsgjnEtWV6tL1KcBt7hM9zO5HnQHHJxRu3AuhEKMsdIziycXM7W12SPsJIVzdZ3OaxvXazTsP5oHmtPE5JjP8VH1tCtCiQCoFuSo3kUNiQDA041ydME6ZvZ6ZZ0mqhecbbLYJgRv/zYpI9vqfDJ1ss0frHsstBHIMLcM7kyDvj6+oywoUl1HplvTrZXx77P91yax+iXqpvXbKmXUb95mvcbqB9BA2a5TgqQh1Y82jeo4M5RTwQ7bILEVEJEMW9P6EO9oeh0RMijedWpoNbQ61sfYKb2zfpUk7Y9sgmAkuRfyacxsxidAfnPGcR3Jp3lsG0Z0QAygAYvkMsnH2C4RANXTc/m4avPmzfLkk0/K5ZdfLldeeaW0b99e+vTpIyNHjpRPP/1UyQCiBDL9lQiA4s3hQkYAlC3YoXoJHaxyQHUcenyz6XEwyoKAUSosY7bpOHAKnmTHKUYKUtZ8yIF86oiyis9k4rxtaggb3kiXdxi6lfFKXE+iNTfIGMcB4JU5mxuscTxxQRrupE/nGDabBG5J6dOAYcAtjj3nbDTjCdwSjCKemc8+KT2rePLjy9DWyBwju8zJiqEPRhk/F9IuA6YJNonaXGx9CqZRWWZyELsG+6YYBFiJAMiEMGr5XUMgABiMKAhnnpQhn49iRIhixFfjqGDbma06MJXJmr4mZKetf0GMNxwGfeQMMuauV6PB6kYSvGrUjWu0foQZbtaJCgtHqDHPbggCC4MGIcAWSNSVcsZ1rF49CT/Cw+p1dLKjodSxIbRzqQzFBQLIJthxjUKaScKrjTrn4rFdvflrY3urkgE6T2asUUKhrgqzRADUUvHV4jYIgN69e8tll10ml156qR58vvbaa6Vjx47y7LPPSllZmSxbtkw+++yzlDeUCIDizdtCEACKUeZuUWIavaQeX3Qchl5F9fSb6fokTrG9uS2Lfv3jFHQL0ZdjZ2/Ubf0wCiA5wVWTFYtVv57IO9oGghTDAmzX0BwzLttj3Akx67iz+nUllxH6gHsheJwkJmSad5R0dvHmfqmtq25rdWbM3hDP8bmbwhxnzFd/3FfG65Ca6zTqp5D9UCIAUqBF3f6pbwKAQYQCRKkiPGGYTKFWfyBGRvRChC3r7Fi7tcnCuGaurTcjWUGDEhtrZAzliIzi6hkNUb0qkQRmJLshgfehkBMu57NhEhUYWRjgxHmbAlioSx1NEE2cT+jhOg0rhF3MZ+h0zjo18NDMUtmrVnL5aCOMc1uGFGQTQLgGCjLT/C1HPi3Yqh4mJbjquGNAiQCom/6ryd0QAHj8iQBwAsDPl1xyiX5/zTXXSOfOneXFF1+UyZMny6pVq+Tzzz+XEgFQnDnLvM83AQBGIfpHyW0I/PlbghyoBUZBl6fhFN8ykHLnQ27V9hlK4gevPYZ/TUnOzPIO5wXG8WaNmsJxQVvWt2Fssn2DYgvFnXmQ7aYbIHi2qHeUuqI/cGrUtk9K9xVPbnwZ2pp8WxB7LKfG25+POc68VwJsXozXcZoUao6XCICaoJYqrq1PAgAhjBELEMZgryu4NsXqhqcJYjzuKNj68CJjtEbExoI6ggYlAcwwLl9oZ5h52HXWHmKEF1+AYfxbHSkHhk1KHyrQ8f6ozdnInLHvU8fVGmJUKKFS/LYrKbaG3OaMM8AbyhLirqYesExgmLkBAWBzxLxjyAcDiXxf8zGRLwJg48aNwuF7pmPsDho0SB5++GE1YqtQIzvdz//v//0/4ajqj2tI+IdHnwSA2QgAJwL83Lp1a7npppvkgQcekNdff13efPNNXTIwffp0TSLo7Zw80+Zjx46VE088UQ46pJV0fuSFooRUVnfc9e4/Um5r11GWLFmSMlaSdeDz+PHj5ZRTTpFmLQ6QDl2fVq9ydd+Rj+vySQC4ocg8xSg2OVAbXRbucZ3o5w+2C2Hm5iVfo+RFPtqgps8gJ4EvacBYd3lHYjDFVVF5a1N3k3llFUZ8gleI8qwvXW6402T7hHkYKtukvJKTpab1dLnudSWfwCbFf0Rq8s6a9knp+prrw1KbZW8zjH/k2NjZ61TmxFidsVnT8Z5+fRj3ODfeJ7qAZJk4A7kue5lq81uJAKgKtdTg9/oiABD+CEZYUgXYdfSsZR7A5m3z5BYw3LUZcLW5h8lmbPf6zCwbCrVWStUmmk3e7aqoITlQqijx2pS1tvc4aFDjvyLN+HfgUCvBkhRICRIAoqjIdaxt25Tuy6/QL2Z7qvEfopIUDCdkkwJiH9M1nr/bI++fz1+eryTA7A2agbem9cxEAKxcuVKN1bVr1+o53UBL/r9+/XpZsWKFrmFfvHixrF69WkmAbATAv/71L30mRuDSpUt13XsuQ/of//iHXjd//nxZsGCBGr+51BPGdkVFhXrPMZYpX67n79ixQ2bPnq1J+TA8qXOu67dv367PHjhwoN5DfXNdDykyevRo6d+/v7z22mvSpUuXjBEAbvgnz0QFcEAGtGnTRvMGsExgypQp2ibULdkXJQIgPzIjXwSAywEj2M1QzIwz0sFwNf8P8sOjgsgros6KIus49/yDkyDxjaS0OkTyrrZ4JbovGAgVJFG1aIr6CJH3PkXmpuPOqK5qsFSzD10X6Nmxmd/LLjHuINlQdCKsprqkdH1+5E9DbEfmOLLF53hs/PtYrcvZx304V5BU0JYRaeRunkmAEgGQC0HV8Lf6IgDGvr9JWaK8eP5dCFcC5DYgYdhjkM1AL+xEV3Jj5jqNbtD1cwkDwgAE76/LhAv3qnK1NYVav1mQDYWvH+2XZNEJeUsRKJHSz1Md8ZJUWI4BvKWsUyx0H5aeX9g50pDbl2gatqmcMHdj6rj2OVtJztRgnKfca/LJADEheTWP4kknAJ544gl544035JFHHpEePXromvQ1a9akGJpJoxPjH+80nur7779fjWMM02wEAFnvMYQ7deokDz30kBrfGPnZ/tgyj8z5JMzjnjlz5uQ0uLmedfY33nijrqvHuM+WWI93YvD36tVLrrrqKmnXrp3MnTtXICmy/eHFp20I47/99turLM/y5cule/fuev3NN98sbdu2rTYBkCQD/PMVV1yh7+3bt6/MnDkzhaApEQD5kTl5IQA898d05iXRiTgPmK+JuZ4ylxPfJ6/J9DnjfabHLTx3XdE8xuhSX4KZbhBHdV3INnc1qF/yWurqh35vhL46LTDCi+iUQed4VCbhzynRHHWpY7K+fI76NyHfiSCpz6WaBca8DVmff9nLZlFM5OFYk+b5T53TtZ7j6eM/bCcYEZp5nuMlAiAbuqnF9/VBADAg2QueUBHW10WKJsNAqvtvCSE8fXVRlgIQFm8h676sobB1JHwNhcY7i+Uhx1ghqSHGS9JjUPf+ShVKyedBFvlyh2IRHV925fFlq7+Sd7r96GohZDU5/gryGeBZ4ex8zcmtdAIAo//RRx/VRHUYxYMHD468+knD3z9j4GJAYxBzDB8+XL3u2QgAvu/Zs6eugb/uuutk0qRJGiKfTfXwHp6PAXz11VfL1KlTcxroeNy7desmF198sZIAXF8VAUCd8bQTcg9hUBUBAHFx0UUXCQY91+eKACChn5eH+t5yyy3q0XeDvjpnjwSgfe+++255/vnnlWih7b0fOJcIgIZDAGCYomvIdG3rZLPrpXzJBfSo6ziSIhdD9kKWEKkIFsMgrnsofPXaiTwK4JVi5gNQp8XMdTJm1triyPZABjB+lNgpLQUoypguxrzZed5h2f5HaEj+hsokZkFsrh1SvpDtzm2O5zsfQIkAyIa2avF9fRAArA0ZMX1VYKOqpzDqomRZMw+Ytyz8hV17hgGBl1rZNveMR4xwgeqKEbHAlhzA5hfaOFZGkRDpmWs04Y16Rgpdxw92aKZSj+SgDDuPEM4PsC3Vt7DtyLwB+COb8rLet9rKdbsmBbTlUDVbxpNOALg8v+GGG9RbPWzYsJwEABEA/fr1U8MWg3jMmDE5CYCtW7dqgju853j0CdPPFQGwZcsWefvtt+W+++5TQ5qlALkMbiIMCM+nHs8995wsWrQop0FPeSjzCy+8oJEMGOy5ns8SADL1DxgwQJcAkKQv1/WUhwR+48aN04NoALz4VRn+bvSzXeAdd9yh9ad9WePPsoP08P8SAZC/uV23CADbntOT/lnCvwLp7RT5YMuDwCnFMhaRd9QTnRp5/4ugx8FyahRr/ifyMxV+aSZ1JbJLnSQhsgsjpS64svr3mnynnRmbJT2ev7leasvcbQlOhsRk3BMJDVYv1rhnFxBkGVtj5jMRZokAqIWhn+0WB4y5wkSTXopMnwFheF8aNWokP/v1mTJw/KKsQg5B7MlmPNFM9QVpbQU2xiL72tqelYU0Hq1+63TgF5NRJ5LCtrMpfPggCttCFdcUzTvioIE1TGwnlE+BUlIiuZXIl6V9FCTO2yrDp6yUSfM3Fy2yBaXM1pco6ZqGiaYTAOxTP2PGDJk4caJ6mT/66KOUMPN0+U1IPEY2Ri7h+RjQboxmSgKIdx1PNfqCe9O3u0vXM1yPfuCZePdZ45/rD2McIx3igPtykQs8h+vJsk8uAMqSy/vv1xNRwHM55zL+08tJeSBLchEARC5wQMBAFgwdOlST5hHJ0KFDB+2bZLLFZH+UIgDyI4fqQgCwfzv4ANBamPWyWTCMGqOe78Z2RSp04mLqac6K1WHtf5aypRAV+bkGAoCoA11qVQSjmLriieR97FRULCPIsK0lBCSiJN/e0C+Lbi7Vs3ayEZwMXh41Y3VRI3wMr7OlaMjzlsftyksEQDoyqcP/9UEAEP6vHrb0NXV1UjQW6p+ZTLDs2+PnGBNWSMZZwcMMkm2sDRMu3+H/mZ5nBAdJPoxt4//aCYzq3Ef78S62ErEw6UxlqgtQyPw89xqUCIDC9W11+n9XvSYiAKauVJBYac1vneSTz4dMYztBANRw+5x0AoBwe5IA4mH2I2lkVvczxmgmAqAOqmanvxUCgPD9dAIAb/9ll10m1157rSYJfOutt5RQoa0hPCAZIFc6duyoERMlAqCw8qvuBICF/3tYfGZM4fO5pmffCSTTfcgGXwZQ+F1vYgJgjZR5tGJeZFyybpnkHb9vjwgAlhMiewupV4wA2BwTAIo9s5UtWf6afM72vCDfdQtE9lznusLOgdLzS+3LGJikzjojAMDPxcQ0vMsIgLW6NDlfc7xEAOQRShWbAED4Dc+VYKsOCij7WnRTuiT1Mga4ZmG2NRGm1M8YtzVSFu0XXBMlUtW1mZRMWOIwfbXurFBoBaMRAL7MYf6WxNZmVZW9ur9Tx8r1ZJkDYXTsHlFIEqcm/V26dtdRtMwbcmggIyALMyb+qoN8cm9QqkFhY92y5tYc9GciAAhrr66hn+26EgFQWclCALz44oua0Z8lAOQRYF0/CQ6feeYZze5PeH+mKAciLEoEQHFkRV0JAHTLSHVSFGLNbG4CAAxDOD7RQIX0FgPGkXcsGeRd6hXPoHNTZVV19Xfyuky63BMBritaTh/qSnSVOZ8KJduT9fbPLt9pZyIANpcIgBL5UTQCiAgAonxGRkuuK+Pq/MxxH+9+tjk+etZajUwGV5UIgMqYot6/qQ8CwBJSrI+zsBZ8LRZKl5Az20++kMYjimbsbCMaNNOsM80FraN5DTBcyK9AGQppmNJ+rB10Q8mIlwyCpa519vv1HNeRdxe6joVsv9Kzi2MI1LSdUVAoKtbiW8hc2taWPh7rTAKgJJFJO5Q8s3W/a2TkDJjymnnDSgRA8VSoEwDXXHONLnlDd5I0kWUW/JYrWWHDJgA+r5a+6N1/pNzWrqMuacgWxQChxHaMp5xyijRrcYB06Pp00XdtyQsBgAE+2zFKBt2WFxngYNnPvGd7vE3e3M15A82ZZCE6VPMxKW5YHxOeyDk/8lxPC73fruuRMUpGz1pXFDKfuqpsn75Gly8WJnLR+zGcA27xvA4s0RxfQ/meqd9K3zVM/NAQ+8Xn+PCp2AYbUp11BZrjtguGEZnYCPl22JUiAPKIeeqDANDw8RlrirYmRTPbhkysCOFCEwCaIR9vPCHyHlrnk02VQpqiqKmSjZ5BQo/tun4Pg0Uz5BdBwSBUrI4YSml1pC5R+epQT32GASL6T73/M9doHYsRMtgQhXmpTIVV/BAASm7N3ijDpqzQnTUicovx6EdN52vy+mhumCeQ57McasS0lTJm1oYay6YSAZBHZVjFo8gzMHr0aHnnnXeEZIYYu+QSqE4egYZKAJiHiP3ft0v5h1/kJAK+TASALqdT3ba1iLlAdigmGjvbPOOF1nNOeIKJzEPoeU8sIWG+5Z2Rntu1juRXGD5tpYx7f2ONZV5t9KDLdrYfNMeFbwOYIHci2Zwv3BITOrxT5XsePaG1aYfSPYXFEA2tfZNYnUifyB7BMel4pq7j3p8TnJ2KmSqIPFinc41IJsqRr7YpEQBVAJWa/FwfBMBYdgHQdbZsdZMQwEmgHH02IWrXZftclcCGcd6qoW5jZ23I62BMH9SuaMbOtgQ3KHOM10r1rPWki9vAJxrvgOHDM44BQxnSy5XP/+M6WhSA1lG3TAt9maxb8nPUp1X1F797PR0UrdelI7RrMeqYz/YqPWvnUbqRwpwB2bRKJs5PyKjkWE5+rtG4trGPJ4z5S2ZeFDNEWm0Af4kAqIm2q9u1GPokGuSojtGffFtDJAAYO6Omr5LuvfrLo71ektfem66ktSZYXUhUQGpkwJeFAEAGaOZsXaroW/nm0lmuq6o653qG6TzkgS5zm1l4z7jrcY8CSHFYINOSMm4hMryq8uf63ZwVJEY2whODeL2tDc6jcZBN11JXl+20LzKXLRejRNQpdc1Vjyp+C8/xSAeWVvAuosqQ7/k0hLLVtfT9zoM3Ct1XPsc9Kpnk3ZE9sjDgdZ/XyTng31XrHD9Hx30iwSdznGSmlCNfdS0RAElkUcfPxSYAGAi2zhYPOfuxkpgim1CtSqEmf8/2DLacYa0bzC/JBwsbVscgR8iz5Qy5AIz5TZIA8WRJUbBZ2yC9XnY/E42J7Ew6YTa0azEUjCtTrWNg+dhhwQRLenlr83/wjoY90nn28KkrtT0tRJo2KAn5UhvkfwyofJrPciG2KiWqZpUCRWRICinFfK2xwrRnODicADjUyJ3V+r7aRCaVCIA6KsAi3d5QCYDhU5ZKuzs7ay6D629sK3ff+4j07T9E3h3WzZfkAAAgAElEQVS3UL2zjC8OZM2XhQBQGRC2jIsBcy49Zvoqlg9JWRF/1kjEXHo+As6rlcwvhi5XrDIPHLFBdSxb+8akJ2VP1LvG8o57423Hkpn/zSAu7np4+hUZa4QHst1IgJTkaLWqo9XT+z+S73Nt1wHe45EOlKGkt/Ovt0ttmrlNGW9uj2CME2mITPMtAX3Mpszz5Jyv8nPANGGeYwOMfX+9yRKWNBaA9CoRAHkELcUmAJioDEg8ub4uJTcJkFBAVQ7GTNeGteNTV8nomcVJHlf2wWcyMSSdgQQg1A3FCuCPGGfqUmNlE8BExTZNFASTPUwNY4x/Y5eLpWBcsMBqs44PoiOqo4cXaX+FUKMa9R313KZABGHlxr8z6MWq486iVGiPZFQE8yv9f77bWepT3+VUhTlvqwJFltUwtlFqkzySR+dtzcc1Hn8OlKRvgQXJUJfInRIBkEdlWMBHNVQCYNiUpXL7nZ2FnQw4SG54RZur5Oa2d8gD3ftKv9dHy9CyJTJx3hbp9SXIAaDRDxFGIcJttToPCotRzIDEI8372MkHMr9Yes7k3RZNCIisM4OVSMkQuVhLeYdRoVGK6PJ5m81ZMXWVJgXTsOAiRCum6xLVlfMwUjZqPdVBMxvZbnukg8nKUvBLJkyZ6TsngdhGcqtmP/e2NPlevP5Mr/PO8D/9wjh0nKL/zyeRHG39mZ6Zm/7/zlCnhlJG2gw8CH7GEUoSduY4kThRLgwf9zXC6Sa3dI4HmwS8zrhnCRXOVnYhyHeflQiAPAKV+iAAdEDO26oeXQYjYFiFbo0HXyZBnPwu3l4LIM8EyPdgzDbJUyYdzNv01Trx8NijDJ11zu4VwGBL1oVIhliRMskUnOD5LwDLlq1eye+pIwJbBcssljysjiIe2Nc8qqOGO6fWJb1u/n9Ux9lGKqiCnrU+Cp8rVv8l69nQP1tyI7wZW2RyxQ4FN57rgv6B+SXbc6ntMrPk6f3r41qV5pxNqsyQUxBuyCoAno7trAReIOp0/roHzAx/dhcgXwekFn2EN2piHcB+dQiAXAnbkrsAbNq0Scj+z7Fly5bSNoB51LMNlgAoXyq3t+8UGf8QAH5cdtnlcvU110u7Dl3k0d4vSeeH+spt7e7SJICMleTYSX7emZMAJg0Q5CpOA+Y+BKDrM9dVOc9ZZUMmPejbxFkeHwXORSRsXd5RXzWMZ6xR5wxeenYnUXlXyShOlXHmSUytWyZdjkOkUIZBuhzP9j99TFgyshcZ7AYRyz4mzgcjWlQqnvzs+Mzq6r9rXedvUf1AVJfpi7rL92x12NW+R9diNDL+iLZjLKp+DNvisoMDxiWOrl2t7sWoD3OcNqb9xsyG/DLHBm0KEWCYxm0OPyfnc3K+7xCPcmHc49jErhmpNokt7VFnXQGMf9qqRADkEZjUBwFAJ7rhaAJ4pRDmzSCMQ1IyDcIwILMqVxukOjgrPJsubFfYfmU+gr16RkA+rosVK4oBQ4JogFUK/lGusHHj524ypbNgWyI6ACZ0q4YeY3CgmLgWA4T7MYpRpG480JZEHeSjzDV9RlxHAw/enxg41JF9QAERCJkk8UEkhNZx3mb9XesYthY0ciN4Ct7fFBEcvKum5fsyXI9g17VWwZBEWRJhw7jgIOdGIbeU2lXb2JUm7WnbZaE0V4b5B1ixuckcxUNqwNGSXPE5Ob5VQUICTl2lZCAhtwBh+q4u4zobAbBy5UoZNWqUvPbaazJw4EBZtGiRrF+/PqvRtmLFChk3bpy8++67mtl+8eLFOQmAbdu2yezZs2Xs2LFSXl4uGIS51sVv375dE+dNmTJF5s6dqyRDLjXG9ZR5zpw5snDhQuH/XH+sy1+yZIl8+OGHsmzZMl2nn+v6zz//XNiyb/ny5bJmzRpN5pfrepL9udELOfKvf/0r1+X6O2Wi3Jxpq6q2AYSoIcngiSeeKAcdcph0fuQFnb/Z5hdA2Y7qyUXGmR5KTH2mof3DypfKbe3vyUgAGBFwiVxy6SVyeevWcunlreX662/QMTVjxgxhzCQNf/+8KxAAtDmyU5e5Bb0NWMZArBZGSSPvU8mCGEwjJ3wLUHCKeovrQAhmGytVfc+4oL6Qkcgl9AleQuQdZ6L8kHMQ+8i1SNZBDKis2yLj523Sa7guiVfcGGYdsjor6ijzqqpLdX6nvshe15VgFZXNwXuJbCdsf/ycgM98D/Ug18Ey9BvXgHEwXmPcAu7Jj3yvTl12hWvw7tPm9AcyTTHN7I2R0w7DlbkBMbAr1Lc+6uBznDYED7JsGKcdWB0HJVv2KaaZbWM/M6YhMneL4nnmOPMmHvdGePF8ZAnvK0Q9SwRATuhRsx/riwBgYDBIYIo8TJ7BZGEp20LoWJIESH4ORABKNpABHl6LcmZ9C4CbganGP162elQ6qlhDCA7GGMrUGbj3ypfJe5OXyrApy824mG4G/tDy5TJ40qfy7vhPZNCExTJ40pJwnSlkDG2MCEgAlCqMNnUk5AZh6hOQSeiHTcbKyZ3qOkldsJhChezYqGQHQmXYlJVadurwXtkSGT51ha6rpm/ItD6kbIm8O+ETPayOy/R7QAcgRJXw3M0KTDQELAgWFS6RgElNVlXX+uxs95dV2Fzyfi5bYGAu+j+MgZ2tXnUrb+VxntoeRo7oXJmPUosPFBjbNTG3DAgDDlfqHGUMD5r4qbw7YbG8O3GxDBz/sc5RlJLJGwuvU/A8fZURfpB2muhvrRIJgEpVknmQSZkIAAzbTz75RB5++GFp3bq13HzzzTJ16lRZt25dRoMNw5Ot7Lp27ap73Ldr106vHzRokD5j1apVlZQKBEOPHj2ELfEwbLk/FwGAof3YY4/p9nmUC0M91/UY8T179pTbb79dy8D/ua7n+Vx/5513ylNPPSVLly7NeT1kAdd17txZz7RZrj/e37dvX7n//vvllVdeUdIgW3n4/tNPP5Xnn39eunfvrgYz5Mrdd98t06dPl/SIDP5fsGCBPPPMM3LPPffIqaeeKocfeYx07paFAKj4TAZP+Egef/p1eajHc/L0y0NlzKy1Mjms1c80b94rWyy9+g2QHk+9Ki+8NV4NNcZO1QRAHBFw6aW2RODKK68Uxgj9OXToUPnggw+EMeL12lUIANoRuaAkwCwiAVbrPMbAtXw3LANK4pLYsE81+GOcwvdRWPz8zQq6lSzHSVHPOIX6shuE1nkeIN+IZIxb5Bm6HKwytNx0tAN/EjpHeGVCAq+UgWtWqFwEr2BwgH8w8pB/YJYUvJLQ7arfC+zU4B3gJJX3gTSnnI5NkPMc75UtNaeNEiLpuMWwGfJ/aHmo68x1SgBgZLmcNzxmRlEx6pZJBjTk77wvJiXwajqG9f8bcj0KV7bq4hnsH7MDYkyzNTHGN6q9pRHJYd6CwQdNXKyYBpw+cPwnimkY98xt5r4f3Mf8cLIMO4Z5bTh9S0FC/tPbtEQA5EIqNfytPgkAOlYFsK5N2SAjphvQHqVJUzZUSlThRr6dTZH6d7DQZFwFCKliYs2/ho7X3cuWPgBr878LOFeuysDNXCdDJi2Rd8Z8KAPHfaRKlEnHd0zId8YukrfHLNTJiCJlEqKgqjxmrtNJDglCG2DEcMBKw8LDpOqEnbNZJqgyThAItWDutA8xmOaYwUT5KCvA5r3Jy2TguI/l7dELZcDYjzR8hwmsCnPyclWwA8Z9pPXV9Y96r233N2r6GuFAyGidZ64N9UqrE/WZ48DC6vLlVhb1Ew1Sm3lRm3t8LmG8q5KbR7TMFgWWjAOANGOc8Y7nnjkAyRiPSwNxgFYALQrQjqUCIcf3zLfkwXf2ffgN5Tl5uc5bxveQSUtlWPkKnbsK6GesUa8Q76Uc8fh00JufqJ1sBMDHH3+sBj3rum+44YYqCQC87ffee6+Gf7dt21bw1BMNgLGeiQDA4IYwuPjii4XruT+bQYxKwuDu0qWLXt+hQwc1eHNdD4GBcc7zMTaJSKjqep574YUX6ntyERI8B6OV6y+66CIlMDDwc/0RhQAZ8fe//10eeOABjTLIVh6iA4hyaN++vT6fdh0xYkROAoD2hqihvr/+9a/kmK9+PSsBwPh/dfBUufGW2+Wyyy6Tjl26Ccn8chEArw2ZJiT5u/zy1tK56+MyYtoKiwCYvERuu+PuHBEASQIg/uz5Aq6++mq566675LnnnpMJEyYo8bIrEQAuazDkMF7NUwwoXiXsfoMnmHw1ZtQbAeCYJB2naOQAIbNzN2k4M3ICIK3edUjuPBCCtZGnme7RemvI8FaVq8hRCBAIz3fGfqiEPfIQrAJxD4kPjuHAiEjBKzOrwCxBryMrVVY7ZlG8AmYh0grMYjoepxEe4cjpUQvMQv1ob57Fs3mv7w6AkwJ9AC4xbPax4hjFZhj6k5fL4ImfKp6BCAZvcq8daxWzRLglG3bxuiXqZXUyBw4kfqZ+KX23a2Ebd96AVxXLhDmXimcMszMHFdOk4Jk1MmLqKhk+xUg48Lbha8M0TtgNnZKGacpXyLCAaaLfAqZh3CumgcBjjgciD9kHhmKemvORCA0n82KnY6HHKOU5+7wrpMm++8n555+vZLtHn1V1JgpyyJAh0q1bN40AzKXza/Pb/1ebm+rznvomABgsOvg19Cz2uHmoLetlUbQWQr5JSQE8/ITOs20NDBUCmwOlYx7mNTZACbFNhKMg9CdX1I8AMYUTQm/YHSCwaoAAPP0YvyghPqNUMXqpD/+jaLnOFM1aNeJjZeGeTM7uxdyqCpLJCYuP8REZRK5cw9mNI1W+GElBGauxlFRqrqQhFWauC6E/xgYq4RISi8SG/1L1+FP2oZOXRXVkGYQbXCpIZrMmeo0+0yIZUqMYGBuZ6qV1mr1RDTwnOLwOnHmPkgaBMNF3qQfCyQJAhEVNIHjVE1xkD0ShBWW9PL/CEvbg6WLM25Eco8ZQTwxj1bwv5m2K+nQWRnsw2MOWTT7GOBNSytxAcTG2GE/ME5s7Nn/0/+DBgUzjfwAc12Ooq5HOmE2McRuPzmYnFFs6ow7hkEgSOHoGRv5GGTlttQya8IkqZDf4DaxuNTkUAL7KoTx5tzIRABjshGf7EgD2rccgzrUEAAMYj3+/fv3UY42HPlcEAIp28ODB6hV/9dVXVZlmM4jRb2vXrtXn4jV+6aWXqvTQE2GAB/2+++6T3r17KwmR6/mU/4knnlCju0+fPjmfz3Noj0ceeURuueUW9dLzvlx/ECp4/6+//nqNNOD6bOWBAKioqIiup870Ra4IgGnTpmn0Qps2beQXv/iFHH3MsdkJgA92CAZ929vvkjZtrpJODzwmw6csy0EAfK6EwQ033aoEQJcHn5CREQHwaa0IAJYHQAJAQNAmkCLvvfeeEj27EgGADGW+ood0zhMerzorDvlG57E8YNz75OOxpW5glEnzN2ukBQ4NwymGVZBdeNPR8Qqk3VPcUPRPIrcPBgcyUvP7TF+t3n+MCvQr9R48cbEax9QFXY9hTP1UTmvCvxAOr1GKZiSYTs+k12MS1/GKGzzo+CQ54Lpe9TzYZEZS3wdjPA2zGAFsIcsQL+bFBMMYjiEKEx1B/TB8jBxeGjkghoDNypZEzhTFF+Q0UPLGIzCTuq4yHhsHHoOghpxOYDHHYVafWPfxjgi7aGh2wtER8EuMXUoRBnnFPBF+cRzDzlvJ/rXPSSyjhnsCc6sDIuBqJ5giL7pjGY0uXKHzxx2ASTzjWIa5xaERwRMXq51gBj7GvdkH5ixzhxmGOo4/lrKAZxKkWRqmQbZxMO/UEYc8Y+5PW2WEXvnyVAJuboxpJi2w9slr2+fARyUCIBdSqeFvDYEAcCWLIcYg1DVoKNlgaJJF3wx888IhiGGcB4xdpAzt22M+lAHjFulAhQEzBWR7r7pB60JUhW7wDCKE9cBbmPAiG6sVG4guYFFcDt4B3n6Y5yURhk4o5sLP9VomHc/m/c4Q8059x3ybdPa+rWp8vzv+YzUiuJ57Vbm4wZEAHzrRZxJSTB4B206nPG3f5qompBlnSXATe/A1RCgYWihGlDvtql4LF1yEBJYt0/JSbvoFA0uv9TDBsOZZDS5dZ7dSuJYD4YIytCiE5LqhsPVUhr2os9XJQRp9ZEyqt20qqEAgK5gIYwsQQ1sCctQYjEADifNC1ISuBSRaYktMKAWGnjGQy/OWrbwN8vvkmE4AXwVsGiJPm1p7phNLPpcAtN6+BrhIiET4fKzgIuVWxrIWGy+MGQ7+V+AV5jgeJ6JjOGNcqyE/GZC2TMca16phX77MjHqiZOjDoPjcEKfvkC1O9qDIdS5DCuZQNrl+S4455iDlHzhukZbL56SDXX1XLd+TqwzZCAAMdEL+Mbw5chn/XMvvrIUnFJ6DcO5cBABG7o4dO2Tr1q26zr06a+LJG8A6eu755z//mVNT8TvJCCkXZanqetboUw/qwJn/c/2RA4B2qW4OAOrKsgIiHbiH+7P9QQyQJ4CoAZL/QTYQ+p+NAKC8LBmYNGmSPPvss/Ld735XWh56RM4cABj8L7w1Tp5+aai8OmiKGpq5xsnQyZ/KU/2HSM9n3pL+70yMlgAMLVsst9YwAoAoBZYBsPQDzz/lJmKDtqe/djUCgHb1uW4YJeiUyHO8Vgl9dBxyzo1HZJV6zPGMjzbvOLJMw8onL5PhaigHnBIMvRScMivgE8cpnB2neMRbwhueDKfPhFVUT2XSqWAVXe5gDgrktxq3EPO69p+11xgP4DPqbrKU+lIfHBboVTV+QiTDhPmG49ALtoTAIqK4Dt1BWW28JnBTlfIxNsSoH/Ic+e7lVcySMKboBw7FLCHags/IafrAdYrpj4BxuD70i5POePPp14HjPzLcErb1Q8YrJlAHgumRGA9Ut15ep2BMRnqWyItY19LvtCX61bCkRVmCXxxXRlh3lht+LLnwXAZp+CXovbi89eMYyyWzaveb4THqpXVLzN10HOPjNSJlQhtrlGyEEy2/A2MAw9jnOGMIQ7QylonxTIxllqhtAuZVLDPOxhGOCebOEMUzhmn8Hp7Pu6x/We5LXwbn1ZzN0RyMl9GAZ9w+qR2mQca5nNP5NXezzgUwDXMErK5tWM9EZYkAyIY8avF9QyEAKitZE4BMzkj4EYY2ZaUMmrRYBTsGASFaA8YSdvaJhpEzIXVSBY8g69W4B2HukwkBmnKkMLGEofH7WlVcCNVIwKo32dhlNRrThK+ytYSwh8QYKiw0OoGM35bgB6URh64l1urM26qKibow4bgXheuT0oWh/48C5VkoBfOWmoKlrXh+ZOAgANUbGysYBB+T2RWnGsGJ8B4znoLiCCE+ToJQJhQTipw2sHY1Dz7vdqWIUY9yVrY7CFbaHION+nHApnufWHtauH96eSgn73MBSPkBGJTFyhV7FiIhmMWwI+TK21DPgdHlWZoAibZJRky40lUPxDoZHS3B8LIGYDMrhHojpKNlFV4+a3t/L5n6vT/rduY5DiAysdP+fqubKzzWoEdzKg1QuOfGwY+GlwGeQvJJV4AAK+bWkMnB+w47rXMPT/uSmAjyUPoEMFMlh6clLAWxiJDgnQ/eIxsXcciZj8loDCTZ7NCH3vdRO1cJKPMDengf45z6Q0qi2Ckn865u/Vt1+QA5Lwwol+O++V055JCW0qtXL/WWY1TW5cD4zkUA1ELV7BK3ZPP6p1eO6zggRjhXZxcAiI4xY8aEJICtchIAjLkYjBF6nnus2PUeXWXXM3bem7RYbm3XMecSAA/3v/Syy+W6667TnAlENBDlQLRJOrm0KxIA3r5Ruyf0BTpP9VyISAMHRDKtfJkamuak+CjCKepNBvwHvAJxboan5S1SLJGOUxIh8shDPTzSzc9Bj7sBD+5w3eo4RrEPhEOEVYhQsDBiDF2ux9CMvYaxHnGSAR1J2cErSuZPXx3hFdrKkxLTXj72FK84aRKWBZBAD73EWOY6vdc9rwndbG28McIsVhfXDxC+sf5NLze6HeICmUy7qAc2LKcEW1AXxRQpy8jMKaQERuhPZLsSHmVL9Bnext6+fqZstC1LMCPcEuU+MCIlHbdY/b0NMusN2tTbU8+RN9oiDZycN9wVoiPdkA2Rm4ZnbUlGXF5rPy+r5qgJeaUc92n5IsMvt6zxuVKtc3qfY8RG9QI3xWPP+jF1uV+MY1KX+WXFMSHyw7D5SrUjWNIBJmHOupddsQwOihA1CNbBEcb8wJ7gjJFuBntwWiie8dB7d0Tabl3qXApzjvmnBn1ItqeYOeCZlPYOBr33ebXaswo9UN1n8E6d42VLzbk6cbHaTHxf3WcU6roSAZCONurwf0MiAHzAMMgc3LhhBtuLkMaAxPuvgptwlam2nRaTiMMM09U2sd1rHTzXCH41LoPXVwW1egttQpoATF2vy/u9LC6M3IB3BhpFMCwwy6nMXQjFSSEOPIlGICVCYiHKhVByweOZc1VZO0GBMA8Hiol1/Crs5xg7rOUIifUQWDzTDFZAgIe6mcdBDapgsCuLqHusugL6LPJq0xf8znsoi7cf9zuTHwuFXKy3/QaAoJwIRLKMprRtYL8xxJPKDCFPvZOAx+pjCRO9TKrQEkRGRBy4ByXBoPJ83uP9W7kOlNcPFJ4DGVNKOi5DBIeTHTDHvNM9HjDGhIVTviT4ispFeRJlUkWgXgVj63VMh3AyrksqO31GEgRG6yytr91QZzwyFlKO4D233+K1Yb4WjO9d2SW9KEb2WCIsDZtMzqdQV/0+JImhDBZquVKGTbWwUPqdcRSP3xCa5n3h8y2dzVbPVR6BR54UZVJmMQ6oM3MFMsJ/K+S5RADUQfkV8dbqEACQLuyqYLsA5CYA8jGmjAD4JCsBcPHFF2mIP7kG7n2op9zZqbvcetsdwnIIyAqOTCRT0QmANK82sr1j1z7Sq89TGs2SqYx8B3ExYMAAOeqoo+TIY74mjzw9UPVRddvWcYrpgphkxRh9d8LHaiAgs9FbyAW+d5mOPkOeunw2OUuEnSUMjXWaRaihM5NYAPnJs3GQqC4joV4Gw8mwylbVdcgldJPpBrzjFtGHzHb9xHtcP6NPnQh2AtjLxfeUWZcAhASoXkbTTSHE3XVvEq+oLjPHBc91I4pypb7fMIvpT4t2pM44IDJiloS+pk8g4uNM5ZY/ifvBbbRVrPNz6RUiOS0ZJLpr5Iy1URSgtXeqE0exC0SCh/qDXXRJmxuojsUCdlF8EEgady4EA5H7FJNGfb1Jn6s4ITIYs9XDsYvhLpwOPl613FGkQYhmwSngZEEgk7yvDcM42WIOMvo4GoMJDKPRnCEyInY4uDMoxjD+Lp4T4bqIxEpzogVjm/Hm88WSZxMF6JEbqTl7MNANwyTwjUYJGg5xEkjPUR8YVot+UxwDholxjM6dxHJc5qRGioY2oM6GKxljse3gzonqypaGcB3jhbEGOUg/MW4aQrlKBEAegUtDJAAyDTIGI8LbQ/+ZeC7QOKfco8IuLURMM9maoI0MEPVQ+1YuwbhGIAXm3ZQRgg+jJYThqEJDqbPLgO33iqBU5U5oW8SSUiY7KF/qgdBOMJ0qjI3FNVZ2tQn6NA+6JvXTJHmQBamJzGAqTZH62VlJvAyByQwJzjD0mNRujKnCTihqBBr1oV4m/BL5B1DArnzcWEsBHkEhhT5Beab0zQefRYqmUr99EC+rAJym36f/p7Rl3I5Jg9xAlm19p4azkiamsGIiwRVyMkFRWAYQwFbULgh3GPyQNNGJgwj4qTdomwILV3qALcartmUgTmhzlJiyzZM+1bAw9QBpKDz9ZgcCjj7Dk6zr1yeGqJYoZD5mo92IT56VpVaPvRnrjCkHVgbS4jr7WKe/VREnFDK/+TIclKKTGYwbfw7XaDspILD189Q9CVIsGsXGhfU58+EzyV8kROUxlnHs5NnoT38H9aSNAKfpvxXq/xIBkEdlWMBHNUQCAIJzyKSPpW27DnLJJReHKIBLpHXrK+S6G2/RZIF9+w+RAaMXqDfzyReGy23tOsrSpUuyGv8Y1sUkAJhzo6avkpHTiJjbosQ18rkYBECmOY1OQGfiGYfMx0A33R/0YkIG+ffuSECOIlcNAzjmCEQ/W7lGIcrxMiuT0bHRbnI59jBiaHENBjtLsRyrIKMpq5XB8RM5kuzw772M4JVJHNESO9sdgedq/gPCkgNe8XKiU7w+SbxCtIPrOs66bFC/izFL7HkNBl4IyzcslnDYBNyCXtf2C6QFfUDZeD9t4MsWLILB6qGGcMAuXl/DbHEEg/cx+srxgH9Xu3MqFozaM83p4ZGTXi8/u7FMn+rhpEFwMsW62dsoNXQ8Ios8ejKBPd3Jhu5mfNCPhpfinE+WbG6ZesZ1PbqHsQf8aX1riegY/+ZRX6znJNZRh0TwqCexS/Kz9aGTQIbd6U8/NEqX/33ZZiJCxjGJ4poEjlFSK3JcGLbnedqWYekEdQa7UX/DMsnlgzGOYcyoYwicn26DJOZ57cZJw8A0kBjMOeZ2Q6lHiQDII1DZWQgABh+TEsVAyBmTtCYDEqCAwoOhxFNroVCuZDFcwpYtkTGLQR4y4M4yth7GHANOjWJnJTWZD0mAEkrXDcYofD4WGlWVmecgkNSQDMsfVAjPNINVWejgUUa4odwQUso8ali8Zxm30Ck1UkP0BM9BKSJkzUg0QMAz3TiNflPWc6VGWEB0OBscf3aBnDAuVdC6MI0z9atATUQuUAYOE64WuYFi0oPw/rDGMPJeAFQ++FymfvQPmbboH1K+MLNwRCBHSh0FN5+Ec8ltUbZaZEGCnTcjHZBk4MsYYRIExWFeEWApX647VWgfQY54eDtjgTCyYLhjvGskhxIvYZ375NDmABO8PKENaM/4WBUlizIG28LM0vtExx/lC2WMvPUhPI1n01+qKF05hhBAVXROcIXlLT6m/B4fy/Sb95H1STKJjBFYpgQz90dVY31X+52xVyIA8qicdqFHNVQCYPCEj+WW24wg4OgAACAASURBVO4UvP3XXHeD3NXpQXnyuXfknVHzZMzMtUpUOxnbu/9IJQDY0SGb97/YBAD6/NlXR2i5ezz1mrw1/H3NF9Thgd7Su8ARAJnkFzIAHWLJ8Zaqvsl0XbbvTIdBJtt2uoYHTMdi1KCvMNDQ667rXMcjq7keY5st6VTHBx2FDrEEyTFWcb2MoRMTtpACjldyy3UlPMM2YJWNxiTBbrv5qBMlRALE7/PkeYZXMNBV74ek0NyjejaU33SbYQ8lFbSetm5fDUZ0a9Cvhlm41vFLwCxJQhwdqIcZ1GbkhyWHCczi2Ald7TqROhix4AZi7PWlH/VQPBmW3igmCbgER5Fjmo/+IVM+/CIjnvXxoNg1bM3I+x23UF4bI0YcRVhCQ93BMMstV05IbojzwY10JV6IAtEIEO7HqcT1wRkRQtqdpPGIEdrd25gIDv7Xvgih8YZdHD8lMQz9lOpNj3BW5LEP45b175TL+8oJjwxnJwTceeYOD8cxhpHjRHhOgjDO3EvPWKats83LL+v3GrHLFqUlAqBaaKS0C8Cvz5SB4xcVZiJV7FDFiIBh4tZ2UrpwRoFi2Kgw1dBtvN5BSYSIAVc4CBOuQ3hwnz3DjEuYU1eACBu8vi6YuQ8lZkZWeLauD3OPdDDsQ5IRFbbly9R4g+1VpZ9i5G+L1vd7ParbDqwho+yUlXIBCCw03JQEwp/v+Z329efHZ+ptB89R4KHebzOsaRtVirDH6dELytAbSaJKY8oKfZe1zzoZPf1T6fX44/Lncy6UM865UP5wzkXyh3Mulj/8+WI589xL5U9/u1LOu6Kd3NCpn/QeMFeGTLG1ktquhOZNWyHPP/2MXHDh5Xr9medeIukHz+K5Z3CcfYGcc3kn6fH2hzJi+loZNW2ZPNent5x77oXy2zPPk9/+8Tz53R/Pl9+ddb6cftbf9fj92RfJWX+7Si64+h65o/sAeWnUp0oIsFPFW+8Ol2svbyOnc88fz5Pfnvk3+c0fOP5qZ56Zfpx1mbS++xV5dQIkwVJNBkN/AHhQjAAXZ6dViQVW2pU/bcc1SVYedtQUe0w4RIQBSpYwuuBtYR6hyBnzjDWIMQc3qiQ9LD/hJdlVme7qzqFc1zEnSgRAtfTkl+6ihkkAfCbDJi+Rhx/vJ4/1eVVeHTxN5SjAmHHuhr+P+YZIALAbUO/nB8oVba7UyAW2OmRbxKtvuE0ef6Kn7krgiSTTlwLUdQmAt0v6GR2pXslZ60IUYG5DOv3+5P/oXtW1nvAuePSVtE8sLUPuYPyhL8AMyPFkqLt68D3Jsue5CQauYhU3JIMDIsJBiWg4xTbREjfb2YB10+gRIsV4joZDO17RSMHa4xXagfqDM4ikIPxe9VeIZMSY5d3gK12OmFjGmI5ZaEM90j3eOB6iZHvZcIvhMCfc0btjgkNGs/aHJY20mTsQFDdOXSr9X3xJLr/kqgQWudTwyV8ulbP+2kb+79Jb5Oo7e0n3l6fKwMnofCMsuH/49NXyyqvvSJvWV8mZAbsYfrlQzjj7Qvk9x58ukNP/ZPgE3HH6X2+Uu/tOkmHT1sqYGavkzdfelNaXXmkY5k9/l9+ffYHdF+4/45yL5Y9/bSN/u7ydXN+pn/R6a5a8O5F17Etl0Jg58kDnTnLWOecphnFcVAnHOK4BM515npzb5j7p/vo8GQpRkIZhwC4425LRBRj5YBQiU8FB5BDSCJCQSNrxi54T6+8V56Qk/fbkvwnHRXAsMYYiYz9EuSTnWelzZhlVIgBqBlVKBEAhCYCQqRZBgDDPx6RVBRsUDIJdBW8wwGzngRUqxFBuhMEQXsi7uS/9/a50+B0QhVKCOdZkOyGcnrXQxoJaiJq+L3hyqRcKFSMwUuRZ2fk4lCy9HMn/tX4R0bFJDT0zKllTFyf6wXDXsgaGFUWOkE4lPHZoch+vZ+VzghzQbd4gBjxpS7zWTI1WXRNpSw2U6Ji6UO66+i/SfPfdZc+9G8t+zQ+Q5i0OlOb7HyjNWxwg+zVtKnvv3UgaNz9UvvGDc+TGR4fLoHL3pK+W4eWL5eHbLpPDWjSSPfbaR/ZrdoDdy/36DJ5zoDRrcYAdzfeXVsf/Sm59arq8V75CRpQtkq5tL5aDmjSSPfbcR5o0bSHNmu8fjgP03LRZc9mnUSPZY+/Gsv+h35AfntVWur81T0bMWCUvv9xPfnHSV+Myh3fut29j2WP33WV3LxN10uMAaX7g0XLq3x6Ul8vNw6Ptklh3BrhhDOqR2GaR63Tc6O4YKyPCgPEDCAQcOnGgYCUthwRATo8QUqr9ngIA3VNi4XY8gwgJ5oDdx/3xsgjGDv1sStbmRvrYSI7JXfUz875EANRMYX5Zrm6oBAD6DAJzgu5nnxkE+nxtmATAZukFAXBFG2FrQj9IXHjDDTcIEY4jRoyQDz74QHcpYBcKj14oFAFAe/mSKm+7up5Vnmrm+zgBL1t/OZYwXWFr6F2v07cuh9Pf799HWMUTCkMAJMLo9R0eDZhIBOvRb0S7KQGgxAPLFVKXfzlW8vellyP9f090hy4BP6Fn0D1gKNVlvoOSesM3JTBLID50V6Gkk8Zwmr8/8zleEsB7abcYt1iEIoQKOpecU/StkSbxdsNKyITtBN0rPqL8I+lx783y9YObyx57NZJ9FZMcJC325zhQmjVrLo0aNZJG+x4gR37zF3LhXS/LS6MXa74cIjYgHHo93EW+eWRz2XPPvaXxfs0T+AVMYrjEcUrT5vtL8yO+Led3eEveLVshw8s/lb6P3C0nHnlQfD/3OAbi3Hx/adKksey5196y7/6HyUk/v1g6PjdVhs3aJGMmV8itl54tRx56SIxrwFDNmsnee+0lu+++pzRq0kya+jM5N9tfjvrOmdK29xQZUk5iSfCuOTQ0ciAZTaqY2JJP2jV2He0MxoHwgWDRflf8kZoDy3AM+a/SEh4GEovQdSVUPDFmiIZMwTHBqQLBZDgm5JfQ5TFfXizj87JEANQMoZQIgAZOAKAAGNQYthi4CHNfQ4RAQQjwu3u6k4oIwYFhhXBSAz0w3Si92IgKIfAIrmg7Fk/Yg3JMbCWXwZuuLPK01WZoqdc8RBMEAw1hSHnJB+BGnLL9GjYfwug1IiG5/WAQpFEIoWWidYON+kJYuAcflpZ3YExaeFfCGx3WitMWpgQtgkHL5WupgtDmOz0oezi4x5jcFbHHANAw8yO5+7r/k2a7/Zsc/I3T5MLbekr7e3vLHRxdnpRbO3ST1m2ukR99+zhpvHcTOer758kDb3wgo4PwHz19uXS/o7W0atZImhz6bTnnys7S9u4ecus9j8utnR6X2zo9Ibfr0VNu79xT2nV+Ujo8+pa8NHqZeb+nL5Fu7S6VgxrvLS2OOEXOvbmbtL+vj7S/r7eWg7K06/yE3NC2g/zxt7+QQ5o1kT0aHSSnnt9VXhi7RAaOmiYPPtRLbrmru9x81yNyM+f2XeXc3/5Emu2zp+xz6HflL1d1lls6PiZtOz4qt3R4VNp2fFLuf2acDJgcK0jaRkPfUFo6hiwcMQJWvkRCvRaWbAigxBhgPI+bY2vXUIpjg0dmjCchSowh6xcbSyhKxrPPA/9N+yx4OvCy8LuN/1ixuoJ10kGfk3gW/c04pWyUs1LIpIdFZiHVXBHtDOf6JgBatrRdANijPt3bmel/DCCOTL+l7wKQntW+OmrR7+H8Zf/LRAB4Ij03SKtKAohHXr3y2fKjpK07ja6vantYnpc80p7jcy+dAPDyp4+f7DkAPDFZbqLB31edMxEAmQgAJwIuu+wyueaaa3QLxn79+sm4ceN0y0K2gKTclgTw6FolAcxevh0JAqCyoyD7fXG7KE7BkeCe/7BbC7IZmRqT84ZVkD0YregBJ/KRyelYBd2OPFbdHfSz6Rn34Bs5rPpGEwwmid2Y4AczIMvRV+gPtpuLnuu6PtIdll8GPaQe4ESOGDCHGtshvJ1njJ5hUZNxXS2aQY3zoC/scxpmIcN/2KqNcmFIoo9UnwUCm3q7957vXe+5oanfRbjFy21Yxw1ZfUbYIlh1rurdoH/xbmsE5GaZ8P5K6f3Q7fKNQ5pL45bHy+mXdZLbuvSSdl2eVCzStkM3ueq6tvLLH39P9t+viRz49Z/L1d2GyaCpIfHjrPXyzKMPyElHNpN9WnxNfvm3W+WWTk8odrmjSy/DJYpRwCl99P87H3pJ+r77gYycuV7Gzlglz/foIicddZA0OeBY+fWF7eWWzuH9nXsqJrr17sfk+lvvlnPO+oMc07KF7NmouZzwq2vk4Tfnyntln8iz/V6XOzo9pnjlFnBLx8fkmjat5cSjD5K9Gx8k3/nt5XJV+0cU07Tt+Jjc2vEx6fDom/L8sE9k5PTEclDFAIEcyoVhQuQo44+xwljWcZOChQ1bW78axnRsYv3tfR73nxJyip1j0sYJAggvi7ywc4RhwDFOPAW8y/ikXLZTgiXgNOdHWHqrkQZGHHg+ierM94Z6DfOc9mFMN5QylnIA5BFN7Uw5ABiAGKoIdxRedQakK1I1+BPKEeGBl1u9+iGDbswOx8luNDzM11zNWq+CgrBpVzBqsIeEfKYMSToTr9PjmdUpJ9cA2MYEBV+2wDz81BNlFzHSwdhT1jMQEig61qDDxhNBoGvRw5mQOQ8NHKWKNaH0goBLGoAoQj3CbyYYfQ1d8DyH9ec8FyPRwQLkCaBAjxBa52vHjVwwg1XbjLV0QXGORWnO+Eg6XvsXabrbv8kxP7pYegxbacy/K2OiM8oXS98nusn3jm0pjZoeKb+/+WUZUB6IkJkr5NH2V8hhzRrL/sedKV3f+kDGhfAvBxmMHQSah4LRttbnn8nkuWulx12t5eAmjaTVt86WrkMWa5tTFzOuHVitloHvjZc25/5K9t1zdzng67+U256dpevo6H8/1Fsw5VN5+LZLpWXTfaTpcX+S7m9XJJRaKimigEyBUyBNHJwEY9r7Jan0kqSKghI1+IN33738KM60z6pQQ4ZhVbDhd/8clSXR9ijCSEk6YcB3zrK7Eg2gk7ERH7Zm0MkkbaMoT0EgHxyoBUVLWWh3SAPGkJFVtu7VyLk4AqYmc6y6c7E21zGe6isC4MT/PEWOP/4E6dy5s4wcOVIWL16c1bjH8IEkmDp1qowePVr3cWddd9KQSycAPvvsM932bcaMGTJ//nzZunVrTi20Y8cO+eijj2Tu3Lny4YcfyrZt23Jez/MpM55azvyf64/nU+aFCxfqubrXU5alS5fK559/nuvxsn37dlm2bJlmvF+xYoV88cUXOa+nPMuXL9eyszXeP/7xj5TrkwQAXmiuoX0oD/XFIM1FALDWnWVOw6csldEz1ihBnWuMIvNGTodMhGhdp8vGqrqe55JQj63ZMs2pmAD4VL3ptD8H7ZMkktIJANVh87bqcykLRnum5LDJ8k1i5xndw3yDEtOZysP1SgD0G1ApAsAJgOS5devWctNNN8kDDzwgr7/+ukyfPl369+8vRx55pBxx9LHySN+a7QKQLG/q55oTANTP2wlMEhnTyOAopH9L0F9J2Zdchmi6CtmJnkBemzfajGHVu2AXXYdthjvXImMhGnzZX2pdYlIi/XvKjPzHIHKZrHVI4pVkQrlZG5REhpQgagCcMjjCK0sNu0xeqh5jyurGF3Vxo8yI5lhn6PdhDb9d48ZcErPEjgwnBWhf1S9h9yjDLoGgThioil9CVn9kOwd4xzCBkSnWV0aqRLoT4nvGUunZ9TaNAGhx7E+lbd+pMkyN4oSBOnO1vPbqy/LH006WJvu0kO//373ywrg1qvMmVeyQF598WE4+qpk0PexHcl2P8TJqrkWg0s6sW/fEjIZpDNs4UTJxznrp3/N+Oenog6X5Ed+Xa3qOkyHTg8GsutucWSOmrZR3R0yVO6+7SI45qKnsc8g35e/3DJCBky3Bo2Jlxxbvb5SBr78s//Pdr8q+Lb4if2z3srw5hW0jY9zixnbcb7ZVckSypFxrOCjCL4mdDxibanAHDGP/J7z9ie8rXes4IuH08DGkhj84JRzRuElimQjHEGXqWMYiTh3HmB1g3xnRFo/LqM28PhFpYISX4dA4jxJzKXmkz7X6+r9EAKSo8Sr/KUUANIAIACYSCg3FhmBgMuqEhLUNnkg3CtXAVyW1OTLOXHDpfS5IEEbBYDWjdqtMDNt88CyUgr4r5BKAkUSo6fuiEGnY9BBeFrK+AuxU+WgW3c0WZjYNEBYY9TTmE2GFEkKJa1KWRCI6CwMkI3JgkL0MtIGSBWzrY5n9uRZyAFYbpYjCtTaKsw4DRCibtVUI4X/fEg3xHFsTF8CFeqxDhtYAWrQdPQldwpjkPsLa+V3rSbsqAWARAF859VLpOdISIfJu+tIMwO0ytvx9aX3GD6Rx42Zy8p8fkjcnb7RMrPM2SM+OV8vhzZvIAcf/SboN/FgmVXxmSlKXI8TbNGmbO5ESmOZx05dKt3aXyIGNG0mrE8+SLu98IKOC8jDl5MoI9neD9OvTXb51SCPZ+4Dj5PzOI2RMYmmIC/JJc9fL43ddKYc220eanfBneWLIYpnsCQzTBL7fk3pO7BSRlnOBLRRpGyNcQgbmiD1PbLcTPDOZx5NHcSSUdwS2Emy4e/+1D0MkQIgG0PHoxn+0ftEVphFGjC8FomnLGxiDGupIYqJoi58467N7XByw6pgP4YSMPxS5jtl0z5JHw2hSTCMNFDDVgIyrjcLlHcw95nht7q/NPZCGLwwol+9871T5zW9+I5dffrm0b99epk2bJuvWrUsx6t3Ax3O7aNEi6datm3pHO3TooMZQ0ohLJwBWr14tDz30kFx77bVKMmC85vLsYzx3795dr8fgYuu4qq5/+OGHdZ95rsewzPXH8yj/9ddfr+/BqM/2fL7/5JNPhOffeOONej0ESK4/iAWef9ttt0mfPn2UMMn2/H/961/ano8++qi0a9dOnn76aTWIk89PEgC0LUTKgw8+KHfddZc888wzSgZkJQAqdsjbI+dK56495Pb290j3Xv1lzMw1ldbo+/gp//ALTeJ3z33d5c67H5AnnnlTRs9YnXVMInPeHjlH7n+4l3To9JA8+dzbanz78/wcEwBLtPyPPfaYPPLII+pFp799fKUTAMyHN4fPlgcfe0a6PNhTnnl5mMouf276GWOS8nD9A488Jc+/MUbGz0HOVzZG0VG9lAC4Mgr/Txr96Z9ZGsB3bdq0kVtuuUUJgVNOOUVO/s735dGnB+Zp7laPALDExIZTkM9uOCluUMMcz7dH9QVZ73pLjZ84ARxyEB2vuioRcWXkaRKrQKzEBANOAWS462InXN2r6d55LYcaxoZXCJkG20DmYvzE+sV1ii3vc7yCsaSYI5APyHbDKzH+8HJ4HSiTkhZsOZhIeMs7kf9GEhC5EGOzypgFUmSzXsP1RtDbMkyPjtC2c3wSjFMvS/I3L6+Xz7BLwAVgGN0pKCatJ81dLU91u0P+45Dm0uLrv5D2L8yV8fNTDT3NyzRnidxz3d+lZdPGcvRPrpQnhywTjP/JC7+Q/r0eCQTAf8u1j42VEe97+5uH3MLfgzNBnTf0pfXnmBkrpV+PLvKtow5SAuDanuPkvZlJfAe5bvhu0oKtMnjQADn9lG/Ino1byf+0eUoGTrM5h3yI597nMmzAm/LbU46V/fb/qpzT4S0Z9P42zYKfil28nqkYBoNSCQrHv2kYhv6LyJXErhc+vjiDs7UPfLyHs88f+oz+07GnzorYMNdIgQw4huUGlZwZia2zGW/q1Ekug4kSLdpYjvJpVcIyqfmYHP86vnH8rWOOujg5lVyWoBg4xsHe1nG/VJaN+fitRAAktXjVn0sEQD0QAEwGGFCUHQLCBACT3phHBIMm5tPt7WLPq3lVY6OViadGfmB43aNdSQk7qx0MLu5RwaTGv7GqGDysn/O91VE8qsR0TXdSgQU2WMu4IWLneZ6HlyWfjSByYwqFhiBUpZ0QEGYsu6fbss7yHfVwxY3S9HZCALkxBitvCVgSQmuaZXSFMOBQYy1s4aLKOGTd1XK5Yif8buZaI0ASexVTDn3vzLVhqQV5BT6X8nnLpMuN50nz3f5Njv3J5fLUuC3CNlUuxFzgjZs6X64+61TZt0lz+c7/dZM3ytZrv4+btcoiAJo3lv3/40y5//X5MjooCveUJxWEgyXalgiE8TNZQnCZHAQBECIAtB2jkK44WqD8w8/kjVeel+8f2UT2av41ObfjEBm7IKkkTRiXzdtgBEBzCIBz5Ykhn8YEQAYw63XN+zlJNngyJD1bdmLqCUhXooVxlFDODvyYC4wdVc4hIoawT1PGIaQ0ECamZG3ZCZ9j5WpeGVOmplAZM0oQOMArN1IAZerbWhLVolsKsa0QUS5hW0sdq4mtE7nGtk1cHHJp2I4dSogpEAhzLUT/KDmX2EEDA949Kz7e/FydPqk3AuCdcvnOKT+W3//+DLn44ovVqCkvL89JAGDgdunSRa/HEJoyZUpkwGHIpRMAGMz33HOPXHjhhWoUc382gxg1+emnnypRwPV33nmnerqrur5jx476fK7HYM91Pe/n+gsuuEA6deqkXvRs1/M91/Ncrr/77rs1CiCXOidy4Y477pCLLrpIunbtqtdnez4EgF9PfSEwIEySf0kCYMuWLRp1gTcagxQigMiHbAQAY/CVQeVyw823arZ+ktyx7Z0uB8ggR6Z8+A+9/sqrr1Vjt0vXx2XElOWRLE0fyxjcLw2YJNffcIuWh+vZASD9+UkCYMyYMXLVVVcp4fTkk09q+2clAOZtkX6vj5Jrr79JLrvscnngkT5ZDXrKhi7v98YYaXPl1XJ569byUI/nZMystRnLX1MCIJ0Q4H/GxN/OO1863vuovD1qnr4/vY1q9n+SAAjAPMhgADWyFL3j+leNFYy2sGQQ3RwfwchXwtUMGdVdwZkBRnCj16PvHK8YfsFgdKPKjUaT1+AfM7ATToEo7wx4JSxNi9ZkBzwVyAbKDx5QAgAMlDjQC9RLk+IFfIDc5x50SORECSH9tIsevne6L0vUCDzLBQDWsTYj1N9IAbBIjFksKaAZ+Ya3hgaSWYnmgFnMkDfHRVL3mDMklJF2TXPcqIE2c12UAwrjPde4KF+wXp7ufqf8R8sWsn9EACSiS4PxO3bmYrnn+gvk0GZN5JiftJHH3vlIRkNqzNksz/boqksA9mv1Q7mq2wgZEsLqIxIiEA+0qZXXPMzoc/DHy727yn8ec7C0OPKHcmPfchk1vzJOoQ7srDRi1Bg55ycnyl57Hyw/v+RxeWfqxkoygKVCwwamEgCD52yX8iraIlc7Vec3IoZcFyOvXFfbOYFjIvyyNVpa4vOBM20U4Zjg/GHcKo5RvGjOMsaZjrXI+ZHAMSE6gHHvxIBiX8fBOLjcMad4ORXLsB0i2yNG2yIGzJ0dz3yqyRGxJRRvO/mVcK4xHiCDjIRKzcmkmCba2cOImeq0Odc4AYCMqe49hb6utAQgiSzq+HlnWgKAAECwIcBduaFImYh851ueWBb0Zaqc9HtXZExMNTicPU4qtHhdkYdbY7zY2ufgIdX173adCuBEGLUZkk4g2ER0Y0nPgSRAyWsIkm5NYx5M7tUwPNbbBObSQ895jytp6glLiWBCaKU+35W7r5tCWSbAgwoyr4eHXSWBxgYZm1KfVIVOGZU0cCXsgjEwp6oc+ZySQMiYUUAA9dA6ztuq5acOcfjaDimbs0Q6Xf9XzQHw1R9fJk+OWmeGfYJkGTNrtbzyUj/52TePlH0P+Lr8pcMAeXdqSMijOQCukFYQACwBeLNCxgVPcDKCwJVIyn7HKMB56+TxDlfIwU32lsNO+rM8PHy5rotFMaYen0v5grXyWKfr5bB995Qmrb4jV/aYJhPZ1z5NCTYYAiCtXOnlrM3/3o7pZzwX8XexolaSIVLOHr3gyjgQCzpHksrYvUmM2/W2NEXZfaITAoGgxBqkQbw3sZMFuhwmuaUR2zNORPmyL7HvTWxLZlz58pwkQNT55nkMwpIEBVohTDQ5tqgjgAAZVaz1fx4BcNJ3fih4Mm+99VZhrfOCBQtSwrLdOONMBAAG+htvvCE9e/aU559/Xq9PXpNOAHAP12PsvfTSSzk94qikNWvWaJh1jx495OWXX9Yw8WwGNNdjMPNcPMovvPCChsjnUm14nLkO4/nFF1/U67M9n++JEMAzf++998pzzz2n5cv1fCIcevXqpSQG76F82Z7vEQDoUjz6zz77bJURAISf33///Rox8NRTT+WMAGA+vTFsltx5zwNy/U1tpeujT2viPl23n2Fus6XYG0Nnyi233SXX3XCLPNTjWSUMss1zAPWrg6bIre06ytXXXC8PPvq0jJ29rhL4TxIAePkhMIgI6du3r44nHz+ZIgDw4t9w062arZ/nZ/PoU0YnAK686hrN7P/w41UQAM+9U60lAJmMfwiYv/71r3L2OedK5wf7yJCJH1e5vCJbO/K9yz7T82sD6b5J9R+yAdmiBHrYjk0N07Atr3kGbRkZyea4Hn3qjgzHJbFx4jlcsuRvQVerR9G8im7kYCi4se7L8CLPa/DAqlGkTgIPE493GOA3l4Gq21lKiaFOFCR4hW2F8Zgm8Yo7NIIMBbtoGTyBm3txE95b92Q7ga+YCxzih+MVjOUQMen1inIShOhHJ/+VnFaMZSHgjrfQJzFxYMQHbc+73MGieHDW+hTj08lzNy4hW7ie+o2fvVx6PWg5AFp87Wdy69PTZfgM+iREa7Bb1OwNMnDwEPnb//5Amu53qPz80kfllYmsud4sExdslxd6hiUAh58q1z0+QcbMz7L0lchCzxESZEJ5xWZ5tc+DcjIEwFH/LTc+PUVGL0jHM7b0tLxio7z0THc55euHyp5Nj5Y/3vKKDJm5tfKWy/VEAOSac7X9zedqpnMqjom3l7b+jh0mRmQliYUsWEbxc3A+RlgmOB/DfPGl/1wJJgAAIABJREFUBSojJi/TnRgUr0yCLAg4JQuecceHbj/thMLkpdEuX45pGOeMeeYSc0XHqUcaeOSkOhMtcpIIoFIOgFxIIfW3UgRAniIAmJRMNgQrSsoMUFMuTAaAOmcG/rvjP9GD/2GkjSUzz6IqoqBIVaEkE/NFHv/kRLBQO2MNjUU0kG/hN5TJmOrK3sJIEGEMZjAIHSB4tALCHyXjoABygnrZsVy9mL4rANfAVqvC8nC1cHbFqEovYoQtVMyZdg3p04kdwojcsx2tg8/MDEd1CkpFhWXwlKowTGbMRfGFpRAoS8oLwIGxcwGmEQSAnyl4DgJQIJy7fIHcefWfpem//5sc+s3fyrUPvqlrMrv3HSjd+w6Qh3u+Ire36yC/PvW/5OCDj5AfnH2XPDNqhUzw/pi7Tp7ocJUc3nwfaXr0aXL1fS/LEy8Ol54vZDn6j5FXxyzXXQ2INCifv04e72gEQMsT/iB3vzZb3psM87o4Pso+kgEjZ0j3B++VH33zaNl9t73l66e1kSdHrKpk/GtfN5QIgAxGQnq/Noj/YfkTZU0q5hTG38MIPXIhuazGlZhv7RSidSKwmSCwopC/EN7nALDSWbNthy0UA9HAeCYaAeKAPbcZ6yhXohYA7EQcIbOYD8xBZAb1yXc7OwFw/Le+K4ce2koNeozjZDi/G2bJM7+zDp3123j305cLpBMAGLmsi8d7zXr+f/7zn6maL+0/fudaiAPOVV3PmnnWxlMO7klfQ5/2eF2T73XgXNX1rPmHlGCdPueqrmdNP23DUgSM/6pyAKTnDEh/fjICgHpSDqIGZs2apd5/3pEtAoAxM3bWOnl37AcaGo+RaiRTZdKRaxkTeMxZNkDovV4/j4iqzNfjXWOJwNsj5sjr782QQeMXZfSCJwkACKSysjKZOHGi1oM29fGVTgCg70ZMXS6vDZkmL787Wd4du1CNqOzl2SHDpyyTlwdO1sgE6p2tvhiuT1aTAMDY52CZzHXXXacRMCx/+da3viXHnfCfgq5hnmYrV/r3zGfkEroVo88ioszAQ1/7lr7ICcUpEz6RQROITjKZ4TgF4G/Gvhv8IYQ7hAObcWvJXY30N92O0Z1Nv6fjlKQXMKUeWXAK12hG/lA/ouQgIFynu0FhdbSoQLAKdfPt+RyvOGERGb7JekV4xTzYWidd9rA1LP1L4K4QHeB7tqt+yDKmk3V0PWI6JGG8RR5hS+CHzAZf0S+KL7U+VidwDHVl2WUSt1DHiKjx0HsnjGcvl96BANjviG/Lee2eke7PDpEez9nxaN+3pdN93eXPp/9ajmx1mJzws8vkvlfmyvgQTVi+6B/yUp/u8u2jm0mTg0+Sc254Qh59fpj0BNdkOvqPkueHLpIxc20MJwmA5od/T9p0HypvT1osQ1MwzccyaNx86dO7t5xx2nek6T77yCEnnC539psl4xZkkBe7EAGQHCN5/xywjOMZH4N2jh0jOibT8Yxj6kQkJvPCnZ5KniWJMyUUwpKHaBkmecosV1l8jnNUMX85GNeMdXAMmGbIJJ+/yyNnKdc40WeYJjXHWVX5XPLdtqUIgHQ0VIf/G1IEAJMDRQ9Yx1gHoAOm+WxZ71kzjsc3eOZhzqYTChYG8uRlKrxhjJkwAA9VfAkjN3UihnCYAgDzTIOed0+Yv1VZX5QiisTYfa8j9bSDOrM9EwqG9fKEsuEhQEFBiKDgM9WF7+pzr3at4zy2KiJywZLvUAdjHr2eoQ9nUUdbaz5i8ny585r/kxZ77i577L2vtDj4MDnk0MOj4+BDDpVm++0ru+++txz+7T/JXf1myYQPvohCz8rmb5AnO14tRzTfS3bbo7G0OKiVHNLqiMzHoUdIyyNOlHNuf1smoORgziMCYC9p1LSVHP/9X8iPfvqb+Djtf+UHP/qpnHD88XLw/k11q8GDj/8fufnJMhkzL7NhtytHAGQa3zvFdykRCslohfizAUWUdBxaCNDGc+aEnYNdoo6QQaNnshzH5RSeHca4rUVk7HOfyqU5mzMaV7VtOycAjvvmd+WQQ2wXAAx7N8Zqe04nAOqgYkq3ikiSAIDgoF84J7ely0UAMD7KF34RjnhpVLZxw7ggF4Ae1do1oOrrkwSAlz1Zfh9r6QQABhvlITKB5QnUI1u5/fvqXl8dAsAN/yuvvFKXjRChQRmJ8iCqxZIAfk0eebp6SQAhCXgv85l5Hek25r8Sf0QuEbUETsHTjB63ZXSAaUhwjEaIe3CKGutKqu8QT/6bSbcXW69Pmr9dPYRazxD2bHgMWZbAKq7HA15xwwJDGrwCngPXEWnSEOrlY8zPlAmZj2FluMz6a/g03/3IcUsSm1m/c42RIeac4RmOzWwJwF1yXMvmstsee0uzA8EkR0rLVkfocUjLVtKieXPZc489pcUx/y2tuw6VIbNir/uURf+Ul3sbAQDu2W//Q+SQQ7NgGrDOEcfJT/7eTV6daMt3kgTAXvu0kK+edKr88LQEpvnpb+SHp/5CTjrpP+WwlgfJ3nvuIS2O+i857643ZOC0zZnnaIkAyNwu1SCifLzl9RzwfqZ5lfwuwjRONniOtFnrVRYhlzxikvE8MolpZrvdZZjGbTOTeyyvtu3CeV9e65alTUsEQB4hVUMgABg4eNxhiBUo69rx9bo3MYqDBCVlFRi8tuVN2QcoEg77jt8nzicR2sYAus2wRhgz8IsxKHO9Q+s3d4uGMWtI8cy1Mm7OBpk4b5NMmr8lrhd1om5R/TBCqNtWbQs8DEYMoIDJpsy9xZl0ueqnv0V9aFEalJMszhPnsa2i1zH0n9fT+69im0yau0QeuOMKOWL//eWgI0+Q7/zkdDn1Z7+VH//sd/KTX/5efvzT/5GTTz5ZDmt5sOzbopV86+cXyd39ZkbGN8Y2BMDhzfeWvfY7TL71w/+R0371hyzHGfLT35wn1z86TibgAUkjAHbfa185oNXRcviRX9EDz+p+TfaR3XbbTfbYez857D/+W353YQe5v/90GUECnCyCqkQAZPAgZGmrbG3YEL5HhgBiNfoG7z5zbw6gFmM+g2zS+es5OJi/sPckCWUZg8kmA8XZx051610iAPKoDAv4qEwEgBvMfq6KAKjumCjUdekEgJc7/ZyJAChUmYwAeFtaX9GmUhJAtgDE6CcxI4kcR4wYoTtYQJB5hIxtA3hUldsAomcx7IjacyMYks/kABE+nkU/oeOSGAUdp3lW0nCKYoGGgVOsj6yeePoqyzucKi7vKmMV8Bi/c0yYRzRgnOcAwxoPZoPBK0EPueFfqa7glgVbZFKEO7cFXBb3L79ZXcmtlMSeYJ9NMnn+WnmmuxEAe+57kBz3vV/KT375B/mp4pIz5Cc/+418779OkaOOaCVNmx0oX/3O7+WqBwfLkJkWrZMkAPba50D52n+eJj/+5RlZMc1p/3uuXHDnKzJgygZ1jCQJgN33aCTNDz5cWgVM0+qww6V5031lj913l932aCQHHnWSnHbWNdLuieEycOrGlEi8lLlbIgCy4r2UdmrAOMdkmTkisbeQZ2CTCXMhr5JzPIx1tUn4vE3K1KlKUtHkHDdHXmyTFNbmKhEAeQQq9U0A4GVzbzEDaMI8tggCGDOIyISKgVvdY7tMVkXLsoENFkEwk3V4rMmtH2MEBeOh/hgOKMa4ftutftQxUz3TvwdQkNF+HlltCcfDi7Chyi2eCl33uI5sC2h1pB/KvQ9z9Z/W8TMpX7BCHu5wjXy15eHynd9eKz0GfSQDxy2SN0fMl7dHL5TBEz+Rd8fOl6f69JHf/vAE2WfvJvKVH10qPYYs1b6NCYDG0uIbv5dO/afLkGg5hS+rSJ5XyKjZmzMuATjoa7+U63oMkqdfnyBPvzZWHu/TXy4//2w5fP99Zd+Dj5Mzru0tL09cZ961HOOqRADUz5zL53jH8+/gENIOMstkU0I++Tz1c7bxrsmLCBeGTLA1qHUFxSUCII/KsICPKhEAhZEFTgBcAQFAiP/FF2uY/yWXXCrt72ivOxTMmzdPl7kQteDRF5AWkADVIQCcAHTnBPO3bAGYIuCUquZ9JRyTC6fUH6GPYYDTRCMvlZjYmCbvEnglm4xL+d6cNOAVtpbEY0g0AURKPmV0bZ+FA8VlO84Vle1J7JlSlzQMSp97v/pn5Pv8GHuOnr5Yej90u+4C0PzYn8jNvSbJ4DILubaw6yUyePyH8sJLb8gFZ/5C9m+yjxxy/P9Ku2dnqGMjIgCOaib7tfq+XNF1sAyY5Ou6k1jGPy+XETM3yCRfQpDIAdC05Uny1/bPSs9XJ8gzr4+TXs+9JTddc4V88yutpNG+LeVHf24vT7L1Mcshc0UMlQiABjF2azvmmeM4HyJZpluyuizLMMZ9bGeaC/obNslW3U0Cm0SfS56MAs7xEgGQR6BSnwQAa+tNALPlW9LwD+A606Cr7ncV25XN8kHJGr1is8947mG+WQ8f1y9tklW3PuG68g92CAckAs+0iIJ1BZ1wuYQNE13rOGNN2N85YRhVu26fSfn85REB8L0zb5PnJm3ResJIaiglQqViu5Qv2CDPPfmAnHR4c9mzxTfkb51HWAK+sATg8OaN5YDjz5Zu734ikwmBDYlxMp8dlCaXAFgSwIc0CaDdP7liu4yeXCH33nqFfLXlAdL00G/K2W1fkAEzsq+rpc1KBIC37855xrgAtOINw3vHOKg+GZl5njN3IRDwHDkoxltUW9lUIgDyqAwL+KgSAVAYGTD+/U3S89m3dceAa667UdghgW0Pb27XRZ7s1UfzOGDsJw1/j1ioDgEARon025xNwfBHDtRdFqgsScMpGOC1lQW59HRVvymJH5Y04DzBMZOPOrq8A69ABHgEIxGfJksLMy5y1Zf2VaJj+hqVwWAMIkrzJdsj+T5zqTx+/63y9YOby/7f+KXc1X+BTGTZYhKTfPi5lH+wVd5582X59bePlX2atpKfX/GUvF2+UaZ8FJYAHNVMmh5+qtzQc5KMrQhJ+5LPSPvsdU9GAJAE8Kanp8iYBW7g75AJM5dJz4e7yPe+cYQ0O+gYOe38++TpEctkUg6nBtGS9bELgNepdK79fPE5js0Vk5j5G/c4J3Fw4tzgHTbHa1/ebH1dIgDyCFTqiwCABXYWCjBcV+Gb9f6KbTL2/fWaxAJvXrZBle/vmWyaNXbmWiUi8qFMvY6qVBcaCMEw0QkXtqfJdz1yPS8y/meuqWMdnQC4WiMAvveHW+W5iZulfCFkBwwjJIDt2FD2wQ4ZMnSYnP7dI2S3vVvKr67qJ6MI408hAP4k3QZ+LGVkxs2lzKLfMhAAw5bp9oTR/Qs/l/FTK6TtJX+Qpnv9u+x76MlyQZf3ZPgc+iHze0oEQOZ2ydZeDel7PPMkvhk/Z0OI2Mls0PucrMmZca3XV2xXRQzJUFvgXyIA8qgMC/ioEgFQGFnAPuYvDZgoTzzzhrwxbKbmzWG5TceufaRXn6c0gaMb/OnnqggAMIo6KAqgw9PlBQayRi2qzCkuCQBWYds55JA5KupuFKTXz4gAchxs1ehFHBf1FZlpxv9qbW+LxsyfbKfeLt/LK9ZK30fvkeMOO1j2//ov5c4X58uEigz5OxZ+LmMnz5HLz/ihNG3cQk7+Qwd5cdwqmfLRv6IcABAA1z8xUcYE7351dGU6AXBj33IZnbx/4ecyadYS6dbhevl6y+ay575HyP9e0VNen7whK6YpEQCFkWPV6c+6XBMb/6uViMunPeJj3sa9RQSwjSxzHCdoXcqd6d4SAZBHoFIfBAAMrBnHeK4LaPwHYYyQJxKAdzIRMg2qfH5H/diDnvW+FjKcXwUTK1cjAWDWIVNIUlYs7wHvsXWCa2KB4oZNtT3/3i6fyRSNALhajm15uCQJAAQVJAAsPUQHBhls+U+PP0R2a3K4nHHz6zKuGAQARv7CHTJ48GD504+Pl0Z77iUHHf87ufP5OTI+U7bcUgRAwedZPuds8lkoLYx/ALktZfFxmu+zhQJbJEDtAHGJAMijMizgo0oEQGGAM3po4rwtehgQ/VwNy44P1I0AwCNMkj481uieWOfmWwb48yxcHlmAniuWcUz7EYFEokKM/3wbBpXbzaKfWCrIrgLFwGNJ2Y5XkvZFthfC+E/Wd0rFenm+1wPy7WOPlgO/8Wtp//wcyzmU5jBgm+GRYyfIX39xsjRpcqCccm5XTeQXRQAcbREAeScANLHoZzJm0gy59m+/kxb77CnNjvi+XHr/UHlvdpZlGqUIgJ0O15CElUR9apDPI7ljWMpTY5zusirX2WySMo1+tt1M8j3HSwRAHoFKfRAAhOOTGR7DNSkwC/cZpbNFGW7Y36RCKMRnlAxZNDFWq7UOvg4TEWadgyQ0kACELBaiTunPtDpiJK3PA2hIJQBO+ePt8kL5Dpn28T9k+sdfyLSPvtBz2YLNMmT0VLmjzbnSsmkj2ffwH8gNfWaapz5KAthYDjjhHHl0yBKZ+gn3Zz94/tRFn6clAQxLANIjAILSLpu/Xl54squcdOT+8u977Csn/6G99Bu/NmOblyIACgP608diPv8HEFvOjtXqrXJvTqFkE3MXrxiglPfy/prUp0QA5FEZFvBRJQKgeLIA3VT7CAAzfHz5DyGthTeKY0CNwwDHQW1kQU3khl9rehznwTolOwsl5/y5yFNknjktwA/Fi3aA1GE5x+gZa0221wF3eX1Sz4zxuC/LK9bLC70flB+c8A059MTT5c4X5srkDyvjkUmzl8hj97WTE444QBof8HU5964BMmTmVknmAGh2+I/lpt5TZOKHYKHKz0h+N3WR7Y5UZQRAwDT0yVuv9pf/+e6x0mivxnLU98+X+19fkJGsKEUAFE+O+Ryt65k5jkMDchF7pNCYhjnAHCc6qy7RjdnqXSIA8ghUik0AAHBh1fHIF5qBtQHkCfaKEwXAvp94DmDUzfufx3A6POwZvOxMNpZR6Hrl9wsfBUAfmvefOuYDIPkSgGvk2EMPl+P/+2y5qtMz0umRftLpkef06NztGbnj7q5yzh9Pl8MPbCp773eonHr+Q/JKGQSErbe3XQAaSZNW35Vzr71Pbu/yhLTLcdxx37PS850KGbsAAmKdPN7xCjm4SW4CgHdNnPmx3HXVX+TAffaQfQ74hpx9++syJANjXiIAdi5lybhm7asqLbz/muQrBnRJcFfXz3h94mewy4Bl3a5pgqwSAZBHZVjAR5UIgOLJgroQABMXkO0ajGJbXtnyxDzq8ISBGM//WMaAiTwDfyHCZ5OgWvU4u5tMJyx4U+EJgIBdlPSsIHfQWosCKGDCMK8vdXVDyCO7CknsIN+VAOj1oPz3N4+TQ4/9vpx+aUdpe8/jMSbp/Li0vfM++fvf/iLHf+UwabRPUznxl1dLj0GL1fiOCICjm0njFl+TX513m9zSKTemub1TL+nWv1yGzdkm5RVb5LU+D8rJxxws5AC4MX0JQBSJ8LlMmrNCHr/3ViUh9tjnEDntgofkxfFrUpdBcn0pAqBGBL2Pv/o6433XpH/TVuuuRTbmCyTPEraJzvEFNsdJ/JnPKIASAZBHoFIfBICtrd1YPGZdBybrbW2dW01Bdk0mL4qG0DaUW2HDh2PQoECigvWK7Fe7vuC7AjCZlUmfuUYmV2wNUQ51ESpGADzY/ko55qCD5cBDDpPDjj5WjjwmPo465lg54sij5YCDD5dDv/It+cV5d0ufoUssAWAgAJ646wo5rNke8u+77SmN920m+zVrkeNoLs0OPFZ+d/MrMniOEQA97rpMDmi8l7Q88SzpOnRpZeXnjDl5CAYPkbNO/Q/Ze4895YD/n733DLOq2taE+3m6f3z99e17+37dffv0Ded4kufo8ajniBEwIjlnqqgABQUIZlEUJCoCKogoCoIgoORcZBAKqqhADhUIBlSi5CgovN/zjjnHWmvv2lW1d9XeuwpYP/azdlx7xvG+4x1jznlbA/Sbsh0bitgnLtGlAPBh/x741T/9P/jH21pj7LIDyAt7XwL3Pt57+s9j1y6cu5L+v+WIEGKTvRN6XBPgQhH4ir13UdJv125l6m9k+5T4AkAUwTCGt/IFgNjN22CbWFkBgPjGbDrjKIae/xWb5+HYDGMLzHr8yGxBcDuU95r15ClCtDvcZ6esbMVo2ztuqMr2lXrGIWuRdeW+LszM5ElTZTn/0aorBYBp40bgodv/iP/xz/8L//BP/xP/+E//7HKSf/pn/Lf/9g/4f//7P+N///uf8VDTZ/DW5zwBgGPuJ8kAmDF+FO76zT/iP//n/4L/+t/+Ef/4T2Vzmv/+j/+CmglvYnreGREAZn/yNu789f/C//j1/XhhYh7WFYWehxQs1udux7NJjfDP//W/4J9+fR86vZmB5TuCMkopACyaiwY1fod/+Odb0Lr/PCzbzWWaoe9b3hj0P49tu5k5flJEPsPVS7dBlRn3IbMKRMzkkiYuoyplSUkFxo0vAESRqMRbAOCAXLP5KLILKACE3mmWA7Eig7Gs3xDcuPOlWXoQZNQqMAhLM1ysHwe8CgCBRIGT3UzAitZRfx94JWBcMGeMx2FdHSezETkoAJR93F9ZfeLWgccAnsTMGXPw7HOvI/1ZffRznnd7bgB6vTwczw/4GCMmZWJxHtVpj/EsPod5M2ej1zMvIzn9pTAeLyKlR38MmpSPtYX8/7OYO3MWuvd8BU+9Phkz8k4EOPPB/c2lADOmfYGnevVGco/XMXhyPtYVGODW75JUzZ0xC089/TK69J2EuTnHfQHA22fV7LmJEp3H6s1HkFN4tlRCrHM3vLFdOuDq+KdtYkosiThJal4EywB8ASCKYBjDW/kCgMdWx3jeV1YAIL7RMSVfKM1RVBugcziSa9m/dQWADTE+uYhchdG5tdvscqcyTjYou8zl27jA9iFOGgGARxlzc2baXsXNWFxZVy7/NPwvWABweRnLGa26MgV/ybLV6Nf3TaT1fAWJac8hMe15JHV9EcnpLyK5W2+kPvUaer46GkM/WY152YeR5dmkL3//FSxbthYv934NKWFxmpeQ1LU3XnlvCZZs56k1F7B8+Rq83Ls/0l8ahfErvkYW90sqZf7l77uAhYtWovdLryGl+6voPWopMjZzDnh/cxmZWdvwxsA3kfb0EIyYsR1ri9hm3u/4zwPbrOraw9mom3O8xBGXLJc7d6M17s09PfsbcTPAwvNRm+O+ABBFolIVAoDZsC76a844gL0DOuC5VaMI7NFUo4InuggATG3bRlVdo+NaLnfCRXuyOeuIo5xuE1w/vmb7GeKgdfTWz60j27/MPgnqLxooLpsI+SjmRk/mWDZmObCdg8tmfn9WliVwaUL5j3PI9QCu83umgYYDaHLu71lJrQpVHpYv4J5lgG9wXfzX8QdN9iE33yJJpEAZGBGr+LgOsENBY958pqcBcJPLyI4r9QWAKIJhDG/lCwDxm89REQC4J0c5yxQjwTavDSj7dxecTEWKgbFyjHlf2jvuNUABgJibb08WMmWNnb0z9b8o+w6QC2bFTQAwe0+Z4BP5g5e36PPIOIt7D/f3Ae+R0xSfQ+bOEyIsc3koN1vc6PCTc7LsLJfH+4XiHOQYxeRE4fAZl4s4/EV/XxyuA8Zxcc5yGi6HCTFvZewYnhar8enznxDtHmp8lPMelzTKhptbj0m/Gk6jmwDGbo5T4CP3lc3X5UjAcMdf+fX2BYAoEpWqEADoPH655agMyABj6RjkUoxpZT7fYzbaYur6xqKSzmO0DI6CqnEizgQ5EWXUi8sUynuUWn86LgbcNuw6HdI5jlb9eB8KALpRGsFMAb3cvqxw/Uy7sY4UcHjaQWkOdzTr6d+rfGN8I7URyQwFAJJSHjuZu4eZQiZaVebYLm9c8/NS5+4lAUoBaXt2biSkyhcAogiGMbyVLwDEz5ZEQwAQjkLSLCcAeJ3FsudyWfO8/M/MEVqyNj7KpDmUnSaGki8wLV6WO4Rj62jHwrF3Zdo8cxIAsVz4WBSjg6HqyfdYVwoN/M/MHVyeGRycKaNfw6lvOfZdHaF4iB2ltYH/fvxsUHVpa4577i9Ef4QZTYFBjTLGfLjzvNRxf1FsJ5d7M2AXzaCrLwBEkajEXwC4JFEuptm6oFPOQCx1kIX5O3veNtPNYr3rrICqnHJggIaR+dLSCMsnBOHVj0obSYPsrRAnNZ2RSuMohdpRl4Y2vLKH+z1VEzViwHauLkbWL8eNAax0vEXc2nFKojVcKxoRYFZozJuUXwI0o0ORAqUvAEQRDGN4K18AiJ+NqKwA4GL4UYlSE3tCbb4bLnaF/z1rC7YeFYGd6buxxBbaOzqkzFbULIDwy1pRfDepweR+qzcflQ3KIrV5FWkTte10RmQfAB55uCc+wg6DJOSeFJWimQpdkXbwfxM/O1Qd2pq2zHD1Y56s5IrO3Qh+ZzOuyWvoc0WTr/sCQBSJSrwFANcQnzCqFPcCiKEhJoHn+loOxLXbTkiEj2WI1eTkvRlFJJk3g7+082aj5SRfEIWPggqj8gTTWNaP7ebW0SiLchSg7AUQykBUvp48vscQhiOyaVE86hir8eHft3oDMMeWFzAlNbbE2litQ6jxHtl73GWcBFyErd1nIwZKXwCIIhjG8Fa+AKBzJvbXyggATJklvtEOMCtHMHz3KeSWsAGRzfMSjnWJCLndB4S2YJvZCyQeOM56MqNuzRZi63HJegq5oZekGleyziKQMhJv1uJzrySu/4+mc1AavrItXWfoR3vyQSknGAWc0FK5Om8sYtaBse/c0yEedS2tDfz3Y297qlsbO1x9J7n6EStoMigZPK61bYLfr8jrC8gqOI3VW45Khg/9oWjaMl8AiCJRibcAwAkig1KU5+MWYHl0HdXuigy2EL9xwNUF1TXc1Xd3dJWo0iY7lXs6EQS4QBEgSHF2yhmiDgFtwclZ8jtssw27T8lEE3Ej3mDKPmTmgah8KnTo+iJb3sqCKZ31xFyQAAAgAElEQVT/3caYsD25LtIHUTXW/rW0OVjR9xUweXQOxzXP5OZ6zRJZPGHPXc6DUPP3IkgOzfw55kTCIgVKXwCIIhjG8Fa+ABA/W1U5AcBklomzqBzFpsiX3NOnJCaHwumQ7zn2g/9nlvAZIZBZiqflNJJIbUFFbB7rSYLOyDjtHdeqV/bow8AjTt02opAvzv/WY+IU0yGOp5jP9nQFD2vbC7npqukDJ8vD6Ru37CH7UDhZKNvO39G+kwP+KNH/DTvj16cVGQf+b+Jnn+LZ1hzzasu43MaIANxDK0RmciRcPeR3zbp/3Wy9okGN8trHFwCiSFSqQgBgB8ugZBr5tuN2cxQDPG7KrTXKIRxfx1AHfKbfvwijYNMJNySe676YhhIvsFGgydp9RkQAKmFcA5ZTxHVnLqh4n5cOMO733e+YNXS6sYxxjLkpS+yj/zo5xbAU0Tk3QgczEBgxkTWT+3gsjAFBt8yh6lHGe/tsHXeYzXMkKhJnwqB1vR6u7A/dPZ7P5bXdIMa8vjEBLhZ9o6SYRJykmPaDirYe6xn+2C6FHO6xO31v+1HSYDN3nhQSzv+NtD6+ABBFMIzhrXwBIH72JxoCAOch56ODbxLN4nFWRgw0HEM5RzCO8f3g9/S1/sZgpIr4a7YeFUdxPbP4ohwxK8+mCBcrOCf4TRyn05otp5GYMurmgOHxlVA2z2D5+p1GZOBSReFjca4n24FYSMGD7cy0fLHtu085pxmZumpfVeRqljiQe3KpAfHD6dMK2Pfy+u5G+jwUb/HWz8tpvO/7z8u2rZzf9H0YlDQiACPzxyUzmkIV53Xg3A41h8uaC8amyWaXNmuKzn+sfC5fAIgiUakqAYCTWYBHHEg6eYZor9/FdbDnkOscEegCpg5WXgMfHMDmPW7cRbLOyBodbzMQqb7GzzmmQWL9COQ66bR+TGUXJ9kenxc4+dRxNhNSJ6XzHdl1/pxzfi7BhROaUfF418+pY5GnjluOgkSGfVh6HdXYsL8CjYrUV3atPe/UUQgJ6+g7/6U6h+x73UyJ/ULSmmlPSsjlJjA7T4kx9gG0bKBUIqG2iUSRIEYbQuWcoMn1nBQCjC3yjuHA524arQqSRh3nvgIUA3k/EmGm39JhoS3U/4/k6gsAUQTDGN7KFwDCm3uRjP3SvhstAUAwnMRZnOOTWL3lmImS7+BSwjN2k1A9ypjzVx/ENX3uXg2OE+MvyAlBdBLpbBPjHJ5SeL7CtqC09ijvfW89M3ecErsk2QA7jnvqyXJ7nQXWKzSWl+Aru3nSgBE7GayIZ4ZDcN0d215AEYBOOm07eRSXXZyWftGjjZ16BAUztB20/sJbuOt5seGevJfpU7Xv8e/T4HpX99cMXnEJK7N0zXg8L3sm6EkYXCoiJygUMnIdP1tyo/yXIwLYduSYp0BFLsIl0u6YN/M6mJsbe3bJBlfdK7N6yPXp11BMo5/DI8KFr9OWxWC5tS8ARJGoVJUAwImlxpgASyeFUV4aTpJjpt4SILnzO9NVzBIBBSADRhyUfH9j8TkBKirMHNTmHmbTlapyjrV+orxp/bYewyqpn1HgWD8e75JbfCHAqdgkwGrqSFDhBON31+0w6fasHwGVu3vSMFaF86+G0WtYRFVnHTcdtqB6XMpt6qgpR6YPtY6mD8+L6MM60iDxhAgDoD8KKGgfVtRJ0rLeqFc6qiQyep4y09dJtDgu2GYETr7H+XajtkG066W2iSIeSYkq5zL3xHE3xzmZVLpQToCxTfycNoxz9cttBMgjZsnO9hNyX/Yd+6iifeMLAFEEwxjeyhcA4kfaoyUA0KZwXtKO0rZSDCS5JXlevYVOO6O7zN5hdiHPsifGmaWMrrNPQs3gg8E4Cojrd57w8BRygZNgtmC8I/9emxlQT6+9IxfbRkf2hByNyiifCqDEbuMMWz62xwgbbItgvkJ8Ig5VByFfbbsKvLpfk+Ec3LzZ1pUnQHjEXm9d+Zx9yvZgnzIb0zhARtjlPYkblbXv3j66kZ9zjhFjyVOIh5zDnGsqCGggjfNQMx1v5PaIdt10zLOdxd+yHJFBUvG3tjErh5tUBvpbxvF3RUzH56LTT5/ELgFWvk4fgPdX7hntevB+vgAQRaJSlQIAO1MHJg0lJzlVWVkXK2qSIcuMlNHh5WDTBwUCPigaCCBbx5qvXeNbtc5xqPpR5eSyh4Ayy1EZgfWjikzgXb35MFZuOuSIGmwbmWS7z1YbcPH2IQ02U5rpgDIbQBweRjhkE8bAOkofWtFnZb6pI0HUAMEpGQ8cF7E0JrEwUPG+J9ufbcRov/aFvLZLAQiofMS7XDfC/2nbkpDQAaBtIZklcFLo4tzkOOdYVtvEq2ObrCqu2UhKclS4q4zzz/b1BYAogmEMb+ULANenAMA55toARngp5lGoJsZZ7rHF8BQKfIF2wHAUYwtM9gAjZMR+/lZ4yq4zZiO8OGcohrLNXuxQJ8Ech+jhWI6tC7J3spHpMaymTRQsN0sayAM0skubF89liqHqqO9566rijtQ1mLc49XW5p9h3D29ZtdkEPJw+pePvcYL4X/q//jW0HdA5pnjIq/I+b1/5bRm6/cIdV9qW2czcZWByF514K14JpzmCVcpp6HPt8I57Y8/oj5HPGFtGm3cirj6JLwBEkahUtQDAgctBmVtslXYKAQVnhWzT0eW6cjr1dAyN02wGnlGujslndIoJphzMFBG8TmN1MBg66WjQHKFDSIRZh0ZHQpyJ/ENyXZF3EEs3fouMDV9j8fqvsGzjd5KWJ86DTZNSlc2p377LyONjLx+VMxIV/T3TfWi4BVBFCDCpf5ywS7K+wdKNB8C6mboexLKc75CR9Q0Wb/hKPtOjcqQfC1yBQ8pTxXWraJvE83cyj6zTH/w8nuW4vv5L54ydPzLOrE2y43mjgKUS/1Pi6NMmcRxnbPhG5ijH94q8H6xQZ8jvmm3GPtGGKQnmvFX75MzdSsxXXwCIIhjG8Fa+ABA/TIpmBoDaMs5VdUo4fw3GqU04aYMWdJRdcqwEmdyF9oL4zRR7ConkOGoH1OnR/6rqq7eutFcU9dVRoKCvXIXiJ52FFbk/YGn2t2IHF1m+wjobXqb1ZTCGmZwXkSv2zmN3q5CzlKirFXfYj+QnS7LJW76zvOWQiBvkY8Jb1n+FpdkHxBnycjPtV7HvPm8Jm4+yvcp7VPXcqP7/75lXHHuWz7Dc2rYU4SSgwYArBYAdJ2zA7kcZ34ut37Ek+9sATvMll0B5bZldWhpsy2LdRr4AEEWiUh0EAB0wMkCt8kewoCHl4GJ6HEGIwMkBywefy8N+5iXW1Q1QvfVTEiEpTTtOCnhmbPhKnP2V+QdliQAHOAFmUeY+LFy3Vz4T52ITl0eYHXSprFN5I/CIg0EnQwjGSVHjpI12W6LhcTpM25hIsRoEXiNNq9LfOvWRyAidIyPYiEq4+YgAZ0bW11KXxev3S32FROQfMgKAGJv9QiBMGpGpH6Ospo5UIEmc3Hqx7bS/zbFNIepTCadK+8u/xo+0V7ytyyYNOj6NLWFqKu3GaZkjHFMcWySqzmPbcbMuVFRuQ3YpWnFOLs/53jxyvxdg5OtF6/djUaYdv7L0hemyhvTSZnnHqjeiIXMuCmPUFwCiCIYxvJUvAMTPlsRCAFD7FIx7TNunGCBBC8tFSnAUchVrC4Ijw9GyA1q+aF5ZNglayPIHrpc/JjjNwAQdfgoBq/IPYzmF/A0G48lZyF2M0E++YvZhEiwXzmLwnNF25SuK7bTLtM/GoTCCQbDN1PbXa2T1dbEip8icfsB+Ycai8BbuB2AzT5fnfg86QqwPAxQq7jK7QQQA8pbM/ViS9S2YASAij3AWy1u2aT1d7sKUaROgMnULxV0i5WGR1T9+c9AvV0Xb2h2jOsadq83kdH0j8hkGSz18hs48+Qznmn2QS/Mh4uTmI+LkO5wm1+U05DgUvbycRrIBuEcGl7Q4dkznqJuda/yK+GS6+AJAFIlKdRIA1GjogOegUgJPIBAwsmtyCRoc1CvzCUKHZCLI76JAqrUc0bmaiDzrQWJCcsAJqo68iSJ+LYDJSbYy76A8pzMsCnTWNyYlx66LN06ySR80Tj4FEpMxYQyBNQY7T4rTLA6OGgJ73riAlUdI4Hf4YJRS7skIhTjZZ4XccEdgPgjO/NxkZZg6SD0ssDMFjn1i0qMPSb+QADBCoCDK/2F/UexQ5ZGgynZQJZHtZP7vrBV+jOhDx4oRFP5O6rX9uJMdIhEHKYcVRLQuSigk4hKKVBhDTUeqKrMnojPWKgo6sf6dUaLZxqadzf/pPJeNZGSuX5AUUQKcEGuSaxkLHoLtBTuv2GTnh4wtO4c47kjk1HFfpg58zvfg82Xy2XdCYPldjkmmsHJMc44KSeU4kodHeLRjisRRlgBsOSZzh4DL/1u3jRvrWHC0+zAwO4b1jXY/+wJAFMEwhrfyBYBY2xj3/rEUALzzV+1XME9RsVGxkhi4Mu+QOMMsm4mAs7yGG3jvWfXPL4udog0m3tMGqgNBjKV9Y2RQNvvadlywXfB782Es23jAFfK3cC+gI5IRxd8Ts7m8Uxx88hUN6OwkX3E5i3IRx3khp/DwFnIMsc0a+FCct86J4SqWPwhnMQ6ScfKtuGtPdgn4D2ZuWOeIXGTN5qMmQJH1tThM/E/iA+tqhGO+NryFdXHwKpQYtPO04EOA4EyuIo6ZG9ARDuYJdIhoZLkXx42DKXapn4MnDq5Wx/HkzsuqH9tRKIuNqpfOZUymEMUdPozfQh7DB8eleTiCoR0bnGccjxzrkunMZUUisB0yPkHuDzLXlMvwqnzGcJnvPJzme5mnFK10+bDMQRtIE55v55zh+6fNfOQpAQxK5h+UMvB7HPe8D3/POqgfpjZPbWA8+9YXAKJIVKqjABBqMOlA48Aj+DDllunxqtDSeJs1uB7FlZkC6gBy8tGxKOKmemZzNF0zrff2Xo0SS8JeMdLOe3GyKIhyInGCEwQUMFgXGnV+llVodjmVlLPsb833dhkA5sST71pQljX29n4EDU5i3seU3xg5b110spqrNUreyAX/h5sb2Q38OOFpYFbkfi/Gh4DI9tUHX3sf7A8FT/mdTYVmvWQZx3ZzlJ8aFEYPmDpHY0MlXoxKmEcC5e4xqUxunTz1KXQdRbYJ/0/BWsFe+oFRX1XoNYtCswwCohCuwultz5tPpS9dlTbj0hXnJBqmqnSQs27mgBshEWLJtLLNRyWKwjFFAcyA23dCKEkqGXFhlInvez9j9IXZJSSk/B7JqYBeniFqSkAJqCRbtA8CfmIXNAVX7UGwTSifLHBMmCiOmev8P0bCWA/OWX4eypZF8z1fAIgiGMbwVr4AUP58ita8iJcAEFxeL0YQ4ykqmmV8zBLaJ+nktEXq6BGbRFz08hTN1lMB0QZBvPcO9byiPIV14P1ox+mUuE6qEdmJo7TpypkYxaYNpX1jXRjtp91Vu0pMJ54rLpD/8J7G9puoOOss9/Rsfqq4rmVx8Z1BIOKLdaLoYGvqcgjO4mCAOOcuZ+FeSuJQebgLeQtttfAdcp18ijRm82jWmxyBdWTduG+TWQ5guJmWieVimYPHQvBrUz+3rU39gnBTl756uIu2m/AXb6aah7dwPLHd2a4mi8IEbkIJBqas5Zc3uPw3xmsvj3FT4tkm9AUch12cdZvZ480YlCXJNmtQgmrkMobPkMuQP3O8kAvLuMp3MwfJYZTLMLDHcerlM1weS5/G5TPmO4F8xvBw/ocEvDxLn2lvRCQSH8cEUlgfjjOpX5gBCH5X9umQgOV52eyUNozloH0w4yd+tjzUuPMFgCgSletFANCBwNRvjSDTIKsA4EwqOgGM5jEKaBVbGnZOSKaz8DnVeN7DvGcmlUwor7qsahlT1XZ6gNpJg2Eauk1FF9B2lT0CnhoCAyhmN1MRH4qtEfJkKugEpRExzvG3YljM5A092Rg15YRnWo4ArDVIfM5yEYT1vuaoDgOibD8BZRozcYTN/gr8b4INgUTA3Kr1BGpTbvN7GhqvWMA25G/Nb07Jlc9ZDt7LbJijardZY0SHjQ/2hflfA2D8jYIY/8dpX4o3VMDVuAUZtnAdcjFudokJ78f7838kc8JxVj0ZBrZNOTaknLoRpbaREjfuO6FjwEPctP3z9oTuQx3TMbkGradzCJXNpJG2DFalnciMiXZL1MSuDzPZHQpwh8084vyyzraZY+6cMnP0kGSzEOg4rglwhkR5nHorMkl0RSP3VoASp1+ImUbmDfCJI6/k2SE9BgBVpVbgi0nbeuau3p9jiWl1hhD/IONKP4vl1RcAogiGMbyVLwDEzwbStg9+ZwLGT5iIY8eO4dSpUyEfJ0+exOLFi3HLLbfgN7+7FaMnZQhhrux8Jd6u22YixBTRNT2e5F6idpb8k6fQZihPUT6y0m6kJ1wliKcY8m+cDnH8rPNHW038LMFVJJvPg6WKUzZSze9L2rssLzSnE4nTb48mJYaJuBDk5BI/WF7adHIvlqUsm8v70DYTb8kP6NDKvgg7TgiHobOqvw/Ead0TyggPhrOY36pTzOyCzB3MXjTHyNEWKw6YIMxZ85/MTrQ8kO1oshI0w+sU1rP9hLd406gNPyI+EbuUtxAPJeBkfxMg5Cgf0LYmJ/DyggidMo5Hb5vwXuQb5HEB3MXDu6RtnOwJ5S922WgZ/EX6QQNk3K8hTMexsnMm5O9tsEfLYJx0j6PuZAoafihtYgUiw+tMxirHhowbCZqZ/lR+zjFsMjsYNDCBA8NlbJBLslVNxiqdYI51l8t8K3tXmQCF63cIJ1IuI1mI7vJB3oN+CEUCzjszjtygZeAYLpn1EbKdQvCRaHyPvgLbgvaLHI5jnH0RjXtX5h6+ABBFonJdCQB7fhLHmiAqae+7zxjF1jrrNHqcVK7DZtdhWbVUQMeqdDQA3odMSPsenT2zaY+u4zKqnwO41nHmfxGsRc2zCjLvI/eyu/3yXgIUIRRbuR/T2S1w87UKEwQiGndxhHXNe4EHSDS12OPQMpWOgoOQiryD1shoPW272M2IxNEO2K2WgsHFgL0ABHS4Vs4eYyhG1EbODUlwQTt4QjtG21FXXcPN9mD7yjp+BTIuLyCAKYjZKL0BMnc9kyjizmkQdumCbUNDBEKINQLEnmh+EABTnaeT7i2z4zA7aVwXhFSwzCoauGV1y0fi5x0n3uf8PtstQKVnRooVNHJ4pqo+bORHPvMsfzEgR+HCiBe8n2k3Ci7u0gi2sUYPZDzbdEOOD7ODq27mxCUnJr2MhFTHMt8LCYjMBvFEUZSk6lVJrF4l8mJP6DDz7Rh0MxmWRYQ3q2SzfShoGQJHwSdIyfb0W7iiT/C4jNVrjh06Hms2HxFixtex+i/vfX0BIIpgGMNb+QLAzSMA0H7RjtLe0V4Ty2nnBAv4XFLaKaa6jpl+RhseyFPMOnqXq/DEAfd0JLGfFtN5nKCI7nZvE8Ue/T86HmrfJQhiU/SV+xiRuzT80nsbZ4X/w/sSI4gnYrvpkNqlg4rtwaK9wdUL4hATR4lRxA5xjPIPy73YLooNpkw/yn4BxjlynXtiIzmL19byOf/DcBY9rcFgIfuBfWN+p/bZkzYfJJpL4MSJDJ93or2084LDHgxWLiACQgjuQl4gXCaIuxjMNm2r4o3wPmdJg7tprPKE4MzVYO7iLTd/QxxlP1AUYf3Z7uQNLCuPPBSuQN7i4S7cX0r3mPLu1eBwGCez1uVV0rfKX3j1cBhTBsOhlMOIgKEiRhD307GrHMYEIMwSU455zgdZairRdtdBF1FNnW4R2EwwMJifkMO4PMYGBh1n/5DwenJ75TG8ym+8XEbK4R2rdOhNli/7MpjnuXzmonNiE8erd/xWp2VBLBf7im0tzn+xzpn42XIv19HnvgAQRaJyPQkANF5Mo+GmeTReHBDeycPnYvyt0sxBS0OiTiSVwAAHw1FSA9fQO0bcWWPupi0bB9Sky9Oo0DBwgtCQ896q9HqNLg2vRpxlbb0ApUe9pRNnHUMVEKQMFsgNIXCP4hGRgEft2NR8Qw6MUWR5CO4qAjjOnSiPhwXEjKOl4oK73p/tqw+2nUYG6LCxHWUNH9MBLfAyMsA21wedMnku/cK+CW0opF92nAjoO53c7tW9r9zTAWIFs0AQprEVZ9g6xPwP7cdgMCFx0TEhn4nqb9R/1pH96AgvuheCZCEYEJU+LlRgNeUxAGuzCmwKH0mS9h2PQRTQsulhCizah7qMQvt/9aYjRgzyghL3uyAoeZZjON/X++p3gsCLa8EIaC7ZsydoeFLZhCg6UQMDtrJOUdrLBV8CcMBDfuOJLjgRBit4BJCF89gYnMFRwWU27lgJPc7i/TmJGecKx0K8/tsXAKIIhjG8lS8AxG+OVmUGALGKTiv3vKGzzbIYW+CSZ35HNqGTzfVMRNzlKcbBFufB7luj/ME4ncQmzdBitpqbksw09WBsI18h7gRwFZ6vzuMHbVQ6wDlzssIsF6DtFifNw1e4fthinPCfrccM1qoALRupck29mw7N73mxTp184hHLJhmbFKI9kVM+5z0M9zDp7cG4rHxFlgUwVZ9RfueoRffIZHG+HAHZ8kaKtGFyFnId8gk6duXadr2nvRpH2PKFIC7I+pTgLjtK5y7iCCt/sUElKZeDucrrzN5Qwjc9mQjS55KRoPzFLIt1BAJZvmeCMcJf7D474nRrfyrX8HAMw0NMfysnYZ9L3wqHcaPrMg484pN+n5yHz4XjeO5tXjNrl8fuGg7E7wnvtbvSs13ctrFcRYQ2l8cEigjKZ2zqvgT9vCKNZqVqhogGbrwBCrN80CvIVGYpTrnjKkaR/rL+l1yf7UYbUF3ECV8AiCJRud4EAE58HpFHACpr4JrP6ESaNeYET/7GGDWjctNw0lGkkSRAeCcyjTaNIhVt/kadNzE8VP6sCknCTydPHUljjI3RMGKDSePRNXTe/xDHVsHCgpM6jPytOMpWwCCw8eH8L9PuZWMdlt+cO+so0za9j+Aoai83GrHr8OQeskEPd+H/3qyvzuWGImaNNQ32mi3GuCqQklSYLIaSUQCJOmy3zrOmZXuccceZ1uUShedsZPpHaV+janOtkj48yrG2jfcaZATpABnD5G4wp+2qCnSAGEMwtO2j4EtBxBAw3QXYnvFOMmLVZE3XZMSDAoxDZhiN8YCWATxN6zxoU+Ttb0o47qowW3BTIqSReK55dzaqsylmmqZmiRKNIftO0tBsOj3LxvHKvnbGJXc6FrJoQE7HkwFOBT6TQSC/8WSsSGRiV7Azr0sydA29yV7Qti9/bsbPIYhXWTjefAEgiuB0A93KFwDiN9+rWgCg/aTdJhbQ4Srf/hieQgwkNhEziddqhzO369I447TTzqid5VV+Z4Me/A1xW0Riis5eriIpx1zmZ0QGw1U8GXOedcTyH0H/Y/7TZsrZzEM68uQsFM4ZYOH/K4dRjFGxmJ8Ra7MoPjhOKUVzYrIRHCSzTbmP3dGc/IN4RkHAwTrZBM2sk2Y7K1dRfsb/dniZZEbQoXOzF6Qs5CvqOFtRQ4MIwg2CshlEXNl+3GSmOXwlBG+xkW9vHwUHQ8hblLuY52Z+6G9CchfNPPAuXbTr0k2bm/10hI94uIThLkZcEf7CFPQgB1ydbuEvlluYDEA3NZ7f4b0DH8phzIkQ/D37ibzEcBd3rTtfsyxm2aDhRgxQKccxHJRHLrpp8hw7Tj/aQI2OMb7vOPUqimwzyzf4neAHxzs5NfuY/Ut+zHGoQTvD0QP9APZH+fM3frYt3mVhmzAIxPaK93+X9n++ABBFYnQ9CQAcEJysTCsm6JU2QMp+32z4QWCm40xjIM6xNSYCDDZ6TINvgITR71MmfSxgbb3JOKCDyfuJY6mKrgOIZgMcBTFNbRPHy27kx//gRmg0rEIc8g6K0ZN0K0akxcGnSGFS7iuS/myAxYghvB+Np+6JQMNOw80ry8k2MQB93myc6EQFTIRbVHfPenEq2KJiK4jKrunufgDieHoIDY/N4f8JoEq0QFVa64hquhyvXkNOsKY6bu8v/2sjFN4oBT8XAmX/05tGpjvvkhgJMdHotfyXmzavaXEGZNw9DAypMamboopvNSRLSBej9gGqt2evCQc47ZIMVdNV6RaVnFF60w8cC8aJt5F6SR10QY3lYsSH9eB3KUoYwDZXquWOSKH/bcvHMvLhFQrYRuwnjnMDjh5gDCKCnF/uTtY3LviVbUdK1tsXAKIITDfYrXwBoOR8iXR+hfv9qhQAxDbuuWSF1xMV5ChsK/IUbi6qa+CDMwXc/XoowgsuUainDedGtp5Ud69TKWK4RqElE9GN5vO3kvptI/jEH8NXbMacde75nmAOlz/mfC9YorxJ8EOWcdnAh8WOcPvO+z2Xs5wXfsE6GpwzuEpH0nAWE+lXzqLRbDcg4mY2Gp5g+EoAZ5HMQV1OR45hghrCXVhvLlWwe0ipaG64gIk8C0/wLLsTPFXuYh1X5S3igKoTKn1gszo8afDCX+z/KgfR/zO8w3IQx/EN5E7eJYBSXgoiNohk7mP4D/uS/SzLSpiNEYq/MKuQmygKj9AlpRrttwKAPY1LOKXyC37fBiKE64XkMOR+ymHMenyzJ4bJGBCeQi6kHIbXYB7jcCWzj5U6+spjyM2dAJwnmFQRHu0dnzfDc18AiIyI/KfIvl71377uBIAiCgBHJNW/0hPQLhkgWBLAxBCKMTHGkcaLDhY/oyovhkTUXaaOBRIaASur/Iog4FHyjUqphtYYUHE+HYNs1hHRGItCmk8BwERvCRr8b2YpiFrpXTNOcC0DYFkmOiUsN42hV6GnkSQAqnGksMLvKOApoLNtWB9mUoRqbyUX+l8UZoRk2HVnvC+B2KydPyvkRNuZ/8GHcWZ/lOipE70Qg09wMcehiDNrVWslJsaJtwAsbWnaUYBKQUIda2ApaiMAACAASURBVG5W5yjbZs2Xgov0M4HQRksCgNam7st/Wqfd/P9REW34nN8XkLUAx7YVsLfCiFkXadpAxBMn2uElde4SDyEakn3ADAAq9z+Y5QCbPWq7ArVswheYXsdxxDaVPtTsDBFNDMEhSVOCYUifpo4q0TNCiOkfQ4Tk+7ZervDiGZOyJ4XZdTY4ehRq3NyI7/kCQNXjWXUtgS8ABOJlLOd/VQsAdN5lbbcsU4xOBJH4Siyl80hnyjhjR8x+KtaJIw7RTktGoG6qJ/zAbXsKt4rZtFfe7AFiFh1X3kedfOIxl6+V5CsG/4hPxFHBGxWQLV8h5pML8D/Mf7mZC6X1v/II9iFxxsEpyR7wnKBkgy7kRg5nEXxyv1MaNzI78pslhjnFhiOxfCV4iydTkO1OnsB2l761zjn7Qhxy+5n2izl1QLmLRs3VeTZcw+ENeg/LLxwHNyR3CXSMDXcxPFX6aJsGJzRb1PBOh7+Qz8j/sC4eLkohQQQM3ZOKWaye5ZA2g9PLX8hJJVtFxs0JO26OSmCBHMZkAuiRdG65OV4oKPDKQJCbaWB4mVmqaMacCikcB0ZA8XAY5TES6NGTJlwOI9xSRRjyIMuFnHsJP7PLPSUjxSyHULEgeMxybJY2bm/U930BIDJG4QsA9VsiI+urmE0Uqrs0spyckU46F1zc3WiNk2Mi/HSACTy8N8FD1XcafxoNcVSZkmSBlu/LZzYNywCDLgcw6Wb8XJRIm6ZPEOekUhB2ryb13YgFJuWGv5P/EEPnrveTMtt0NjpzRnV3jTV/p+ApjqkVE/g9kgMpgxUr1MgR/CgGGEfdPf+XbS3RZLsWj0Y45ENUbgMeXoBUR5TvKZjLPTcdltfijLIOumxAzic17Rr8nv6v1tm9eo/8M2q9C8xGXdb/VCVbnfgAZdpuJigAYbMHnM17bDaIIUIGZI16rml3Zm1+wPp8u5RCvudJxSTwUtDQaIYBwUPO2n5+XwmXth/LZOqr0Qv2seln9jXB2m0PMyakvWz0Qce5Rnh4XwfwCZJ2/aZ+j1f5jmRjmAwNQzC85zLb9+36OzPWdPybJQdSJi/Q2g0tOQaVcMl8s8q8qvICttcZ4LIe/hKAyADzZvm2LwC4TmikuB3p9697AcDawmD+QZssOGAj/Pzc5TRmc1riAG05bbcuT+RvFCOICeIwB9l7xRd+T/iK3X/AOPCu4658hbaOfIE4ShwxnMPgkSwH0P9RB4wOnNeJ82CC/NZuAszItWCy3UyNHECDEMJVPJvLKWdhYIT3YL3oVDucZdMRea11M3hoo/vWeeRngn2K9xb3zJJH5TNmOYYGDHgfxVrzXPHX8BZpaweTDS57f6O/VWzkVcphRQXpOyeg4VliyCi8h1OIgCBBBxdzpY2lrd3giuCyvZ/LXzToZIQAaTO7lJHPzSNQsJAAid18T75vOYzyGGmf4H2GPEsxpGwaiND+Fw5jx420mW1bz3PTb7qE0d2c0OEn0m6WwwSN6wC+Y3kK2y3gIVmghtcoX+a9HS4k7enh2Zp1qnNEuYzl1DpHXC5j95wIWr4aqV2riu/7AkBkDMUXAKqZAMBd1QkUBBEaEu+kpqGWCLiNoiuYmii2cYbpMBOEaEhoNAh4NH5UUQmwfC4O3CYeaWc2w5E9BawCz0nrrvdSEmTWf+n73qsacNd4hFhmYAFP6mNBj2XgWaJ8mDPTdX2cPQ3A7jgshs9GDAIi3jaVTNrHgrUQCRsRUOeO4Kx1psHna7NG/LRkKVBA4EPS8Tx7EXiVY7YT21Ed/Ey7oZBj6LlmT3c0Djbu4qQbcDO70xpSxHZTQFUCI+UQ46w77WskImiDQRIuRxAxO8+TXHkFEZaV9XTIlY2SOO3JpQBOtoBV4S2wqIrtjD279ENS8hSUeLUphKYPuF5SyYkFc20Lh1SZ95372n6TdnSEGqOce99TgqZXp9094OmAqwgAKhboEgkrAihwynIKEzUyY8q0hUZMhCw4pMLdvIffNYTEFRJYF5aH7c1+dNM6TWZJWdEk7zyqig1rfAEgMrC8mb7tCwCKfbG/Xo8CgHAPy1O4273JzDL2nbhG/AwOHIhD7Aj3Zr8f2s612wxXMfbXjfJSeJbssk3c58duXOwNelgHhXY00H6G5issM3GCQrQ6PcqhjLhLDDXr+2nLadOlXtuOiwDO5QPLsg84+w/xNTMgyStYPvIrx1ETzmKcVi9mOI4asc/ucyM4qoK95TW8nzqqfL7W7p/EspvsSnuUr2c/Ai9nYfmN4O/yFnHcxXlXB94IBYw0m72RrLOqnEXFePuaezgp3wvmLl7cM5in3KWkGOPu+m8yOty2D9r1f6d3iYfJEDBczBUD2DYmAKEOsVla4Agiwj3oHJv3yf/kYbMgzUkCgc6zV3AShzyAx5g2cziMBCOMs8/+VNHAPGc7uwEo8hd9OPxG29hypAAeY/mV8ix+5i2/M9Y0WGM5XWk8RvwAtleJzFHTJmwj4aUlRDU9OcHtU85lnUPq6AfwGZmTsbed+t969QWAyFiKLwBUsQDAScRdxmm86eBzAtLoqGMhBt9u/iHOqq7ZVyfUowTTcHmdEU3Dp2NII8vJwUgm3xcH0W60J0ZH1XobdTcG3Z5X6tnMhb91IrkCMkaRdcDFo1QTtGi8CIwESTr9jGjTYEtU2a6FMo7Vj86xLmwD1p/EYA0VcoKh/l43drGGjAaR/6F1F2fa2QzH1JP3InDwHnqGsYAqMw1sZNmo6mx397/lvjzq0KZ/6X+w7cThc3bfd08m0HajQ65tLsTHYzDVcJa8egDRsxTBuw5Q/ttuklgSqDwbJqnqr8bc0yYuWAeuNTM7woaTNmZ2I6bowzpo/ZTgmbobQUIIlR0/snESy6GKtLOe0GaOBKjoKgQErm2UcSFjw64hVHHCLmfQueOAZgjgN4TMkggHPI3I4wVPEQJ03Nn0RhmHdm2ljGe7B4KSNSc9UJZwuKduEKyV/JEcGAJldoqW9lB1XlJQCa4lAVZBLlpX9hfnJvsrWvcs7z4kCZ8vzsftd96LX/3q/2L8+PE4evRoyHPPSzsPPdT7Z8+exdKlSzFq1Ci5X2Qw6H87uAV8ASB+5PV6EACUp9CGE2PJM2iLiZt8zp3+yWEEWyik6547egIAN9wLi6vocaoXDVcpsFxFIvSGT9C2i6Oiyw2t7fRijRH2TVmVr1CoIJbTFjsOmEazxRGzfIWcY5MJlNDeGyfTBFLUidIAg2kDT7TX2efGcBZmI/Ie/J381orPAZyFWQMefJb23UFhxOy1pOnpXF5I7BIcEd5iHXbLFx1sFMfxhPO/6+iYBvEB/ocs9bP/q7zFcEWXFxAjSvKUEAEJm+kgzrxwF3XmLV8U3mpwXtveOx4MbltH2sNjhWcJXzD7IpQop+eEnkj5i1svk83q8heK94H8RYNEIrJ4OIxpR5OWr7zQcDTX8RcxQDc19swB4SgasFAeanmMzi0jQIQIZHgyJNShd642sCNcJjgDwpPJKZxFTlvSJaaGr3C8Kp9x9zdwN4ZWwYXjUEQhZ2yVxmeMcKDtrcHC8rhCRT73BYBgJC/7tS8AxFsA2POTOEw0MARNGgFVNQlMOvHFCQ4wFhb8mOrDh7N+zU2B8wKwUbLNJnhipLhTrdfBIsDYI1MIcOLYyJpznqfu7roqa9oFvHTtuD031CrYZndWnrvJctglBnZ3XdZLAVPqxqMHmdLPfQHsWfEmeyHUOnwaYLf8Ev214ggNHe/LcnITQtmNVXYxNpvsiMPOjfu8jprjwHEHXhvV9WREGGLAjAg9ZUGj8BflTF+2lYKh14B5VU8TiSi5ZpH1dQDFQ45ENAnRxzoG5GqFGY4HJT2BoGh2t/dGmgXIPMBdEUNaFb9RgDBX4wRrXQKvBBTzcKMHRqxS4ieiiZAc7/IMTae0Sr1tUxF/ROUvGSXguJX5abNAOHZKLoc4KPseyO7AnvG4ItdEiLi2cCX3RnBOQDiAjKxv5OitJVnfmCwYuwu3kkUlnfxv1y7oWb0m08CMK22LyEUDtqkvAJQNkDfrp74AcLMKAKbetMG0D3QIib2Gp9gorIjuJt1ccckR0EX0Nyn9JrpqlwGos+5xdNWp4n/QseNr46wrV7Hp6M5u/XatP/fLsbu3kwOozTS22TrajJrrvjJ6TN2OE8IJaFMVQ3kl5hNraWe5eRttr7G55rQA8hCDM8aRUe6i2CN22BHszXF2652TARhQMBxPMhqEs5iTcHQDZXG46HRRbLachZvTyftSPyskyxp4K1SrQLH5iNSTfcT2Y5kUK5VH8DX704vpoXiLbOQoor4nEEHu4jj0VtixdZN282ThOVH3gPdcrA3IGpBxYDDblNktt5bX8ID4zUNv+1TkuXevBlN2CiUeccHJ2tT3DHbr2JJ5wGCJ3YNK5oMjpHmCJBr804wD5TE2eKW8kePfyRiwmQ8m2HbM2R9CuIwNcmjwwnsqgpxiYU93In/Rh5frMIuXPCZjw9dYkv2t8HF+L3BuevegsiIWfZhd7qlgDp/xjGENhATvYVZa//gCQGSMxRcA4iAA0JArIHBSctLJefd59ogRu9mbOAoW0Pgbda7FCbCpYUY5Dkql9ijAkupkVUQFZ72qARbwC45eBwCzHnFjlH6W2ah+3GCQAoDZ6I8Gi5/xQceeSqd+V4GUaeM0SEaBNmvfpRya8i3Kuyro3vQqqp62ntbAqXJMsOND1/9JlgRV4gJzVIqotNwERlRn85+qNovqqlFj2T3Y1I3kwaieZgkCyQvLSWVeiYw62TTYXnHCXUNn17I7hIP10TqZNLSQfeFVuC0AOMbQ68jbiLsB80BAL80g3tzveyMVFGZIJthugRkMAtYOOAeJUY54o8DsOa9YIgGaEaOk1Sr/VtjR+cFoDuexN5tFjheymz0KWHo2UZLjhuzRUQaEvzNHStnjL5l+qimoBG6OXSNseTZU5LzR6M8uV51nFM+Mr/O+ABAZXt403/YFgPg5HsSSwe9MwPgJE3Hs2LFSs2FOnjyJxYsX45ZbbsFvfncrRk/KEGev8jbebAJIZ0Fw3EafyUHISYSXqJ3i1R7tKhxFI9tcYkixslye4uKh2EabRUB8VmzkVTBeM+1EyGWWXRC+281pNSpLjsX7qGjL+1OYII6zXvweHSDyETfbkvhvl0k6jr/yFXftPB0V5R8sn/AJvSpPsZF3yYqQ+njWh2tdlHdJKn9pnIVcyt1QUDiLjRArnrCOgiW6pFOOQz4qdRMxYPdZ4WKsqwoChrfoUlF75LKUy62nUzeHt3g4mGKJRHzNHk7ezAUTnTfBDjpiXkdexAXPho6VH7Pxm5/VoayuoGB4TDCXcT53eMxFJ8hmBAYbhJLMhtK4DPc28O5vYPeq8uyPYcafy2WEN1NACGEfyGnEVsgG0RS9zDHePAJ62cYDchS0HqUogoIKDWJjVPRys15kCa36DRyDltNwbotIZ0U4zg2+Vx36jWXwjwGMIm263k4BoNOoE0FVM3O1kXZRnM3aYjetzK5JEgLvbjgnIOZxFkVBF3Xapptz8hepumiusrMsnUiPI2mMRZgGdM9PznpzOvwsAwFVgILp8VaJZh1JFOiIyH4DTHmmWODdydSCvACyZ1MVAyJWDfYcgaLAJUASog7hTnA1jt77uWBoHDiWiWBJAyfgyvWHVozhlaKNEAoFe1kX5yUthiCQWAhRsQq3bGDoUTSdugQ482H2xXW4KUu4fXSjfE/HmrmaeecddyWf6x4OFJUsOXPEK841ZjCYsRUyU0EzFJw1p2YNrVm2YgDYkHhzOoMZ00YsEEFi81GJGsWr/f0lAFEEwxjeyhcA4meTq14A+EmcW8XwZblmJ3T3RBeTws5sIYkgWiefeKmOsCxrEkx3N/d1HXaD7bRv6hiWtIOWowhPCUw7j8Q20e7KvSnSF5yzSx11jwJzlDCFC62r2TDYdTJYJ3Ibedi0bQleWL7iYrt7ogy5RDDvYhlKcq7wRXvFkcB2MqnpJjJsBGeWjWWWSK9nQ0GtIx00J5DicBcPb1Gn3qkfgz/sL8spy+AukfSL/9342ZNotXXJjIZA3yJwbOpnNoBinXE3UOYuxyGnYRBRfQgNyjnZCkGcRpdlmjFtREnaJrVPEgDxbObI71Psi1Y7VPY+vgAQRaISawGAg3r9Lka5j0blsW4HCflBrNr8gzxWb2aE+SDWbOHGNoewZis34+PmdHQwaayPYF2ox44jyC48A5N+fkmes4y8f7TKWt59+F/y2M60s8NSdq2PXtftOF4CPDSNR0HNew03taeyk7Cs37M8Wbup6pu2Zz98ufUQVm8xfaV1Wx2qz9gWAf1FFd62U2X7ZucxbCwMYcj2XER2wQms38VUxuvp8SM2Fp21Y9gFRBKl9bt4JnT8xnJ5Y52fr995TJYalDV2Yv4ZlwwVnUPmzmN27nF8lbQRHINrtxs7QntCu2JsjDuGjQ1SW+TaoYq0O3+zYdeJEqml5bWHLwBEEQxjeCtfAHDtU3ljurKfR0sAyC48i8wdXMYWmR3lXCaeE+dC8hThKB6eUgLzvPbI4p8HA9W+sHzaVsxAWr+TxwBGVtZIvs//JRbTNpJf0R46WB7Ew4SDWR5G+0qu5eUpfC7ci9fqIMR7AgjqqJG7UoxgEGLNVtOfUl/lLVs8fUi+GYAjgbxF+yyS9g7ruzuPwjsOvG1JrrNh14/XGacx/Ivlzi48HQIPLyG7gM5ufLl6OH3BPiaGc+Nxbz/E5TkDi54xzLmVU8xjQ5kxbDi1cJptJTmNzmGvrXK5zUGQp5PDh9MGkXwnuyBU/5aPE74AEEWiEksBIH/fFXy+eDPSuvVC1y4d0S09qZo8OiIxsS2Gjpokylbungvo/9ZHSEpJRLeu1aOc3dOTkJLcHi/3f1vU6LgYkSgAMR0Srrd78bWhSE3tgG7p1aM9WY7klCSM+HCGZBRoe3KMLl+/HX379MCzvVLw4nOdrptHr56pGDpqgiwjcetzGXNXFSAxJQ1d0hKryXxLQnrXjkjomIhpC3PtsoHyDb3WKZpXimcff74KyampSK8mY7N7tyR07pyA9F4vYVHmvojIgy8ARBEMY3grXwCI33yPhgDAiNrgdz5FSmp14SyB5UhK7oBBb38iUT9mxX0weSlSOnWqNjZNuR5tbGLHtnhv/CxsLDwXkW2Lpt2vzL0+/nw1OndNFwzTelWHK3GD42DoqMkiUmgdiQnMYhg68hM83SvtuuEzyr1eer4Tnu6ZgoFD35WUd2+9vtxyCK8PGoJO1YpbJoF9kdY5Ad2efhEzl20PIVzEz/5pe81Zvhk9nuou5WL5qsOYNWXoiNTURPQZONL0b4QnHPgCQBSJSiwFgE1fXcG74+bghfRHseGLRtg6r1m1eGyb3wxj+9+HZ154WQA0p/gMOnftgk/frIXNc5tWjzIuaI7p7z2MtLRkWdsTeCxP/I2JGpXyrpv2X8G8L/ege5c2mD/mcWydXz36fMu8phj1Wk288Ep/WXqg9di0/2d8MW8Fnkq8C3PffwzrpzW8Lh6ZUxti7ICa6NY93Y4PMyYI/hNnrUNq679iw+cNq8VY5rzfPKcpenX8K96fOL9KBQBGyvoN/RiDnnsIebOaVIv2oT1aN6UB0hIfwReL85EbgRDnCwBRBMMY3soXAOKHWZUWAChi5x9Cz2efx8eDH642GOblT58MqYnnX3hG1gozQt13yGi8+WIt5M+uHjZNy0o+9dbzf0O/QW9Vq3XEiv/lXRlV7T9sPAY9/6hp22rCZ9i+2xc2x+h+D+ClPq/JnlJaF2LCkqwDeOaZbhg7sJZgy/XCa1jOrC8aCRfv2T0Rc1budkQj1itj/T4837MtvnjnYWypJv4E+4IYvvaz+nixR32MnbIsSnuJVMJm7vkJn3y+FM+nPYTVk+pJ+XROVvWV/fbFu4+hZ49OmP9lkRyTrmM3nKsvAESRqMRaABg5bg5GDmiKc9s7AXvTq8djXzesmlwPL77yqqy5owDQs9dTyJnZHL8Ud602ZdyytCV69UzD0o3fBZ3LWwnDEIFzEc5kDP6OCABrivHqix2xf1X76tGWe9Px8550ZExoglf7D5bjgLTcIgDMX4HBz9fEoaxE/LIn/bp4/Fycjvw5rdD7pZ6yAYzWhyA5aXYm+vR4CGe3VZ8590tRV7z5Yk2M+XRB1QoAhecxcPh4TH23IS4XdKkm47MbTm1ORZ+nG2J6xia7uWJ4c9wXAKIIhjG8lS8AhDee1Y5V5lpZAYBzigJA71d6Y+20FrhaXXiLLce1PenIntEM/fq9JAIANyEeOGwMpo9ujCuF1cWmGa5HPjX7vccxaOiI61MAKL6IQSMmYNLbzSxedKsmmJEOfNUdiyY0RN/+/UsIAIs3fIP+/Z5B3pzWuFLU9brgNMq9ru7rhu0ZrdH/1a4iAKggznm5eP0+DOiThO0LW+LqnmriT3Be7uuGE5tS8O6A1vh46jLZw6IyNqzSv93zEyZOX4bhferix9wkYG/1Gbfstx2L2uC1V7r7AkAMOUdYt469ADDXCAB0Rjhhq8Njb2gBYOPM5rhKAaA6lHFfN2xZcr0LAO0MWFaD9vx5T1dkfFJSAMhnBsD8lRjyQi0czkqsHn0fRntdLU7Hprmt0Lt3GQLA1tRqU59fCikAPFRtBIAp7zbC5d1dqk37nNyc4gsAYSHW9fklXwC4XgWA5sbRCMMmx4s3lC4ANMEViprVqKwUfme99zgGv3W9CwBNqxVeSB/v745Fn5QmAHyL/q8/i7y5rU1QqxqNiXLH575u2JHRBgNeK0cAKK4m/gTbdm86TmxKrpYCwLGcpGplE64Vd/UFgOpCY3wB4CQ0A8AXACpP0gIzAHwBoFywqyAw+wJAxcYq18syA8AXAE6VejzaqVOncPbsWSxduhSjRo3C0aNHqwtcXbfl8AWAis3XikTCopsB4AsAlcEwXwCIoZPqCwDVx7H1BYCw+8IXAKoRjfEFAF8AqAjJKu03vgAQQ8D3iAW+AFAxh8IXAMp2/On8+wJA9AHaFwAqNl9Lw5my3vcFgPhgUDjCgC8AxLAvfAEgbKcznLFaqe/4AkDYfeELANHnFxW+oy8AVFIA4NqafSEeXBfkcdgifn4zLgGIVVvu4R4AUVwCYNd8leh3lr8yfR7Bb6MuAETa9vx+BGP8ul4CEGp+873y6h9BG/lLACoMYdfFD30BwBcAooUNUV8CEKntjwCnbmoBoNR2jRJPiLYAUBqvIdZF0OeV/m4slgCU2hel8HS2RXn47m2TG0UAiAPX8QWAakRZqoUAsK8bru0PfGBfKRPTO+kq+jxKewBcLeqC49mJ2LOqPYpWtkPRKn20xw/5ncCN2ipsDG8yAeBqYRccy0pAMdvSacd2KFrdAYc3dwYd3gq3ZVQFgK64uCUZX38ZVM5V7bF/fRIu7I7PHhJRFQCKu+J0bkfsWV2yTgdyUnGlMLjtu+Ls5mT8kJMa9hi/XgWAn3d1wg+ZHVDsHZOr2qH4ywSc2J5W6rgkyJ3MScKRzZ1wJYyx6wsA1QgUY1AUXwC4QQUAOhYluEtsHaZoCgBXC9NwdIPlMF4bt7oDjmzujF/CsF1l4fLNKgBc29MVp/OTsD8IUwtXtseBjSm4VBgFnhBlAeCn7ak4sLZDIP9a1Q771nXE2Z1dwHFXVl9H7bMoCwDXirriZG5H7A3qi6JVHfBdbip+CuY3xem4uDUVh3OScb6ga3j1vgEEgCs7OuH7zITA/l/ZHsVfJuLk9rRS+/5aYReczEvCkU3h+Ty+ABADglHRW1a5AFDYGUULmmHpJ/WR8UkDLOFjQkNsXZmEK0UxMjjREAD2puPS5kRMfOpPaFnvt0hqcStS9dHmdnw4tiXO7KqEkb+ZBIC93XAhpz0+6Hormjz5O6ctU1rcik7t7sDkia1xsaASbRlFAeBqURq2f1QTyfV+jXbN/uj2ecs/ofeLj6AoOy08wKgkmEZTAPiloBMWvfZXNH3iFiQ294zjln/GsOGNcGxr4MZS14pSkfXeA+j38hP4cUfgZ6WRgOtSANibjh+XNkaf1r9F60Z/QLKd3xyX6al/x/IFibgcTB5sv17ZkYy5ff6OUSMb4WgYbeQLABVFsOvjd74AcOMJANeKu+DImjb48tMGyBhfX7gLOUzmvLY4uys8u1iavSzr/WgKAOdyW2Fk5z+hdd3fIdlj+zu3+SumTGqF86XYt7LK5/3sZhUAfilMRsYbNdChzi1IaOryhORmf8awN+ri281R4AnRFACKumDf1EfRs/nv0brhH0CMI5/l9dmeDyFvZVLYYr+3/yv0PJoCwN50XN6WhNmv3YU2dW9BguVsUr82t2PkO41wcLM9OcNiNwN7BZMex/DeNZG3PlVOUCi3Hte7AFDcFYfm10efdr9Hi/qB/Z/e+V6sXpBgTkMJwVuv5Cdg/qB7MfLtxji+s3yfzRcAqhFnqVoBoBuwvT1GJP8BrZrdjle6/Q19e/wN/XregxlT2uDC7vIHU7kTM8SA5ZEYoY4BjGgTwL3pOJ/bDv3q/V8kdn0Aq+e1Qt5C88hf1Br7slMrJ2DcTALAvm44k9kKL9f9V3TsVRtfzrdtuaAV8he1wTc5nSodiYjWEoCrhZ2xbuCdqPvw7zF5anOnz9n321cmVE70CTVWS3kvqgLArlSMT74FdZr/DRkzWwbUqSgzGT8FRSuuFXVG8ae18PKLj+PH7eER3etVAPhhdh20feDf0H9YPWR5xuXmJW1xeEvpGQBXC1Kx8s378O6w+jjsCwDVCPGqpii+AHDjCQCc46uG3oO2dX+P57vcLdyF/GX02w1wZEvpEbMKcRYPDkRTADiV2QQ9n/wPPNWrNjLnuLafuPttbvgZXqXV6eYUALrhSkEiPun1ZzRpdCfmTW7mYuqCVihalySR5dLaLOz3oykAFKZh63s10KLu7osGJAAAIABJREFUH8UpzlngcrCtyztIttt1mQHAQN2mBLyf8ge0af83LJjewvSFcMvW2LM+uWRwqbgLvplTH++8+BA2rk3BL8zy8cy/kM+vdwGgqAu++uwRJD55C14bWN/lOgtbYfOSdmLPSuv/n7cnY/WwB/Du8AY4sqN8n80XAKqGg4T81yoVADixtrXFoPZ/wJCRzfD9ls44vt08zu4OM/WmvIkZ6vMoCgCvN/h3PD+gHk7s6S7nsmJ/d8ijsksYbjoBoDX6NPw1XhrWBKf32jaUtgxjrXWoPg56L6oCwKC70KLRX5G3qQuufaVltftABP1vSLCIwneiLQBMSP0d2nR9GN/tSjfj1xnHJcHvWnEa9s9qgKXT2+BSmBGi61UAODi7DhIf+S0+ndUBP3F9nLbL/rLH5dXdnbD5s3rYsLADLgYJKKHGhJ8BEBKebpg3fQHgxhMAfilIwZKBd+OpHrVRmJUq3OXH7Z1xamdapQXrUDZC34uqALC+CZ5p+Fu8OawxzjHjMkz7pmUp73rzCgAdMeHp29Ex+SHsy+0cxA1LYmp57Rjy8ygLANtG10BCy79i8YJk/LzPw2fD2e8mCpzGqWOUMwB+2pSADzr/Cd2feRhfbe8axNlKOqzXirrg4LLmWPFZcxze2gXXwtkL4AYQAL6e8gg6N70Vn0xOwKUIOPgvO1KwZWpDbFjYHpfCWDLkCwDViNZUCwGg7e/wXJ8nsHZOS2TPb4mNC9vihy2dY3f+bhQFgP4N/hWtO96D2Z80xIqJ5rF6SnN8l9+pcuW/6QSAVnil3r+idef7Mc+25fKJDfHl5y1wcHPnSqfVR1UAGHwXnqz5W4weXR8so/T7p42xbXlCWAbQAbpKgGa0BYBPUm7Bow3vwJSPGjjjeOWkptiblRIi9a8rLmzvjJ8iWJZx/QoAT6LdA/+KF/o+gkUTdI43wobZbXCyjHWRXHfINrochvPP8eALANUIFGNQFF8AuPEEgKsiANyF1MQayPi8ueEuC1qheEMKLsdq+eKedMHC7BnN0K/fS1iZdxDrd53GwGFjMH10E1wpCC8jSzHo1PomeLruf6Bzp/sxf5xr+1dPb4lD+Z3Lj3yWg2E3swAwsdef0bDu7Zg4sq6DqcsnN0Hx2iT8XFS5JY3SfzEQAJrX+R0Gvv4ElirWfdoI+RntcXZnDANywWMoBgLAmNQ/oHmLOzDpw/pOX6ye0gz7s1JC7tFzeWdnXNzdJXwOf4MIAB3r/BrPvPAoMtSf+bQRsue1xYkyMj0pmFzckRY21/EFgBgQjIresjoIAANa/hr16v8JL3a5G3263oW+vR5C5vJEXAk2DNF6HVUB4P+gxr3/jpS2tyFdHn9Gr7T7sHZ5x8qV/yYUAHrX+Rfcfd+vkWrbsmvb2/BctwexcU1SeOuwyhgf0RQAMgffifv//D/RvPmfkd7O9Hu3Dn/Fh+81wckwI+JKwCp6jboAkPxr3PaXXyGh1Z/tOL4N3Tv+DfNnt8PFUKpuOKq4pz+uZwGg5d/+Pzz25O+RpnO83e3o1/tR7MkvR6SMoI18AaCiCHZ9/M4XAG5QAaD/nWhQ6zfolXoX+qTfjVe7/x3TPm2FM7FavhgDAaDXY79Czft/g06tXdv/DNd9L+9YaeH9phYAev4J997+K7RvdqvDE7om342Zk1tFZ7PgaAsA79+LJ+/5F9R98o8g9xI+2/4veHtYfXyXf51uArg3HcwAeD/5t6hx96/QvqU7xnt1qoFFs9riQiixLgLsFg53gwgArR/4F9R+5PfoYvu/W/vbMbDf4yjOLmdJUwTt5QsA1YizVAcBYHD7P2DAiCb4NjsZx/KScSw/FRe4+6ak3DLV1qZXl7ja9B0OPk1T4pUPpmaXtnYnigLA6w3+DekvPIKC9Uk4mN0RB7M64lBOCi7srqTBvOkEgNbo0+A/0OO1OihmW2aZtjyck1JyjZbHsQzXgY6mALBu0F1o8uSfsWRpAg5m27JmJ+HElsrvmhxufaItAExI/S2aJt6P/NWJTtsfzE6O2u6/168AUAcJtX6NkeOa4esNZkxynh/NS8XlaERx7Fj2BYBqBIoxKIovANx4AoAsARh0N3p0q4ldXyYJdzmal4LTO9JwldyD6fTKR/TqcBhP6jE/Uw6j3ytjiVG0lwA83eAW9HmtDvatc23/odwUXIzCiTY3swAw4enb0KZNDWQtaudwQ2LqmTJOjwkX/+V70RYARtdA2ya3yabL32VZPpudhOM8ySaUk1wBHhZW/WKQAfBBp1uRknY/Nq4kZ7M8faPhN1ejUY8bRABIbfR7jBjVHN86XCcJRzfxpIQoZKzYdvYFgBgQjIresjoIAIPa/R793mqE/es74lA2H0k4viUV+zOaY/XnLXF4YyLypjXE/A+exJKpLXA0JxHbFrfFMbvRzi87U7FjVmMsGlsXGZ81x76VbbDy08bYn5kcOoUtqgLAv+PZ1+viaGG6RPyZtcDHz1app8EjYJe2gUapBvFmFAAa/hovDm2E40Wh25JHEmk78hqJ4Y62ANCi4R3IyU0L6HMe98Yy/VLcFVeKTcrc1T1dxXhetmVnuX8u7irOIx1IPujM8zf6+hc7XpgmWNpRkrEQAFqn1cbX27sE1Mk7jjlWI2lz79i+ngWAxId/i09mtJM1sjq/eWU/sR/YRzouWWeO00jbyRcAKopg18fvfAHgBhUABt6Nbl0ewraViZa7UBxMwZF17ZA5rQkK13VE4YJmyPioLhZ+0hi71ybiq2VtsD8r2XCEwjR8v7wFlo2rh4XjG2HnqgTsWdgUa2a3xvFS0m5pa6K5BIB7AAwe2gind3ct1fbzP702zmvby3p+UwsAz9yOxKQHUZTdCVf2upyGmEp84EPblFdiib4uq02dz2IgAHRoeQcWzE2SpYxerGNZiWvkNVpuw1dMmVnuYF7D77u8xuAlv8f3gjHTqROdxJgIAH9Ceq/a2LulbH4TUft7hYMbRADo3PSP+PjT9mFxHdOXkXMdXwCoRpylSgWAPeYUgFFpt6Jl4z+hV9IdeDb5DjyTcifGjKqL6f3vwwdv1kHGe7Xx/sBHsXRyA0zoXxMrJtTFsD61sXV1Mq7tS8fBZU0w8oX78cXH9TBpyCPI+LQ+3n2xBpZPaR1bASCnHfrW/T9o0PwOfDTiMUx92zymvPO4bJB2lscA7uuKw2va4ausZAHXAEPnNSDBz8MUAPL3X8Hmr64gfx8J1mVsCn79lf18b3wIGP9/3ppivPpiR+xf1c5ENoLrFvzangLw4hO/Qv02d2FcQFs+gTVz2gqhypvbCse2M7OiCw5/2Q5Fa5LCXmsZLQHgl4LOWDvwr6h9z79jwMBHnD5n38/4qBH2rU3E7lmNsXpGa5zIS8Ku2Y0x7/0nsXhyMxzI64Tz2e3x5YT6WPBRPSz6uD6WTW2ObzMTsHlqAywYWw8Z4xsia14bHMhsj+xP62NjRmJIESDaAsC4jr/G/Y/cipFvPhpQp/mTW8j6L55rfDKrA/asScSlCkS+wxIA9l2Wsbx5/xXkcbzy9ddXsGn/ZXmdv++Keb3PvJbvRDiuNxaex8Dh4zHl3Ua4vLuc9bJ708FTAFrW+D/o0usBfOoZl1NH1cWmZQk4sKQ5Vn3ewtn1+0JeB2RObYYDGzvhWqilE8Fj3772BYBqBIoxKIovAMQHf2gTsgvPYfA7EzB+wkQcO3YMp06dCvk4efIkFi9ejFtuuQW/+d2tGD0pAznFF5G/7zJW5R9C71d6Y+205qWKeTwFYO2Ie9Gh3u/RLcFwF/KXgS8/goVjHsWI1x7CwnF18eHrNTHzowaY83ZtfPp+XUwbUBOzp7bGxT3puJjbAdNfr4Gxw5/E/HcfxRdjG2HjuEcx/PXHULAh9Bp8Eu+oCQCZTfDU4/+KNm3uxvhhru2f9s7jWDOvvZzExKNvD6xui++zU8VJDZvD0Nkr6opZ7z2OwW+NwIbdZ4xdL2GzL2OT8hTlMfpacYCvFRdK/D52Yyu3+CIGjZiASW83LR8vHNtuTwF46k94rNYfMKL/w5j6juWGIx7FwsnN8U1mAnbMa4mvs1LEsT6bk4DC5R1wJowTY5z2j6YAUMRTAO5Bw9q/wXPP1MRnHqybMaYBdq3qgIL5zbD2i5Y4sDEJexc2xaIP62DBhCbYl5WCs/kJyPmsIRaOrYeFH9XHssnNsHd1e2yf1VjeWzy+AdbNao3vsxNRMLcJ1k1viaPbSsmSjbIAwFMA3kv6HZ6seyveHuKOcfL0JVNb4tjWNFzb2xUnNiRg/9qOuFgBfsMMnhObkvHugNb4eOoy5BRdDDnWhcN8FcRpvK8tf99UCY4jvGjPT5g4fRmG96mLYzlJof0gZ7ymAzwFYPLDaPvwvyG1ywOY5On/z0fVxeZl7fH18hbInNHKtNeerjizsQNyZzTHtzmpEQlXvgAQA4JR0VtWrQCQDvAs3Y2J2LWiLbYtb4ut8miHfdntMfetWpj3UQN88HINZMxJkN07z21OxrFVzTC8T21spgDAs7rXtMDHL9+H9994FDM/aoS969pj/ru1sHZaDAWAPen4aWsS5rz+d/TocDt6Jt+Bp+2jV8qdeHtEIxzdkoJ98+rjtfa3470PmuFMBA4BVdAtS1qiV880LN34nTj3JRye4nNYsiwTY6ZmYsmm08grPo15C9fiw+nZWLrtHPIKf8TMeavx4Yx8rNp1LqRBKnHPSoJrhQSAvem4mJ+Aaa/cjbT2t6OXpy17pt6FsaMbY8v42khs+AeM+aglzhakYt3oWvjw3SY4FeZay2gJADwjtuizx9E76TZ0T3L7nH3f+/layJzRFB8/+1cMH9YA2eMeRf+n7sVno+rg4973YMTQ+tg15TH07HgnPqCj/c7jmDm+MbbPbYw3U27DwNceweS3aqN/2l8x8q06mPTcX9BvUAOcD1HHaAoAVws648sR98k6xacC6vRXDBr4JL7LS8GBJU3wTpc70H9wfRytQGpoOAJA9tbv8Om0DExcsh/ZRReRuXk/xk9agCmrv8PG4p+wLmcX3h+fgZnrD2LjnoqRvkgFgJOrW+CdHnege+JfAsbl013uwewpLbF84J14vM5tWDirA37em45dYx9E84Z/wrwZHfBzBGmTvgBQUQS7Pn7nCwAVm68Vwad4CQAo7oqzm5NRvLqdh7u0xe41Cdg2+UlMfOdxzB5RC+NHN8aJgnT8vKsTDmW3x/whNTFzSivZW+WnTYlYNPQBvN23NqaProfcjA44srQpPh3+JArjIABcyG+LyS/9DT2Iux7b/0zqnfjog2Y4sTkVO6bWwTMdbseUia0iTgUPRwDILTiJOfNWYuyszViz4xw27jqCz6cvwSfzd2LNrovI3n4Ak79Yjk8XF2FdwYW48BgddxUTACh8pGDd+7XwXIfb8VTHv7jcsONfMGTgE8ie3gj92v4BvV99At/kdcK+GXUxatATKN6YGl7QhM5bNAWA4i44MLceBna9A90SPOVNugMv9XwQy6c1woRX78XwQXWwYtzjGPb8vZgw4nGM73svRg6pg6wpdTAo7S689Xpt0LEmD988sxFGPXsX+j3/ICYNrY03evwN44bXwcqRNTHgae7tlCpZMI6goQ5plAWAK9tTsHz4A+jZ4Tb08Ixx8vThb9aVbJxvFjfG293uwhtv1MfBnRVIdw9LALiIdXl7MPHzlZiy4itsKLqAtVkFGD9tBaavPYiNxeewYt02jJu6CrOzjiJnb8UDHXmRCgDFXXGMHK/nnejawe1/8trn0mpgzuQmmDfob2jX6C9YuCABl3alYtNHDyGl+R2YO7O9cJ8S/aj9GXT1BYBqxFmqXADg4NB1cbr+Ta6pWDC8FuZ8WF8EgKVzE2Rd/5mcBHy9oBGGvVIbW79MAfZ3w+mcDtg0vQmWfFwHI565B1M+bogvhtXCl1NjKwAwwnepsAtO70rDyaDH2YKuuLAtEWvH1sZzrW7DO6Oa4HS0BYDC4xg75EXUbfUiPl7yPXILvsfQl59B/YT++OTLE8jbVoTXnumK+qnDMD3vRFyAs0ICgE2Fu1jQBaeC2pHtem53GoonPYyE+r9Feuq9yFreDitGPIh33mqEEyGc41CGKFoCAO/N1Pwzu0v2+andXXBifWuM730PFs9uh6z3H8IzafdhxZw2KMhogQ2zWmP3pEfwTLcHkL20PYoyE7E/NwUHVjTF0PS7sWheRxzMScDc1+5Cv9efRN7oBzBocH2cC+FwR1MAYJ0ulzKOz+zugiu7kpEz/jEM6Hw7+vati8PMbAky6uW9Ll8AuIS1a9YjpU0rJL6+CGt3ncWSpRloXb8BeozegMzCS1g061M8Uas1+k7Kx/riSxUazxEJAJKW2RXnQ47LLji/qzPWvPk3NH70Dxg5sgnO7OiI6a/cg3ZNb8Wc6e19AaAa4VxVF8UXAG5AAUC4i91/yMNdmC217/O6mPD245g5vBYmjG6CkwXpuLIjGV+taImZA2ti9rQ2uLS/Oy7vSEHB3GZYPbEeJvS7F2+/8SR2z2yIicPiIwCQjJeKuwVd8VNuByx9uxaeancbJoxvGXbGneJBOAJA9pavMejZTmiY9g5mZx1HZv5OPNuxLdo8Nx5z8s5i7bq1SGufhOS+X2DRttMVsvvq0Ed6ragAoJh6JgSfOVPQBQdXNMXgjr9H6+Z3YNrEltg66XG89eqjKMiqIgHAZmuQawVzsFO7u+J0TltMGVATs6a0RNa4h/Fq9xqYM6UFdi5pibw5LZE/5Qm82es+zJ/ZGoXrE7EvNwWHljfD6JfuxYxJLfF9TgIy3rofH7z+GPbOaYAP+9TEhlUpsRcALE/5qTR+Izw9CTkTHsPrqXdg8IC6+D5GAkD+3vPIWDgXiW06ofuwpVi5+zTmf/4ZWrdJxUtj87Fh93FMHjcGLVp2Qf+pu5BVHEcBgFynKDTXObWrC85u7YiMgfcgqcEf8e6YZji4oT0W9LsTCa3vxKzp7XwBwBKM/1TVRCPS/68WAkAoZ2JvChYMq4UFnzXH2jG1MXrQY1j9RWNM6v8g5n7wBF7v/neMe7cu1nzRHJmfPYmPBj+K5dOb4rN+92HC+/Uw7a1aWBtjAUBBrrQro8Xnd3bEvIEP4KMxTaMvAOy5iLV5+zBv7T6s3XkeeXvOY/XGPZi/7iusK7iIvOIzWJFVjPmZ32J9YeiUpEgBsbzvV1QAKK0N+f614i4o/uxR9HvuAYx/+R4M6lsbE/vfj3eHNcLJKhAASi3r3nSc29AGn7xcA0sWdMSP61pjat978ELyX/BStxqYPbklCic9jMTGf0TfZ+7FiN73Y+L7DbF9fhP0a/MHvPx8LXw84CEM6H4PZk1rje0fPojBQ+IjAJRaJ9v+57YmI/fj2hg2sF6MBICfkLP7ODLW7cLinKPI2XMJ2buOYtHqHVi66QRy9vyErO2HMG/VbqzYegq5FcxUiVQAKKtdrham4cvh9+GVtLvQ7+VHsX1Gfbz32kN4KeUvWEhV3M8AiBSObtjv+wLADSoAhOAuxCsKAJ+Oqovczxvgg741MeeTRljwbm2MHf44xr9cA2/1ewTLpjVF1owmmEpBYEJjrHi/Nt4e+AS2f9EQE+OUAVCWfeNn1wrSwPT0Gf1qYNrEVjERAHKLz2FVdhHmrz+ADQUXkVN0GssyC7Ao+wdsKLqEnILjWLKuEBk5h5FVHB8eozynMgJAqW27Nx1HVzTFmN73YfSrD2Dgcw9i6pAH8UYVCwCll7cbLuW1w7SBNTHn8zY4sqEt5g99AK90ugPPd7kHU8c1xebPn8CLrf+EZ9L/jmG978dH7zbAtpmNMLzbX/B8j3vxUf+HMKRXDcyY0BwHMhrjo1fjKwCUWjdxfLvg/PaOWDfmYbw/tF7MBIC8vZeQvfMIFq8twtL8Y9i45yKyth/EonVFWL7lFHL3XEDmlu+wcG0xVm47U2GOI2M30gyAEHbMbbNu+Hl7Ryx/8370Sb8LQ/o9irXTGmB87xro060G5s3wBQAlLr4AUL8lMrK+EpWW67pGjpuLkQOa4ty2TpFFDfemYN7QBzFtfHMcz0vA2k+exBcjHsOcT5riYFYC1k2shy/eq4M5HzfCjpXtkDW5HmaOfByzxjZCweo2mDL4QayK5R4AZU4Y3eGXOwGnYsGgBzD2/RgIAHt/kvWKXCOdbx0irl+Uh+d1pdcTReBsxUwAmPwIBvV9HLsXNMV7Pf+CpGZ/wtC3qqkA8EoNLJ7VHoXzmiFvaQK+W9sWy0c+iOdSamD+6Fp4tseDyF/WAd+u74iD+an4YWVTDOz4Z4wc0QBrPm+G7SsScXZHZ+z6qHoIAASCa8WdsWX8w3grhgIAgSufY9lZ/3bZvrbOwz7uccHPK+5MRFsAWDPsPgwf8ijee/YeDHnxPox7+wm8+dRdWOQLAIqJ/hWALwBUfM6qMxbuNW5LAErhABQA9k57Eh8Nq4O9G5KwY0ZDzHz3ccwYUx9bV3XA7rmNMeu9JzDzw7pYP78tds9tgrnvPYEZo+siJ6MDDsxtgA+HPIGC9bHfA8Al+cpZSl6vbkvCrNdrYGqMBACx+5a3aB8rjzGvLadxcCF+YymWAsAHfR7CqpktMXvAvXi69R/R8+na2F2FGQCljoW9HgGAUf8FLbB5cTvZp+jLMbXRr0cNfDq0Fob0uh+LZrfBNxs64oe8VBxb0RzvPn0X3hrwGFZObYrNSzrg1M40HF7RBGOrkQDAel8tTkXW2Icx+s1YCgAct0FjmePey3mc15Uc47EQAIY+iOGv1cKYV+/D0OcfwCdvPIy3X7gf830BwOE4vgAQNQGgE7I+fgQfvFEX33OzkH3dzC6pTLXjkgEe8/d1d3O16XdMyef3Tm9oiTF9HkTWvPahRYdonAJQCviXMKL7UjF/wP34YHQMlgBE4JgrsMb6GisBoGjSI3j91cdxcFMnFE55BO0e+Fc8P6hh9cwAeKUGMma3w/rRNfHqszWxaGpTLHm/Jgb0egjLxtREl4S7MX1cQyyf2kQIwO65DTC029+wblUartmjo64VdcHu6iQAFHXGpo9r483+scsAiPXY5P2jLQCsHnovhr3dGMsH341Gjf+CORObYGSvO7Fghp8B4KCi/8QXAOKIVVUvAHTFDwsbY9zA2shamYyf93aTTbKukbfwQRtP7sIHj/vbbz7n0YG/FHTC9gmP4oPh9fFNbuizt6O5CWAJvhKC11zdmoTpfe/BZxNiswQgHna/ov8RKwHgyIomGN37QaxbkozDy5uib+tb0LrjA9i5oeqWAJQ6FrwCwNQWWP/xo3jjuQcwe2JjZHzwCEb0fhDT36mF11Lvwgej6mGZ5TVbZzTEOy/dh8WzOuCys0Sma/UUAIpSsOGDhzFqSD18vyPyJY7hbgJY0XEY8e+iKgCkSwbA0jcexPtv1cHs4TWQ0vJOzBtXF2NfuR9zp7f1lwBYjuMLANESALjJHtcj7UgDj1cr1TiFAKxfCrvg1PbOuFTa2ZXxFAD2pqF4XjPZMfynSOoRziaAcSRV4RqgWAgA3Gzp+JpWWDe7DXiywuVtScieUA8r57fHxTDTrKO5B0CpY9EuARj30t8xf3YiTma3x9L3HsGYfg/hwyGPInNhBxxf3RJT36qNDwbVxkdDamPCu3WxK6MVNkxtgm/y3V1xedrAltH3Y8Cgql8CIPUt7oJDK1sia147nCttXoWYi9pW5e8BUEnFO8y5EE0BgJG+rxc1Q3ZGAg6tbIH545rgm6wk5H3eGHvWR7Zjtr8J4I2tEvgZAPGZ38SpqhYAaPPIQc7s6IwLheY4WLWD5V25Jv/Srs44vbNLyNNf+Pt4CwDXdnfC7jlNsXN1kuxYX14dvJ+HswdAuNyiKr4XEwFgTzrO5ycgb1YLfJPbGT8XpqFwdmMs/qw5jm4LLfp429R5Hs1NAMvAbopWl/LaYkr/h/DFpFY4vLED1o17HGP7P4Qxgx7BqtltcHBdGyx49xHhNWOH1MYnbz+J9bNbIHN6M+zJTJEjc1lu7o/xXUZDjH65+iwBkHIVp+HA8lbIXdgOZwp8AcAZY3ZcXC3ohH0Lm2NTRnt8s6olVkxuim/XJWDr7GYoykzG1b3h+2j+JoDViOvEfg+AOXh/cDPZaAbf9EC1eHzbA6unNcRLfV7Fuh0nkVN8Bj2f7onN81riGlX5aJfzu6eAA09Fdt8DT2HrqjZ4ulcZpwCE6fTEEzhVAHitdxK+WZcAfBulPmf7sR3ZN7zn9z3d12H01y/fdMfySc3wWv/BWLvtR2cjofz9P+OL+Svx5ku1cTQv2UZmegBfV+DxTQ9c3JSAKb3vxvDhjXGa+xN81wO/7O+GX7Tc3z4F/NAz8OGtm/xvd5zLaY+pL/wVbw5vgp/2MloUWB6O020L2+CVl3th2cYDbn32XcakOZno26smzu9Oi2zMldeO3nKW992gz6/u745hL9fCB58uANfCxXNMev9LBYAvRjeWs5krPde/62nmNtuGY1LaiNcIxv23PXBmZ2f0fa4RpmdsQm4EJxwwVfbzxfm4/c578atf/V+MHz8eR48eDXnsWWnHoYV6/+zZs1i6dClGjRol96tGkHVdFsUXAK4/AeDlPi9jw4yWuBZkyyptM6Jwv9w5LfD66y9hZd5BrN91GoOGjcHsD5viCiOtUbh/wD2It2rnIrz3ta+6Y/4HdTDkrbfLOAYwfmPDiwXhPFcBYOrI5vglmm1LHsA2VX7E58QPfR1OO3/XE0smN0a/Af2xZssxB1OJCYs3fIuB/Z/F1oVt5fSsYP4Q0etveuDy9gTMGfwARgx6El9t6SI4d/Wr7viFvIRlZn1Yfi+3IRbywbpY/vJzYQqyxtTCGy/UwtasNFwN4jXyvW97YPfydhjUNx1zVu7+/9l7z/C4kuta1D/sJ1vSyHKUfe/ztX3v83OU/JRljZJnZEn2SBpNHnI4BEhkoJFOKz+lAAAgAElEQVRzzjnnnIgciZxzjkzDzCGHmQQBgmlGI90fd71vFXjARhNAd6MjyIPv6+/gdJ+wa9euvVet2lW1PhdelGvsAsID9uNk11v4P7xXEz1peo2I3VridOnZlx1w//gBpEa8te02gJrYnF6ueZwBkBT4U6wuWmhnV1KZVI9SP4Z6Wsc6SnWsev0W5//nI3uc6n4HgX4OODx0RmnKp2Z+oGfmOt7e74jPv/AFWFhY4OrVqxrjHW792tPTg7S0NLFFrL7BhJwBoJwB8OH/RlpRKyz3vISUoB8hK+Jls/ko9n8NCs9gjJ64h+mzD2Fp7QBPq28iM+wls5AxO/LHCFB8C5ZWVqDB68UpGIEwIAHQOnIBlpZ7EOr6XbPQJe0uM+JluB78DryDYjBy7MmOCPOCAOiHxVvfQFrwD3Eo+ac6fcriXkaM0zfg6fBdFMT+x9qzUrR/ZmHED+B/8KsI8vwhypI2vz/c7UXYOjiiZ5rbRK45TwbJ0sZx/Pw/voKkgB+aj/7DXsJbr3wFWWUdpiUAznyMiKRS2O37N6SHmkdbp30m+P0Ab7/+Emo6F9cBj1Sn2x1lAkDfIdwwz5MJAM3A3Xa2rulvumYA8D3987eg8PCDl635xDBl/ORl8y24engJOcdPPkBoXC4cLV5EupngF0nWjLCXYPX2lxEQnoiJkw/W45SmdWnq62bOfYrI5DI47P8hMsL+3WziKfWbHfVjOFt+A55+oRg+urKuW8aEzskrcFQ4ItzteyhP+olOmIaYqDz+ZcS7fhvedt9BeuSPd/y8sriXEKv4Jnwc/g1ZMZvLVZH6M8R6fw8O9gfQNHB6Q7m6Ji7C3nYvAhy/jaxw8+lPZEe8jET/78Pa4hUUVPdj2siLVT7VTs79BkU1vXj/rRfXBl7MqO/FegtWfBd2DnZoHTkvEwCGgRyaPdWQGQB0RN3T15CQ04TQhBKEJZaaxSc0sRQhCSWobJvH1JlPMHvuU5Q2TiA0odS85EwoQVH9KCZOPVx3gk81dCN06rV5J+ucIxK5lQNCx+ZS55QjIuUQaruPYZp1rtRh7p+9ipi0UviFpSIwMk3nT3B0OkKi03V8Tjr4nOCoreXxC09DTkUvxj/YuDVS39xNxGTUmpUtU//RaVXomnySrSDVgTGPBHQkqGIyaszCF0ntIyS+BMkFLRhcXFq3TU30IhMAmsU5U18lEwC7iwAgiUB8EJlyyKz8hOQviGHKD8+I6Q4cpW4ePIuY9Gqzk1VgqsSytbhr6k7RDrES40V8dr3Z6VZgmuRyVLUvYOrMxxvixvjJ+8gu74F/RAYCI7bGENrgnaCoNUwSpCNGCiKuiU7Hds/xD09FWnEbho89ITa4gB7LVVgzKOqCbUBqD+ZwZB8npaAVvbM3NtSFJnHcENf0zFxDYl6T2eFwUVdJZSisG8XYiY3YVRM9yBkAekQzhiQApMqcOf8pCLzN7SPJt3b8rdnJR31tlNF4IEof7zW3+t5On2RsCfomdtGH8hL8bVVX5qb/reQ0xffcRvBZ0I9MAOgxGBrwUTIBYLzYpY8MAMknmZuPUJZHklE6mqNPE/KacMqXpBtdj2ar220w4vQ5YpqPdxWmkfAX2/B2o+jK7cCc/udgoq62pu/7zUk/yrLstJwyAaBHoGIMAmCnFS3fZzzQJOta1rVsA7vPBmQCQI/B0ICPkgkA47UtfRIAsk80Xr3JupZ1LduAbAPqbEAmAPQIVGQCQG5w6hqc/LtsI7INmKcNyASAHoOhAR8lEwDGaz8yAWA8XctxQda1bAOyDRjTBmQCQI9ARSYA5MZrzMYrv0u2N9kG9GcDMgGgx2BowEfJBID+bF6d/5AJAOPpWl1dyL/LdSHbgGwD+rQBmQDQI1DZLQQAgS7n18ycfbKAmz6NSm/PuvB4LQEh52/Nbj6Q3sq5wwV1tH8/9flr8Zm9sDsd6fS5T8R8c+3Lbh7lnRa2bH5z28xDn59iTT+mqSuZANBjMDTgo2QCwHjtw1wJAMmPCixjtPipvd4p31rMNXOsZcY63Co2remWOHbrtXu2ute8vpds5NeYJTbfhXUhybxm6zK+kfSx3fEJ1jFdncsEgB6Bym4gAOY//K3Y5iSrrBvhicWo7z0hVu83t0BKeQYWbiO1sEVsHXN48Ixw9OYm53YN3Fx+kwJl+9hFxGZUITG3QWm7O9M5H031Q/m5iE3z4BlEppSL7TC5tdTchf+9K4Il5efKwjWdRxCWUIS8qn7RBmVbXgPU1MPYB/dQXD+KkLgCHGqZwcTJh1pvaaOpPW11HeWoap/DP33lm/iLv/hLFBQUYGlpSeN9ce/du7fptQ8fPkRXVxdSU1PF8/QYcp7LR8kEgPYd0a1sXt335kQAsH1ym77KtjmBXczbjzKu/hZ9szeQWngY0WmHxDZs3ClJ9vu62y91SHyYWdqJyJQy1HUfEwsP7ybdrsn6KTonLiMxpx5xmTVoG/1QDHDstnLQrhv6PkB0WgXSi9vQO3t9jczY5YSGOv+o7e/ErNw6u6h+BOFJJShtmhSr95uqvmUCQI8QypwJABqY6IR0HYGbfyysbZ3g4uYOC2snxKZXgttccHVWbQ1a39dTToKOsuZJOLgFw87BGc4ubrCyd0dyXhP652+bXEZ9l9mgz7vwG4wcW0FGaQesHb3h5OwKe0dnOLgFIr96AGMn7pm9PtnZT8ptxAFbVzi7usPWXgFn7wiTdRS1ra+uycuISinHARtnuLl7wsrWCZ6BCbsStGhb9u2uZ1tnFlLzwGn4hafDylYBNw9PHLRxQlBMnthikCMK2z1Dn79RHpkA0GNANNCjZALAeHHaPAgAEsCfoGXkPIJj82Fl5wx3Ty/Y2DvDMzBeEAKUkx1uffoDXZ41emIVBTWDUHiGwsHJBS6u7jho64r4rBr0zlzf1VlsuuhF13vnLvxGkEDcatrZKxwOTq5wcfOAtb2biLEd45fEYAF9ua7vMvT9Q0fuILOsE3bOfnBydhPYjP+nFbWCmMfQ79fH87kSPfENyQsbRw+4uHrA3tEFzl5hKKwbxsjx1V2f1aAPPUn9Gg64+oalCgwosKCdMwKjstDY94FJBmJlAkCPIMUcCQDJEXZNXUFU6lonJCY2DmNjYzh+/BgaGxrg5uENe9dAFNaOYPT4qkkYaspJZ9I2egHBsXmwtnNBSmoaJicncezYMVRUVELh4g4X7wiUNU+JICCVTR8N9Fl7BnVDVra6YxFufrFwULijqLgYCwsLmJ2dRVZ2DmwdXETHi8wtR9jNSZ+UZfyD+6KuFV7hcHb1RFVVNY4cOYKpqSkkJ6fgoK0CoQmFZsmaS0wvSRYH10B4evmiufmwsOWhoSFEx8TCys4VMWkV6J6+9jjYmz9o0Wc7EcROXiNsHL0QEhKGnt5enDhxAu0dHfD1C4Sdsy8ySzswuLhkFDBEm5MJAD0GRAM9SiYAnhcCYM0f9s/dREp+M2ydfBAQFIK2tjYcP34cw8PDiI2Ng62ju8gIaBu5YNLR07WY+7Egdklo2jm6ISMzC9PT0yJu1dbWwt3TBw5uQYIc4L7sc2ZEWujTt+v7WdQtMUrTwGkERuXAztEdqalpGB8fFzG1oaER3j7+cHQLRFZZp9FihrblFLjm5ANUtM7CPSAOTi6eKCwsFJhscXERJaWlcHLxgJtfDMqaJsQADe/R9j2Gvf63AiuSwMir7IeTRwg8vPxQV1cn7JyYPSMzE7YOrvCPyBBZxtxC0fzKYXg/yjKzX9M5eVkMtFrbuyMyMhr9/f3Cbrt7ehAaFg47hRcSs+vQPXVV1LWxdCUTAHoEKXonAP7zdXRMXMJO52vTiDjCm1/VDysHb7h7eKGlpQWnT5/G+fPnce7cOXz44YeYn59HdnY2Dto4wjs0VaRaG7NDSDmHj66I1KGDdu7w9fMXKbOUT5LzwoULmJmZER0/S2tHQRIwXWr2GdgXV5/Omgz53PnfoHv6KiKSy3DARoGYmFhB+Ei6lI6Dg4MICQ2DpY0LErLr0Dd3c81Jm3B9AMlhsm4Do7JxwNpRpE4TRNEGJJs4e+YMOjs74esXANoMO4rDR5fNIMg8Bir9p+AVlIQD1g7Izy8Ag7uy/GyDTU1NcHP3grWTLwqqBwWpZU6jWPq0S+lZrF+R4dM0CSePMDHyUV1dDXbqJLuknkgElJaWwsbOSYChqvYFg6d4cnqUTADoMSAa6FE7JQDEXGEzAdOFNUMICIrAtWvXcP/+/U2njnBKycTEBL7zne/gi3/8pwhPKl1bv8WImXoE7hFJRSgoKsadO3e2lHN1dRXt7e34m7/5G/z1//x/RcYZMYTU7rU90k8w3b+kfgyO7sFQuHigoqJCDFpIfoJH+tH2tjZ4+/jB2tFLjJ4OLiyZoGP9WwHymQLNkf7wiEgwvp49e3aDX5ubmwNxosheCEpEXddRTD2nnSONbOICO5u/ESnlxCjMBA0MCkF3d/dTumWMLSoqgr2jq4gZYirZKeNPJdusXALXnP01WkUWy9oAV3xCIkZHR4V90Jalz9TUpMC5zHQhBmoaOCUyYPiMzZ5tzO+k+F3deURkMdo6OCMvLx+0a8ZtqQy0+4GBAYSFR4jMx5j0SoFJKas5lMM4Ovstho4uI7u8B7YKX3h4+aCxsREnT57cgAWJdUieuLp5CXKQg0acJmAMPfXO3sDb+x3x+Re+AAsLC1y9enVLH686xZE+v6enB2lpaSI26Dvc/46+H2jo5+mbAPjBj38hGj/nx2r7GTm2jPqe4/AKToKtvYvohLCjzw6U6oeNlg2WrFRIaDisHDxEh5BZA6Mn7mr9bm1kHT56R7ChYpTayRVlZeU4evToetBUlpVyMuCz4+cXEARbhQ/Si9vRO3MNYydWDSqnNmUy2bUnVjEwfxO5lX1wcA2Au6e3GHU+derUlvrkSApHJpxdPKDwDENJwxgGFm+ZRpcnVtE7e02s+2Dj5I2AwGBR18qElao9MOiXlpbBQeEGd79YVLXPY+jIkknkZ9pn99QVxGXVPAaBURgcHMKZM2c21T/LsgYIc2Hn6Aqf0FTBlrPtmsyGduBrNJV19PhdNA+eRnBMLmzsXUWGD7M56HuU65X/Sz6JIzyxcQmwsndFZHKpAFB8jqbv1Oa68ZP3Udo4in/4l6/hL/7iL+Q1AAwdMHf4fG0JgD/7879EWEIJRgxkN9rYmLj2xD1kH+qBf2CY5gTAH/0JgmLzMXJ8WZD6JPYN/vngnvClIbG5KCjUlAD4W/zVX/8/SMxtFFPPtNbNB/cw/Bi7SKPo6RkZIutrMz8h+Y2jR48I7OCocIObbzSYIj6weHtNRwb0acQdfbPXkFXWJUafPb39BLHLuEofJsknHfkd4wHJgaioGNg6eiAqpQwtI+d2rK+d6HhX3HNiFf3zN5FXNQCFVxhc3b1QU1MjRk4lfSofJd2yU52QkCSyBELjC9DYf8qkuiWG7pq6jKS8RpHVRgKDWSzsCCrLL/3PchCzkeQgHrdTeCMhpw7t4xdhqNiniT1wKmnL8DlEJJfCxsEdsXHxwo63wjcsB9tBQ0MD2C4c3YKQc6hHkDnESpq8c1dec+IeBhdviymqnKLk6OyBgoJCgfWkOlY+Uk885wBnbm4e7J3c4ROajOqOBYNjWQ60vb7HBp///AsyAbBDPLJ+m74JgD/70n8XlXPAwReW2nzsffDme3Z4/a33EBYWLlLlaGSSoSkbn/L/ZPDY2aKTtXNwwq/e2o+9B121e7cWclrYeYvyvbVnP+Li4kHmU52MlFcaISwrK8MBK1v86m0L7LN2N5icWulei/Lr+7nv23jgtXcO4L33DyI3N1cESupKuY43+5/XkBxKS0vHO3v34/V3rcC6sXTwMapO37Nyx6tvWcDKxh7l5WViVFhT+UVHMTYOb727H2/ssTG+/PY+oq388o19cHByFkFvK+JFtQ5YxsGhQQQFBeONd/bjrX32sLCn/rVs9+Z8vb0P3tmvwK/e2idG68gcE9Cra+/8ndcRMLm6eeD1t/fjXUtnWNrr3zYPOPjhldfexx9+8Y/xpS99SSYA1iObef2jLQHwf33m9/HtF38MCzsvaB1L9dympPe/8to+2DsqcP369W0zAOjXmAHw+3/wWXzv3/8L+229hG+jfzbG530bT/zklTeQlZ2tNgOAbZQZAH/w2c/hxR/+7LEP1saH+Yh76P/oB4OCQ9Df3yd8hDo/QZ/Kawiik5KT8e57lnhjjzUovyH9KGPW6+8egMUBG5HKzSlqmsrKjtPhw4dFZuZrb7+Pdy0VsDCAXzNk+Q35bGK61989iH0WVsjKyhYYRVPdMmZwoMjH1x9vvLsf7+x3emyP+o8b6nSw54ALXnvbAvYOChw6dEh0ijUpB3EBfV1NbQ0cFS54/W0L8FmGiH3qykC7fMeCfYJ98PTyQWtr64ZMYlVMo3zOciwuLCA/Px+WB23XMKrVs4rXfYSPfvM9W7zzniXi4jjdenQ9O0JZL6r/SzbBqU1RUVFgv4j9uP12XgbxYYxFb+6zFxlbn/nMZ7B//345A0AXqKMPAuDRo0eIjIzEF7/4Rfze7/0ePvu5z4v0jM9//gvY9vPCF8S1BAp/9ud/jtdef12kQ3GEjXPot2PPlQ2RnRYGMabvhIaG4hvf+KZ47h/8wefwuc+/sL0M6mTk7y98QQAEyvnf/++/wp49e1BVVSkCN1NhNJWT7ClHf8mS+vj64F/+5V/wuc+9AL3JqUlZzOKaF4Q+Cbr+7u/+DgqFQjhnduipI030yWuoe45GM0XJ2toaf/VX/0OAzs9+9nO61/k2eqJNsc4o/1e+8q/w9fUVdcq1CrZiyJXtlf9TfjLNBH8MsHv27hWruNPGRPvZ5v3btikN7luTf+093/72txERESHaDtsQ25KqrJudU362UU5z4Mrzv/jFL/Anf/Kna/pn+9dADnO9hvphPfzhF/8IP/npT5GRkSGmozDLhwB4M32ofkdSktePjIwgKSkJ3//BD/CHX/yieC7bvN7KTh/62c/hd3/3d/G3f/u3qKqq2rbTo5oSt9W5vAuALlH16Xs1IQAePHgg/MF3v/tdEUc/85nfF6McjD96s5edtEu+X8jwAvbu3auWAKAffPnll/GZ3/99/MEffNYEsr8gfCl3sFA3BaCvr0/EYeKWdX1rqCP6afqJP//Sl/D6G2+IzjQHBOgXNfUTUhzjGjccdbS1tcX//F//az0+6gW/fP4LAgdRVj7vy1/5Cnx8fNDZ2YGFhXnRYaMcqj5ss3PJr42OjiA5ORk/+clP8cUv/tEz4fd32sbW4unnhB/+h3/8J7i4uKCl5bDAJmz32uqWBBqnt77yys/xp3/6Z8bR7QtfEFiUNvLCC1/At7/zHYGle3t7BWbVFJfRZiQ8zuzc6OhovPji9/CFP/xD/ce+Ldqp1C7/6I/+WMTv9LQ0EYcZj2m/m9n1Zt+x7ujLSBx4eXnhX7785fX+il5j+Bbl2Kk9an7fExz+V//jr3HgwAFUVq71a4hNNbVb+jpez35b+aFy7N37Hv7yv/034fuJkTWXR4M497jPSH/9wgsviL4DCemtcIzq9/IUABVsog8CgPMB2RFwcnLCa6+9hl/96lcafwgU/vEf/xFf+9rXRMfaxsYGBw8ehJWVlWi06oyQxkeWbt++feIe3v+f//mf+Id/+AfxzFdeeUVjWbaSm2V68cUXxTO/9a1viXfxPe+//z5cXV3FnMfNHIjyd3SK7AhQTnZW+VEu+89//nOd5dxKfnP7/pe//KUYIWId/fCHPxSOh/p87733BJFER62su83+J5FCEMM5QLyXR4468Znf+9738OqrrxpMn+zs0l7//u//Hv/xH/+xXp8Ex5xbRGJiM5mVv5PaiyQ/7eLrX/+6kJ86MaT8bBP/+q//Kt71X//1X0J/bG/vvPOOmMOuLkiyTXJRQOqdQYPHd999VzyTbZl2bUj5DW3PP/vZz/DP//zP+MpXvoI333xzXT9kmzs6OtQGRo4esCPOuqUvI6inPkj4Ue8//elP9W6b9FHBwcGCgGKQUw182p7LBIBKoNTxVBMCgHGU8xkJ/t9++22za0M/+MEPhC2rywC4efOm6AzTH9Iujf2hf6APzcrK2pYAYJvgekKJiYl46623tGqTbM8/+tGPBHb5xje+IYgR+kG2d364haY67MJ4wMXH3NzcxEiWFMe+//3vC99McpaxRh/+jn7+q1/9Kv7pn/5J+B/6e2IQYhgO3pD8VY5Pm/3PuFBeXi5k5f30a6+//rrwk/RtjIW72e/vVM/EbrQBKfZJMZExPSAgQCyWJ42UbqZXfsffOa2RdSLFDPoAqc5eeuklg+uWcY/xiTZCjEBZWM/EZSTBicvUlYNEAf2XFPto09QP4+mXv/xl/OQnP9GLPW9VV7S/H//4x+ux9o033hB2ynIwfnNNDnX4hmVkWTkwwrJLdcLnSn0V9jG2kmG3fE/fwn4Ny0TSmb6A9WVpaQlnZ2fR/9rKXpW/J0nk4OCwjsWpM/ouPpdYnHhf3zphTLGzsxPz+ZeXlzXGOzIBoAJk9EEAMJBSsTdu3BAA5sqVK9DkQ7BDQ2IQ5Ar/nAfFETOy8gQPZN7UBVE6HALfsLAwMYrJZ/BZfA47iR999JFGsmwnL+VkB56LG0ly8j102GwsDPbKDUL1f8mheHh4ID4+XpRTkpPPY/DVh5zblcGcfrt8+bLoJLPskj55ZJAhiUQmUVWHyufUJ69nkOFibNSlpE+y57QJQ5aXdcU6k95LW2MKVExMjMgGoN0py7vZ/0wnZ0Bqbm5efw6fRxsjqWVI+S9duiRSE5XlZ4eeLHdsbKzaLAa2SY5WMTDS9ll+6VlsyyyvIeU39LMvXrwoCE3JNlk+fggiCCDUje6RACDZR4KK2T68V3oWM1b4fEOU4datW8IPa9vZ3+x6mQBQCZQ6nmpCAEj1wFFrxhxD2Iguz+QCoCEhIWrXAGA5WAYuFshyGPvD9kUilourbZcBIOl7aWlpR/qmH2C8kdo22zlHPQmiNfET9JPEOuzwceSN99OP8nn8cFSNsVKXOpPupc9nXJKezffwfSRJOGLNTLTN4pTyd4yrHNFlp5bZlsryMmbT70nve56OrCN2GFV1y5Xy2UmhntR1nKlnZqz4+/sLG5LiKY/GiqlsN4xPLIdkH2L3n+hokQ1AG9muHBLOJRYnqUQbkcrBZzLLhYSboX0b5eAAi3I52C6Jb1JSUtTiG95PeyZeJ5lBbMdySPVL7Mf2tNttnHbLNq3sw1hOTvFhh55H5fa/2f/EglwMkNczE1e5voll2W/Slw9T1Tf7mysrKxp3/unvZQJABcjoiwCQgqm2R4568MP0R+lz+/ZtEZQ4P08dASABK4640RikZ/DI52orz1bXq8pJgEwm0dPTU4D8zRqH9B0dCp1GYGCgaFTKMupbzq3kN7fvVeuc+qSTZqdJHQFAvdIZ0+kw3ZL3KutUn/W+ld5U5ed1dICcgsK0ManutzqSAKDtEDSpym4q+ekL2HFlUNhKbn4vEQBBQUGC9FOVfyud7ZbvVetWKh/BGYG6JgQAwRzXtOBoqPLzjFG3+tCzTACoBEodT6U4xTiwW2xA1Y7os8LDwzUiAFTvNeY5O/1se8XF2y8CqKtMrEfltk0/wdEoxgDiEXV+gr5U6piwsy/5GemobztRlZXv4cJ+7NBrSgAkJCSI7A6WU5KTR33LqmvdGPN+ln0z3bLj7u3tLTpFxIDbxVT+xpjBQRDar6pujaVf1XKww0Syn/PCNSEASDLxWg7MGBKPb1e/m9UH7ZW6zczMVItvJAKA7Zidf75Lqg/p2du9fzf9plrfLCdJGqmvos5mJSxI0od6k/QkHfl8c9KHTACoABlTEwCbGQcJAKagaEMAEJhrwvZv9r6dfEfDJrtFlpCjfNs1FGUCgCO+5tYodlJ+fd9Dh8HREG0IAHt7e8G8m4M+7969KwKlNgQAbYe2YS7ya0sAMEhoM/9K3zZjzOexjvz8/DQmADjSQH2SpTamnPp6l0wAqARKHU+fBQKAcU4mAO5t256JQZgloSkBwJhHIpgjyPpqu9o8h6O0JDY1JQCYwcg1X5g1oc17nsdrOQK6EwKA+NccMAHrjLimvr5eawKA9m9MPK7Ovmiv6enpWhEAbMfMgGCnUd3zn5XfaXfEpNoSAMS9JAPMXQ8yAaACZGQCYPuAvpVBs6HIBMDOdLeZTmUCQH+63Ey/6r5joJcJgK3rQCYAVAKHfKqVBmQCYOu2pc43afs7Ox7GyADYTC6ZADBePW+mf3P6TiYA7phNh1AmADRrlzIBoFVYf+ri33nqGzP/wlwJAM5La29vFyPrZKS2+rATzvlGpswAYGokU7m3kpG/keFnyrScAbC5I5IIAK6oz/lb6vTJeUucAkC90mmZOvBLGQBMhWKa73by0064cIq5ZgCwTW1ly/ye2S6c7vA8ZgBwZINM93b64VxKpnPKGQBmHvyMKJ5MAGzu9w3ht01NAHA0jCnQ6vwEfQhH4E2dAaC8UN12fo1xgVMA5AwAzWxZIgA4XVEdHqDeuW4F09TNNQOAc/i3Kwd/Ix5jloi5ZgBwzQvasbpyEIM+7xkALS0t2+IcyVdIU1/lDABAJgDuaeYctwv8XMyKi6dwER9poRlpcQnVoxRAuZWaMVOO2OnkXGl2QrkyrqpcqudcLI2kBhuLOXRYt9O/KX4jAcBOMRcB5OIjqvpTPee8NC4CaC5zakkAcDEUd3d3sZevqrzK57Rp2qujo6PoTJuDPVB+zo9jp1558R5luaX/KT87t0xvfJ6mALC8TCOUFgWS9KF6JDlF8EB9ylMAjNjLNuNXyQSA7rhA07hkagKAU4U08RP0G+wocRtcU00B4BoExCVccFnVj6meMy6wbMyukKcAqLdnxgHiGWIVVV2qnjOmcjFrbq1obgQAF50toKkAACAASURBVLsmLtDERohzSShxEUxj4nF1voH2St1yChNtXlX/yuckbIhBuWgg18h4HqcAkJTk7mrq+l/8PS8vT9S5TADIBIBeRmLpOOhw2MGjA2WA3OrDThSv4/Zc2q4Iqc5pbPc7O20c6aOT4Cq+W8nH77meAQkNrppOh2IOHb7tymaK36gTzkNkfVJX2+mTv3FFdq4BwIWWzEGfDBIESJJc6uTnVkHMduCOAqbQt+o7KT+BCncmYB2ok59tjov9kKxTfdazeE4b4wgN61edT2J7p34I7gnmdqM+5DUA9MsmyASA+g6TvtqJKQkAYhBuK0g/qs5P0MdyxwB2mJhVpa/ya/McjurSXzGWqvP5jAvcnammpkYsdqjNe57Ha7mwI7P8NNEtbYW65cKV2mxrZmi9EhdIAzMsB21lOzshduOH2bvGxOPq9ECdlpWVibjMQbvtysAycotLdoK5oLO6Zz9LvxPnEJNyAIM+bDs9Sb+xX8PFo7nav7nrgvbMjG1iOcYJff/JGQB6yABgJdEI6UC5yru6D0fiTdER4agpSQBN5WRnVWbOtwaCdNJkEdXVt/Q7QZM5BRnWLXeGkORTd6Tt0IbMxWmyDbEtqZObv9Pm6fDZVs1FfkPLwe2L2JHTRD8nTpwQo/+7VT8yAaBfaCATAFv7fX23W1MSACwLt6vSFBPwOq66bao4IMVcTeWlHe/WrCZ925m65xGbME1aU90yZnDrTHXPNfbvxDXErprEPWayEAOZAo+r0wuzFTXFNywr8aU5kTHqyqev3+mLuM2hpnbL69hf2w1YhzLKBIAStjHHNQBoyGSi+GFquLoPr9OX8Wv7HE1lZBlMKae25TLV9btdn7L8xgP6xrZR1q2m9cvrjC2fPt8nEwBKQVIP/8oEgPH8gqkJAG38hDngAk19miTrbvdt+vST6p6ljS2Ys161tRF1ejHV789KOQytP23t1pxtV1lXMgGgAmbMlQBQrjT5f+OBJ1nXsq5lG5BtQCYAVAKljqcyAWC8NmVqAkD2n8ara1nXsq5lG5BtQFMbkAkAFSAjEwBy49G08cjXybYi28DzYQMyAaASKHU8lQkA47UbmQAwnq7leCDrWrYB2QZ2iw3IBIAKkJEJALnx7pbGK8sp26psA8axAZkAUAmUOp7KBIBx7Jb+QSYAjKdr2R/LupZtQLaB3WIDMgGgAmRkAkBuvLul8cpyyrYq24BxbEAmAFQCpY6nMgFgHLulf5AJAOPpWvbHsq5lG5BtYLfYgEwAqAAZYxMArACuKmqsz+2lJQEIVrXYnYALWnD1T95rLDn5Hm4Z9qytOsryGFOHqu/a6S4BvO/O8rJZfajLnawWbew2p1wHO5HX2MGEMor2Z8T2vu6XzHQXBZkAUAmUOp7KBIDxQLKhCADGBGXfZrT/79zReoVtyacZTUYV37nTuGts37+T90m6NTY+lOpyp7ql3MQQ5oZrJHl2Wi5TYkz6GuKrndiRse+hnJRXsiNjHs2lb0MdyLsAKIEZYxIAdEBUfmJ8POKjo43ziYkR75uamtKo88TOP7e0KCkqQlxUlHFkfKyL2Kgo5OXk4NSpU7vCoWznwKhHliMnK2tNhzExSDDiJz4mRry34tAhsV2dNquUHjlyBIUFBcjOzER2VpZZfbi3PLdo0bQ8bHODg4NIMmabe2zPiXFx6OzoEEFnO1sx1W/UIQNTc1MTEmJjjdrW6f+SExIwOTFhVltZSnUhEwBKQVIP/8oEwO4lAOgnLly4gNKSEkhxxWj4JToaKUlJGBkd1WhwgLJyu7OGhgaT+DTqhTimproa3DZV8ifPwpG65fZ2LS0tJomn1G1cdDQOlZeLrSM11Snl5laTNTU1ZoVlNmCrzEwQq2mLfelX83NzhV6M2Sald7FtDgwMCIxDPWtaJ8a+bnllBcPDw0hKSDA6zpF0xXriVpfGLrvy+2QCQAXMGIsAILt3uLkZztbWyAkNRU1SklE+tcnJSPX3h7OtrWio27GMbMDctzUqIgIhzs6oTEgwiozKughzdkZYYCCOHzu2a5hF5QbG/6lH7gcb6OuLSDc3VCclgfVQY8QP31ceFwc/BwekJSeLTrOqnKrn7CyTKPJ1d0ekuzsKIiPN6pMbHg5fBwfExcQIO1WVX/WcDG9Hezvc7OyQHRIi6kHZ1gz9f0FEBNxsbFBfV4ebN2+a1PGr6obnlImg3sveHkVRUUbXD/2Sq50dBvr7zY4EkAkAlUCp4ymBakREBEgumjNQ3KydSN91d3cjPDxc7FVuzmXQdwYA9wNPjI1FkEIhYoqh/aby8xk70wMD4enkBOqfo51SfWx2vHb1Kgrz8+Hj4IBiE/g0ys6462Nvj+yMDFy8eHFbeTcrgzl+R3tn55+db8aL/PBwo2NDodvYWAQ4OiI9ORlnzpxRq1vKffr0aUEGBSoUyA4NNStMI2EsYpsgJydEh4fjyOKiRth3YWEBEcHBAqtVxMebpD4ygoLgrVCgrbVVtE1z9IvEgV2dnfB1cRG+hD5F2ccY43/2pYip2bdZ1LB+DeEHZAJABcgYgwBgx+rw4cOi8z9QUoIHc3P49eIiPjHS597srDB4V3t7DA0NbZoJwIbLkdWYyEiEu7jgw54e/PrIEaPJSF3wfdeHhpDi67tGAhw/rtbBG6KR6PJM6vHkyZMI8vMTxMuN4WGj1rWqTZ1qaxNkDpladSPn7Px7OjujNCYGyxMToj5op+byYdlol3SksdHRggTYKuCwzbHzr7CyQmdeHu7PzhrVlinrw7k5jJaXw9XaGvW1tWaTCUCdEcyVlZTA294eM7W1eDQ/b3T93JuZQV1yMjwcHTEyMmJWJIBMAKgESh1PZQJg92UA0E+w809fG+vlhQvd3Ub3EfSj9BPNGRnwUijQ29u7KQlAWa9duyY6/wFOTpivr8fHCwsmkZcyn2hpga+dHXIyM3HlypVdh2OUMZAUL9j591coMFVVJWKbMTEsdSp9znZ2IsrDA6mJidsOBFBuDmgxayDe1xfnu7qETZgLnlGW45MjR3BlYEB0UCNDQnBMzQAYB5jYmUwPCsKVwUGTYEzKz7bZkZMDX2dntLW1mV0mAAlDdv49HR3RkpW11vcycr9Gsturg4PICglB6GMSQLmNGet/mQBQATKGJgBogBz5d7G2Rn9xsTBABiZjfmiAJB3qUlLgZm8vMgFUmXQ6yuiICBHoL/b2GlU+ZV1QVnaa0wICdmUmwLHHI/+ZwcG4OTJiMj0q6/R0eztCXV2RmpwspneoOpv1kX83N5TGxuLOxIRZyK1cBuX/L/b0INrTUwR22q1qeTgCxs6/h4OD6PwzSCnfb8z/SQKMlJWJURNzyQS4xZH/4mL4OTpitrbWJD6JdcC2Tv0Iv+TggEGmEqoZ4VOta0OdywSASqDU8VQmAHYfAUDfypF/dv6lzpMxfafyu1anp9GSmSkyAXo2yQQQnf+8PAQ5O2OhoUH4FeX7TfH/By0tCHVxESQAMwEIvg3lrwz5XGaKsfPv6+SE8YoKk+uWcYOYhnaZlpS0aSYAO/8c+Sd5lRQQgHOdnSbDAJraHsv1UV8fiB2jwsK2HCnmyH9YQACyQkNxeWBAxFFN36Hv6yizRAJ4OzmtZwIY0h41fTZH/jkF09/VVXT+6UMor751oM3zrg0NiSwUU2UCyASACpAxJAHw4MEDMcfVxdYWvUVFuG/CjgiNlA2VqSg+bm44fvz4eiomjSIjLQ2hzs4i0H9iZIJCtQGxkbKhJHp7i04egzsduqYN3xTXUT7O+YuPjUWCt7eQ39TORlmvzARgClxZaalYBEXSEeVmxoKvhweKo6PNvvMvlYmjUeFubsjMyBBzPpXLwxQrOwsLtOfk4MHsrEkdPuUl+TZcVgb7/fsxNjZmUjtmW29vb4enrS2ma2pMDuaoH/qlQ/Hx8HN3x8kPPjCpfiQ7kgkAlUCp46lMAOwuAoCdPq5fE+nhIUb+Jb9ryuPdqam1TABnZ4FfpA41BzOamprg5+SEufp6PJyfN7nPp54Y/481N8PTxga1NTVmkwEm+ThNjyTT/RQK0fk3NYZVtr8zHR0CsxYVFIi1bKTyENPcuHFDYNoYb28wY4AZbsr3mu3/i4u43N+PFH9/Qb4pTyFhuZhNwrWk+DuvMzVWl/TIznVrVhYCPDwwMzNjFmTX7OwsfF1d0ZieLjCGuehKZHoEBYn1VNRl5Uo2ra+jTACoABlDEgAEkXT8sT4+WBofN7kDYkAiY+jv5ISR4eH1TjXXBfB2d0dvQYHZOEpOB5ioroaXiwvOnT+/Lqu+GoK+n0PnzAVcQv38RKA0F2cjOehHCwuoS00VCxSRUJHKT5KKtuDr6ChYcnMiLSTZNzsyoHM6TbCvr0hTlcrDeuCccjdLS7PJwKD8BE6B9vYCqErAVZLZmEeC5ezsbORFRIBBezPdGvs72hzT4zgdgYsCGlMfW71LJgBUAqWOpzIBsHsIAPpQAtOwoCB05OWZhY+QfBKz07gOjPJURk5nysrMRElsrAD60rXmcGSGU1FkJDJSUzd0UrfyO+b2PbMDc3NzwTnqYgTVxINDynX66dGjInssPipqwzQL2i/XB4gODhYYgXWgfJ+5///pkSOYrKpChL+/yAKQbIJYjRgz3M8PYxUVZlUmxvBrg4OIDwhAe1vbptOMpXIY40iM1d3ZiQh3d1zq7TX5yL+yzRGLs37D/PzEWme0V2PohO+QCQAVIGMMAiAlMNBsCAA2UqaDc86tZHgkAPw8PTFUUmI+7PmRI4LN93Vz29DBM1ZD0fY91OXJU6cQGRSEqepqs3LOkvNpzswU7PFmBEComxuYWi9da+5HEgBMRwwPDNxgH6wHEgDe1ta4PTZmNuVhJkK4s7NYcd/UBAB9njmBZZJlnPYToFBgcnLSLEYPZAJAJVDqeCoTALuLAODIY2RoKHqKiszGhzImMQsg0Nn5KQKAK6pXJCaKtV7MKXYxG+FQXBwy09J2LQGQl5eHopgYk2ewqtbrb44exeHMTCTGxDxFADD9Pz48XHSUzSUjRFX+rc5JAHANi9jgYDDdX8KiEgEQHRgoMKY5ZTWQALg+PIyUkBAx/ZLEkSS3KY6CAOjqQqy3t1llSrDOSQBw6mVUUJBMAOiIK3S+XSYA7onFt0gADMoEwI6d1joB8Ng5b+XcTfm9TAAYd+0N5bo2OwIgJsZsRstkAkDnMGb2D5AJgF1KABQWygSADqPezxQBYCYZY1JclQkA85nWYK4EAKeAmNNUCdouiRuZADATyCITANoRAGzoGz+qnapFtfOSNEmP56qonM+36zIANCQANupwTadSYJOOnyyq6nbtXNyrBEq2uk56jnR81ggApsHplAHwlC1vYrt6WjRmNxIAO7HRtXuU7XZz25ZskkeZADCTYGhAMWQCQCYAlNv8Tv/XRwbA035N2V89jrFK8XWnsvK+54sAUMWGT8dT6n4rfWqCC5XvlQkAdQSA+vpQ1qcu/7NezTEDQHMCQL2uVHG28CMb/IR6rEMdywSAAYGGto82JwJA2aDE/+ygPDYw6ajcSKVrxHeiM/N0IFO9frspAOoyAB7OzuDm0AAu9fWJz8XePlwfHccDpQVWHkxP4c7EFB7Mby7Lo7kZrEzN4NEWv0vyPtMEwPwclkaG8FFf75oue/tweWgE9+aeOPRHs9NYHp/Y8J3QzfwclsfHsDy9trjdo9kZMb1E+V5Jh6pHQxEAT+xWyYlKdqvayeb3Kt99vLC4/p2qzFud6z4FYB53J0Zx+bEtX2Jd9A+u61W8d34OKxPjWJnZag7hPFanpnB/y9+ftIHdRwDMYmlkEJd619o659FdHh7dYI+00TvjE7gv2e38LJZGh3FrYhoPH7fv1clx3BybwH0lH6FapzIBoG3U2n3XywTAM04AKOGPTxYexwH69Q0A+Yk/lLCLwDWLXDDvyW9b3cPvdSUAHs5O4vpA/zqGudTXj+tjk0pTH+dxf3oSdyaf+LCN8izi4cw0VqZn133cxt83luP5IQDmsTI+8iSe9vbho4EhoSemPFNHj+ZnxfbCqzOzIg36id7mwTixrvP5WaxMTODuU9dt1K2hCQDaqMAmkj0r27gKhqEdi4/y9+I7qS1slP1J2Z/+Xl9TAO5PTeAabV3EcOKbgQ2xmfVxd1s9sy1M4+n6elpm6mrXEgDEeeMjYgcG0bchHh8cxrISrntIrMP1iR5jnYdzM1gaHcHtiSk8pH3Pz+Pe5DhuEetIeGgL3ycTAGaEX8yFALg/OYqTTQ042z+KOyMDOF5bhdHKWlwYGsPD6TF82NOH5RlpRfN53OrvxHRFOSbrW3BtZATnW5twvLN/3UA3czBspDsmABYXcHekG23xIYhR2MB1nyVCXH1Qk1uFa5NTIoD++sgcLtTloy6jCJcn2Zmd3+Do708OYzw3AWVpZbg9JZXlaWdC2Z9lAuDB9AjGsmKR5O4I9/feh7+TO/Ljc3F+ZAIP6DwWF7DUV4/GhFQcG1xbqI1Og3q5P9GH5jAvZCUU4MbMAlZ6G1EZk4ijvaPivs3qXfpO7wTA/Bxu9XdguqoO5wdHcXOgG9PlxegvrcCpvhHcm5nA+cP1GCsvx2h5OcYqqnGyewAfdR3G2KFyjB6qwHT9YVweGsaHbQ2YqjuMG5OabdmnKwHwaH4Gp6vykOvnDr/9++Bl64SkwFjMdQ7g3uwaQHk0M4iepHgMNPcLQkuqA6HP+Vlc66xFYWgEZlsHNti5pG/l424jAD6ZG8ZwRhxS3Rzhum8/ghSuyEsuxKXhCTyYncOjhUXc661BVUImTg1NrIHhiU6UeisQG5aNS+PT+GR+DH0JgYj2T8DZkcktdUTgJK8BYEZB0QCiyATAs0sAPJqdxKWOZhxr78HyxBjOtzRg7FCFwCMrM1O41teHa+xkC0A8j9XxQRyvr8ZYZS3O9w/ham87jh9ux90p9b5fVwLgzkAz6iKCEO1gBef9Vojy8kdjcSPuTM6sxd65GZytzkNt9iFcZyyan1carKDsAxhMjUJNQQNuTz0h7JV9vfL/zwsB8GhuCkfLs5Hj5wofi/3wsXNCWlgSFroGsSrFi/EutCcnYaKlD/fm10ZCSQ48mh3HSFqkuP54/zgejXWjMy0NQ43dWN1moMhQBMAni/O4PdSNxdpanO4dwq3BXixUlWOgpFzY9PLUFD5qb8LkoXKMENscqsTxjh5c7GrDTOUhjJYfwlRdIy4OjuBaXyfm6+pwtm9UI8KItqMXAmB+DldbK3Eo1A9BVhZwP2iDeL8w9NW248404/cCVse70ZeZhuHGLtx/3Il9YrvzuNXXipa4WHRWH8bK/BrB8eT3jbh9NxMAD6fGcKwsE+lervC1fB/eds7IjkrBYvco7s1y8Gce17rq0JCUgRMD3CKb/a/DKPdxRkpMNi5OzOL+5BD6E4IRH5yAk8PT6wO3m+lLJgAMADB2+khzIABE42kuRYyjPapzSnAo0AtxXn5I83BChH8SzjQVIzUgGsf6xvBocREPhg6j2N8TKYEhSHFzRm5iLppCnBESkIrLo1sHUZ0IAG5nNjOBDzsOoz3RE9avW6KyoBLz1YfQnp6MmvR8nOofxHxOCMI9I7DQ3on5+iZcGZsSzuaTmXFMZ4bD5mc/wH77aHw0tv0K5M8yAcAsiKs97RgrioXLq28iNbEQi3XV6MtJQ1VSOmZae3CxJQ8xdi7oaerEsfp6nOln3ZOEaUXCW9/H93/0GmorunC1qQB+lvboa+kXo+ibORzpO30TAJ/MTWEqzR9O+xRoLi5Gsa8Tgp09kODqAF9HfwzXViDb9j04Wtog2t0NcV4BaC6qREOIPSzetkCUqwuCrCwR4hmGpnB32O9zxnCb+s40y6MrAUBgtzTUi+P1hYjZ+yp8fOMxU1ePsaIcVCckoa+yGTdG25DnYI3iogacaqrHkfa+x+zuPFZ6G5DntAff+94raDjUvmXnVtL9biMAPp6fxpXuDhzNj4Lta3uQl1aAxeZmTBXnojYpBYO1bbhcnwF/W2+MtbRioa4eF9pK4fXKS/jZKxYYaBvCal89Yvf9FP/1qjPmekcfdwA2AgfqRyYAdhq9ds99MgHw7BIA94faUO7rhKSIVPSkhCPO3RPpfl6IcPVDd00NGiPC0FzZgrvzC3g4NYj+pFAkePki298TCf7R6MyKRoyTH853DW2ZMSD5UV0JgPtTozjXehjtoY7Y/64jWkqrcLSxDn3ZaahLy8FiWxfGUgMR6puII23NmK1vxvXxNUzFAYyBpABYvvwiXP2ycWV8q8ywJz7ueSEAPuZgwGAvFmuzEbZvD0IDEzFaXYPhwmzUJadisKYNl3pqkObkhNqiWhxraMAHnQNYnV3Aw5lB1Li9gx995yXEJ5bhVk8dMtxcUV7YgJVtRlMNRQD8+sgMZnOj4W9lj8rMPFQEeyNc4Yo4VycEOHmhrfQQKrxtoHj/ACJc3RDn6YO6vGI0RvjA+d19CHJ2RrD1QYR4haEpLQER1geQk1qB5ZntO9GSjeuFAFiYx92xIZxqrEa+y3642Xujr6IWk+VFaEpORkdJFU61VqHAyx1lORU4cbgJJzr6sDq3JuPqaCfqgx3w+vd/ivjEEtyef5KNLMmpfNzNBMCjuVncGujBTGkOIizfQWhQMqZqazCYT9tNw3BdK45UZSLa0QO99a041lCPmcpcBL36ffziDXsMHB7ErZ5KRO75Od550wkTPRMyAbBboIm5EAAf1eQg1jsQDQlhCHMLwWzXMG4Pt2Mgvwxn6rIQ6OiL2a4R0clbaS9BpL098pLyMV6Sh47yRnyQF4Fw/yR8OLx1x1pXAoAN/tdHF3CuNhEBNt4YbWpCmZcNAhTuiLGzRLBvFDqTg+B/0AahTg5IicrChRHKs4iPp8dxuqEadUEK+HonPtcEAPXIurjddwgxB23RUNGEgTgveNs4IdndCb4OnmgrTEeExfsIcXNFlE8k5rrWRvjvDrciz/5d2O3dDw+HQAwWpCPQygkDLQNGJgAW8cnsBEYSfRHim4L5mnwEv/8eCrJqcKq9EW1JyRioKELC/veQmVmO8/39uDAwhJsjA2jwt4FfQCY+HBjA0aI4eL9nh+n8ZIRaK9Db3Ke2M0396UwAPK6Dj2f7UOFyACkp5figPBH+B6yR6OsNXwsrlOcXIMtmPwLd3BHi5I626g7cnyO4m8fd/naM56fD/8ABtFR2qJV51xEAj7NwPukuRbC1At3N3VjIi4CvlT0SvdzgaWmPqthgeOyzRqyrA8J9YnDscAki9u7BgXffRUleDeZL0hFn9Sb2W/hggSMgW6TEyQTAbomWO5dTJgCeXQLgXn8z8nzcUZqQjCSFI5oOtWJpfBgLh4owXl+JUg93lBfVi1HEB2OdqPBTINY/GkMVZejKKcbx1lLkeQTgXFu/2qkAuhIAxCKMvWfyw+HlFIbFznYcDnWBn70L4hR28FP4ojTQFR4H7BHh5IiM+IJ1rELy4ER9FUo8bRAdkS8TACr+/JPFI3g43YYidwUKMiswkh2NIBs7xLq7wPOAA6oyU5FsdxBBTk4IcfVDb12n6HA+nBnC4SAnOO/dA4WVBzrzs5Hi5oaKokaTEACfHp3GeHo44vxjMVaehzgHG2TE5+F4azN6s9LRU1yEPBcrJEVm44Nu4ppB3BrrQ1uEN8J8ojHf24cjVWkIs3bAocxilAe4ISupBEvTxiQA1qZafjw7gd5oT8SFJGG+sgDJCjuEubohxNYWCUHBSHCyQYCDI8LdfdFR1SYyMz5ZmMfqWD/mK7KR4uSI/PTyZ5oAkPD48mAHir0dkZdejvGcGPgdtEGMuwt8rR2QHRGMYMv9CHFxRlxADAbK8pFo9SYs3rFBWXYF5osTEXRwL5wP+mK6Z1wmAHYOFYx7p9kQALW5SPQLxqEQL0QHpeOSSJFfFB2dh52FCHb0wyw7gQuLeDQ1hJGsGEQ7WMPNwhqFGVU4WxyD6MBkgxMATI86W52AAGt2UlMRaqXAYMcEHnUWIcTeEWXBrnjjW1/Gd1/ag64mjuZK8wAX8eniAhYzghDok7QeVNn4Nvs8yxkAwuEsLOBWbzmiD9igIj8fGXZWqCjvxKcTXShwt0FKSBAc//3r+No3f4K8vEaRosV5kivDrch3tkFuUi5yFAfgb2MLFwtHDLSahgAYTfZDRFAWPhrsRkuYM2xeex3OBxxQnFGGc501iH3nFby/xxKRLi6I8w3DYPVh1Pvsx/v7FCiLjUG6izW8FSE4UZ2PKDtX9BmRAGA9PJzuQbmzJZIS89AYYI/YmCLcnZ/DSLQCAd4hiH37x/jmV74BN78MXJuaW3fsAuwMHka8nTVan1ECQBB3XSUIsnJCd2MDKjztkJZaheXpCbQFOyLK3grvfe/r+Po3fozCgmY8HK1FnJUtoj0cER0QiaIQP2R7OsHFxl8mAIwb1szubTIB8CwTAIdR4OeJopgoRDt5YKJzfI30n5/D3YlOVHp74NBjAoDTBU5V5yPbUwHP/RaIDkzAsfYKFHkH4Vy7MQiANbxxKi8Mnk6hmKgvQoKdA1rr+rDSW4d4e2vEHnwbP/vqP+Onr9phrGNUidxdxKdH5zEQ7YG4yAKZAHgKuy3iwWQrCt2ckJ+WgyJvF2QkleHm2BCaghRIDPBF8Os/wnf+v+8iMCwXVxlPFxfxcHoQzcHuyIhKRbGfK4JsrOB2wM6kBMBERgSSghJxrLsLfQkBcHn7DTjut0Z2AomARuQ7vo39b+xFqMIFsZ5B6KmsREOoKxz3WSMrOhqZno7wc/LDQE096sI8kZNcanwCgPhmZhzdUR6ICYhFS2wQYgPjcXZkHAv5JGcOwu5XL+PfvvodeAek46PJOfz68VocAt9MdaEmwAOF6eW49QxnAIj+B6fdDrShyMsRmfE5qAh0RUrSIdwZ60NjgALeNhbY84Ov4/vfZMaWcQAAIABJREFU+yVKippxqbMK6Qqbtfr3D0VhaCASPRUIUgTIBIDZoY9tBDInAiDBPwxtqdEIdwvGTNcQlgbbcDgxBbPlafC388JYSx9WpqZwqbkCzVn5WGzvwnBWKMIcgnAkI8yIBEA8/Kw90VmSjUhrOzRXdeBSZTIC7F1QEeIGt/cPwO+gJeIjsvHR4/Q50emdn8N8WiAC5AwA0ZG81VOGKEsbVBYWI19hhZzMalzrqEKqwgaZkWEI2rsHvvZ2CPKIwJG+CTHHf2W4BXkKK5QWtuBCbTa8f/EDvPjye+gzUQaAIAACM3Cupx2zNfU41lSLtsRQeLz9NpKjExC3713ERKVhsqYaM/XNYvGlBp/3sXePPYpj4lCXnoejXYO41VGOSFMRAAoLJCUUoCPcBWGBqTjf34vmAFuEBkYi2fIdeDoo4G3ljM667g2LW3LkK9bO6pnNAJAIgMCDjuhqbEKDvyNiInNxrrsd5V62iHN2gNNb7yHE/iD8PaNxqq0MUQcdUZ0RB78D++Fs6YHmhCB42gVgQZ4CsE0UevZ/kgmAZ50A8EJVajrSXJzQWN6KpbEhTOWnoqW4EEVurijKqcT1iSnc7m9HT1YmRmsP4xg73/b2qMjPRp6XkQmA3FB4OIZgsqEcqQ52qChswNm6AoTb2iDB3gKK/QfhZ3UQKQnFuDKhNK1ycRZ9Ue4yAfBU55/ECgmAFhS4OiEvLR+HAtwRH56Fk23NKPG0R0pwIKIOvA8fa2v4OHijv6EH9+ZIwg+iKdgVmYmlONlUgbQDr+DlH72KwvxGrGyzeKyhpgAwA0AQAMEJmG1pw5GGBhxprEdvWjT89+9DUmAEspz2I9w3BsMVNZipa8KlgU60hrnAfs8BpEZEoyY1G7OtvVga6UVjmIeJCQB3RAfEojMpHNHeYZhuaUN/UhAC7WzhZfk+3A9aw9/RCx01nXgw/2TA7v5EB6r93FHwPBEAng7ITMhDXYgHYsKzcLqtHiUe9vB3soPre+/B19YW4T7RGK4oRLqLI3JjYhDx/h64ObqjJDYMkc7+mJIzAHYPoDErAiAgCkdaW1Eb7I5wVw/EOdshzDceJxuKEHrAAv6OLkgOCEVnYSGyPV0Q5emDBDcFMmILcLowBjFBKUbJAPiwIRPx7qGYbe9AW7gbvA5YwXPfe4iPSsdobhwyw5IwXZGDOBcvdDf04sHjYPHJ/ByO58UgMTwLV5WIAcHAqQSU5yEDYKm/GpmuHuiobcNsTjh8LS3he9ACQR5hGK0qRK5PMAZrqlDg6YKSvAbc5cItox2o9HdH/aFuPJqdwECsO9559SBGOoZMMgWABEBkYAbmqrIQaeeMpvJ6nGiqRLbTASSERyNm77tITMzH8bZWfNDWjgvdnajxs0VoZDHuLxwRC94ws+FOp4kIgJl+NAa4oDC7Bhcb8xFlYwk/Gyt4WCnQVlWFCl8v1JfVoj3cE7Hh2biqtHjl/cE25Hh5oK++W2mUaPOMlt04BUAQAL2VSHTzw2BrH86ItEYC4wNwt/VAR3Yi4rwiMN14CJmuzqjMTEWSsw/6m+tR5HEQ/j5pWCxNRox3DI4PjG+pI3kKwO6JlzuVVCYAnnUCwAft5Q2YzI5EpMIZ8R6uCHX2RkdlJSq8HeF+0A6xvgGoTMtBU6QfIpzdkOztgVifcEw2laHYx7gEwLmSBET5xuNETy8Gk/zhc+AgvC0tEOYXjeb4MKRFZmKsKBkRCh+MtSitS7M4h7GUYOQml+P6hLwGwEbstogHUx2oDvJDVUEdFsrSEWl7ED4HLOFu64m20gIU+QWgtaQM1UGeyE4sEANED2eG0R0XhLLMKtyYmMaJwig4vWOBqtLDYt2Ije94El8NTQAkhyRiqCQHqR7uqMgux/GmapT4OiMtIAQZDvsRHZyMueY2gWsu9rajOcQLMcEpuDA9L3DNr7le13g/GkNNSQBMYDg5BNmxWfigqQr5ng7wsrSEl5UD8hKSUBwcjIb8YjRGBiAjJhuXJqTFuRdxf7IbrVEhqMmvwdJzkAGwPNSJ2lAfVObVYLEsHWFWlvA+eADeDl6oTktCtn8oesqKke/ljty4eOQG+KO5uBLlng4IDYjFQEkGMv2jsNA/uZ4pupntyosA7hRFGOA+cyEArtTlItRBga76PrH91snmesw1NOMjrp49O4Urfd041dGB053duDExhVtDfTjeWI/Fw+24OjyCyURP+Hkn4KKYc//ESSoboD7WAODzHkxP4MbjLcHuTQzhRH2tWM39+vgU7k2N4+boOO7PTuPG0CBuT85sAP73JsdwY3Riw9aByjJK/2tKANxdWcby8jLurq7i3r1VrJ2v4O4qAdeT81VxbjgQdv/+fZw8dQqRgYGYqq7edFqDVDbp+HBuCjeHhsXWcw+nx3GupQGTNfW4ODSG+7NTuDkyIrbCuTMyhOujE2IONbduuT0yjKXHHdH7U+O4PDCIFbFa6eb1Lr1Pv4sArq0BMJrkh7CADFwa6sVAShhC7e0Q4uCIpJAkLLY1oSHIFT7WNghxdESowg2l6UXozkhAXXGT0tZw81hqL0W4jYvRpwB8PD8L6pdb14nFGbtbMVVVg5PdXL14Zk3X07NY5ZaBQ6NKMi+I628Or9WfpOOtjhoRAKurWFlexvLKXdy7dw+rq3exvHwHK3dp22vnd+4sr5/zO20/bCv0eSUxMbg3ozSypULArZdjdgrXh0fEVoj0Q5c7D2O6uhane4awOj2B68OjWJ2dxdLwIK6PjuL60DBWZmaETrnyN/3B9eGx7XcnkXcBMEBkM69HygSA9m1V27YtXX/nzh3k5uaiuLgY/F/6XtMjY9nFixcRGRqKnsJCtbHsXv9h5LnbIy+tAncmxvBh+2HM1TXgTO8Q7tGHDvXjTEcHTnV24tLQqNhy61xrM+YbmnC+bwDnG7MQb++JM+0D2wJn+iTd1wBYi5H3J8dwbWQM9+fmcH9yBKeb6sRI7uWRCaxMjOHm6ATuzUzh+uAg7qjsTnB3fBQ3x7nz0fbxlvJqtgigKk55EgcEblGKC6s78Pma1vtm1929exd5eXkoiokRW8Ktx4Ut4gXxCbdHW+KuCo/jxUxNnYgXd2emcHtkBMtTM1gZG8H1ESkuzGF57PGWatwdgFs1Dg1hidtFb/EeymFIAmA8IwIJgfE40t2Didx4xDo5IMjeAfGBMRhraEJnnD8CbawR5OCIEIULCpKy0JmWiub8SlybfkIM3R/rRV2IO7JNNAWA6xWt0F7HuMPULG72d2GhpgZH27pxe3ISS6OjuDM1Ddr09ZGN2/wKbDQ2iiXu8rVNPbAu2LfQZBvANUxDDHMXtOUn548xzt0VgeclzLOZTWry3erqKrq7uhDj7Y3L/f1q/QrLwMUA1213ZgqXOg6DtnumbxgrU5O4OTKKu9MzYgvva8MjAp8vT03jzuiw6NPcnZrAzZExrG6zcKV4z/w8ZmtrERUUhOPHjoH+VpMy6eMa6qWnpwdpaWkiNugbJfyOvh9o6OeZAwHAbd9WBjvRkZaIkSauNL7WoDgyytExqYGxkfHDc47OSeePpkYwXZCKw8X1YouPtd+fDk68fsfbAKo4AEkuZdmeeu8We/sq3/vUPVJ5jxzBXH09fN3ccO7cuc0byMptTDZmIzwuG1MnrmB1+Qp6ytMRlVSEmfO3ce/WOTQXJSEyrRIfXL21+TP0FFB3QgColl2qT030o3zvE5t4us6Vr9MvAbCAT+YmMZ7kDScLT4x3DIrOMQPJjVEpsC+IAP5gfl78xr3gpUCiHNi5Dctcdigc9jqgv6V/26AvlUcfiwBKz1I+ru9hvYntalsvys/VhAC4eW4eufGhyKodwa2lZXx0chQpIf4o7ZrH7ZV7+HC+DaE+YWgeO4YlQXhp36nQmgBQbfeP90J+WhdrfunJft6Sn3riw5T1ofw/nyVvA2joSGfa58sEgPZtdaeAz9gEwMOJYcwUZaCluE7gDymOPWnjT7CK5DfWr5mbwrmGErRkFOLG6KRaskFfBABlk2QR/6v4Nek3TWPrk7JujMGaEADLNy6hvTge0VnVOH3pFm5fO4XK1HCklrTgzNVl3Lowi8LEGORU9+DDW9oTOju1I96nLQGgqocn8fRJPJCukXQsnSsfNdG7wQiAIzOYygyHv40z2qo7cXdmHqsTY7gxMoa7SnvDP1h4Gtcol+HjhVlcbCxBvJ0l0pPKcMeouwBstMMnun7SFjfKurE9qP6m7pz1pY4AuH9vBRePDSArPh6lLWO4eucOzk93IDk+HrX9x3Dnzi0cGWxAYmwiWibP4M7qzjvGOyEAVMuoje0+0e9Gvas+k+dyBoBpsciGt5sFASB1ehmEVAD3Zga0+XfK5MDmRshGqi8CYHMZNn/vTq7VKANg+RYGyyLh5BWFocWPsLp8Cc2ZoXALSMTo6Zu4d/MUyhMD4BqcgyMf3TR7AmAnetLmHr0TAPNzuNxajea0HBzpHhLz49ecpnZ28HB6AieqCtCYXYoPNQCBLLOhCABt9KnNtZoQADdOTiDGxwGRhV24sXQHHx7tQaD9QaQ1TuDW8irOjtfAwcIJ5b1zuP04K0BbcKcrAaBNmTW9lj5PJgA2hKVn7kQmAJ5dAoDtnNjiCfmnnf+X7tfEX+iTANDkfbpeoxEBcO08alN84B6Zh+Pnb+DW5WPIDXJGUGolTlxexo0zY0jw80R0bhPO3lgyKI5RjSe6EgC66m+7+w1FAHCh6yudDejKzsZ0Sy/uzs4LXK4JKbFR3llcbq9HZ3Y2Zlp6cV+DjBHer59tALVvgxtl1+5+TQmA87PtiPD2QWplHy4vLeH0cB0CfLxR2DqHpTs3MN1RAn9PP1QNHsedu6YlAHTRx3b3ygSAGcEbcyIAtjMaffz2zBEAgqFewfIKU/7XUojEFICVFayl/DO1jilFdx+fGw6E6SMDQB91vN0z9E0ASO+iQ1Me0Ze+1+YonqFhgORzn0UC4B5TPVfW0uMEEFu9K6YESOlwUrrc3R12/vlMmQDQzAc8fPgQXV1dSE1NxdLSkhlFrN0pikwAaGZ3qh2wnZwbOwNAGz+v67XPIgGwPlVxRcIpa3GAU8FEyr8UF6RzPWUtamJbzyMBINmoPnDNx8RG4qN5h/pZJQCEvQlMs7I+jZGYhphHwjSrd9cwj4TnNbHRza7RRwaAZAf6PtIe5CkAZoJjZALgHlZWVuDn6YnBkhIxZ03fBr+T52mUAWDEQLiZk1H+7nkmAHZSv7re80wSAEawZ5kA0KwjJhMA+g3QMgGgmd0px5Sd/i8TAJp3tnSNQ+ru1yQDYKf1bIz7nmcCQF3dGur3Z5oAMALGYbuQCYDN4428BoAKrpEJAJkA0EcglQkA44IumQDY3MGrs2WZANBMbzIBoBIodTyVCQDN7E5d+9Xkd5kAMG4s2q4jKBMAhqsLQ00B2K4+jfGbTADo7itlAmBzHcoEgAqQeR4JgBBXV4wMD6+vPillAAyVlIh0JV2d3M7XMXgSLJgBMKNuEUAjsYmagC5VAkD7+WJPyq6sf33oUnoepwDEx8Tg2rVr6/MIHzx4IGwh1M0NF3t6lBaZ3Fwe6VnmcByvqEB4YOCGRSJZDwP9/WKv4dtjY2oXlVJXDupfH3XwYG4O4c7OaGpqEuy0JjZliGv0TQDoQz9sK1wDwF+hwOTkpEn1I+lcJgBUAqWOpzIBsDkgk+xNn0e9EgBFRTr7UHU+Vpvf705PI9DZGUNDQ2KBOurt1q1byM7KQkViIu7PStuY6Ra/9OHzWS4S1Yfi4pCVlobbt2+vx1191rchn7UhA2BmRi+xUF+6/fToURDTJMbE4MqVK+u6JQY4ffo04sPDMVZRsYZp1xfP1s0utLHVnV6rMQGgJ2yij/rgloeM4SkhIehob19vm4a0ze2evYEAGBjQC67Vh54km5iRdwHQEVHo6XZDEwB1tbVw3L8ftSkpaMvJQWt2tsk+fH95XBys9+7FyMjIBgLAzdkZcR4eaMnK0lnO5owMtLCcOpS3PTcXmUFBcHNywvkLF9Zl3a7Rm/I3dqQZdDxdXJDk46OzDtuys0VdUJf6spkQhQJRERGbEgB2+/ahNjkZg6WlYioIp4OY82egpETYh7fKLhGCABgYwN5f/lKUR6c2l5ODw5mZ4qNTHTx+zsG33kJzc7NJO7gkALhFmJ+dnQBPurRR6kS09awsndo666giIQGW77yDyYkJk+pH8iEyAaCnAPv4MTIBsLsIgEuXLiHAzw8xnp46xzKdfKcSXqKfaMrIgM2+fQK/sHPK9koCIDMjAwGOjms+Temenbyb2GXdr+n4rMNZWfCyskJqcvKuJQDy8/PhT91mZOjFFvSl2468PIS7uCAmMhJXr17dQACcOXsWgd7eAiP0FxfvGlxDzDVcVobCiAj4uLpiYWFhvVwSxvRycUGyr+8aLtQBY7Nt0D6JcXbSTpTvYdusSkyEq40N2s2AAKBf6OrshP2+fSiPjdWb3epDV9RbemAgiF2PHz9u1L6NnAGggmsMSQCwM7K4uIioyEiEBgUhIiTE5J+ggAAkJiTgzJkz646FRlFdVQX+Fq6LjKGh8PbwwC9feQUkFHQtb3BAAMrLynDzpmFX8JdAvy5H1vWNGzdQWlIigJOuZecezAp7e7z6yivw8fRERGioTvpkvQYFBqKtrW3D3tCU++QHHyA0OFiQF/4eHvD39DT7j5+HB9wUCuTl5m4gNFiHJ0+eRHhYGMJ0bHPhwcF4f+9evPvmmzq3X+qfOqY/0MXOdL2XbX1sbAwRYWG6tfWQEKHf1375S1gfOKCzftjW6Ze45Sdl1LWcut4vEwAqgVLHU5kA2D0EANsOR6vr6+sRoqMP1TUOqt5PP5oQH4+zZ8+u+wlmMA4ODiI8NFRnn8b3ebq5CQzjqlDoFHP5LMobGBCAnu5usdaSrn7JFPczXsRER+uu28f48PVXXxXYhvFVtX61Pad9trS0PIVprl+/jtycHLg7O4NYYTdgGmUZKXdqSgouXry4HguJ1ViukuJigeVoW9rqS/n6sOBgWFla4q3XX0eQn5/OGDMkMBAJCQmiU2sOMZyd6/i4OFAu5XLv5P9AX1+hp4MWFrq3g5AQBAcGoqSkZEPmijHaNuulp6cHaWlpos3oGNafuv13nvrGzL8wJAHACqXCGUzZiTWXD1e1Vm2gHBkkk66LjLx/fmEB/v7+GB0d1fl5lOXO8vK6AzRGA9H1HdSjLjqU7r29tCQaakBAAI4cOaKXZ7J+CJZUy8iRFP7GqQG77bOZLYs2t7Sks84YbDn6kZycjMuXL+v8PPoBadRKtQ6MeS7qWw8+6crVqwgLC0Ntba0IZJLt7vS4WV0aUy/K75IJAP0GbpkA2F0EANuCPjDBTn3BdvfRj6riFymGbXefpr/NzMwIDMMsSU3v2e66reKusr8x5//1FS+oB45oh0dEoKe3V3Rmt9ObJr9tp1vGk92GZ5Tl3czO9dku+a6qqirExcXh/PnzesHr5hTD6SMojyZ2pO4aDpjGxsWhoqJCL8/j++hfVf2Yof0A3ycTAErYxtAEgKEr1JyeL0aTT55ESEgIZmdnjZraYk560Ics7IAQgISGhoqpBfp4pvwM7UA4gU9paSkyMzNFIJH1t1F/nGscExODw4cPbxiBeRb0JBMASkFSD//KBMDGtvP/s/ceUFVl2aK21eG9O94d//hvv/7f7a6ufrfDre6yyjJHJEnOoGJEzDlHjCAmMEfEnDGgIooBzBhIElRyzpnDIWjV7bp9w/ePtQFFBKUknUOtM8YZcPY+Z+2155przbm+PddcbdlHWpoDoC3rpg1lv3z5UvFhBAjQhvpqSx3r/MPNmze/s4RDW+rf2eopHgb5+fmxa9cuZQmFaJ/Odo+tcT9CLtnZ2cqDIBEV1RpldlQZEgA0cGYkAGg9x6RugJcAoOUylQCg5TJs6SArAcCH20ACgAbGRH5sUgISAHy4L7V0rKr/ewkAWiZrCQBaJr/6ulj//zr/UAKAtpFvfVk3538JAJrXDhIANGnW3zshlwBoUGb65gwCrfmdugFeAoDmDSwfkr0EAC2X4Yfk25xzEgB8uA0kAHjP/skDTUhAAoAP96XmjEfN/Y4EAC2TtQQALZNfU3pa5x9KANA28m1K7k0dlwCgee0gAUATRr2RwxIASAAglwC0gg5IANC8wbkp49YaxyUA+HAbSADQiAWUhxqVgAQAH+5LrTFe1ZUhAUDLZC0BQMvkV6eHDf9KANA2cm0o5+Z+lgCgee0hAUCjJr3RgxIAtMLkr7kdWNO+VzfAywiA5g0sH2o/CQBaLsMPybc55yQA+HAbSADQqA2UBxuRgAQAH+5LzRmPmvsdCQBaJmsJAFomv6b0tM4/lBEAbSPfpuTe1HEJAJrXDhIANGLQmzgkAYAEADICoBV0QAKA5g3OTRm31jguAcCH20ACgCasoDz8ngQkAPhwX2qN8aquDAkAWiZrCQBaJr86PWz4VwKAtpFrQzk397MEAM1rDwkA3jPnTR6QAKAVJn/N7cCa9r26AV5GADRvYPlQ+0kA0HIZfki+zTknAcCH20ACgCbtoDzRQAISAHy4LzVnPGrudyQAaJmsJQBomfya0tM6/1BGALSNfJuSe1PHJQBoXjtIANDAmH/gowQAEgDICIBW0AEJAJo3ODdl3FrjuAQAH24DCQA+YAnlqXckIAHAh/tSa4xXdWVIANAyWUsA0DL51elhw78SALSNXBvKubmfJQBoXntIAPCOKf/gBwkAWmHy19wOrGnfqxvgZQRA8waWD7WfBAAtl+GH5NuccxIAfLgNJAD4oC2UJ+tJQAKAD/el5oxHzf2OBAAtk7UEAC2TX1N6WucfygiAtpFvU3Jv6rgEAM1rBwkA6hnyj/wrAcBPHAAIR08AgIiICMTAU1FRId+fIIPq6mqCg4Nxd3cnKSlJkWVTA7k83ryB/MfKSQKAD8tVAoCPWEN5+o0EJAD4cF/6sWPTh74vAUDLZF0HAMLDwzXKdxFtrs3+lKi/GAckAGiZfn6o7/+YcxIANL8dsrOz2blzJ5cuXdJqX1yMH7dv32bPnj0IO9HaLwkAfuIAIDk5mQULFrBhwwaOHDnSoW8vLy927drFoUOHOrQenyKHo0eP4urqytKlS0lJSdHqQefHGCVN+q4AAMeOHWPZsmXcvXuXR48etflbQB8xQD948EABQO1xzU+9xr1795g7dy5XrlxRjIkmtV1L6yIicAIDA9m9ezelpaWtbSd/cuVJANB8Z7OluisBQMtkHRcXp4xr69ev5/DhwxrxPnjwoDIBET6NptTpx9ZD+EFi8j9//nweP36swIyW6rr8/afrugAAFy9exMXFhVu3brW5b9PQzxA+jvCrhM/T8Jymfb5+/TpLlizhwoULWu2LSwDQwPU6cOCA4uSrVCqtblhNGQiFs3zt2jX27duHMFYd9RbtOmPGDExMTNiyZUuH1aMl9y9kePPmTYqLi6VudgBYE4PlnTt3mDdvnjL4CxDQ1m9xrUGDBjFixIh2u+an3pMwiMKZCw0NRTgTmjIGtUY9JABoYChb+FECgE931H+sPksA0DJZFxYW4u/vr1E+w8aNGxkwYACTJ0/ucN+qJT6NePLo6+tLZmZmp7IXP7aPasL3hX8jQIwAAIsWLWpz36ahnzF+/HhMTU2ZPXt2u1+7YV0+9lnIR/g7AkxoQtt9ah0kAGjgyEgA0DJj2ZgiCiUTT0/FpKCj3mLdztmzZ1m8eDEZGRkdXp9PkYOQoZBlYzKWx1pfbxuTqQCD+fn55Obmtsv7xYsX2NnZKVErWVlZ7XLNltxbQUFBp5v8Cz2QAKCBoWzhRwkA2me8ErorAUDLZa0JPkydzyD8ALEMUEz+T506pbRvR/tXdXX7lL/Sp2m5fjbmq3zKMdF+woa3xAf41N+eP39emfxHRkaSl5fXIXX4MXXvDL6O6HtyCUA9Z0YCAM0ZjD5lAGvqN69fv1bCdUQIvVi/09T35PHO2f7a2q4CVjk6OuLj44OMSuo43ZQAoJ6RbIV/JQBoP12WAKD9ZN0edkY8zEhNTWXq1KmcOXNGeZjRHteV1+hceqRJ7SlyXImwevGATiwbFjquSfXrrHWRAKCBMyMBQOcc5CQA6Jzt2lkH5rr7kgBAM/RWAoAGhrKFHyUAaD+9lgCg/WRdN2635V8JADpXe7alrmhL2RIAdIxOSwDQwJGRAKBjFLGtByoJADpnu7a13nR0+RIAaIbeSgDQwFC28KMEAO2n1xIAtJ+s28NeSADQudqzPXRG068hAUDH6LQEAA0cGQkAOkYR23qAkgCgc7ZrW+tNR5cvAYBm6K0EAA0MZQs/SgDQfnotAUD7ybo97IUEAJ2rPdtDZzT9GhIAdIxOSwDQwJGRAKBjFLGtBygJADpnu7a13nR0+RIAaIbeSgDQwFC28KMEAO2n1xIAtJ+s28NeSADQudqzPXRG068hAUDH6LQEAA0cGQkAOkYR23qAkgCgc7ZrW+tNR5cvAYBm6K0EAA0MZQs/SgDQfnotAUD7ybo97IUEAJ2rPdtDZzT9GhIAdIxOSwDQwJGRAKBjFLGtBygJADpnu7a13nR0+RIAaIbeSgDQwFC28KMEAO2n1xIAtJ+s28NeSADQudqzPXRG068hAUDH6LQEAA0cGQkAOkYR23qAkgCgc7ZrW+tNR5cvAYBm6K0EAA0MZQs/SgDQfnotAUD7ybo97IUEAJ2rPdtDZzT9GhIAdIxOSwDQwJGRAKBjFLGtBygJADpnu7a13nR0+RIAaIbeSgDQwFC28KMEAO2n1xIAtJ+s28NeSADQudqzPXRG068hAUDH6LQEAA0cGQkAOkYR23qAkgCgc7ZrW+tNR5dfBwDOnDmDSqWio+vzU72+BAANDGULP0oA0H7jsQQA7Sfr9hgfJQDoXO3ZHjqj6deQAKA/ffy0AAAgAElEQVRjdFoCgAaOjAQAHaOIbT1ACQBw69Ytdu7cSX5+vpxIVXbOdm5rPWrv8gUAGD16NGfPnpUAoAN1VgKABoayhR8lAGi/8VcCgPaTdXvZh+zsbDZu3MiNGzdQq9XSn+lA29Bebd6ZryOg1vXr11m6dCnJycmIz535fjXl3iQAaODISADQ+Yyl6GxiQBET/8zMTGkwpbHUGuNSUFDAkSNHCA8Pl3rbgXorAUADQ9nCjxIAtJ+dlQCg/WTdXo69mPQLOCzsQ3tdU16n8+mRprSp8M8jIyM5d+4ceXl5EgC0k68jAUADR0YCgM47yIlBRpLFztu+mmLMWrMeYoAWDrx8ytOxeisBQAND2cKPEgC0nz5LANB+sm7Nsf9jZUlfpnO268favbOeLy8vV3wd4fN01nvUtPuSAKCBIyMBgBxUNa2TyvpInZQ60LE6IAFAA0PZwo8SALSfPksA0H6yluO0lLXUAakD2qIDEgA0cGQkAJCdV1s6r6yn1FWpA+2jAxIANDCULfwoAUD76K0YHyQAaD9Zy/FYylrqgNQBbdEBCQAaODISAMjOqy2dV9ZT6qrUgfbRAQkAGhjKFn6UAKB99FaMDxIAtJ+s5XgsZS11QOqAtuiABAANHBkJAGTn1ZbOK+spdVXqQPvogAQADQxlCz9KANA+eivGBwkA2k/WcjyWspY6IHVAW3RAAoAGjowEALLzakvnlfWUuip1oH10QAKABoayhR8lAGgfvRXjgwQA7SdrOR5LWUsdkDqgLTogAUADR0YCANl5taXzynpKXZU60D46IAFAA0PZwo8SALSP3orxQQKA9pO1HI+lrKUOSB3QFh2QAKCBI/NTAgBVVdVUV1dTVdVIhxVb5innqlq8JUfN9nuNXONT9rqs3cqv6gO/FdcT91X3/iltl6PcuyKjVpL3B+SsLYOcrKfUhZbqgAQADQxlCz92FgCwbt068vPzNXp7WQkAOmL8E1sOv/VBFD+rw2xpzfbHjfp5HVanjmgTec2W2kH5+86lQwIABAUFsWfPHgUUt9Csv/fzLu8d0fADPxUAoC4tIP75M56GRZKWU0RFxbuKXZKXRmRYCNHxaZSqPn1fzqryElLjXxCbko1K/enliIGnqqqCguxUXjyPJ6+4jIpGjJdaJa4XzcO7Qdy8cZPb9x/xIjmL0vKWXfvNwKdWUVxURKlK3WIw8qbMRu7jk86pVWSnxBIeHk1mQanm1a8V7rNCrUatViMGrsZkVHO+8XONfb+pY6J8dRPXaOo3TR5XyhJ1freP1f++cj11OeXlKsR+uE3dX/3faP3/Qi617fnmb2vJvBV0rb58JQBoXcOdmJjIhg0biImJ0ejJc30daPj/7du3cXd31woAcOjQIY4dO0Zpaee0Cw3bpmM/V1BamM3LZyHcCbrFjZu3ePAkgpTsAspb6AM1977Ky4opLC5FXaGmtCCT2Bex5OYXNWozm1um/F7T9ruzyKbGD6nxsd7YZHXFB30Xbbv3isoKKjrZPX1qG4j2DgwMVACASqVqXSMPSADQyo7opzb0O7+rqqY06THLnc3o0c8Mz1N3KXhnQqvi0ekNmA3qzYgl+4nPVvGhJ+7vlF3/fquqeZ33kh3LJjF3yyUyCj6xHKXMKl69KuPRpZ1MnriE6zFplFe+G51QoSrkqf8Bpo20Rl9PDz09PQYP1sN+/ELO3I6kuIUQoKqinPSI63gdOEFYYqFmGdOqKlQ58RxYMY7+OpZs9Q1BVb8tOsH/6rI8Ht+4wJEjJ7kflYpKXd8gV5CX+oIrPsc5f/UeGcXln9w+Feoyoh/c4Nq9cPJKWwp6KihIfoa//w1epuY3YkgrKC/JJezOFbx2eLLO3Z1NW3bje+sJGfkljUKuJvtbE20soFhWajLZRapWKe/HXr/R71eoyUkI5cLJoxw44I23tzcHDh7ixNnLhDxPpuSd8ah+O3fM/xIAtK5vkJyczPr164mOjtZKACAire7evYubmxt5eXkafQ8iAuDIkSPKWwKAth4/KshNiuDYlmXYmxmiozMYHZ2B6Oib4LxgAzdC41rvYUSj430VVaXZBF04xOFLj8gpLCYh5CxLZi/j1v2o1oPajV67rWUry2/UlrZWW6hVpEY/4vypo4o9VmzygYMcPeHDjfthpOcVa47/8Mn3XE52ShTX/W8QnZRNRdW7c4g2le8n17nt9F4AgJs3b7J3717lwVPrWnkJAD55EtKWiihC+0teBjHB8Ev+6f/9LeYzthCZUVJb12rUBS/YMt2K3//6/6Hf2HXEZJTVAoAK1CoVxcVFlJSWvWdMKtTllJYUU1KqqjlXVc132c9YPtYI+yVHScmrAQAVFWrl/Nsn+BWUq0opKSlBVf7+hEs81S0rFTS7kMAjyzE2HMW5kCRU9QFA9Styo68xyWIgtpNdufYglJiYaB7f8mHWUH2GjFzGw/hcKmp/U1PXEkqV+3jbwUSHqHmrUZWVKvdZQ+2rqFYV8sBrDvo2k7gakfO2bSsqUDVR/5qyKlGXq5T7KytXvzeIirqUlZZQWqZ6b4Ko1LO05K1MmxhEqirLSXp0mhFG/fjqL19jO92D2IJPnwS3pf59atml+c9ZNXIw/+efv8DR5Qhphao3bVChyufeqbX0+/MX9LeZy4PURibPjS11EZElQqb1zpWX5uG9wBHb2VuIyS57c4336i1+U+9375+voqqygriAHVhajeDErdj3ngCVF2dz89AqrIwNsXQYifN4Z0Y6WKKnZ8L8LT4k55W+oy8N69rwmuL8O7CuqpLEB2dZPHsxflFZqOpHISj1b4EB/ND9K4b1A2Wrywi/tAmdbl/TX3cI1rY22FhZYmIwmCHWzhy6EUlBi+HL237dUE4/9rMEAK3rGqSlpSlPzyMjIzV68tyUnggA8PDhQ1xdXcnJydHoexBPdk6cOIGIAhA2tql7ksdbOl5UUJr9Eq/lzujpmbN06zHuPgknKjIM/5M7GG3SH7OxS7gVla7A6zpfo77c6/yFN8cqav2QkrL3bIf4ruKjKH5TeY2dEONuWggu4ywYu+Y0STlF5KZGEuB3nbikzDf+hfDBhM8h/Lh3oxLq/B9RdhklpaUNzrdURvL3b9q2CV+uY85XUVlWQNCBFej2+Za+uibY2Nhia2ODhckQdAYbMXv9YV5kNYAAVQ38jY/eU9WHfab6Pn1jZTXqb33Az1B8u7fnqyqKCbvphaPlKLyvhaJuagl0Y9fuhMfEGBIQEMC+ffsUu9C6Vl4CAI00tnUAYLJ5D/rpGzDQZBIXHyeiFpOH6mrSn/gwfZgtBv3+jO6EDQoAqFAVEPXgKt7bPVm9Yjmr1m7k0PlbJOUUU1lZQV5KFJeO72Xt6pWscffkqO9tknPLeJ3zjBVOxjgsPUpqfhnFWXEEnD+F780nZBerEEsRIu9fYe+W9axctZpt3qcJic2kTC1C/ispzIjl2pkDrHdzY8seLzxXTcHAYDTnQ98FAFWvv+Pltd0YDOjHqiP3KVWLiIFXvK4u4+kVL+ZMX8aViGRUlRUUpL/g6mlv1q1Zheu6zZy++pD0glKqq1UkRj3g0qVr3PTzYaeHO2vcNnLk0m3S8kvJiHnAxomG/Gv3wSz0OEZ4Uh7lpfmE37nMbk93Vq12Y8cBH8LiMlFVVFGSk8ztKxe5HnidE97bWbNqFZv3neDJy4zaiZia7KRnXDruxTrX1bht3I5vYCg5RTUT2/z0l1w74816t9WKTE/531fq8RacvDWmFaU5XNk6ExMbJ9Yun4mhyXCO30+mvBMNWqX50SyzG8AXn39BH6tp3IoTQKdGBiVZL9m9cDhf/f4LeptN425KDQBQl5dRkJdNalICyakZ5BeVoK6bBIvwyKJ8MlKTSUnLpKBIQKZK5Yn87hlWGE/eQFSWAAAVCtgqLCp54wypVaXk52SSkpxCVm7Bu+CqooKykgKyMtJIz8zh2cVNGBjacuT6ize/rzHyFWS/vMtUw+6McPHiRUY+xSUlFGYncNx1AgONRuLzMLF26YyasuICMtNSauoqlsDU3oe4x+KSUqWOuZnppKZlkF9Yc58V6lLuHV6NsYE1B+/FUVhWA4VE/fOyM0hJSSU7rxCVuha8CZmU1ICxooIcUlNSyMzJR4CrN46J+I5Sl1TSMrIoKnlbFyGrmnqm1tbzXYDxpgx1KaHnXOnb14Jdvg/Izi+gID+XxLArTLPWxWzSRsLTCt6075vfdZA+SwDQuq6BeGounp6HhYVp9OS5Kb0Ta7rDw8NZs2YNIpqhqe9pwnGxpOj8+fOKk1dYqGGRax3Un9ukXdSlRAXsxVLPgIU7fUkXgLo2Z1GlupjIq7ux1tNh5rbLpOcVkhByi4sB90jOrplUqQqzeBDgy83Hzykoq6C0IJ3gaz5s27iWVWvc2X/qCjGpuZRXVKIuzefZvRq/afVqVzbvPsLdiATyC/II8d2OjU43+ltP5dDl+7x4HsIV36vEJmQgJv5F2YkE+h7Dc50rq902cNAngNiMfNQV5WQnheLvd43Aaxfx3rGJNWvc8Tp5heepuW/tZmdqM3kvtWOXAAD53Ni7CCOL4ey5HEpOXgGFBQWkx4XhtWwMgw1t2eX/TIlgqfF/skhJSnrHd6pUgFUJxcXFin+UmZVDSZlY0ih8hkKyMlJJSkpWfIpS1dsHVOJBV1FBLmmpNf5GSYl4ICjgkxq1qoySkmIK83PJzMgkX/hp4qFgSRHZGWkkJiaRnpVbc53KSuoe7pWUlpCfk0VaegZ5hcJ3q0QAgJCAXVgZ2LHT9z7ZuVmkpdWe19Dlh20yVtXqvQAAly5dUiI+vv/++9Y18nIJwNsJWls24o8t+w0AsOyH4wwXHE3NWH44kLyySl5VFhGwbxnjJy9kpn0/DCdu4EWWipeBhxlmOAAj6xFMnzEdR0tdvvpWn/Un75Ofm8xR14noG5gwZtI0nIdb0rOnHm7HblOaGclKJ2OGLj3G8+fhHFozGWNzR7advU9eSREhfnsZbqKLia0jUyY7YzFEF8sJq7j7Igt1UQpH105Fp78O9qOdcRppR79uf+GrPsM4H9YAAFS/JjPsImMMe6LvMJ1DF28RERNHenYehQV5ZKSlk1+ioigzmr0u4zDQG8II58mMG2GDzmATVh8IIK+8gICDi+n/TQ+GmNow1nkCwy106d7HiE3nnxB68xTOhl/y69/+EeOR87kU/IJHF3YwzEQfU7uRTJrohPkQPYZOd+dBfC4ZkYFMNetDj0H62I8ay0SnYfTv8S02c3bwPLOIwtRwPGYPZ+AgAxzHOjPc0pABBg7svhxCQXYs3qsmoTNQj+FOExg/yhZ9Qwtc9l15P7y9qpL8xPsscDRi7NJ9REYEMNFMn/HrfEgrqjdx03JjJwCAi4MBhhaWGJpZsv5sKKViUK9UkxJ2kemjh2FnYoC+9XQFAJQWpHHr1HamO4/E1toKC0sbnGa7cTMimbLyclIjA/FYMhUHG2usbR2YtHC9cq60JJfdM61rAEBGEdmxwex0XYrbrjPEZRVRkp/CtWObmTJmGNZW1jiOm8HeC/fILBSwQE3GiwdsXz6doXY2DB01iYUzHOk50LIRAKAmJeIyDj2+YoqnDyl5YtIu8hdUkfPyPrt37CUwLImy8jJSI++wdflMhtqJug5lmssW7kWlKs5g8v0zrFi9lk3rXJk0ehhWVjZMWLiJe9EpJEZdZ56tDr///F/QHzaXC49fUJCfjN+hjUwY6YC1tQ2OzrM56BdMVlEZpQXReHusZeMmT1xmTcDO2gr7kVPZdzGYHLGsoqKMuCdXWbdwCg621ljZDGPhhkOEJWRTroQQ3lXqOdzeBitrO2Ys38a9mNT3w15rAUC//tbsvxqqAD9x369f5eG1cAR6dvO4E5+jQMkfO761xfclAGhd30CEpQsAcP/+fY2ePDelSwIAPH/+HJEEUCxjaOp7mnBcOMs3btxg69atGr9cQRPk9al1KC/KwsfNCR2ryVx8nNxg7KqiIj8atwmWGDouJ/hFPFc8p2A2ZjE3IzIV0FmQHMbyUcZMWnecxMxMrh5YjYW+LjbDxzLJeSQmBoZMWLGXyJRs4h6cZqKtMeZ2oxS/yVx3AKZOLgQ8iuC8xwx6f/k5v+86iPmbj3H1wnaGm4/k/NUnFGfHcnzDbAwH62Lr6ITzKDt0B+kxYeV+otMyeXZ9GxaD+qGrb8bIsc6MtjelV89BzN/hS2rB24i7T5WR/J1mzgmE7a0DACbWIzl447niW4j2qqpQESsmzSYmLNl7nbTk51w6sIkpYx2VqD1LKzumu2zlXkw6xUUpXD2xnWULFzNn/ChGTZrHmcAIYh4F4OEyE0cHWywtLLAbMYnNx66RVqBCXVZI1N0LrJg5DitLK0ZOmM3KVWtw27CH4Pg0om/74LZyCXNmTWeE41jcvS/y+FEQO9fMZ/Qwe6wsLLAZOpa1+y+RkF1EYfwTvDe7smrtOuZMGoOtjR0T5rpy8X4MJaoiBQCYD9Bn7OTpTB0/AmtrW5znrSUgJL7WD9HUNmr9egk4LKLDRH6Y//zP/2xdI6+tAODo0aNKRsTOOljVAYBJ5v2Y7H4I91mOOMzcyvOsElTZMWyY6cSKLQdYM16PIQIAZJfw6MJeFizdwO3IJPILCoiP8GWs4SCcVh4i+nkwc60G4rh4BxHJWWQkRHHAbRGex26Qn/qMleOMsZzqhvt8ZwyG2LH51B2ySipQZYSwarwFZuNWcvtZArk52YRe24v5QB2W779KzKPTDDfUZ+bmsyTlFJKXHMaGyaZ06zeMcw0iAMQApi7N5fapzTiaDKDrV1/Td7AxY6YuYPvh84TFZVBeoSb84hZMdPRZ4XWVlKxcMhKj8F48DEOHmQQ+T+Tq/gX0/LIvKw7fIqOgmIzwq0y3G8ywpUdJT8/g1vbJDLJ05uKTDHITHrBk5BBsJrvxICaZnKx0nvjtxMbQmBUHbhEfcYsJBl0Z7OTG47gsyorSOL5uEn0Gj+VKRDxPfNZjrGfMmiNBZIlrvXyA++zJrNx5mnv+O7HUN2LpPn8S07PJTovhwJoJDDabxNVnaajrh0pVlBF2aQfmekZsvhSBuiSDgy4j6GM2ncCYrDfLHrRdnwUAWD50CNbTXZjjbM+YpftJFMscyou4c3gNY6cuZMnUYQyxmc7d5Hxigo5gN3gAY+as4eCxY+xwX4hhz66Mdj1JSmYCB12c0DcdycbdB9i/3ZWhRoMY43KI5NysGgAwaR23HwaxfsZQTO0ncTwoisKiPB6cWY+5wRAmLXLH++B+XOc6oWtgy/6ACEoKkti7eCT9dG1YvmknuzxXYKvTlc+7GnL4RsMIgEqK0qPxnGpK9z4GTFuyjoOnLnDn8TNSs3IpKq4h4AIUrZ9ig5HNONbt8MJr+3rGmOsyfM42nmeXEHlmDd9++WcG201k3fY9bHWbi26PXkzbdJqI6Aesn2TNX7/8hpHzPQkMj+LW4eWYGpoyw2UT3t57WTl9BIbmYzgSFENO+l1mWvTlqx6GzFy2Aa9925lkNYheVjMIjM6kIPEhS8eYoGflhPu2PWx1nYeRji7zdvqRFPeUDTOGYmA5lrVb93Fg9yacrIfgMGcLYckN8h8oAMCNvr2G4LrvLE9CwwgLfcpd/0NMsDVjktsJ4nMbhBt2IMCSAKB1fQPx5MHT01MJPxQTVG0bmwQASEhIwMPDg8ePH2t00k4h6+DgYAVWZGVlaWXEhTboR0leAtumWWI8Zil3XuS9p9PVlZl4Lx2DjvEE/J7EcGnTRIxHLuRGeEYNAEgKY5mjIRPcjxH68ArT7I0YvcyLkJepZGencd17JSbGtuw6f58b+xZiYDaSPRcfkZ6VSVjAUVxWbeJmaCKlcfeYP9KEkcuP8jItm8jA3TiYDOf81UfEXD+Ao4kBMz1O8zwtl6K8NC5un89AXUv2Xgnm6bUtGPXsw6R1J3ienkdeYghuk8yxnLKeiMR8jYnI0gZ90K46vgUAxpaOePlHUFhcoiwZKshO4sqOBQwxssLzzF0CT3lib2qq+D8HDh9k47KpGAzQZe7W88SnR7F7gQPdvurH+AVu7D10glu3A/GcNxYT69Gs3e7FIa9tTB9uzGBLZ3yCE0h+dovFY8wwsR/Pxp372LhiFrrf/IkeBk74hr3g7tE19O/WFaORs/DYsZ8zF86zdfkkjM2GscJjD0cP7mG+szU9Bw/lyI1nZIb7McmsF//aw4DpLhvYuWWt4odYjXPhzosUngbsxOAvf6C34TBct+xh67rFmA/qw9jl+4nLKWt8V7QO9D3aUo9EpMb+/fuVCLHWtfA1pWldEsDDhw8ryXLEE4q2FHxHlv0WAPRl0tarXDvohqXVWM49TSI++CTOo6dy2j+IzZNrAIDIAaAqzuNl5FOuX/Zh33YPlsweQ88/fsmIJV68SHnOrvkO9OrZH3un6WzcdZSbD8JIzS3hVU4kK0cP5nf/9498/psvsF3oRbzIBfDqNRmPfBiu25WeQ4Yza8485s9fwJyZ4+jz5z8yfOFWLhxciq7RKE7djVWSdbx+Vcqd46sxNRnTCAAQSwaqqK5UkRYbztWzh3BdOA0r/X78+U9/wdRpBXdjXnJ63WS+/vNX2DtPZ8H8+SyYP5cJ9jp82dOcAzcecXn/IvQGj+ZCaDLlVa9QZ4azdqo1drP3kJGZzf29M9G1ncz1mCKS7p3Eut+f6WPsyJx585k/fz6zp4+l31ddcVzqxZMnN5liPpAp2/zJLq3k9esygo6twUBnGKcfPeX4mgkY207lelxtEqmKcnLSkklOiueSx0S6fv0t9uNmKuUuWDgPJwdjvvqrLtsDIiitqF3XVFVFeX4i+11G0mPQcA5cvEVIyCOOesyl+792Y8Wxe5SUtz457Aj9VSIAhg7BYcF2ju1aiJHtdG5GZVGSE8OW+c4s3Hqc3UtG1QCApAJSou9x5OgFopOylCiQlMh7rBqtw5CJnryIf4qbszlGjosJDIslMzOVxzd9OX/1ARkF2eyeaclA61GMG25OH8MRnLgTQ2lFJYXpUawdo8cQp1XK71JTU3n52J+Zln2wW7Cflw9OM8xoMPP3BVFQXs2ryhJu7JxNz/5mHH5vCUAllSLsMjaYbS5T0O31NV9++Vd69BuEndNsvC8/JLuwgPCr29HvNZiVh/yJS04hNTmeG15L0R1kive9ZEJPraJrNx08zj6mtKKa8oJEPCcYYTlzs5LbI0QAC5Oh+ERkk5cawWLrHlhM28CDqHhSUlN4GezLePOBjFp5nLj4W0wzGYjl9M1EZ5fy+vUrIs6spPsAa3wCw3l81h3DQRbsCoigrOoVr1RZXDmylW1H/Ak8uRETHT1cvAN4npBMaloKAfsW0rO/Bd7XakIH3+iNAADn19LzT3/k2746GJuaYmJsSN9v/sRf+1mx92o4+aVvQwTf/K6DDLEAACJZzu7du9tku5y2ML6aXKaYQIt1h76+vog16h3dvj/2+sLWiDwG27ZtU7IoazrEEFEKK1euVOos6v5j71d+/+M2tCQvnq1TLRQAcPdl3nuT5eqKLA4uG8sgI2cuPRYAYBLGoxoAgBECABzE7+RmjHp0xWCoM7PnCt9iATOc7ej6VS/mbfHhnt8eHAz6MXCIDTOXunPsQgDhL5IpLKugKvUJS5zMGevmQ0puITG39+Bg4siFq7fx37cEM5NRnAyOo0RJoltFRuQFHPX1WbLjDHeveGIpohD9QyhUV/KqOIVDK52wcl5NaGz2e/ck9eLjeqEdMnoLAAb07onFyCksWryYxQsXKE/Jdfv1xXH2Rp7GZ/Li8U3O+l4jJjmbwvw8Yh5eYe5wY0Yt3Ut4XAS7FjhiajeHwIQCXr1+jSovkVt+F7h6N0JZ6pebkcTVfcswMRvKznN3uX50LaZGDuy7Gk7ld99Tnh+H15KRGJiMxze0BgDoG1qxzTeE8levURVlcP+qL5dvPSYtt4D8nDQCz2zCuL8RG08HkRLmxyQbfezn7SI2R8XrqjJCLmzB1tyG9ScDuX9lB6a9BrF0/zWKqr9HnReH97IRWDitIDQuj+qf0PiYm5ur+DTXr19vE3dB6wCACIUQyXJ+KgBggud14kL9mGBrwQovP85umc+4+Z6EREextRYAiMQfkTcOM9ZcFx29Idg4jGTCpNH0/2tXRizZR1xhCenPH+K1fjGO1sYM6N2db3rrs2TPZXKTw1kxchC//3ogFqYGDDAezcl7L5TJQ+KdY9gO+JLexo5MmzGL2bNnM3v2LKZPm83OE3747ZqDjtk4zgcnKWvpXr1W8/i8J3ZWTu8BgOqqMhIiHxN4L4ycknIl+ZpYI5SbHo/vjkXo9OrHwr0+7Fo6hq/+1A175ym115vN7JkzmOfiye3IaAUAGAwZz5VnqairX6HOCsd9mg32jQCAlzcPYdrjX+hnOoIZM9/Wf+asBezyCSTyyQ2mWugya08AOWJ5xWsVQcddMRg8jFPBwXgvG4vZ0LncTSt481RGSXhYmM1Z19F0/bq7AlRq5DKbWTNnMW+JO1dFWHjt+m+xNWJa+BUmDOnGv/ylO4P19DEwMEB3UF/+8PnnGI1fR1R2yUcSr2iHEXsDABbv5c5dH0abmOF5/iEvHpxl6tiJHAl6zCGXMTUAIKWYkvwMggPOsNV9BTMnj8Pe0pCuf/gtg8ZtJDYtncAjbpgP7EG33oOwGzONDbuOcT8yieLiHHZNN+J//+rX/PPnXzBo5AoeJwmHroLMlzcZr/NX/vR1H4zNLbC0tMTCzIje33yJ/lhXAk55YGpgxO7A5NpdCiqID9yNhYk9RxsBACI5ZJlKRWlRAWkJ0dy8eIKNK+dhY9CXrv0t2Xf5Hld2z+LPv/sD/XSHYGFpqVzTVL8/X33bn3XnInlyYhW99ew5cTtOyRegKkjHa44VFtM8iEgt4vFJd8yM7DkZkk5ytD/DvkCz1ecAACAASURBVP09X3bvj0lt/S3Nh9Dj668wn7KF8OcBTLM0Zor7KVKKaiDoc38P+g605vS1h/htnchAs+kERaXWhrhWUF5WSllZLld3zaXHH/9AHz1jzC1EPa0w0e/L//3LIDadvkdh/cz+tREAfboPZp77bnwvX+byJV9OHdrBZPsh6NjNwl9E+WjIujwBAEQYtciW2xbb5bSJ9dXgQr/77jsl9PDkyZNamZhOTKJF8j8BhC5fvqysSdVkRz8lJYXly5fz4sULOflvI4ioKsri9Jox6FhOwvdRUs2a+YqKmq1dxbZjBTG4T7JC32EJ92LiuOwxCeORC+pFAISy1NGAie77OX9oLXpff8OQYU5Mn1XrW8yayYy5Lhy/9pisnDTu+h5g0dQxGOsNpHv3nhiNnM+lx3GoUhoBAKYCANzEd/s8zMwm4BuWqABtobPZsddwNjRg/pZjBPp5YG0yEu/r4RSrK6kuTuXQ6nFYSwDQyfvNWwDQr0c3DKxHMWXqNKZPn8HcBcvYst+H8PhMyisqKMxM4Pal42xyXcb0iU5YG+vy1z/9GYeFewiLjWDX4rEMm+BGeEaR4rdXlJeSGPmAk15bWTZ/Jk4j7NHt05U/9zZjx4lrnN40A0OHWQSEpSLAsFqVz3XvVQwfOpkLAgAcc8XcbixHb8UqPofIa5T2MoSzB3eycvEcnEcPw2BgD/7vnwaw7lQQyaGXmT3GgSVeQRSUVVFVpSYl/AKT7W2Zv/kkN/x2YKVnw45Lj1G9ekV5fgLH3SdgOcaFpy+zf1IAICMjQ4HYDx48aBNvQesAwOnTp5WQiM68XU79CIAJHlfJyE5h31xH7MdPZvQwB1Z4XSc7I64WAGwkLuk56yea0tNoEufuhJGRX0Zh6l2mmeowYvFeotPieRB4m6ikLApy04i4d5kVY3TpZjSVBw/vsNzJCOv5Bwh56Mc0q4HYzPAgLK2EnFBfxpoNYrKHHwXq1/zwww98/6qczNRU8gryibi0DkM9W4UMqsSWgtXF3PBewpAhoxoAgCpevy7Cd+tc9I2cuBiWgrqquiYi4PV35IX7McFqMJM2nuTI2uno6A/jXFgmf/vhB/72t+9RF2WTmp5DeWUB/vsX8XEAMEWJAEh75MMwg77M2h5ASfX3/PDD3/iuWkVWWhp5xWWkP7vJFAEA9l5vAACGcvpxOOc3TcfIchy+z7KU5IsVZQU88jvB0TOXOL1pOoNMRnI+JIfv//YDP/zt3ygvySMtLfOdLdKqVIUEHVjMoEHmbDjiz5OQEEJCQnj66K4Sit57kCXeIvt8Gzk97en0vgUAXkTHP8NzmhUjF2/j6LbFjJmxgbCEOI4uH60AgDsJOTy+sBmD7l3RMRvGvOVr2bNrG9Nt+6M/fhNxmYWUFGQQdvcqezcuZ4ytIV/+4Y8MGb2ch7Ep7Jxuwr/2tWLZ8jkM7tmPZV7XFbCU8TKAcTo9MZ+whAMnz3D27Fnlfe78BWWrnCcXtmCqb8SeegAg8Z4XNqZD3wcA6nJe3vFh/Y5jRKcUKMay+tVrvntdReLTC4wc2J0xK/Zw1GMqXb81ZIXnPnxqryeu63v5Gs+Scok4vZq+BkM5dTdBSTIoAMD+uY0BgDSSoi5j3+0v2M1YyZHTPm/qf/a8L7eCo0lPCWK6tQnTN4j8EbUA4KoHfQfVAoAtExhoPoM70WIZigBHIulfIQWF6VzaPpsBPfVZvO0Ap31q5KLI5+I1IhMza5MZ1sKmejkADgREUF5VXZO08/vveeHnQY+v++F6NLDB9qQdB6oEAPD391eeWouQavlqmQTEWO/n54eXlxciMZ02PpUuKipSfIXjx48rWyi151j4Y64lZJudna3kXBA7Fwj9/TG/l99t5rhTXkLEle2YDKx5+JFZXE55YRZB5w5y7Pw17vjuxU5vAM5rz5Ccns61zVMwHD6Ha6FpCqAXCWFnmA/A2e0gAWd3YWtgzLoLIZQqvsUPvFIXKcsQ8wsLSYp8xL3Hz8jMyyclNgLfA67odevFrK3nyEx4pEQAOLmdJfVNBMBwLly9x63DqzEfYs++m5EUiQm+2CXm/mEsBxuwcv9FHvh7NgoArMbLCID6/UD0IU2P+qlf34///xYAmNiM4didRKq/+zf+7d/E+3u+e/1KmRirS3O46rUCw349MbAeyaLVG9mxdSNOlrqMWLyHsJcR7FrihOPkdTzLKkI8oMqNvceqiVb06DWIkZPnsWHLTjYtnYiesQM7jl/ljMdMDOxmcDU0RQEAFao8rnutYFg9AGDpMI7jtxOUCJT85FC2zHWkZ49+OIybwdrNO/BYOxf9PoasrwUAc5yGsfzgPQrLqqgWACDClyn1AIC1gT17/J5S/g4AWPaTAwCJiYls2rQJsRtPW7y0DgCIUIjt27cjjPvHO00zDYOGTb7qAMBEsz5M2ORPTmEJIWfd0e32Z7oOGM7pR8mU5iSydZIuhhM3EpcQidt4E/pazOTinadEPXvCsY2z6fH7L7CZv4MnkUEsHG7GmIUeBD6NIjr0Lp4zLNAdtpiQkAe1uwAcIzUnj+DT7hgKA7nvGhnp0WyfO5R+ho7sPnuTyKhn+B/dgJWBKe5Hb5H88jZzHQyxnerK1fshPAnyZY79AL7qM7QBAKik6lU1sXeOM1SvD0NnuHIxMJjI6Giehd7H220GxsYO7LseRdStw9jp9mXEXA+CnjwjLPgGG2cOxdppCXdfJioAQN/Q+d0IgKk22M3aTUZWDsEH5jFoyDAO+IeTmhCKxzQrdEzH4HXxNhHPQrl0cC12FnasO3GHuHCxBOD9CAB9HQd8QmJ5HngAB2NDpqzez8OwZzy4doyJVsZMWu3Nw9snGGE4EPtZG7kRHEbEk0A8FjphNnwuN6LTlcmX2O6tOD2cNU7GmI5bSVimShlABUV9VVVB6qMT2A3qw+iVR0gu1Jxw6k/tV28AwCIv4vKzuentgpGuKUPtLGr0KS+doy6jGWI7nVsxCeyfb0VX48lcD02iuLSUzJg7zLPujo7Tep6/iOT8wZ0c8XtMXlERuZkJnN84lf6DLTgY+JwdM6wYMnE9IS+ec2DZCHRMxnLmYRzZKeGsHqGL6ZQNhCmT9krK8tO4e/UCtx4/Jz3kHCNM9Jiz4zqZRWWUlxUStH8hfQdZvL8EQK0i4pIHA3rqsenUHfJKVIpToVaXkxZ1k8nGA5my4ShXT29Er7c+G3weUFRegdjyMS06mMt+AbzMLObZGwAQ3ygAeHLSHVMje44/SSUr8SnzzXtgO3c7zzOLFcezLDeJQP9L3A6NJzvtdtMA4GYIj866YTTYmj0BYcqOAurSDHz3uLJ0/X7OH3DFSMeAtaeDyStVK2vp0qMfcO7SdV6k5b2bRfoNALBi35UnFJWplElUeXkpD4+toFs3HTaevk9R/aiBDhxHBQDw8fHh4MGDiKfX8tUyCfzXf/0XT58+VZyPzMxMrQQAYgIgsusLfyE/P1+j/YWCggJ27dql1Fcbl1x8qs1o79+VZL1gz9Ix6A2xZc3uUwQF3WTnkrH0/eYv/PkPX9DNwIlzwfGUlBTw8PhK9PWscPO6wNOnj/DZuZSBf/mSUauOEhV+jyWjTTEYOpuT1+7xLPwJxz0WYGEzmv2X7uO/dxnWdmPYcuwqz6KiuHVuO9aDh7B8vz+5yU9ZPs4cmxmbCY6OJ/TGLiUHwDn/JyQ/8WWq/RCGTl+L3+3HhD0OZNMcRwaajOHMvUhCr23GymQE+wPCKa54GwFg5bxKLgGotT9iB5MrV66xf/8hQkPD6BwPC+sBgNokgO9sGSySAVZVUpQZjtsEG8xHL+ZmdBoi035s8AUmWw5i6IJdhDYAAJUVwsfZjq2xIQt2+pOaK5Iop3Fp21x09K3YfvYOt894Ym1kg8fp2+SVqchNDsVzpi2DjZ1rlgAcc+UNAKhQEXfnMI6mRkx1P058Vj5lxTncOrqagd/qsvZEIMlhl5lib8wolwPE55SgLisg+Kwn9tYOePjc5r6/2AXAnj2Xf9oAQECsiIgIBQyL3DBt8dI6ACCenorMvsJgtrfxaLfrVVVTEn+feSNNmbvrJrklgtLdZoalDtZTNyvJANX5yeybb4P93O3E5RQR7OOBUe+v6T1QF0MDfSyHjsPRTJ9hcz0ITcrg9nF3zHX60n+wAQa6A+k10AyP0/coyRRJBYcx3s2H9IJy1AXx7F40EmOH2QQ8SyM5IoBFo03o3asf+ga69OzeC5tp63gYm0N1ZSlPL+/F0WgA/QYORt/ACBNjY4xsJuP3LIXy+onwxP+qfIIv7GCE8QC69+qHgZER+jr9GWhgg+uBqwgiry4V+667Yq7Th74D9Rg8oBfd+puy/lgg+eWF3Dy2BjuH2dyISUctcgBkR7F10VicXQ6RmVdI/O2D2On0YoD5GI7eiiEp1F9JuNOrVz/09HTo2b03jnM9eJyYT1bMHRaOtGHZ4aCaHRZeq7gvBiKrCVx6loKqJAu/PS6YDOrHwMH6DOrXD/OxS7gWkYpalcetY+sw7d+DvgMHozuwjyJT18PXyRLZ2JX93tUkPTjFaCtTlu65RlHd9nbCUFVVocqLZ+ccewYPXcCdF9q/fq80L4pl9gbYLdxLfFEZGU/OYtf7j3zR05KT9+MpLc3gyLKRGFhPI/BlKj7u4/hLN32WbznI+dOHWTFjOH/94v+jp4ML4TFP8ZxhTT99ezZ4HefsqYMsGGWKocNsbsUksXO6JUMmrScys4Ts6AAmmw/AfPJGwhJSCDy8goE9+jBm/jpOnDnFluVT6PXXr5m53Y+8ghS8l46i9yArVm8/yDGvTQw3/JbffaXPofeWAFRQkBrOuvHG9NGxYNG6nZw6dwGf4/tZNN6GgUNGcfLuC7LiH+EySo++hsNZv/coJw/vYrJVP3oNceZadDbhp2qWAJy88xYAeM22xGzKJsJTi4i44InRwEHM8TxN2MuX+O+ey4DeA5iwzJMTp07gsXgcvb7tx8J9N0hJDmKapRFT1595GwHgv4k+/S05eTOK/Pj7LBxhiL79FHYeOsnh7auwGDyQietOERt9D5cxJvTWc2DtrkP4HN/LZOtBfGMokmaKcP56wFRdSsg5V3r+tQcjpi5ko6cnnp4erFu1AIvBvdB1XMzt6Ix3oUEHAgDR3w4cOICIEPv73//eFrbyJ1em2D5v/fr1REVFaa2tvXv3Lhs2bCApKUmjIYZY0njmzBl27typlUsu2s03auEYI5545qWE4712Jnr9ezNwsCGmRnr0/PYbvu32LQOG2LPGy5fYzAKyYu+xfJwZPXv1QVffECsrB+zMjJm1+Swp+cVE3jzGeMvB9Ok3CP3BA+jRW4eprgeJSc8nO/YBaybb0b9vf/QNDRnYrz9209ZyJyadypIUDq6aQK9ve+K8fAcXz+7CefgkLt8Ipbw0j+ALO3E0HkR/4VcI32OIA5tOBJFVXEh00B7GDJ+iJLxVAEBJOqc2zWLM7E1EJOT8ZHMA1EUoxcfH4ea2nT/8YRH/8A+r0NdfwOnTFzQeAH68/9QAgOt7FmJkOYID15+/a69rAUBp3kt2zB/BAH1rVu84zKkje1kwzpK//svvMZ3qyaOoUHYuHsOwie41EQCV5cTdPsooUx0snZdy6MQp9nkux3rwN/z+q8FsOn2f1JePWD/NDt0hNsxZtpL5U0bw7R9+y9d6Y98kARRLAI4FxVNRUU5KyAUmW+tj7DgLr2OnOLTTnRFD+vDb33Vj2cFrJIT6Md74W/7lWwMWb9zD4X2bcbY1xmbiSh7Ep/EkYBcWerbsvvzkTQTAsbXjMR+1lCc/oSUAYgcAkddIJOMVMKAtXloHAIQhd3FxQSRH+HinqefQttBwtPe1KlTFpKckkp5bpDjZYp1OZmoiKZl5yn6ZlWoVuRnJJGfkKGuZ1aUFxEU84Irvefxv3ic2JYucjBSS07KUkPTy0kISo59y9dJ5LlwOIOR5EoWl5VSpy8hOTyEtq6BmH85KNYU5GSQkJCth8mLf0ILMRJ7cCeDcufPcvB9Kak5NncQktkJVQlpcBDf9/bh+7ykJyamkpKQrZTcqM3UpWSkvCQ4K4PzZc1wOuE1UfCpFYv/zKrFlXCXqsiKSYkIJUOp6ndAXSRSWiSeWFRTlZZGckl7zfQEV1GXkZKSSqsilQtl/N/pREL4X/YlMzFH2N81Lj+dR0DXOizDqB+Gk5RYrT+jVZcVkpCSTmVesyFiUX1KQQ3JSWs1+7FWVqEryiY98hP+lC/jffEB8ep6y/YqgraKeKc9Due7ny/lL1wiJqZFp/fsuK8wlOSmR7PyS9/W1Qk1+VirxiakUlmpfoq369yn+VxUlcWSdC+4H/ckoVaMqiOWQ+yIWuHkRk1WqrB27ecQDF7fdRGaVkBp9m7UzR2NhZoaV7XBmu7izfctaFq3YQVhqDsnhN1g71xkrC3MsLK0YMWEeJ25GUFhSgN8eV1bs8CEpX0VleTEPz+5g+qzlXHkaT0FOIhe91jJ2qA3m5uZY2g5n8WaRNVnsW19Bdvxjti+fhr21JdZDR7N41XLmLHDlZmgqanWD8FuR+DHuCXtc5zPU1hJzC3MsrWxwmraUkzdCyS9VI/piUth11s6bgLWlBebmFjiMncXJmxEUqypIunOCeUvXcTuyZsJcXpzLVS9XVu86R3x2Gflx93GbNQpTs1HsuxZCbnYCZ3etZqS9NRbm5ljYDGflrnO8FMsi8iPZ7bqCXT53yanVmZQn55m30JXbYclUqFXEBl9kxQwnpS4WVvbMWbuf0IRs1GqVIlP3uROwtbLA3MyMYePncuJWxPsJ/cTWQvdPMctpBEOHDmX48OEMH+7IyDHjWOy+i3tRKZSUN5BVB46x4imPWO8twtbbYructjC+ml6myEAsJqSBgYFaG04bExODq6ur8iRFRF41HLM06XNQUBCrV69GRFxoUr06XV2EXS/OIz4mlBtXLnL23EXuPAonLjaKi4e2sdJ9F8HxOUpugNy0WB7c8sfvWiCRsclkpKWQkVPjK1Woy8hKfsndG1c4d+Ey90KiySooqZmEC9uemcSTuze4cN6XG3efkpyZr6zRFsuy8tNiuX31ItfvhZCamUlqShqFRaVKuwufKjX2GYHX/Lh09RYRL1MoKhM7cYjlXLnKd/OLS2uvU05+djqp6dmUakg0VkfoS2FhAQEBgQwbtppf/cqLzz7LokuX1/z85yH86U/uuLhsIzIySqOXAn1UbqpiQq8cZIXrJgJCU95sA1j/d1UVZbx46IvLtFGYm5ljM3QMi1etx3P9SlZ4HiHsRRSXD21mw47TJOaXKlEDqoIULnmvY5StBeYW1oyeOJt1WzezcukqDvs9IrekmKSIO+xeuxin0WOYNm8BM8Y5YGYzjSvPEogMPMka9y0ERtTsllFWmEHgyW04D7XEzMISR6dpuG3cxtplC9l9Noi44EtMczBA32YM40aIrZrtmLRgHf5PYilTlxIb4ofrsrVcefQStcg5UJRB4OltrPE8wkslH5f2zuvqt9XH/hc+jcjBI7YBbKuoRq0DAEIo8+bNQ4REfEyAP7XzgoLWvRu/97fnxQS28e80fryu3DrS+u5v35b77vHGyxJbAtYvT0z63/tdvXv55Lq+Kffd6713rTffa6Qe4ly9urz323rnfmw93yvrY/XQ+PNVVL96RXV1XRbrKqqrX/GquloBO+J+xfKWV69qPwuAVFZMenIiyRm5lFfUfr/e+UoBjNKSSExOU5ygOv17r9zaNep1GWJFW5QWZJOYkEBGTqGyS4UATIrMRZupVQo4Ss/OR11Zs769ruz32kVp40pK8rNISognKS2LsvKaXS3efFdkphUOYSN1raytW/3yqxS5VNXKpYrSwhwSExLJrnUgRf2L8zKVY5l5RTX1V9q/Vsb1MuFWvSm/5v7EdYQTmZGSRGpmrvKkoE43xXcV6JeWTEIt6Kpfrzf3ozxRqJGLCK9/9y3ydzTRVzpIR0VEWF3GdwkAWgct/O1vf1N23Dl16pRW7gQgdLlubf2tW7fetzEdpKv1+1jd/6IPinBPAQAEtGiqT9Z9X/5t+fhT9Z4fUuMnVFZU1HuS/tZ3eGM/3tGbt+ffb7PmnWu8Lev/tuX32vg1tL9c8WRU7Paxdet+vvlmKb/4RRBdunxHly7Uvv+LLl0K+V//yxsrKxf8/a8rOU20VR41tr5ayQ3R1D0I2yweXKWlJCP8mzd+lfDDhC9TXa0sRX37+yplt6OC7HSSk9PILyqr+Y7w5UTy7ojbHPY+waMXaVSI6OTs5+xZNgbbsS48TMihSvH53vUJqirVFOVlkpycQm5hKXU+kFj6mht6iekjbZizzY/UjCzSM2oeUtb1n7f3WOdH1vqNSv21X2ffyv3D9yJy74jlawLAt1VUo9YBAJH0YtasWcTHi3ATzXkC1dxGld/7sNJL+bSufEQf0fR+ohilehPahjpQd75RUPSOM9ZAdvXgTMMyxee6chs71+ixj5RXv8xPr2u9e2jG9RqtpyKTtw5kY9+pu/cfXc8PybsDz4mJnkiWI/Z8F+vX5avlEvjv//5vJaJix44diHW1jemRph8rKSlREkOKpyiavnOQ2AnAzc0NsWxB9E9Nl62sX72xugPHvp9qO4iHgXfvPsDJyY3/83928dlnyXTp8h/1Jv91EED8/Y5f/OI+X321gg0bvIiLi9fuaICP6tuH7X9jOtO4TyAiCn2Zbm+E3bjZbNm9h7VLpmFsMITFOy+SXlTe9MOAN/5L/X6iJifsMjNH2zF3x1XyShs8SPnofdUvq3P/L5bgubu7KzvDCFvcFi+tAwD//u//rmyXc//+fa0NS2ys88ljnbszd0T7CoIYFHRHeddk8pYy7oh2kNdsW70TjoswlmLyJLZRaytj2RYGWNPLDA8PV9bQx8bGauWkVKyjvHLlCh4eHhoPMURiY/HER+SxEPWW40bbjhtSvtorX7FM5sCBkwwYsIxf/vIyXbpU0qXLfzcx+a8DAf/JZ59l8qtf7WT06FUEBd2V+TaaMeEuL87hScBJVsyZxFB7e0aNn4HHwUu8yCig4kdHAlZQnPKMM4f3cy4oihKVfIjb2DgkHtqJOe7mzZuV/BVt5SdoHQD4j//4D7y9vZV1ETJbrvYO4I0pvTzWOu0pnMcXL16yevUOunadw1/+Mod16/YQH58goVkzDJ7Uw9bRw/aUY1hYGGvWrFEmeW1lLH+K5Yo8ACKJnlifro3bagk49Pz5c0U3nj17ptHRUEK+165dU2BFTk6OVgKX9uzz8lraN063tM1EFE9oaASzZ2/iN7/ZwM9+9oIuXf7+kYl/HQCo+1vJL38ZQJ8+K9m585gSpq6NY1tLZdn834togkrKigvIyswgJ78QdUVNhEHzy6inq2KLxvLy9/MtSd/sDfQVen706FHEFrZiKV5bvbQOAIinO2I9n9gJQIT3fZICSkWTcuukOiAc9hs3RDKcFfzjP+7ms89y6NIli3/6p104Oi5XogFkv6lnjDqpHvzUxkV/f38lYZ1w5OSr9SQgkg8dO3ZMyQWgjVvvCgAgEgaLJ+vnzp3T+CfrYt/nFStWaPXOCz+1sUfeb/vYU5Hn5fTpsxgaTucf/3EfXbqk0qWLii5dqj4Q+l836Rd/RYTAD3TpUkGXLiX87GeP+c1vljNt2gqCgx9pbZ6T9tS/mmUC7dPe7XlfmnYtkddCZP+/d+9e6xnzRkrSOgAg7kGEec6fP5+MjAw5kZUTGKkDlZXKky2xQ8aWLQfo2nUpP//5bbp0+b4eGX/Nz352gx49lrJ9+yFSU9O08omepg3Usj4d7wyIcDmxBaCY4LVVttxGbOdP4pBIqPj06VMlv4JYoy4cQG3TeQGFLly4oDxZ1+Tdg4RsBZytgxUywrHjxxZt0/XOXF+R32XEiFF8+60x3btPoXv32Xz99TR+9at5fPZZYjOWAPwbv/zlFb74Yhbdus1Qft+9+1j69NFn9eo1pKamat3Y1pnb+6d6b8KfEdvdiy14xVKXtnxpJQAQCZ8WL14sKbmc/MsBu7JScRrv33+Es7Mrv/71Fj77TJDxxpLh/IdiKH/9aw+mTnUnOPgxKlWZlKHsR1qtAyJcTkSEPXz4ELFETL5aVwJ1CRbFmkRNTyjamNMoJtbCoVq1apXGZ9gX8hVbWYplF5oMKxqTszwmgUVb6oCAY+LJaFJSovJOTk4kPPwpDg5L+OUvI+jSRWT8r//Ev+H/1fzzPx9g0yYvYmOfI35fU1aSsluIzLsh9bct9be5ZYvkluJhhpeXl7JbQ+ta83dL00oAIAy6WO8p1iU2V6jye7JzdzYdEM5iZmYW+/efoHfvRfziF/506VL9ESMojGIVv/zlBfr3X8TRoz5yS00JALR2HBW2QIRNi73eExISZALAd+17q3z6/vvvlWUAhw4dQiwx0sZxVGwbLDIqi8m1JkMMoc9RUVG4uLgg8lpoo6xlnaWv1R46IPpKVlYGY8e68T/+x7NmAYDPPz+Ct/d5yspKtTKaqT3kKq/Rsf1XPPUXyf/u3LnTZtv/1TkGWgkAxDZPBw8eVN6avrWP7Ewd25k6q/zLy1WEhIQxa9ZGfvvbDXz22Y9NhvMDP/vZc373OzcWLPAkMjJKroGTIEDrJhzV1dVcv35dCZsWk1P5an0JiLw7YhmACEkUy++0cUwVT/cuXbr0ZhmAmDxo6n3k5+ezbds2JdGxeBqkqfWU9ZK+TUfrQA0AcP2RAOAcsl9J3e1o3W3s+gJOi21gxZbGIhFsW7+0EgAIoQhKvnLlSiV0pzFBymOyg3dWHRB7cp8+7YOe3jR+8YuDdOlSpOxzW5MN92Nb4dSFxf177W/y+J//0wtDw6mcPXtB2XKks8pN3lfnGxPExG737t1KyNwPP/zQ1vbyJ1u+AO1bt27l4sWLaCN0FxN+kSNFRA4+ePBAFheiUwAAIABJREFUo6MA6pxAsa2liG6R41bnG7dkm7ZOm0oA0DpylPqoGXIU23XX+TNiy/u2fmktABBbIyxcuBCxT7Emh/TJjqUZHauztINIaCW2B/nqq158/vkEfvvbrfzmN7v5p3/aws9/7lc7qa+b5Df199/4xS/O8+tfb+O3v92jlPH5505069ZPiaqRa+GkzmpDfxGTOpG4Saz/Dw0NRUSGyVfbSODvf/+7svuOCE0UMtfkJ+hN6a5IqifGzh07diAyijf1PU04Ltb/i4iLK1euyMgsGZml0brakf1FAgDpq3Sk/rXmtcU8NiIiQhn3Y2Nj28aQNyhVawGAuA9vb2/EukQZziMHgdbsiJpclgAAAnqJp/V+fleUNa1+fpfZtMmDP/1pIZ99VtyMHADl/PGP09izZ5fiYIp1sZcvX+HcOV+lbHENTZaBrJvs73U6IBL/CQAgwqblq20lICalIjmdyL2jjdBdLBcRyQCXLVumOFqaDDHEGHz58mXWrl0roxwlAJD2uAkdeJsDILKZOQCOKjkA5JxB+hB1PoSm/BVJLk+dOsX+/fvbPPlfnaeg1QBATIREFIBI8KMpjSjrIQeWttYB4bi+evVKGSSEUyvewcFP6N17Ez/7WUmzAEDPni5ER0e/U44oU5Od4raWqyxfu/quiFQ5cuQIx48f5/Xr13U2Tf5tIwmIJRbnz59XnqCLnQG0sb8IULRlyxYlqaFwuDT1HsQ4HB8fz+rVqwkMDJRbtjYxAdTU9pP1ah9bIgCAk9MK/uEfLvDzn8d95P2M3/3OHW/v00oSQNlG7dNGUs7Nk/PLly/fRDOK7Xfb46XVAEAkfVq0aNH/z95ZgFd1ZXt82pk30tH35s28Tkc6nZkqFIoFS0ICSYDg7u7FoUFDcCe4BNfgEkggBiEQ4u7ubjcJRYr+3rdOEggQWtoiN7Dv993v2rnn7P3f6+y99n+v9d96n9OnboBnuwEUTj8cpwsXLlKv3sJnJgDq1LEiICBAbx1gZQs/3BbeBOxkgpSYmKjldItautr+72W4C2iYi5r+2bNna+SkVCIXLl++zPTp0/W+/xOthQMHDmiCUElJSaqvViSAsoHHbEByplev3kDnzhNp3/4r2ref+i3PyfTrN4Zz586i0hyVf6FPfpL09Tt27GDt2rXaPf5yRnOo0QSAsCQCmogmSEegTw2qyqI6mJdpA4oAUPb2Mu3tVV9Lol4kdUXU0mUlV5Tq1ePFIyBRACdPntS2KYqLi6txEUNCHMnCgeyxvG7dOr3XAhC9BREDFMzVpEX18a+639W36wuhl5OTrW0HmJycyLc9k5ISSU1NqZEipvqGuyrP8+uLxIb9/f21bWpFA+Bl+jI1mgAQd0dWgaZMmYKETyijfH5GqbCsWVgqAqBmtZe6v354e8kkTkTcFi5cqG0BKAJ16vHyEKjEXgTqauKkVOxH0getrKzw9PTUaz0D0QI4deqUFukSGxurfJzHVoBVP/rD+1GFncJO2cCrtwEZT0XPbuvWrVpK7ssbyWt4BIAAJVEAK1eu1PbMrYnbE6kb8NXfgK9DGygCQNnR62DHz1qHixcvavlyQgCrx8tFQNItRAhQBAGjoqJq5KRUogDE4ZIdAfRdz0BsXMguSQdQ4mWqn3/WPlIdp2xF2YB+24Cs/gsJbW1trY2lL3snoxofASCuj4RNiBaAhMspg9dvg1ft82LaRwiAL76w4a23kvjJT8r4yU9Kn/KU39KoU2eS3ufAKlt5MbZS03GVkH8J3967dy/Xrl17ubNfdTUNAWkDW1tbTYCxpqbfyVZLs2fPxsHBQa8jGSQKwNXVVdMtkFDRmn7/qvKrfl3ZgLIBZQMlmoC9pDEKuXv9+vWX7l28FgSAGJIIEx0+fFjl96gQuTfSQRLHsGvXkdSuPYLatcd967NWrVF06TJUU5lWnbAaiGuSDUjuv4j+zZw5k4iICC0C7KWPmuqCyEpFSEiIplLv7u6u12H0T7NvmVifPn2aGTNmEBgYqNd1yMnJ0cJEly9frnY9Uj7OG+njPO0+Vt8rH6Ym2oBEocnEX3alkTSAV/F4LQgAEU2QMApR9o2Ojladoxog3zgbKCwsJC4ulrCwEEJDv/spx8p/amLHqcr85g74EgItYdu7d+9WW/+9Co+hyjVv3LjB0aNHNZX6mpifLloA6enpmvKyCAmnpaXpdX8o6RYiCHjo0CGVCqB8nKfaanFRIfl5uQhplJuXT2FR8VOPfRFjqYQ1l59XR1FhIUVFxeheUHvpiosoLCigqPjFXeNFYKSdU1eOT0F+vnY/y9gmz4LCQoofYPgdY72co6iQwqKiF4bxC6v/C7KJmlBeuUe8vLy0hQxZ0HhZ2/5VGb61t68FASA1uXnzJkuWLNG0AFSe3Hd0Gm/wjVcTOocfWkZxaJ/1+UOvof6n7q1XaQMeHh7Y2NggE86XqZb7+MCpPpcjICSipALY2dnpvaL+0+xWIklmzZrFsWPH9JoUrUwFEPFCb2/vlzqpexp26ns9Gg+KC0mJCeCQ3XImjBxM7169GDhiPMu3HiEgJoWC4sqJ+Yspc2mpjqzUOPx9g0nJyiM/M55Tu7ew/8wlUnOfPwlRVlpAsMdxlsxfwN4zV8jIK6o590RpKYWZiTjbb2Da1ElMmjSZyZMnM/UrK6wXruDgmYskpOd++6S+tITC7BTOHdzBjqMuJOYUUap8+xphA8nJydpOOvb29giR/qoerw0BIAAGBwdrWgASmviQhXwxnZ0a+BSuygaUDSgbeHk2kJGRweLFi7VV51c5aL6qwVofr1uZCiApGefOnUMmqTXtnpAynzlzRksFkN0B9LkOsqq7ZcsWbbFDxAFrGtaqvC+qvywmIeAs1sO70MzInAEjJ2I9x5oJI/pi0tSArqPm4hqUUEEClC8UPNoWpT/YlsonnaVcvZqL47a59B0yE7fQRHJTI9m+ZDYrd58hIftZJuePl+tbylRaii4rig1f9eGTv/+D1kPmcDEqDV1Jlf9ULIg8Ws+n4F9a5X9VzyET6mrOU1pa/Xken4CXL8hUc2xpGXnx/iwf055P6jahW98hjBo1ihHDh9CjfUsaNzNj2vrjxGdVH6Up15dz52fEY79mPgs3HSY6s5DK75+pzoos+ME2/2PwFc2cXbt2Ielc0p+/ysdrRQCIU7hx40bWr19PTRUm+jGGpf5bTUerOrlX0skpW1S2+DxtQJwdR0dHLQRaVNvV6v+rdBsevfatW7e0yb+soosgrz5PoKuzSbEt8Re2bdumRZdERkbqdZ+ZkJCg7cAgvo6QYtXVSX33ZvW/hRlRbJjaC0Pznmw8eYXMghJNILWsKAuvY7Z0MG5C3xl2hCfnUJCTQUpqOrn55ZNyCaPPTk8lLSOLQi1KQEdBbiaxkSHadpmhkbFk5uRTrBNMdRTmZZMYE46fjw+BIREkpWdr/yvOj2bjrIEYmQ/B3j2AzOws4qPCiU5Mo6C4BF1xIVlpiYQH+ePrG0hUXAq5BeWh60UFOaSlppGRnqZd188vgIjYJLLzqw9tLy0tJsH7EMM6tadzBzOM23TH9ogXOUU6SkpLKCrMIyMtlfT0NOKjw7V+KTQqgay8wvJVdZ3UOZmIYH98fP0Jj5HfCrT/paemkJGVW15fXSFZ6SmkpGVUkCc68nMySRX8CosoLswnPSmO4ABf/AJCiE/JoEArg2CYpel1JMRGEhwUQnxyJkWVURgaAeDH0jGdsBgyF+/YXG0l+Pq1r8mJ82bekLY0bj8SB98ESnTF5GSmEB0ejPcVL/wCQ0lIzdQw1xUVkBQbSVRcMnmFheRmpZOSnERcZBjBIRGkZHxHFIHyj19q/ykRc6I7I1FcsnX9q/ZjXisCQNwSGRynTp2qqebWNEdEDdo1eNB+JPy+BtdDDQgvdUBQ9/x33ysyQZOQf1Fsl+3nZMKpHvqFgJDv+/fv18R4JaS+Jtq1hGWKIrOkNKSkpOhtHSS6MSgoSHMiDx48qISP3/Axq7SkmNjL++lh2oJRi3YTl11l1bi0lLKCBDZP70cT077YXwjmkv0yRk60xuFKHMW6UgoyYtk6ZwxTl+4gLLWQzIRgdi6ZTAdzEwwNm2Ns1oEpy3YTlJBJYW4KTjsX06eDOUZGRjRvbkyPMXNx9g7F79QaLBt/wh//92+Y9p3CYQcnVlqNwXrDEWLSs4m4dJIZI3pgamRI82bNMOs4gFX7nUnKziU+4ChfjR7JqGFD6dHBAsMmBhi16Y2tvTtpeU9GFekKMjizZgLtuw1h/c5tjOnWlgHTNxCSkkdpWRmJgW7MHz+cYaOG0rOLJUZNDWjWsjPzdziRmJVPWsRFlk0ZhFkLI62ORuZdmLv5BIEB7iy1Go/N2sMk5haTl+zHqskD6T9mLheiMikqyMBp+xImz1iCW3AkXmd2Mq5fR4wMDTE0bEHnQVOwdwukQJfLpZPrGdi9B93aWWJq2gar1UdIzCjQVulLHhAAHTEbNIdLERmUlUkERBlleSnsmz+EBq36Yu8eTEKwG0umDMbCtAVGhs0xMGhCpyEzOOMbS05aDFvnTWLy0l2EJERxbNMs+nTtTtc25pi1680qew9yC0tUaoAe9BFFRUVa3r/4MZLKePv27Vc+iL92BIAgKitFX331FXFxcSoV4AUYfnFRPjk5uRQ8Li6j05GfJ8IzBRVs8bc49zodBfm55OZ/j2Of5bzV1FdEcXKrK281xz7huOqKNUGdvPxCdBoD/mSdhNnOycogNTWFlNRUMrNzHzK9z3KNZzhGV6z79nywZzjHE3V7Hv8RfHJzyMnNo+gp+LyI60qbSvjUEzZYIisNReTmZJOZmVnxzCIrO4f8wicdiQdl09o5h6wH/8nUcpqzc/IqVkWebPcH/63AUa6blyvXqX7V4vHj1efvxlQwErXc1atXs2HDBq0/f+WjpipAtQjI6oYINMoEWsT1app9C9EkQnuyJ/P27du1/kVf6yAkgAgfS96wi4uLXm9jqK8YvjblKs7nyl5rmhtbssLeg/zKVeaKcansaikeu+Zi1NSIxbtdObN2IuZdhrDXLYoiXSn5KREsHtqWHhOWExCfzMl1X2HUzIzptrtwv+jBXlsrzEzMmbPVkRCf4wzvaEH/iYtxPO/BiZ2LaN/SDKs1R4iM8MBmZEe+MGjP0l0OBPqcx6p3W4bYbMXH5zzWgy1p3nYAa/ee4rzzCaxHdKKhcRe2nfMj9NIOOjb6jPpm/Vm/7yTnTuxiZIfmmPWfwcXwx6JcSsvIib/M9L5t6TNhBUExUeyaPxQTyyEcvBhBUdlVYi+fYGDLz6lt2Jml2w7j5nSQSX3MMbAcg6N3KKfXTsGybVcW7jjBBXdHFk/oh2W3Uew7587aKQPoPmI2HrG5xF46RO/mH/B+vbZsORtBVqIvS8b3ZuCU1bg6HWBMj9Z0HGSF/Wk3XE7tZUKvNnQcPJOLUfE47ZhBvfc/pPu4xRx3csE3NI7cwgodhioEgGm/aTj7xZKdnUVmZjrRPo5M7tkS415TOeftz6FVE2ndpjuLth7h4iUPDqyeTsumTRi78jgJsaEsHtGFbhNW4BMdzLaZvajziQFjF9px1s2D4Jg0ioqfbZx9be6H5+HXPudzSH8tK/6y44wI5+rLIsZrSQDIVlHiiIjDKJMAZdjPrwMoKy0k0nMvX02w5qRvDIWV+VKlpRRlxrNv2VfMtD1AXPq3CJLIanluMkfXz2H22iPEZxRpYVvVtlNpKVdzEzm6zoaZ2rFV2O1nuEll8IvycmCu1QyOekdT+H0mqaVlFKaEsmvlbJZsO0tG7pN5bIXZiZzdt4YRvTtj3tIUE1Mzug0Yy4ZDriRnF/z4SXtxAXFBFzlx1pPU7EK9Y3Kz4/xYPX0EQyfM53xk1lNJkmrb9hnar/r/FRMX5Mj0L6dxyieKoqrn0enICPdkwYT+dO7ShW7dutG9ew969x/CrOV2XApLrFYMqTg3lr3Lv6JXl8507daNbt2706NHLwYOG8uSzYcJic/4TlIrM9afVdMns/2sP3lFz++eqx6DN+P8MilzcnLSBk4hdCXnXD30EwEJZ5SJv+g0bN26tUaSAOKoiSqzLCCIo6bPgsJCuJw6dUojAS5fvlzjUi/e5H7tuda9KA/3zVNoYtqJ9cd9niCsS69exe/wckyaNWPOptPayrlFlyHsqyQAUiNYMtSSnpNW4O1zkRkDzGneeSy7jpzh/AUPzp3cwZC2xnQdtYAzznsZbGlK58FWHDjtjm+AHx7u5wmISER3NZ19S8dg3nE8ziGJZMX7Mr2PJcPmbebo3tV0NbNg1vZzpObruFpWSvzl/fQ0a8HYJbvxcrejq3ErJtgeITG/hK8LUrFfNByLbmM56x33iB9VWlaC/8n1dDA1ZcYmB5Kzsrh0xJaOLYyYuPoYSbk64rxOMNTSkIE2u4hKL+La1RxObbCiVcs+7HW/wvHVkzAzbc3UFTtwu+yL35VLeFzyISE5Bbddc+jaYwT73IJwObCcDqbNaNioJbO3nsHn/GHG9OqCtd1RDq6biYWxKROX7sDZ/QIX3M6yZe5wjFt2Ye3x85zaNpMWBu3Z4OBLYelVyqrqDFRoACwd2YZ/fliblm060q1rNzp3bIdJcwMMLXqw6uAF0nKyiQvz4cLFK4SFRxAa6IvTnuV0MTNk8JzdxEQFs3hkV7pPWIlvdDBbZ/XHot0oTgUlUlJ2tTzaoKp/pN6/9PmgjCkxMTHadn8iliuf9eXxWhIAAq7kiU6YMKHGChM91wHiOd70ZaX5+ByxpukXFqx1DCC/ggAQR10my3N6N8V00DyCEiXU6aEqfWV95DsJfyrLjGL5yNaYDVtKSFJlWFSFCEzFJL3y2K8zI1g6og0mQ5cTmlzlvI/VSzu+4jvt2iUllH1dhu+JdVg2b8FyB3/yisvFXh4/trJ85a8V5Si9SkGsJ9P7mdF9ylaSRWSl6jWL8vA+uBDTxo3oNXERew8d4+jBXUwf1okv6puw7PAVch5MBCvOKf8XXKqe5wmc5Njy40qyE9g5szdG/eYRnJT3oEN/evnLr6PVv0KophKLh3X8rrKUTy6f/N9jk05dPr6n1mBU633e/1c9rOzcyJL8t6p1q/q+op6Vv1etQ0nJw3I/0gZV/v+gPKXFhLhvwriWEWvP+FJQ5RjJl0vyOkKXpv/BsNtYVtiuZe0aWxbMHIdp/VqYDl2Ef3z2E2UszgzEup8JtQ3aM3vZKtauW8ua1SuZNqoXn33wL/rb7CU5t5x80soh2OrKhXgqBYGyEkLZvnwhhzxCyS+u/K1SXKjy9TEMq5ZdvX+kXQRnCf2X7V3Pnz+vFyFz+jJw63M5pM2mTZumraLL/saP3uf6b//ioLm7uzNx4kSOHz+u1yRAXl4ee/fuZcqUKTVSf6FyLFCvP+K+KMrnyr45NDeyZNn+C+RVRgBUjLdlX5dycbdEABiyaJcLjmsnIgTAgwiAVIkAEAJgJe6uDgxr/Tn/97cP+Kx2HerWrUudOp/z4Qcf0mawNa6BIRzfOJNW9T7ivb//i4bGlnw5yxY3/zhKytLYu2Q0Zh3GcS4ogcy4cgJg+Ly1bFs/i7Yte7DlrB85FWNjduIFJnWxYOBXq3B23kSPNp1ZsNOZjCIdVwvTOLpyLG26j8XpSuzDhQWpU34i260H8OH7/8GkQ3cGDx1G/65t+eyDv9Gsx1TcItKIuXyCkZ1aM3ntCRJydBUChda0NuvNXo9gEkPdsB7ajg//8R7/+uQL2vQYhu0eR2IzcojxOsyonr2Yu3E36+aPp/+wKYzs1ZVBM1Zht24ePXuMZL+LO7sXj6TWX9/lg48/o07dutStW4fan33EJw3bssLekaPbZmHWsh/73EMoqjr5l3G+kgAYZUmd5u2YOmcpshXp2vUb2bHvKJeDYsp9CF0RyeGX2bRoKr06tdVSGep++i/e/ceH9LPeRUxk0AMCQCIAtloPplMfKy5Epmp+prqvfsR99Zz8sfj4eI0Ul0VpSQPQp8drSwDISpGoEguTL7sDyKCuboYffzNoBMDROTSv34Z1To8RAMmh2PRpTqvBCwhOLCA9PpKAgEBCgrxxPH6YQ0dO4ukfSVZBsUYArBjVFosRywhNKqCkOJ/EyCDcnU5xYO8e7I+c5KJfOJn5Or7OjGT5qLYYD7DmuIMTxw4f4tQ5DyISMh6EnRcX5BAdfIXTxw9hf+gYbpeDSM0q0AgAv5PraW9kyorT/uTrSsjPTiHIy41jh+w5fOw0XkHRZBdUrO4XF5IWF4a700kOHT2Fy6l9jO/Vip5fbXuMACilMCeWDWM7YtJpDO7xeZRdvcrVr6+SEX6e2cO7MdRmNwlZBUiOXnZqLJfdHDlkb88xB2eCopO1aARdcR7xkcH4B4YQ7OPBiSOHOHLSCf+IRPIKi0gOdGVmX2NqmQ/nkLMfGXkiwpNFhP8lTh07iP3h41zwDiEtRyanOnLSEgjw9SM0NAC3M8c5eOgoLpcCSc0p0OxfpysiIykKT1dHDh88yEmn84THp2k4SipDZd0P7LfntLMn0clZDzB+/P4pzIxl24zeNG8/lBFdWmHczxrf+Jxq7zPt3PHheDif5tD+few/eAx3r0Ct3DpdAUkxwfgFhBLm74nD0UMcPn4G79A48irC9ovys4kMvITDsSMcPeXE8f1LMaptzDrHagiAK0fpYfIFw1c6kVdcxtWrVykpzMZx3Zd8WMeSfefDKX6scxcCwGagBa36ziM0q7C8La+WUZAWiu2XFtQ3HoJrXCb5uRmE+1/izInD7Nu7j+OnXQiMStKiCgpy0vDzvEBInITd5RAZ7I+fny8up49z4twzbOvzWJkex/tN+yz7ssvWrrKaLFFd6lEzEJA9jUVIT7ZrlFD6mpgOII6ahNbXBBJAUmR2796tkQCyt7SU/U3rK97k+op/Eee1n56mxgybu53ojAJNOC4zOZqQsCjSUqPYJBoAxj3Z5xaAy8bJmHcezB7XCIpKSslNDmHuAHN6TFzBhfOOfNnFEMtRS3Dy8NV856CgQHx9fAmLitdC1ONjIgj08eTorvVMHd6TBp9+QpfxKwlJTWBPtQTAenZvnkf7lp1ZfeoKWUXl5HhG1FlGdzBj6Mz1uLtsomebLizY5UJGUclTCQAh21NDzjKmUwuat+nBuClWGkE8fZoVw7u3ol6T1iyx99S2BxzZqQ2T11UlAObQ2rw3ey4EkZ6RTERoIJdcT7FhyQx6tm7K543bsGT/RdJj/Vg1ZSC9hoxjSJ8BzF63my3LJ9Op8wCG9+lK34lLuRwRwcHlY2ll2oml+xzxDw4mOCiIAH8//ALDSM1KxnHnbMxalRMAxdUSACIC2BHzwTZ4RWVz7euvNV/l6tWy8mgBIQmSgtlg1ZemzcwYNW0xe4+extF+PX3amTLoaQRA32lciFIEwKvuEypX/it1ZURoVt8ery0BIEDfvHmTHTt2IFsUSfjoqzaI1+H6z0wAJOVxdtNMzI0NadPODGMjI+rX/pjaxr3Y5RpGcXoUK0ZXEgB5JPicZFwPMxo2aEyLFsbUq/URnzbtzNazIZQJATDCnH9+Wp/mzQwxbGZAnTr16CFhT/HZ6Iry8HHYRN82zanXsAnNmzbiC4NWzNp4kpRCHVUJgOzsRI6utcK8WQMaNWlOk0b1aWLehy2nfSgoLSU1/AI2wyypV7ceTQ2NaGHYhNqffUr3qdtIzqoaAVBKUV4iu2f0pEGT1iw74E5sSiaiFSCKtrFh/vgGRZNbVEx2YgAbZg7CoF49mjRrTqN6dWnTbypOAUnk5UayaWZ/jI0s6GBuimHzJtT+5GNMek7ByT+SM+sm0+Dff+TX//M32gyYjkdkOh6HbOncohH1DZrQrElDGhm3Z/72s6TlFeLvYEcnoya07WhBCyNDDOrV5sM6LVi0/6KWG5gWdZml47rTsG5dmjRtTN3Pv6DLmEV4x6STEOzCrMGWNKjXAEPDZjRo0FhbFfCJzXgkBE/suLRER1LgSQZZmDBq6X6Ob7OmYR1TNjoFaU7Fo7auIyXcHZuhHWnYoCFGLYwxqPsxnzSwYNnBy2TmJrB/8RCMjFrT2cIUo+bNqPPpRzRtP4qTfgkUFeTie3oT3UwaULdBYwybN6eZURP++UFT1j6VAKjL0GUOZOQVag6xkCZnN03g88ZdOewZ/XQCoM9cgjPyH2z9oytIYI9NTxo27sPpyHjc9i2hfYtGNGpqiLFRYz758GPMBszkYnQmScFujGhjzMxdbmTnBDKrX2saNjLEqGkTjDsN5aSXiC4pIvJR26ielJTwZpk8zpkzR5tAvmq1XH0buPW9PNJekk8vY6+0o6jV17RIABERrowEOHHihF5HAogeys6dO7UFD0lhUALI1fcrz9L31LxjSinMiGajVS+at+zG2iMXSU5L4aL9Unp36cqgwf0xatiAnl9tIjQhhcu7ZmJq0Z21R73Izs8n1uc4A03r0WHMMvxC/Fg8uhPN2o/h1JUoTTcnI86PnauXY2fvhLf7QWZZzWD7ictk5heSmxLOKvHj+lnhERnDniVjaNV+DGf8Y8mI9dFSAIbOs8PpxE76tTFh6PydhCZlUVSYw+XDyzE3NGL6hhP4X7B7NgKgKBuP3bKy3omVovpfXKqJ55WVlpDkd4QBFkb0mGyL4yl7RnaujgDowy6X8xzdspiZ89ZyKTKFwqICwl3s6NLagokrj5Kek8LJTdMxbvA5jVr0YJujP5dObqRD49p8XLspU9YeJSknh8v2S7E0bcmUtSc0YcHC3Ay8z+xm+eoteIZGcGbHsxEAZoOsy0UAH9taUMQMkwPOMaGbEV0n2BIYn0NxfiaXDq3EvPEX9J25nejqIgCEAFARAK90vieTf5lzLl26VEtHl1QyfXy81gSAAC5Ox7JlyzQRKbVlzo8fFL8PAXDadhwff/ARw+fvIDAqDh8nOyzQrhSRAAAgAElEQVQN6jPYZi+pKRGs1AiA5YQkpHLWzobefUezy+kKsXFxeDluxrLhFwyeu5fsjCiWDWvJXz42ZP5OR8KjwjltZ41ZMyNmbHcnNtiFcZ1N6DhsDq5+4USF+7F74TBaCNt7MQrvkxu0CICVp33wd9xEJ1NjRs3fgV9YFKE+Lswb0gaLvlZ4RSdydNWXNGpsie0hdyKjwji6zopGH31A5ycIAAkBLyLO+xijOhvz2Wef06xVO4ZNmMWW/SfxCYsjT8LhC7Nx3mKFSYu2mgJtSGQUAecPMbKjCV2n2hEeH8TqcZZ8/FkL5u88S1hkOE5b52DUuCmzdniQEeHFwqFm1G0/HievcOICTjO8vQldxy7jgn8YkaHebJo9CCOL/hy+HI3XsbU0//hvtB+zhEvBUYRcPsHo9gaYD1pEREYaDmvH06ixBYv3nCM8MgLn/cvpZtmV5XtOsml2PxqZ9ma7wyWioiNxO7iaDs0bM2mDoxa1UdUx0hVm47JpCi3MurHbI5bEwLMMM6tLj2nbSXlctbe4AN9jtvTuNZANRz2IjIkh0PMEwy0aYTHGltCkGHbO7s7HHxowfdMpgiPC8bBfgXmThkxYf47kaC9m9DKlZd/pOHkFExHkyYLhFvzpbwaseQoB0K3ZRxh1+5JlK22xXbWC+TPGYtG8Kb1nbiUyLf+JwUGLABhgRvN2X3L8gpcWTuvn483ZQxvoYVSb1sOXER7rz8opgxkwaTnn/cOJiQ7n+KpxNGjckjUng4j1O0s/o/pMtnMmK8efSe0aU8tkIPauvkRExZJZjYZEVUzV+/L+SVYwZcIl28pFR0ervH999ByeoUwSCSAkgEQCyN71orJf0yLxZCLt6uqqRQIcPnxYEwbV1/u0MhJAoh5FZbqgoDzqS1/Lq8r14/2xSgw1Qj7IhTkju9HcqBUDRk1kptVYLJp8xp/++/f89VNj5mxxIDY1k1ivgwxsY4hph75YzZzO6P6dafTpx3QYu4KApGy8T6ynq0kTzLsMYpaNDaP6tadRk1bYbD1DaIArMwa2o4VFFybNmsfsKSMxM2zB2MV7iMvJ5NRGK4waGTJ6/ibcXJ2Y1rcdw+ZuIzgqjN2LvsTUyJR+o6ZgPX0CHc2Mad3PinNBMURe3k5vy64s3O1KZkUEwLFV42jXYxxnJQVAC5svJS8liKUjOtC27xRcwtIfEvmaBlU0G6b2pHmb/iy3Xc2QTpZMXX+yIgUgD6ftNrS16Mve8964719Cx5bGdBwwFpt5cxjVpz1mnQaz/awo+OsIc95Oh4b/xqD9GM6GZpEadJbRberwkUEHNjuFUKArITvOmyXjetLcyIyhE6Yza+po2hg2pv2Q2XhExuK0aw4W5gPYfz6U6iMA/Fk2tjMWg22qJQAkTSA3IYA1k3vSuJk5IyfPxHraBHp2MOHjjz6jx+S1BIcFsHR0d3pOXKVpAGyzGUKXftPxUBEAT/h4lffKi36VMUME/2TeuXbtWm2L2WcYLl/JIa89ASCoSuiFrETs2rVLU5R+0QbwOp//IQHQuvoUgL7NaDVkgZav7rBqHI0NLdnlEUdp2VXy032Y3MmEPlPXE5MUzsoxDyMAslMTCJEQKr8ruDieZNuamZjU+pTe07eQmi56AW0xGriAwMTc8nPFe2LV14JOX67GcfdijOrXpuvI2dht28b27VtZNf9LmtZuxGQ7R9yOlacALD/pzt5FI2hQtwljbGzZtm0727duwmZ0B2obdMDuiCPzh5hhNmIFoSkF2nWyI9yZ3NOEHkIAPK4BIHnrJcUkRVxhz7qFjB7YnRaNv+Bf779PA/O+2J3xIy0lnGVDzanXvB1zbLeUX3PLWkZ3M+JT05E4+3hiO74zph0n4ZmYreX4p/ocpndrEybZOlKUEcPmyZ1p0nc+IQmZBNjPpUm9evSduAi7rVJXOxbPGI7BZwbM2uOC++G1mBk0ZMFhP4pLyijKi2HTlG5YdJ/KpdhgFg1ujcXgufinFmrkmKRD+FxwwdX1OKNa16dRu6EsX2+nlXOz7Xy6GtfGdPASorVV8YcOi2yPM2egOea9p3MxIoHEaF9Wj+tAI5M+OIQ+HjGgIy8jibDgQAL9fXE/58CezSvoYfQ5hoMWERAXzc7ZPWnecjhucZnaYJ8bcY7hHVowbP5BwtztsDRqyZydF7R9fktLigg4Y0tT0QB4CgHQpfEH/KeeMR07d6FLl860szChXt0GdJuwHK+o1IeOQ0XYvRAAc/oa87e//JP6jZvQrFkzmjZpTP36DTHrMZYjnhEUFOWTHBumbcHle+kCDsfsWT61D7XqGrLU/goxvk70N6rPlK3lBMDkTqZ0GLuOiKwnCYfXuY/4MXWTCeLFixeZNGmStmWOTCLVo+YiIKl4QuLMmzdP22JPCIGaRgIIIXXhwgVte2ERcdLnLQIlEuDAgQPa/SMCgaIR8GPuR/Xfh2Oe/mOhIzM+mCNbVzJp9BB69erJwOFjmbtoCVaj+9O28wDsTnqTk5XGpVM7mD5uKP0HDWfuis3s3b6ZPSfPk5hdRHFBJn7nDjB3ymj69u7F4FFTWH/AmbiMPEp0BUT5nMV27hQG9ulNv0Ejmb9uPwGx6ehKS0kMcmO51UiGjLPmsJM7x/Zs5aDTZdLyishNieD4thWMHz6Ivv2HMH3xJi4ExVNQXEx6nBd77Hbi7B2h5b6XFecSdP4oW3cfIzy+Usi7PF3B3m4De06cJzX/0VSXUl0+YZ6nWL96I4dOnGbPNjtOXgwmq6AEEa8O83LCbstefGNSyM9Jwtl+I1NGD6Z3777atoj7na6QJjo/peXXOWi3jq32Z4nPLaIwJwGn/ZvZsPUwIcnZ6Cp8v5RIb3avnsfwgX3p028wVgvX4x4YR3FJAeHejmzZvB+/6BR0j63uyzUKMxNxPbqDLQeciE17qO/0iJ3pCogLcMPWeiID+vRl2NhpbNhzkAO7t7ProBNRiQm4HN7F7uPuJGQkc9nJnh37HIhOz1UaAK8gpVIiF319fbWdZESEXvpffY5efCMIAGkA2Zt43LhxHDt2TK9D+R65+V+BAX/X9ctKC/A7OR+jeubYnvYjr4oIYH5SEDN7NMZs2GJCkvNxWDUeY7MeHPZN0vY3zc/wZ1rXlvSZso7oRwiAHGK8HbQ9Ys1MW2DcwgRTk2b869336TmtnABYMboDnaZsJTqjWDtXcU4Qi0d1pm1/G3bYfkX9//yFzxoaY2FhUf40b0VLs04s2u+G6xEhAFqy/Lgj66168e/33qdRi5YPjjVvZYJ511HsOHycSd0M6TptOzFZOk2opTDFj0VjutDvCQ2AEopys4iJDCcxPVcLQ8vPTic6LIDTe23pblyP5l0n4+TtyvSuTXj/g48xMqsom4UFLVu2pP0ga9z8L7JqYlfa9plDQGoupaU60gOO0c/SlImrTlOU/pAACIpLw33jRGp/8FfqNDF9WH6zVrSy6MqKwx64HVpLm2bGrHYK1Qaporw4tk7rTevuU7gQeQmrrq3oNmktUfkPQ9HLykpICj1F38Yf8f4n9TE1ryynOSamrRg0bQORMvhX2qOugNBzWzH//O/8q1ZDLNq0pW3b1jRv8Al/+cdnTNhwjoyCKlvuiTBfiDtLJw/C3LQFLVq0wNTUlDr/+QfNBlYQANa9MOkwGR9tcNWRF+3KqM6mDJtnT+DxZZi0aI3t8cAKhWMdkV72tG9qyjqnp2gAtKjDgPkHiU5I0Rz2xLgonHYvovknHzFmtQNZVeov9SqPAGhFY4uh7D7phIurK27u57l0xZ+Y5MxyjYTCTM4fXMOALm0wadGCFiammDaty18/aswSIQD8HiMAuprRa9pO4iv0Fx7gV4mjen1oU7J9o06nRV7IVjlnzpxB9pZXj5qPgIy/shvPunXrtGgACVEXR6mm3Q8BAQHIHs6ysiP+hL6G2Qu2on8kWwTKoocQFjWNdKlptqE35S0t1fLHC/NzyEhPJydPFjLKKMhKJtD3CuGaPo3k4JdQmJ9Ldk6uNrZp+kVlZQ/EiWVP+uLCPDIzMsjJL58UV4rdSlStrriA7MwMsnLyyyfDlYLDJXLeHDIzs7X0gcrzavhoooQ68nOzyZKtkitEdMt/K9fqqaqUL+WWfPjK61aeQzR9rpaVVdt/lP/nqqYZI8dJPSrbprS0/BrlqUgiOlxZ1ixNa0i+fyDOLLtPVVyn/LvSB7pAVcuj/UdXTK5s4ZeV80idHr1edUSSpC9cfbKOj/kFco3iwnyyMrPIzS/S/F+tbBo2FefQ2k7eV2D22DkqMVCv1bXD8/lOIrBkxyIRwJVoMelz9f3xRhAA0giykuTn56eF8ilm/IcbfFlZEeFuG7Co1wSrna5kFJYLusgkMi3chaGmX9Bp0nqiM4sqCICeHPFL/hYCYAVBYQHYju9Cg2btWbBxPx4+IYT6nmCQsQF9pm3WIgBWjLLEfJTtg5X5giQvZgxoQ6cxqzhuNwfjps2x2XmBzOxsLeIjIy2Z+LgEsgsK8dFEAFuy/IQL26yHYGjak72eEWTJsVlZpCUnEJ+UprHncwe0xGL0asJkhbzsKnlxl5g1qA29HycASsvIDHFm0oDOWK1zeKBsK52+riCNg4tHYmTanZ3Orszrb455n6/wiEnXypadlUlyYjzxyZnkZoViO6ErbfvOIfA7CIDg+Ayu7JyOoaEZK4/6k5Eldc0iPVXqmkhWbh5Xjq2ldfMWrKmGALgYHci8/hZYjlxMcIYMJCJkmI6/xzlOndrLINPGdLXaTGhShlbOrMx0EuLjSE7LpqhK7npRTgIHFg2hbsPWzFy2lm3bt7N9+zbsNq6kj0l9DHrMwCv2odJ+cX4Ke20G0sDAlGm2u3Dx9CM8xJvZvYwwqkoAdJxSLQEQ6ryRNkYtmbfnIrlFOi3qItR9Ky3rtfh2EcAVZ8ipsE+pa1qoO0OMPqDdJDuSsx9dPXggAthnLiGZDzUAtAFeG0x1ZAadZqB5I0x7TmLHESd8Q6Lwsl9Is6amLLX3qpYA6D1dEQDP4nTIYOnv768JOtnb2/P111/r+9ipyvc9EBASQCbM+/fvx8rKSpug6vMWe9XZrNioKDqLqJOkp3h7e+ttmL1ELYi/I2SaqE/LNlT6SlhUh7X67of7aE/DrurE9WnHqO+fP+4K09cfUxG6lcgr2bFIUsauX7/+PUbHV3foG0MAVEIsqw9jxozRckxVeNz3vzFLy0rJiTrPaMuGNOowBnsXbyKjo7VcdNkWpV6txkzf4kRWcTEOKyUC4EkCoHdlBIBoAIxcSYCPG1N7mWLaZzae4fGkpybgvGsujf75D7pM2UhyWiTLhpvxb4OubHfyJTk1iQv2y+lg0gKrLc6EXzlK/1YGdBy1kMvhCaQmx3H+sC0jho5nn0col4QAMDRlhcMVPA8upWWTpoxdeoCIhBSSYkOwXzmVoRMX4BkSxcFlIzEw7MbWM94kpSZpgnsWDT6hyxMaAKXkpwWzbJQlzVsPYI+zL3FJKaSlpRLl74bNsI607j0Nj/Boji8bQeNmbVhuf4G45FTiw7xYPWM0I+ZsJyTGv5wA6PMYAdC2IgIgIwa7qV1o1HUal8MSNbXf7iZN6D5pDd6RCaQmxXB2zzKGDpnE4UthXDq6jtbNHicAemkpAFeSkzm8ZDiNTbuzzdGXpJRkfM/tZlC7Nkxavo0Fo9pT16Qf+139SUlNJcTzFNNH9GP2ptNkVOT1ixOREuLCl5aN6Th5o0b0lLPRV7lako/jurF8/LEhtid9tVA+GfwKcyJZPtyS5m1HcCYogdSUBK44bMSy3r8x6D0Pv5godkoEQMcnIwCGzj9IQoQHU7uZYjliAR7BMSTHh7NjTj/+/n4T1lS3DaDsAmD8OX1m7yEkIlpzfqMjw3DYNpcmH3/C+PVnyCp4GAEhZXxIANgQnJH3hOih7LAQ67YDy2b1GLn8FLFJqSRFB7BhSjc++KgBC/Z5El2RAjC5MgWgqxmKAPjuPkYmVpWTlYMHDyrF/8rB6jV8FWFeUdcXEkDC6WXLQGn/muIkCyEoWkKysi47BIi9ym4V+lgHKaukXyxfvlxblXJzc1MpkGpltMbcazWlT1Dl/O4x/nXFSKKtZJc56WOtra0JDQ3VFptrytD9xhEAEgkgzL3kmJ48eVLlyH3vAbGUMl02LrsWYN7wUz6u9QVGJqY0a1iHDz+sRbexS7kUmU5paTGnV0+mVdu+HPOvjAAIZGav1gyYtpGYpAhWj+tIuzGrCImJxn7JGAzq1qNdzwEMHdibDm3bYPDpx7T/cjmR8ZHYjrHkP7Ua0LJtNwYO6IOZYVM6jpjHpah0CvNTObN5BmZNDWjZoReDB/bEsEFd2g6ehUd0Bn4Om+hsaoGtYwDpScGs+6ofTQya0rH3IPr3aEeDLxoybM42YrKLSQhwZFKvVjQzaUv/gf3p2MaI2rU/p+/0naQ8sguAiAAWEnP5CGO6taK+gRHd+g5h1IghdG5jinHrXqw/7k2ObOUX4sz0AW2pb2BCrwGD6dXBhIZNzJmzw5WktDDWTulFx4HzCEqrSAEIPMHgjhZMWeNIcW4KR5aNpNZnjRg5azVeYTEcXjUJwwYNsOjch8H9u2PYqCEdR87nSkw6Pic20N7EjHXnwipSAOLZPrM/7XpPwzczj3h/Ryb3MqeZiSUDBg+iQysjLHpPwsk/hiC3vQy0aELjFpYMHjaEDq2a0sC4G3ay3aMIGoqtFOdz5dBCTJqZseTgZXIq9xyW30p1RHsdoqvBx3Sftp0EbWvCEkQw8JzdDIwafIFZ534MHdyfjm0taNHkcxp0/opLYWHsntcfi65W+KbkoCuRFAA3xvawYOSiI+RkZ3Dx4HIsmxtg3qkXg/p1x7R5Ez761JgNZ/0oqGrDkm7gfZwezf/Dh3WaYNG6DW3btsHC3JQmjZvSecR8LoanPKkBkBXE/KHtaDNgPiHVEgAl5MV5MaO/OXUbmtJ38FD69+hM6zYm1PrMgOmbnQjzOcvglk2w2u5Cdk4AX/VsS/9Ze0hQKQBPdTplVVJW/mWlUlb+1XZ/NcV1+OHlvH37tjYxXbx4sZYSIJoPNY2MF4E92SFAVnxkq0qxYX3dfk/SLw4dOqT5PEK6iDq1PhIWr+skQdXrzZ0gqrZ/fdte+lWZQ06dOlXbqjgrK6vGCRa/cQRApdsikQBffvml5nRKQ6ob9fvcqKXoCrIJ9XJm+/rlWM+cwZwFK9h9zJmoFBFIKd8mLjHUB2fXi8RLSHWJ5DFl4u/hgqdfOLn52YReccPVK4TsfB25qVGcObCZ+XNms3DlJhw9/Ai45Iarp58W6h7m7Y7LhYucOrCVhXPnsm7nMYJi0ygWMRbJkcrPwN/tBGuXzGXW7Lms33mcgJg0TZgmMzECd2cXQhMrBObSYnA5tpslc2djPW8pu0+4EZeeV5H/VURyhA8Httgyd95idh87g7u7K5f8ZEucJ1eqRAQwNTqQk/u3snjubKbPmsMau/14BESX7wKgYVFMWmwQx3atZ97sWcxdvIbj7r5k5OvQFecQ5uOBu2cgWQVFWhkKMhPwdHfBJywRna4YEZrZabuQRau34R+fS0FOKlfOHcZ2sQ0zreexeZ8DIfHlwnsZCeG4nXMmPKk8BF9XnEeU/0XcPHzJKCzWSIuUSF/s7WyxmW3Nys37uRKWSFHF5D4u2JM9G1cye8ZMlqzZhqtfFHlV660rIiH4MmfOnSc2tYouQMUkvCgnDW/30zie9yez4GGYfX5WAu4ndrPIZjbzlq7hmIsXwf4XOe18iaSMDKIDL+Jy3peMiv8I8XHlgguXg8q3zivOzyLwwknWL1vI/GUbOeV6ERcnF8KTMh6bzOvIT4/nvOMxDuzfx7595c8DBw/j6HaZ+LTcalb3S9AVZREo9nYxkCzBqSqp8OB9MQkhl9i1binWs+eyZutBvIKCuOh8Dq/gGDLSk7jk7IhvVDKFRZn4erhy0V/s4Gnn+z733Ot3rEyYPD09ta3L1Mp/5cj05rwK2SO7PYwfP17bKjAhIUFvJ9HV9Qcy7iQmJrJ+/XomTJjA0aNH9TbfXib8gYGBmhijkBYiaiiCgdXVS333+vW1qk1VmyobeD42IORvSEiItuovCxeXL1/mm2++qZED9xtLAEgkgIRuiGCDqDXKQK5Y8e93g4gDpCsuoiA/n4LCovKJfxW1U/ldRF0eCKvIZFgTgikXZqn6XgiCEl0xhQUFFBYXV+zDXqb9XzquynNpxxQWavupVz2v/F8+FxcVkF8gvwsJUVEfuaaIpDwom1xfR1FBQUW5nyyj1EvCezQyo0qZq+tEtXqU6CgsLCA/v6D82qUPxWe0/8jnyvppE8KHvz+Kg5S5nNR4WF4dxUWFFFTUq7KuRYUFD757tK7lAjeVZX3i/JXtVlBAkazgP8ClHOfyNi2gUPLtH69HlbZ4cM1KnCteRQehqphPZTkEc619pf4VmFbaxxNlfMxW5Bzl7VtIYeX/H2nTqrZb3t4ywXjkKdd8rKwPy/aobVb9/vH3uiptUV5usa0Km65Spurq9Pi53tTPIpgjWiyyZZmDg4PK+a+R7sOPL/StW7e0rQJlFV2cKbGFmiZaJ9ELEg0gaQ1z585FQu31dVFB0hck0kZIlzVr1iDChjUt+uJN7TNVvauO8eq9soeXawOyYCFaKnv27NH6+s2bNyO5/7LTTU19vLEEQGWDpaamMn/+fG3gFmVfRQK83JtKdWIKb2UDb5YNyLas27dv10KSJRJLQsLV481GQEQfRRtAVqeFCJAJtYRU1pTxWMg+0QIQkUPRGFqwYIG2HZS+Tq5FG2D16tWMGjWKTZs2aSkZNXFnBjV2vFljh2pv1d4v2wYkTVFIaYnwkp1VFi5cqBGnr4Pf8sYTAKJOLE7Gli1bNFbHw8NDCeV8yyrpy7751PVUh69s4PWwAelnhWSVbdSEdJVJiERiqYdCQBCQlRSZMJ8+fVqLDBGNAFlNF+erJijYCwkg5ZQc+23btmkphrLK7uXlpUUE6FMdpKyyC4NEACxdulRLYdi9e7cW2iptUFOIFzU2vB5jg2pH1Y76ZgMS6i99ueT5i8CfjY0Nly5d0qJKZd74OjzeeAKgshElh0MaeuTIkZo6sb4q++rbTaLKozpuZQPKBr7NBionG7LCK7nSMimSFIDXZRCtHEPU6/NDQCahEqouYr2y6iL7Kkuanr4K7T1u/2LzUVFRmq3LKvvMmTO1PaIlZFSIAPn98f+8is9SDsFU8ljnzZun+T9CCFy5ckXTCBAiQF/K+irwUddUY5uygTfLBmTiLwsVIpg6btw4bctXZ2dnrl279vwGOD05kyIAqjTEnTt3tG2JJMRD9vkVgaqatlex6qzerM5Ktbdqb322AZnsyFZv69at0yZz58+ffy0H0irDiHr7nBCQ6BAhAmQclpB6IQMkUk8+Cxkgjpo+r1RXTq5lFenIkSOaWvSUKVO0HFJfX18k/VDTmdGDbRClrIK1iFtt3bqVsWPHaqtex48f176TdAy5l/UZb33uB1XZ1DitbEA/bUD6Nen7JL9fFilWrVqlaaSsXbuWoKAgjah9XRcrFAFQjbMi+YgyYEsun7BAok6sBj79vHlVp6raRdmAftqArPKfPXtWY9FtbW2R3P/XdSCtZhhRXz1HBISclxV1EeyVSbSI2K1cufJBioAQ9eLISV+gjyvWUiYhLIQAEzJDdiCaOHGiVh9ZfRfRwEoy4FWXX64v5Tl27JimxyB+kIglS4qACCfL7gGVkRivuqyq79fPvl+1i2oXfbSByv5K+i+Z9MvihIgRS0qijCnSz8nOUdL/1WRxv2cdehUB8BSkZPUhMjJSE3wQh0OY8KSkpAdOhj4atyqT6nSVDSgbeNU2IBN9yZWTQVUGVMnjvnr16lN6WvW1QuDZEZBxWSb7slJ94MABTbdHHDcJW5fPMsGW32SsFgdPHL3KlWt9IPHFAZUyxcfHa2Wt3EKwktCQVAe5d8LDwzVRQSENpPwvuw5STnkKhhIOK7oMgvHo0aM1zDdu3Kjt2ODt7a1peVQSGFXL+qr7IXV9NRYqG3jzbED6eXlW9kXS34pPIn2uaJ5IOP+OHTu0lCchYiX1SUgAme+JvbwJE//KEVcRAJVIVPMqq1WiDSADsjiyss2Pk5NTjVInVh3gm9cBqjZXbf4qbEAmKzLAisifrG4ePHhQm6y9SQNqNcOI+uoFISBkwM2bN7UIPSHoxe5kjBbCXraXFMdOUk9k2yZx8C5cuKCFdMqqjxAEIi4oWj+Sl/+qnnJ9SRGQ0FMJOZX7ZsiQIQwbNkwLw589ezYSPbNz505No0hEioXgkP9IHSSN4GWVXa4lZIBgLds2ChkgZR0xYoSm7VGJ9969ezlz5oymKyBEhjjeycnJrxzrl4WTus6ru58U9m8e9tKHSl8uaWEiLOzv768tOkgEk/Sb0n9KPzp16lTtKbvMSF8rRICkNskY8qb6KIoAeEbnRBxqMRhxLObMmaMNcDII63se4quYCKhrqgmosoE3wwaEZZcBWJTOZVsxmcBIqLAMyDJBUw+FwMtCQAh7Sd8T2xMi6ty5c5qQoOgGCDkguj4i6jR06FAGDx6sTV7lvT48ZcI/fPhwbeLfs2dPzM3NadSoEfXq1cPAwIAWLVpgaWlJjx496N+/PwMHDmTQoEHaU+ryMp+VeEkZOnXqhLGxMV988QV169Z9UNZ27dppZe3Xr59W3gEDBiBP+Y96KgxeFxuQe/Bl3nsv81pC7lXe6/r+KmUVbKQPFR9E5miSIia7sUhUVWVkWOWE/2WNSfp+HUUAfI8WEpZI8vSE3RYWSRglMbDQ0FAtVE4fQgzVxOvNmHipdlbt/CptQMLqhHGXnVPmzp2rKbVLXyjf3bp163v0qupQhcCLQUAIAdEOkCi+69eva2kocs8IaSX2q8/PyvDVpyZBnYAAACAASURBVL1K2cUXkRB9ycmXENeX/ZTrPstTyiUpAkIUShSBeioMXgcbEHvOyMh46ffdy7jP5b6WvkX6GH3uJx8vm/SXkrokRPCNGzc0X0QWIpT2UPVjrCIAqsflO78VA/Px8dFCSUQxV/YslvQACZGrVMx9lQ66uraaICobUDbwvGxAyE1xCGSCLylRmzdv1ph2mfyL0J84JW9qGN13DhbqAIWAQkAhoBBQCCgEFAJ6hIAiAH5EYwirJCyT5LdJmMn06dO1lbBFixZp+a+BgYEa810p5PO8nHF1HjWxUzagbOBF2oAw6cL+i5K/bI8j5OaaNWs0LRTZl13U2EURXNh2NfH/EYOI+qtCQCGgEFAIKAQUAgqBl4yAIgCeI+C3b9/WBIlEMVfyTyTfUKIDhBDYv3+/JoojzrTkKEpInDjX4mRXqlaq13L1ToWDwkHZwMuxAQmhk5V9iVqSkEYR7BLiUkL7RShHBNVkGzAbGxttexzJrS4rK3uOvaY6lUJAIaAQUAgoBBQCCgGFwMtEQBEALwBtiQy4du2aFhYrKQEODg4aITBhwgQtbFYUKYUUEJJg06ZNGjkgKsWyyibCRaII7Orqqp4KA2UDygaemw1IvyJCptLHCEkpUUuSty/ifbLFl0zyRddEiEsJ7Rc1b19fX40YkGgDJer3AgYLdUqFgEJAIaAQUAgoBBQCLxkBRQC8RMBFkEhW2mSFTSb4R48e1fajlJU2USkWUmDBggXa/tmyh7Z6KgyUDSgbeJ42IP3LwoULtW28Vq1ahZ2dnbZ/uqOjo6bkn5CQoAmmvcRuUV1KIaAQUAgoBBQCCgGFgELgJSKgCICXCPbTLiXEQKVKsYTXSl7ti8zvVedW+ePKBt48G5B+RZ7Sx0iEkqj1K3Xcp/XK6nuFgEJAIaAQUAgoBBQCrycCigB4PdtV1UohoBBQCCgEFAIKAYWAQkAhoBBQCCgEFAKPIKAIgEfgUB8UAgoBhYBCQCGgEFAIKAQUAgoBhYBCQCHweiKgCIDXs11VrRQCCgGFgEJAIaAQUAgoBBQCCgGFgEJAIfAIAooAeAQO9UEhoBBQCCgEFAIKAYWAQkAhoBBQCCgEFAKvJwKKAHg921XVSiGgEFAIKAQUAgoBhYBCQCGgEFAIKAQUAo8goAiAR+BQHxQCCgGFgEJAIaAQUAgoBBQCCgGFgEJAIfB6IqAIgNezXVWtFAIKAYWAQkAhoBBQCCgEFAIKAYWAQkAh8AgCigB4BA71QSGgEFAIKAQUAgoBhYBCQCGgEFAIKAQUAq8nAooAeD3bVdVKIaAQUAgoBBQCCgGFgEJAIaAQUAgoBBQCjyCgCIBH4FAfajwC9+9z984dbt++Xe3zzp073Lt3j/v373O/xlf2B1bg/j3u3LnNbcHi/o9D4d69cqzv3L33Awuj/qYQUAgoBBQCCoGahcD9e3e58xQ/40n/4w5371WMtffvcfc5jb/PG7H7lb7BM9er3M+6e/fey/OnHvh4VTB93kCo8ykE3gAEFAHwBjTym1TFb0rz8HTYx+bNm594btlix7btuzhw6ChOrp5EJmVz/dZdvYDn/v27XCvJJz0rn1t3XuBk+v49buTFc/rQbnYccCAuu5RKv+T7AnH/1nUS/M6x1W4bpz0juHn3x5EJ3/f66niFgEJAIaAQUAi8dATu36cg3p9De7Y94WdU53ts3XWAK1HZfHPnPtfyU3A+upvt9qeIStehP8PmPUqy43A6tPuZ6vSgnlt24uoXxdUX6bdUaeCbpblccjzI1t0H8Y3NQU9cuColVG8VAjUDAUUA1Ix2UqV8RgRKEn0YZfo+P/nJW/zsv37OL3/5yyeev/j5L/jdH9+jfovOLNrhRHbZrZfHXldXj3u3SQ91Ze74QYxdfJC8slvVHfV8vrt3m3xfe8xqvcsf/mXKXs8E7vxABuBuWQ4HZ3binV/8hpajN1B4887zKaM6i0JAIaAQUAgoBPQUAVn9DzxgQ62/vMPbb/+Un//iF0/4GVV9j9//9VOmbb9MyfW7ZPk70KXBu/zuoxZsOherkQL6Uc3bJHgdoHODf/LOrx71m37+Xz/lrbd+wltv/4yf/+LR33716/foN2cHadduvxQ/qjjBm7Fta/Grd2sxc+dlyr5RCw/6YT+qFDUNAUUA1LQWU+X9VgRKEn0Z0+pfvPVfv6eheR+s59gwd+5c7WljY8Oc2TOZOHoIFk1q8Yd3fsn/ftAY6z2e6G6+ukiAe9cKOTK/L+/+8c+0Hr+F7NJvvrWOP+rHe3fRxZxn6uAutO07GdewzB+8AnHvejEXtltjYd6WKatPUqqo+B/VNOrPCgGFgEJAIaD/CAgBEGQ/j8//+mt+++dP6DlyItY2D32NSp9DXsXvWLBsLS6Bady8fY/CWG/mjOyKZd/xOPhlcFtvQgDuUpQWhv3mVcyda4NNhd80Z9Z0+pg34H9+/Uv+9G8Dhoz7ijmVdbWR45Zx9HwQJbdfjg91NTOKddMG0bpzf7afi+D6bUUA6P8do0qojwgoAkAfW0WV6Qcj8IAAeOfvjF55hm+qyU2/f+8OWeHujG//Bb/55Tt8avYll5KLn3pN0Qv4toemJ/Adx3zb/+99nc/+GV3479/9kdbj7b6DALiv6Rc8/Xzlv3+bxsH9O7e4WlqCrqSMW98xaH9r3e7f49aNryku1nH12s3vZP/Lz/X0kj/6S2U9Hv1WfVIIKAQUAgoBhcCrROABAfDer3m3VkeOBaVy69vdhAfFvXf3Nl+Xyfh7VSMEHvxQzZtvHX+rOR7RNtKe1f34w767c62Y0ytG8J8//YHPzMfiFZf/gxcNnq0E316H+3fvcP1qKcW6Um58c+db/Y4fit+zlVMdpRCo2QgoAqBmt58q/WMIVCUARi534EY1BID85f7tUi7tncFnf/oNf/h3Mza6JWoDyc2vdaQmxJGamU+JLpcI/8s4O7tw2S+MrKKvqczOv3f3FoVZyQT6eHLO6QxOzu54B4STkV/yvRj9Wzeukhblx/IRZvzuN3/AsP88LgVEkJpdxO07d7lZmk9yQgLpuUXo8jMJvnIBZ2c3vIOjKSirmHTfv8uNq4UkRodyxfM8TmcccDjjxHlPbyLi0ii7UTU07z53bpSRnpxAXFI6pdfL0x/u3fmG/Ixk4hNS0V27yfWSfKJDfHE754STXC8gnMyCskfTBe7doawgk7i4ONJzJZdRPKD73L1Rqp0/KSOX6ze+QZebQpCPJ85OTri4XyQoMoGiqzer1R64f/cbCjITCbhykXNOTrh6XCY8PoOy69cpzk0nPiGJwpLr4ueoh0JAIaAQUAgoBF46Ao8SAB04EpDMN8+YSnfn5lUyUxOJT0qj5Otb2lh2784N8jNTSUhKR3f1OtdK8ogN88fd5SxnXdzw8g8r9y2qu8b9+9y6XkpaXDheHm44Op7F7cIlgqMSnzrOfh/Abl8r5tTy4fz7T38oXyyJya0Y66uc5d5drulySUqIJzWrkG8eW1gQvMqKckmKjyctu5BvNL2A+9y6UUJ6ciLJGflcu3GdouwUAr0vcu6sEy7nPQmOLK9D1SCJu7dukJeRTFxCMgWlNzQ/4t69WxTnZZCYmEJBydfcuFpMUnQIHm7OOJ1zwdM7kKTMAm5Wq1Nwn9viE8VHaPidPevMxSsBJGYWcu3rUrLTEklMzXzMj6pSd/VWIVBDEVAEQA1tOFXs6hF4VgIAbhLlsRnj9/+HX75Xh8VHwzQCIO6iPX1aGtB92BTmWY/g87/9np++/VP++28NmLXDjbK797lzs4RAx+0M7WjIe3/4FT99+20tD/D37/4bi74TOXo5lmu3K6mC6stZ+W1a0FlGWTbgH3/+HT/96c/47f/+jU8+b0jvaVvJyC8i8vRq2rUyps/kRViP7sE//vtX2nF//tiYdWcjuXn7NtnRnqywGkTjWu/z21/+F2+//TZvvfUWP/vFb/iwQSumrj5CStH18kveu0NxxFlGdjGladthnAlK5859+Do/AduxnWhq2otNx4+zakpfPv/H//IzOdfbP+V37/6b9sNm4xqaSeUYKqkL59ZNoFGDxgxfeIgSSQG4d5fi0NMM6WRK26HWHDm0l/E9Tfjr/7zDT99+i7d/+kv++lEjRthsIyqn7BH2/u7NUkKddzK4XVPe/f2vePutt8vr0KgNNuvtWDl9MIbG7bA7HoDadaDSgtSrQkAhoBBQCLxMBH4MAZAf6cGkXi1p2n4wR7xSuHX3Pl8Xh2M7oQ+mloPZsmcfK60GUO/f/8fPfybj78/47Z8/oN3A6TiHpHNDBuwHj/uUZcdgb/sVrer/h9//qnz8/9nP3+HvnzVmpM0WQtKKuF0dcfDgHN/+5lkIgPs3SvDev4C2Jsb0sdpC3GNj+52bxbhun0cbo6YMst5GbL4sAHxDasgJRnZuTbeR87Hfu4mxPUz42//8utxX+K93+PsnTRm3aBcRGSUPFgxK08JYMqYzBiadWHcqmGu373PzagoHlnyJuXk3Fm/chd3iCRjX+YBfadoFb/OrP7yHceeR7D8fQdk3j6YqXCtI5uTmObQ2+EjD76235fi/0KzLGNZvWMfEvhaY957A2ZBcHuM1vh049atCQM8RUASAnjeQKt73Q+BZCYD7d67ic2Qedf/vt/z+X03Z4JqgTUZDz6yn8V9/xW//8Cfe++c/aWzanr49O2PRricbz4Rz40YJlw4uwejjP/Ob3/+JWgam9B44lKEDemJc/2P++Lvf8J8mnbE7F/bYQF19PdKCzjG6XaNHCYA6DekzYxsZ+QUE7JnOh3/+LX/483v87R8fYWTZnd49OtKy3WBOBCSTl+jF1G5N+ONvf8N7H9albdc+jBw1msF9u2JY70P+8M4veOf/PmHaDk+ui+MgIoB+B7Go/S5/+E9L9okI4P37lGZFYNX+M975zV/4olFt/vH+v2lu0YnBw4bSra0xH/zf7/nFO/9Ni0HzCc+9rmF192ouh2Z15te/+h1mYzZSKDoK9+5Q4L0Hk0//zB/f/4j/b+8+oKOq8jiOi0L6pIdUSCOBJCS0UFVCJBB6DU3piIqKCAKuRkUE17IrKh0RULAAiyBFpQsJkbYUKUkIHVJI72Uy5btnJgQmoQXPMhT/OeedyUyGufd93uO8N7933/8GBwTg7deELn2HMHrkUCKfbEpdazPM7DwZ88lacpQVQYlWXcqRTXPpFOSGhaUtfs2eYsDQkQwb1IvQAE+c3d2p5+aIhYMfMxbvpLwyhbg5q7wqAiIgAiIgAvdEoGoA0ItVB87VeARA8oH19At1w8Y/jPlXiwDmp+9lap9W2DvVJyQogAY+frSL6MnwUSPp360Dfq62mJnb037o++w/n13xZViroTDlOJ9PjMLH2RZHN1+eiuyjP2YP6t2ZYB9XbBw86DhqOntOXfnLw/ZrFAAUZbLli5fwdalL68HTOXohp8oovfLidFZ/NBYfJxvaj5rJkeRiNNpSEvcspnNQPZzqBxDSqAENAprSpd9gRo54lk5tQ6hrY4G1cxDjP1tDamHFSMbspD8Y3y0YK5cg3l4Wqy8CWJwXz5fje+Dq6EqjgCAa+frS4qlOPDtiJIP7RhLs7YyFmYLgiLH8crjioodutKIy7yI/fjyOkPoOWDu6ExrWjaEjRtCvewf867tTz8MdJ1sLPEL78H3sRZlx4J78b5IPvV8CEgDcL3lp954I3CkA0N8TpiuEd+4A04c+jY25JQ3DX+D301n6/hzZMIc27ibUNrMnbNRMDifno1KWkJl6icyCYpKPbGD4U76YWbvSb+LnHEvORaXRoNGoST/1Bx+OjcTFxobmvSez70LetVsGbrWyamUZWRfjmfdaN2wU9oQ//ylHky6SlVeEurSgIgBwMucJcwf6T1nM5XwlKmURyZeTyc3NYPtXU2joaIF7SFcWbzlBkVKNRtcftZKMxF1M6t2MOrUtaD/iY84XlVcLADqyfPf1AGBqz0BqP14Lu/rNmLrgN1J1w/Q1GsryU1g/6xX8nCyx8Q1n6c5TKDVa9AFAdN+rAcC8agGAE7Uer4N3mwEs3fonhVf7lXf5KJ++2AkbU1MCO75IXKpuCJ+WkrRDTO7dHAtTBU8N+Qc7T6ZSrlsPVQlJf/yHMZ0aY/rE49Sxa8BMCQButTvJ6yIgAiIgAvdYwDAAcPKPYN763SSePce5czcuF5KvUGBwG54uAOjf0g1b/zAW/FYxC4A+AOjbGkXt2th6NGXy3HWczyqqOP4WprJhzkRC3K2x9mvPvF+O62cOUJfmsn3xVEI87HFpFMaHy7eRkltxzNbdZnB8y9cMeKohFrZevPzvNaTpjv9/4eeuAgBXZ1oP/uCWAYDvTQKAyEA3Hq9lSkDYsyzb9if5peX686mM03v5YHRnnKwtadr3DfYkZetDjGsBgGsQ0QYBwOwJvahrboKFQwNGvPsVxy7loNZoKNeNTlj1KeEBzpg7B/LW1zspKNOgVZWSsONrujerj23dhoyZvpSTummRdec8hVfY/s1MwgPdqF3rMdxD+/KDBAB/Ye+Rf/IgC0gA8CBvHenbXQtcCwDM6tLjhRn8tnU7O3bsqFi2b2fzLz+z5MuZDO/ejroKc+w8mjB54VaySiqmsNMFAK3dTbByD2Xmj/soMRjJrynJZvPscfg42tGw40vsTEy/WnDnatEajZJLh9fQP9QTh/qhfLr+cMVV9zusRZUigK8ZFAFUVgYAVth6PsmiXUlVAgW1MpdDv33DpBdfYNrcn0gprjq0TVuWw8ZZY3AwMaVF76n8mV+GtsoIgBsDgDp1LHl6+IeczjOYilCrJvvkRga09sLKoTEzftpHofrOAYCJlQfjZv9KlsEMC1p1CYfW/4umTuZ4NOvBT8fyUanKiN84i9ZedjgEROpHJegChsofjaqYQz/PopWHAlN7CQAqXeRRBERABETA+ALXAgB3K+qYWePp14jgkBBCqi/BwbTpNY51f5y5dgX+dgGAtYWCJ4fP4Oil/GtD3nVXqrOPb2ZkBz/qOAXzwbLfKVGqyb+0l7cGtsPRoT7Dpn/Led2X/2tFALVolAX8MnsiDR0tCen1OrtPZV3rw92IGSMAMHH05/XZm8gsvj6VsKasgLjl79PC0wGfdkP57eBFfQ2i2wYACgVBXcax9Vga1+/C1FJ44b+8M6gtFtb1GDtjJTmFKsryL7Ji+nC86zrSduCbxCZl6W+HrLRR5l/gm/dH4GFtIgFAJYo8PlICEgA8UptTVuZaAPBYLWqbmGFpaVltscDc3AxTMwvcGrbmtU++51zW9Qr2lQGAU5MeLI+5ZPCFW0tx1hn+NToMW2tb2gx6i59++53YmBhiKpfYWLZt/J6RzzTCws6VER+tJ7tYrQ8J9Ffl9SMFdKMFKhbdaATdT5UAwHAawGsBgA3uLZ5j+6n0ahtYi0atQllWhlJZjlqtRqVSUVqUx+Uz8ezZsobo0RHY1DaleY83OJJXevsAoEcgJpZ1Gf7xxmq3L2goTI3jpYggFLYNif4xVl8L4fYjAOpi6daWBduPVxkaqZuB4dTu5YR7W+Ea3IkfDuaiLM1g7ccjqaewJnTQuxxNu7499Cus1VJwNo5xnfyxdPCTEQDV9gJ5KgIiIAIiYDwBwwDAxNyOBkEhhLZsScvqS2go4QNeY+O+c9e+fN86AGiFvY0bIz5aTUqhukp9nPKLe5nYpzl17BoxbeEWfQBwKWY5vVvWx9q1CeNnLmLbrt3Xz0V05ySxsaz6fArNPW1xDuzO8l0JlKkrLlZUnoMYPlaej1RXvNcBQOdANxwatmfu5hOUGFb7U5WQuGk2YQGueIcOZNPes6jUWm4dAPTExc6Rrq/O4kRGicG5G6gzEvn85UisrV0Z+e63ZBcoKTj/B9HPtsXJyY8XPll5wwgJ3cWSwxvn0qGBPfVC+8gIgOo7hjx/6AUkAHjoN6GsgKHAtQCgtiX+LcJ5buhQhg0bVrEMH86oMWOZMOUdvvz6R2IOnyK7yOBKN1AZANRrO4i1h7INDsIaclP2M7F7EyxqP4GVvTOeXt74eHvjXbn4+ODtVR8Ha3Met3Cg56SvSc1I47/b1rLkq4UsXGiwLFrMqs37yS4qv3MAUNcOrw7jOHghx3BVK37XqinMSubgjnV8Nn0qY4YOILJjGK2aBeNTzwWFhQm1HjOhWfeaBQBm1m68uiCWqnVyNBSl7+OVzsEobPx5+4eaBQCKBp34cY/uysf1q/larZrTsT8S0cAKl8YRfH8gh7L8Cyx8PRJ7S0e6jp/H+WLDWQt0q6mlPPMkM4a2xdbJXwKAG/cCeUUEREAERMBIAtcCADdLnPw6Mmfd75w8dYpTN1nOXEgmv/j6ecbtAgBHuwaMn7+RjKoHYNSX9zO5Xygmdg2ZtnCzPgA4snYW7f3t0RX8c3LxuH4eYnA+4uleF0vT2ti5t2PWpkNkZV1i96bVLF5kcC6iOy9Z9DWbYo+RW1o1eNBx3vsAwB23kO58G5dEmcG5AqpSkjbPJTzIFa/QKDbWIABwdXAj6q1FnNGNdjTYFzRZp5g9vhs2ugDgnW/IKlCSfvQ3XuwUgEO9Frz79XYKqpmj1XAxbhVRoe7UlwDAQFN+fVQEJAB4VLakrIde4FoAYOHBmJmryMrLp7Cw8PpSVERxSal+ij3DA0QlX2UA4NluCD8fzTU4iGjIuRzLyxGBWJiY4xnUiojIrnTtepOlSxcie/bn3fmbSL14lJnDO+Biq0ChMFhsHQkdNI3jyYWoC9NZ8Y++2Fk7EHmzEQDOdnh3fJXDF6sFAFo1ORcO8dnrAwnwsMfSwhwzcwvsnFzxb9yCTj360C28KYon7iIAsHHntUVx1Yrd/LUAwNq/M6vjzt4QAJyJ/YEI3+sBQGnOWea88gy2Fk50f30hFwzul6zYLlrKcxL458insXfylyKAlTurPIqACIiACBhdwDAAcAnqxeq7LAJ48xoArXCy82PCwl/I1M2oY/CjubyfKdcCgIoRAPtXfkI7H2t9xfqmbcLo0qXLLc5HIuk75DVW70siJXEbr/ZuhaONwbmIQoG1XV16T5pDYmbVL866Lvw/A4CbFgEM9MC9SU9W7E1CWS0AOH2XAYCbgzuDohdz9mYBwGvdKkYAXA0A0g5tZEy4P/b1WzJt2U4KbxIAJO9bw6DW9fBsKSMADHZH+fUREZAA4BHZkLIaFQLXA4B6vPDJz5SoDW7irwFSlQDgSNUAIC9lP5O6N8HGxpmB764g/sIV0tPTb7FkkFtQQqmumMyPC5j+ztu8/bbBEv0eX363lbS8sjuPALhFAKCrYPvDjOF4WJtj6x7AwHFv89V3a9i2M4ZDxxJISbvML3PH4Wxqqh8BcLgGtwCY3YcAoKwomWVv9aGupS3tR31MQo7SIHjRbTQtpSmH+Ue/ZigcZQRADXZjeYsIiIAIiMA9EqgaAPRk1YGzVW51u12ztxsBoAsAXr9jAFAxAuDo2s8J87fHITCS2Wv2kJx2q3ORK2RkZlOsVFGcmcTPy2bzXrTBuYjuvCT6fZZtiCOjSFXt2Hs3AcA4fF3r0mrw+zcUAVQWp/L9jNF4OVrfOAvAfQoAcuK381rPEOxdgpg4ez3ZV+tAVW473WjFUzu+pUews4wAqESRx0dKQAKAR2pzysrcuwCgogbAZ8+HY6ew46mRn5KYXnwDuEZVRlZaCley8lCqNWi1GsrLSikpLqa42lJaVq4v9HPHGgC3CAAyEnYxrqMP5gp3Br65mHNZRfp75Co7pSnOZOW0gShqm9C020QOPaABQLmygN8Xv0FDRyu8249mR3yWQQEk3fd/FSmH1hPV3AVzqQFQuXnlUQREQARE4D4IPAgBwKXYFfRt5YmNa1PeWbadnOpXsAFlUS4pKankFJToR+LpvtQqy0pvOBfRnZuUKVVVj7tXXWs0AqA4i22zX8HPtS4t+kVz8FxWlWkAS/NOM39yFC42CtqPrjYN4H0KAIqvHOOzl7vi4uBGr4lfkpBRXKVugLY8nx3L3qOJqxUeMgvAffhfJk3eawEJAO61sHy+UQXuXQAAmtJcti2YgJ+TAkf/Dsz99ai+qE7lCmo1SlKOb2Hy8D506z+SRb8epeh6KdrKt93wqAsAvnurn/4WgM6vzCM5t7TiPZVFAG8RAFw6tIlBLZwwd2rExPnbqxTu06qVpJ3YwvPhDXmiVh2aRI7nQM6diwDejxEAKrWazD/XEdXKCws7X8Z/vo6U3IrpAXUBSmHmWZZPH4abVR1MZBaAG/YfeUEEREAERMB4Ag9CAFCQcpD3nmuPg8KWtkOi2ZOUTrnh7Dnl+ez6/l9Ede/EcxM+Zu+pdFSGQ+xryFWTAICyHPYsnUqQmwN+T41gw5EL1/ui1ZByZBPjujfBytyCsAckAFCX5rD7m/do6e2EZ9PuzN/wX3J09Ye0uuLKZaSc3MGUgU+iqPO4zAJQw31F3vZwCUgA8HBtL+ntHQTuZQCAVk3qiS28FNkYMxMLQiKGsXRTHGcupnAlNZljcZt4d1RnnBXmuOuK2sQkVQkIbtV1bXEm/5k+BAeFDS37v8meE+fIzMmnvDSfA9+8id8tAoDs03FM7B6AmZktbftP5Jf98SSnXSH10ln2b1vNG4PDcLIypVat2gQ+M5aY1OI7zgJwPwIA3V0a6tJMVv9zDF525jh6NWPsO1+yfvN2tv36Ex9PepZAd1ueeLwWdex1swD8Trnq7m7tuJW9vC4CIiACIiACdyPwIAQA6rI8YpdPp7WvI1aO3gyY8Alb9h7jcmoayRdOsXP1bPq188fMTEHH5z/kyGXDqQVrvrY1CgA0JSTsWESnIDcsnBow6r2F7I8/R0rKJU7s38rMl/vh72KDidmDEwDozueyz/1B9NBwnG1sadS2F+/P/pYtO3aw4cdFvBIVhputBY/Xegz3ln35IfZStdpINTeUd4rAgyggfHGOgwAACYlJREFUAcCDuFWkT39ZIPfMXl7q6M1jlvV48dO/WAPAwxR9EcAqNQAquqQpL+Dwpvl0b+6JhakJtq6+tAvvTLfIjjTx88DCpA5OPqFMnreJDIM5bW+7QqoCdi2dqp+v19LendD2XRj79nwSUq8YBADjbygCqCrOYPOCyQS5KahjaoVXYCgRXbvR+ZknaVjfBUf3RnTs0pWGjqbUa96L/xzJQq0uJ33fD3QOdsHOryPLdyfprwrkJR9jao9AzG3cmfDVTYoAZlydBcD2JrMAWNgQ8fJcMkvVoFGREfct4YF1uXURwIpZAFwbd9LPAlBRpkFLfvKffDGhL95OCurUMcHS2hZbayssFPY0btaaEF9HzBz8mblktwQAt92h5I8iIAIiIAL3SqAyAAhxs6KiCODd1gBwx9Y/jAW/JVKm0pKfvpep/VrjZH+bGgD9dbMAXJ8GUFcbpyT7LEvfH03jenaYmlvjFdCcjpFd6Ni+FV7ONvrXAsJHsDImkVLDKfbuAqZ6ABATn1alsG/FR2kpST/Jv17piYvCFAtbZ4Jbt6dTRAeaNfLEw7cpHcPa4uniQIdRVW8BiLzDLQDPBLnhHRp1wzSACtfGRC+LJb9MS3FePLMn9OS2RQCvzgIw6t1v9NMA6vutLiUp7j+83LstTgpzTEzNsbaxRWFpgY2zD81atKC+vTn1W/VjZdxlCQDuYr+Rtz74AhIAPPjbSHp4FwKFKfF88cazdOg6gM9WxtW4ME9lE6f/WMcrAzox5NUZxJ0prHy5yqO6LJ+EuJ+JfnEgbZoF0cDHGy9vHxoFNycy6nkWro3lSn61ueyrfEL1Jxqyzu7jk/EDaBbQAC/PBoQPmErMuTQSt3zFsP69GDJ5DqfTq/VHq6U4+zxr5kTTM6wlDRv44H21H10GvsjCdXuIPxTDzHH96DHoRb7blYRSpSI3fgdTn4+i57DJbP0zWT8/cVHmORZFj6JrrwHM3XSCqncuaCnNjWf21Ofp0XMES3Yco1ijRVOczc4l79Gta08mf/kzebrKxVo1uSe2MGlUf7qPeJNdJ1Or3leoGw54fCdThnVnwJgp7EgovPZ33f2JRVkX2bpyARPHPkePbl3pM2gE075YTszWnxjTsQGWzoH8c8VeCQCq70LyXAREQAREwDgCWg2ntn/L8wO70X/0O+xKTKW8hsPrMxP/YNq4gfQa/jobDlyiXK2lOCeer6a9Qp+ew5m3cR95VQ/AaDISWDRtHJ16D2fZxoOUXfu7hsKs8/y2/DOG9epI06CGeHt54dPAnyYt2zNi0kdsO3yOomqzCtwNkrq0gD0rP2Novx4Mn/IFxy5mXztmV/kcrYorp/YyO/oFIto2w9/XB1+/ANpERPHRkvVs/WkxLw+NYtKn33FGN9uAVsnl478yddQgBo6JZlt8MuWGUzOplSQf/Jk3RkcxeNx09p5MRa3RUpB8kjlvjaZH1EiWbD5GcbmWsqKLrJ0bzYBeg/hgyS+kVptKWJN/mXVz3qJ7zyg+WbqFfIOCf5ryElJPH2LF7A8Y82x/unXrwbNjXmf+qs2s/fojnva2xefJwaw5kIZSBh5W2eTy5OEWkADg4d5+0vv7KKBRlZB6Lp59cbHsjo3jz8Tz5JeU/8UeaVEWZZN49AAxMbEcOnGGvFJVjT5Lq1GRl36Bw/viiIn9Q9+Pmv7bGjVwr9+k1VKSl0FyShqFpbp78Ko1qNWQdWI7Q9u6Y+MZyhcbEvQnTdXeJU9FQAREQARE4G8ooKW0IJOk44fYExND3L5DnEnOpOwuZ0H6v8CplWRcOs1/9+5h78GjXMrI5350407rolEryclIIy09h9LyG2c/0GpKiVv5MS3drWnceSybE7JRVT83uVMj8ncReIAFJAB4gDeOdE0E/g4CugDjwu/L6P9Ma54ZMoXd8elVhhiqlfnErfyQZq5W1Gvem7V/ZutHLfwdbGQdRUAEREAEREAE/r8CyuJ01s+dSsSTTzN2+hIS0osMRjZoKc1KYuFbg3CxtiVi9AyO6f7+/+2CfJoI3FcBCQDuK780LgIigFZDXuKvDG7ri5mVG/3Gf8TW/SdITk3j0pmT/LL83/Rp5Y2ZhR1dX53HxaLyG+YqFkUREAEREAEREAERqImApqyQvT/MpLWvE45+bXjj3yvYf+IsaWkpnPpzD1/NfJkW3k4oXJsQvWQ7+TL+vyas8p6HSEACgIdoY0lXReBRFdAoc9m88B+09HXGSmFHPR9/gkNCaBzoj7uTLQpbZ56MmsiWYxU1Cx5VB1kvERABERABERCBeyyg1ZB/+SizJkbh72aPjb0zPv6BhIQE06iBF462CpzqBTE8eiHHk/Pk6v893hzy8cYXkADA+ObSogiIwE0EyouzObh5BW++9BwRT7emSXAwTVu0onOf53hn1nJ98SGVwTzHN/kIeUkEREAEREAEREAE7iygG32YeooNS//N2MG9eKp1C4KDQwhtE0a/4a8yb9U2LuWUGNwacOePlHeIwMMiIAHAw7KlpJ8i8LcQ0FJamMPlC2dITEggMekMKek5lKnk7ru/xeaXlRQBERABERABIwpoNeXkZ1/h/JkkEhISOH32Ipm5RcgFByNuBGnK6AISABidXBoUAREQAREQAREQAREQAREQAREQAeMLSABgfHNpUQREQAREQAREQAREQAREQAREQASMLiABgNHJpUEREAEREAEREAEREAEREAEREAERML6ABADGN5cWRUAEREAEREAEREAEREAEREAERMDoAhIAGJ1cGhQBERABERABERABERABERABERAB4wtIAGB8c2lRBERABERABERABERABERABERABIwuIAGA0cmlQREQAREQAREQAREQAREQAREQAREwvoAEAMY3lxZFQAREQAREQAREQAREQAREQAREwOgCEgAYnVwaFAEREAEREAEREAEREAEREAEREAHjC0gAYHxzaVEEREAEREAEREAEREAEREAEREAEjC4gAYDRyaVBERABERABERABERABERABERABETC+gAQAxjeXFkVABERABERABERABERABERABETA6AISABidXBoUAREQAREQAREQAREQAREQAREQAeMLSABgfHNpUQREQAREQAREQAREQAREQAREQASMLiABgNHJpUEREAEREAEREAEREAEREAEREAERML6ABADGN5cWRUAEREAEREAEREAEREAEREAERMDoAhIAGJ1cGhQBERABERABERABERABERABERAB4wv8D/33uJpwaT+yAAAAAElFTkSuQmCC)"
      ]
    },
    {
      "cell_type": "markdown",
      "metadata": {
        "id": "mJ6wF08RqEG_"
      },
      "source": [
        "BERT is an encoder stack of transformer architecture. BERT-base has 12 layers in the Encoder stack while BERT-large has 24 layers in the Encoder stack. Bert-base has 110M parameters, while Bert-large has 340M parameters.\n",
        "\n",
        "BERT trains on two unsupervised tasks simultaneously. These tasks are the Masked Language Model (MLM) and Next Sentence Prediction (NSP). For MLM, It takes in a sentence with random words filled with masks, and the goal is to understand these masked tokens and assign corresponding words by understanding bidirectional context within a sentence. \n",
        "\n",
        "In the case of NSP, BERT takes in two sentences and returns if the second sentence follows from thefirst in a manner similar to a binary classification. More specifically, the inputs are fed in the form of pretrained embeddings. The BERT paper combines token embeddings, segment embeddings and position embeddings which are combined and fed as the input. The segment and position embedding are required for temporal understanding, and all these vectors are fed in simultaneously. This helps BERT understand context and thus, using these two BERT understands language in a deeper sense.\n"
      ]
    },
    {
      "cell_type": "markdown",
      "metadata": {
        "id": "OCNlqkcFwwly"
      },
      "source": [
        "# BERT Finetuning\n",
        "\n",
        "Finetuning a BERT model is the task of training the pre-trained model of BERT with the specific problem in hand. This is generally done by training the output layer of our model separately (linear/ LSTM), and adding it to BERT and re-training the entire network.\n",
        "\n",
        "In this project, we have tried using Linear and LSTM as the output layer."
      ]
    },
    {
      "cell_type": "markdown",
      "metadata": {
        "id": "L8WHGr_MKwmN"
      },
      "source": [
        "# Common Tasks (Run them before running any model)"
      ]
    },
    {
      "cell_type": "markdown",
      "metadata": {
        "id": "-tTUZomqCZ8D"
      },
      "source": [
        "## 1. Import the required libraries"
      ]
    },
    {
      "cell_type": "code",
      "metadata": {
        "colab": {
          "base_uri": "https://localhost:8080/"
        },
        "id": "caIiCMg1Cj-c",
        "outputId": "ede397d3-1a63-4272-964e-ab5b7f6c796d"
      },
      "source": [
        "!pip install transformers\n",
        "\n",
        "import numpy as np\n",
        "import pandas as pd\n",
        "import tensorflow as tf\n",
        "from transformers import BertForQuestionAnswering\n",
        "from transformers import BertTokenizer\n",
        "import transformers"
      ],
      "execution_count": 95,
      "outputs": [
        {
          "output_type": "stream",
          "text": [
            "Requirement already satisfied: transformers in /usr/local/lib/python3.6/dist-packages (3.5.1)\n",
            "Requirement already satisfied: packaging in /usr/local/lib/python3.6/dist-packages (from transformers) (20.4)\n",
            "Requirement already satisfied: numpy in /usr/local/lib/python3.6/dist-packages (from transformers) (1.18.5)\n",
            "Requirement already satisfied: regex!=2019.12.17 in /usr/local/lib/python3.6/dist-packages (from transformers) (2019.12.20)\n",
            "Requirement already satisfied: tqdm>=4.27 in /usr/local/lib/python3.6/dist-packages (from transformers) (4.41.1)\n",
            "Requirement already satisfied: sentencepiece==0.1.91 in /usr/local/lib/python3.6/dist-packages (from transformers) (0.1.91)\n",
            "Requirement already satisfied: filelock in /usr/local/lib/python3.6/dist-packages (from transformers) (3.0.12)\n",
            "Requirement already satisfied: protobuf in /usr/local/lib/python3.6/dist-packages (from transformers) (3.12.4)\n",
            "Requirement already satisfied: dataclasses; python_version < \"3.7\" in /usr/local/lib/python3.6/dist-packages (from transformers) (0.8)\n",
            "Requirement already satisfied: tokenizers==0.9.3 in /usr/local/lib/python3.6/dist-packages (from transformers) (0.9.3)\n",
            "Requirement already satisfied: requests in /usr/local/lib/python3.6/dist-packages (from transformers) (2.23.0)\n",
            "Requirement already satisfied: sacremoses in /usr/local/lib/python3.6/dist-packages (from transformers) (0.0.43)\n",
            "Requirement already satisfied: six in /usr/local/lib/python3.6/dist-packages (from packaging->transformers) (1.15.0)\n",
            "Requirement already satisfied: pyparsing>=2.0.2 in /usr/local/lib/python3.6/dist-packages (from packaging->transformers) (2.4.7)\n",
            "Requirement already satisfied: setuptools in /usr/local/lib/python3.6/dist-packages (from protobuf->transformers) (50.3.2)\n",
            "Requirement already satisfied: certifi>=2017.4.17 in /usr/local/lib/python3.6/dist-packages (from requests->transformers) (2020.11.8)\n",
            "Requirement already satisfied: urllib3!=1.25.0,!=1.25.1,<1.26,>=1.21.1 in /usr/local/lib/python3.6/dist-packages (from requests->transformers) (1.24.3)\n",
            "Requirement already satisfied: idna<3,>=2.5 in /usr/local/lib/python3.6/dist-packages (from requests->transformers) (2.10)\n",
            "Requirement already satisfied: chardet<4,>=3.0.2 in /usr/local/lib/python3.6/dist-packages (from requests->transformers) (3.0.4)\n",
            "Requirement already satisfied: joblib in /usr/local/lib/python3.6/dist-packages (from sacremoses->transformers) (0.17.0)\n",
            "Requirement already satisfied: click in /usr/local/lib/python3.6/dist-packages (from sacremoses->transformers) (7.1.2)\n"
          ],
          "name": "stdout"
        }
      ]
    },
    {
      "cell_type": "markdown",
      "metadata": {
        "id": "dRA3EhbzDC55"
      },
      "source": [
        "## 2. Download the SNLI dataset\n",
        "\n",
        "In this step, we download the SNLI dataset, extract it into the train, validation and test csv files"
      ]
    },
    {
      "cell_type": "code",
      "metadata": {
        "colab": {
          "base_uri": "https://localhost:8080/"
        },
        "id": "TpCeB97EDMkN",
        "outputId": "3ea81ed8-c111-4bd0-e0cf-e7013b829ed8"
      },
      "source": [
        "max_length = 128  # Maximum length of input sentence to the model.\n",
        "batch_size = 32\n",
        "epochs = 2\n",
        "\n",
        "# Labels in our dataset.\n",
        "labels = [\"contradiction\", \"entailment\", \"neutral\"]\n",
        "\n",
        "!curl -LO https://raw.githubusercontent.com/MohamadMerchant/SNLI/master/data.tar.gz\n",
        "!tar -xvzf data.tar.gz"
      ],
      "execution_count": 96,
      "outputs": [
        {
          "output_type": "stream",
          "text": [
            "  % Total    % Received % Xferd  Average Speed   Time    Time     Time  Current\n",
            "                                 Dload  Upload   Total   Spent    Left  Speed\n",
            "100 11.1M  100 11.1M    0     0  34.7M      0 --:--:-- --:--:-- --:--:-- 34.7M\n",
            "SNLI_Corpus/\n",
            "SNLI_Corpus/snli_1.0_dev.csv\n",
            "SNLI_Corpus/snli_1.0_train.csv\n",
            "SNLI_Corpus/snli_1.0_test.csv\n"
          ],
          "name": "stdout"
        }
      ]
    },
    {
      "cell_type": "markdown",
      "metadata": {
        "id": "pOf1YHM3FEHF"
      },
      "source": [
        "## 3. Load the datasets into pandas dataframes"
      ]
    },
    {
      "cell_type": "code",
      "metadata": {
        "colab": {
          "base_uri": "https://localhost:8080/"
        },
        "id": "VQg5dFnBKnhB",
        "outputId": "bd2c323f-df33-4f78-ea45-caf12a13e89a"
      },
      "source": [
        "\n",
        "train_df = pd.read_csv(\"SNLI_Corpus/snli_1.0_train.csv\", nrows=100000)\n",
        "valid_df = pd.read_csv(\"SNLI_Corpus/snli_1.0_dev.csv\")\n",
        "test_df = pd.read_csv(\"SNLI_Corpus/snli_1.0_test.csv\")\n",
        "\n",
        "# Shape of the data\n",
        "print(f\"Total train samples : {train_df.shape[0]}\")\n",
        "print(f\"Total validation samples: {valid_df.shape[0]}\")\n",
        "print(f\"Total test samples: {valid_df.shape[0]}\")\n",
        "\n",
        "print(f\"Sentence1: {train_df.loc[1, 'sentence1']}\")\n",
        "print(f\"Sentence2: {train_df.loc[1, 'sentence2']}\")\n",
        "print(f\"Similarity: {train_df.loc[1, 'similarity']}\")"
      ],
      "execution_count": 97,
      "outputs": [
        {
          "output_type": "stream",
          "text": [
            "Total train samples : 100000\n",
            "Total validation samples: 10000\n",
            "Total test samples: 10000\n",
            "Sentence1: A person on a horse jumps over a broken down airplane.\n",
            "Sentence2: A person is at a diner, ordering an omelette.\n",
            "Similarity: contradiction\n"
          ],
          "name": "stdout"
        }
      ]
    },
    {
      "cell_type": "markdown",
      "metadata": {
        "id": "M8CGFcnVMNkA"
      },
      "source": [
        "## 4. Clean the data"
      ]
    },
    {
      "cell_type": "code",
      "metadata": {
        "colab": {
          "base_uri": "https://localhost:8080/"
        },
        "id": "NL6R26ALMUM0",
        "outputId": "ab8d0958-43e1-4be3-9ae6-f0cb2a6d246a"
      },
      "source": [
        "print(\"Number of missing values\")\n",
        "print(train_df.isnull().sum())\n",
        "train_df.dropna(axis=0, inplace=True)\n",
        "print(\"Train Target Distribution\")\n",
        "print(train_df.similarity.value_counts())\n",
        "print(\"Validation Target Distribution\")\n",
        "print(valid_df.similarity.value_counts())"
      ],
      "execution_count": 98,
      "outputs": [
        {
          "output_type": "stream",
          "text": [
            "Number of missing values\n",
            "similarity    0\n",
            "sentence1     0\n",
            "sentence2     3\n",
            "dtype: int64\n",
            "Train Target Distribution\n",
            "entailment       33384\n",
            "contradiction    33310\n",
            "neutral          33193\n",
            "-                  110\n",
            "Name: similarity, dtype: int64\n",
            "Validation Target Distribution\n",
            "entailment       3329\n",
            "contradiction    3278\n",
            "neutral          3235\n",
            "-                 158\n",
            "Name: similarity, dtype: int64\n"
          ],
          "name": "stdout"
        }
      ]
    },
    {
      "cell_type": "code",
      "metadata": {
        "id": "tONFEVOiMf_U"
      },
      "source": [
        "train_df = (\n",
        "    train_df[train_df.similarity != \"-\"]\n",
        "    .sample(frac=1.0, random_state=42)\n",
        "    .reset_index(drop=True)\n",
        ")\n",
        "valid_df = (\n",
        "    valid_df[valid_df.similarity != \"-\"]\n",
        "    .sample(frac=1.0, random_state=42)\n",
        "    .reset_index(drop=True)\n",
        ")"
      ],
      "execution_count": 99,
      "outputs": []
    },
    {
      "cell_type": "markdown",
      "metadata": {
        "id": "WVuaOc1cM-W8"
      },
      "source": [
        "## 5. Create labels for the train, validation and test datasets"
      ]
    },
    {
      "cell_type": "code",
      "metadata": {
        "id": "EYxjSGmONH7b"
      },
      "source": [
        "train_df[\"label\"] = train_df[\"similarity\"].apply(\n",
        "    lambda x: 0 if x == \"contradiction\" else 1 if x == \"entailment\" else 2\n",
        ")\n",
        "y_train = tf.keras.utils.to_categorical(train_df.label, num_classes=3)\n",
        "\n",
        "valid_df[\"label\"] = valid_df[\"similarity\"].apply(\n",
        "    lambda x: 0 if x == \"contradiction\" else 1 if x == \"entailment\" else 2\n",
        ")\n",
        "y_val = tf.keras.utils.to_categorical(valid_df.label, num_classes=3)\n",
        "\n",
        "test_df[\"label\"] = test_df[\"similarity\"].apply(\n",
        "    lambda x: 0 if x == \"contradiction\" else 1 if x == \"entailment\" else 2\n",
        ")\n",
        "y_test = tf.keras.utils.to_categorical(test_df.label, num_classes=3)"
      ],
      "execution_count": 100,
      "outputs": []
    },
    {
      "cell_type": "markdown",
      "metadata": {
        "id": "WZDdVCeSFP6m"
      },
      "source": [
        "## 6. Sentence similarity verification method"
      ]
    },
    {
      "cell_type": "code",
      "metadata": {
        "id": "IbtCbdc1FY0p"
      },
      "source": [
        "def is_similar(sentence1, sentence2, model):\n",
        "    '''\n",
        "    Takes a sentence1 and checks if sentence2 is symantically similar to sentence1.\n",
        "    '''\n",
        "    sent = [sentence1,sentence2]\n",
        "    \n",
        "    encoded = tokenizer([sent], return_tensors='pt',add_special_tokens=True,\n",
        "            max_length=max_length,\n",
        "            return_attention_mask=True,\n",
        "            return_token_type_ids=True,\n",
        "            pad_to_max_length=True,\n",
        "            )\n",
        "\n",
        "    input_ids = np.array(encoded[\"input_ids\"], dtype=\"int32\")\n",
        "    attention_masks = np.array(encoded[\"attention_mask\"], dtype=\"int32\")\n",
        "    token_type_ids = np.array(encoded[\"token_type_ids\"], dtype=\"int32\")\n",
        "\n",
        "    x_train = [input_ids, attention_masks, token_type_ids]\n",
        "    # y_train = tf.keras.utils.to_categorical(train_df[0].label, num_classes=3)\n",
        "\n",
        "    y_pred = np.array(model.predict(x_train))[0]\n",
        "    print(y_pred)\n",
        "    idx = np.argmax(y_pred)\n",
        "    sentiment_labels = [\"contradiction\", \"entailment\", \"neutral\"]\n",
        "    print(idx)\n",
        "    print(sentiment_labels[idx])\n",
        "    print(y_pred[idx])"
      ],
      "execution_count": 101,
      "outputs": []
    },
    {
      "cell_type": "markdown",
      "metadata": {
        "id": "kI2S2_yRuxmX"
      },
      "source": [
        "# Model 1 : Plain BERT(small)"
      ]
    },
    {
      "cell_type": "markdown",
      "metadata": {
        "id": "JrZp4n57Qge_"
      },
      "source": [
        "## 1. Create BERT tokenizer"
      ]
    },
    {
      "cell_type": "code",
      "metadata": {
        "id": "boPUFWT6QnCB"
      },
      "source": [
        "tokenizer = transformers.BertTokenizer.from_pretrained(\n",
        "            \"bert-base-uncased\", do_lower_case=True\n",
        "        )"
      ],
      "execution_count": null,
      "outputs": []
    },
    {
      "cell_type": "markdown",
      "metadata": {
        "id": "GxX4jvLVQ4Mn"
      },
      "source": [
        "## 2. Encode the train data using BERT tokenizer"
      ]
    },
    {
      "cell_type": "code",
      "metadata": {
        "colab": {
          "base_uri": "https://localhost:8080/"
        },
        "id": "KZS79pl6RIs6",
        "outputId": "30f47f7d-0267-4d68-f553-2e29dff2c975"
      },
      "source": [
        "max_length = 128\n",
        "\n",
        "x_train = train_df[[\"sentence1\", \"sentence2\"]].values.astype(\"str\")\n",
        "\n",
        "encoded = tokenizer(x_train[0:100].tolist(), return_tensors='pt', add_special_tokens=True,\n",
        "            max_length=max_length,\n",
        "            return_attention_mask=True,\n",
        "            return_token_type_ids=True,\n",
        "            pad_to_max_length=True,\n",
        "            )\n",
        "\n",
        "\n",
        "#Embedding and stuff\n",
        "input_ids = np.array(encoded[\"input_ids\"], dtype=\"int32\")\n",
        "attention_masks = np.array(encoded[\"attention_mask\"], dtype=\"int32\")\n",
        "token_type_ids = np.array(encoded[\"token_type_ids\"], dtype=\"int32\")\n",
        "\n",
        "x_train = [input_ids, attention_masks, token_type_ids]\n",
        "y_train = tf.keras.utils.to_categorical(train_df[0:100].label, num_classes=3)\n",
        "\n",
        "\n",
        "# Encoded token ids from BERT tokenizer.\n",
        "input_ids = tf.keras.layers.Input(\n",
        "    shape=(max_length,), dtype=tf.int32, name=\"input_ids\"\n",
        ")\n",
        "# Attention masks indicates to the model which tokens should be attended to.\n",
        "attention_masks = tf.keras.layers.Input(\n",
        "    shape=(max_length,), dtype=tf.int32, name=\"attention_masks\"\n",
        ")\n",
        "# Token type ids are binary masks identifying different sequences in the model.\n",
        "token_type_ids = tf.keras.layers.Input(\n",
        "    shape=(max_length,), dtype=tf.int32, name=\"token_type_ids\"\n",
        ")\n",
        "\n",
        "\n",
        "#Encode the validation set\n",
        "encoded_valid = tokenizer(valid_df[[\"sentence1\", \"sentence2\"]].values.astype(\"str\").tolist(), return_tensors='pt',\n",
        "        add_special_tokens=True,\n",
        "        max_length=max_length,\n",
        "        return_attention_mask=True,\n",
        "        return_token_type_ids=True,\n",
        "        pad_to_max_length=True,\n",
        "        )\n",
        "\n",
        "input_ids_valid = np.array(encoded_valid[\"input_ids\"], dtype=\"int32\")\n",
        "attention_masks_valid = np.array(encoded_valid[\"attention_mask\"], dtype=\"int32\")\n",
        "token_type_ids_valid = np.array(encoded_valid[\"token_type_ids\"], dtype=\"int32\")\n",
        "\n",
        "x_valid = [input_ids_valid, attention_masks_valid, token_type_ids_valid]\n",
        "y_valid = tf.keras.utils.to_categorical(valid_df.label, num_classes=3)\n",
        "\n",
        "valid_data = x_valid,y_valid"
      ],
      "execution_count": null,
      "outputs": [
        {
          "output_type": "stream",
          "text": [
            "Truncation was not explicitly activated but `max_length` is provided a specific value, please use `truncation=True` to explicitly truncate examples to max length. Defaulting to 'longest_first' truncation strategy. If you encode pairs of sequences (GLUE-style) with the tokenizer you can select this strategy more precisely by providing a specific strategy to `truncation`.\n",
            "/usr/local/lib/python3.6/dist-packages/transformers/tokenization_utils_base.py:2022: FutureWarning: The `pad_to_max_length` argument is deprecated and will be removed in a future version, use `padding=True` or `padding='longest'` to pad to the longest sequence in the batch, or use `padding='max_length'` to pad to a max length. In this case, you can give a specific length with `max_length` (e.g. `max_length=45`) or leave max_length to None to pad to the maximal input size of the model (e.g. 512 for Bert).\n",
            "  FutureWarning,\n"
          ],
          "name": "stderr"
        }
      ]
    },
    {
      "cell_type": "markdown",
      "metadata": {
        "id": "ITfz9SZjTT_w"
      },
      "source": [
        "## 3. Load the BERT pre-trained model"
      ]
    },
    {
      "cell_type": "code",
      "metadata": {
        "colab": {
          "base_uri": "https://localhost:8080/"
        },
        "id": "xCLE7cOXTwws",
        "outputId": "d0e9b002-cffb-4aaa-b4f9-a3f0ac6dfdbc"
      },
      "source": [
        "# Loading pretrained BERT model.\n",
        "bert_model = transformers.TFBertModel.from_pretrained(\"bert-base-uncased\")\n",
        "\n",
        "# Freeze the BERT model to reuse the pretrained features without modifying them.\n",
        "bert_model.trainable = False\n",
        "\n",
        "sequence_output, pooled_output = bert_model(\n",
        "  input_ids, attention_mask=attention_masks, token_type_ids=token_type_ids\n",
        ")\n",
        "\n",
        "sequence_output = tf.keras.layers.Flatten()(sequence_output)\n",
        "output = tf.keras.layers.Dense(3, activation=\"softmax\")(sequence_output)\n",
        "model = tf.keras.models.Model(\n",
        "    inputs=[input_ids, attention_masks, token_type_ids], outputs=output\n",
        ")\n",
        "\n",
        "model = tf.keras.models.Model(\n",
        "    inputs=[input_ids, attention_masks, token_type_ids], outputs=output\n",
        ")\n",
        "\n",
        "model.compile(\n",
        "    optimizer=tf.keras.optimizers.Adam(),\n",
        "    loss=\"categorical_crossentropy\",\n",
        "    metrics=[\"acc\"],\n",
        ")\n",
        "model.summary()"
      ],
      "execution_count": null,
      "outputs": [
        {
          "output_type": "stream",
          "text": [
            "Some layers from the model checkpoint at bert-base-uncased were not used when initializing TFBertModel: ['mlm___cls', 'nsp___cls']\n",
            "- This IS expected if you are initializing TFBertModel from the checkpoint of a model trained on another task or with another architecture (e.g. initializing a BertForSequenceClassification model from a BertForPreTraining model).\n",
            "- This IS NOT expected if you are initializing TFBertModel from the checkpoint of a model that you expect to be exactly identical (initializing a BertForSequenceClassification model from a BertForSequenceClassification model).\n",
            "All the layers of TFBertModel were initialized from the model checkpoint at bert-base-uncased.\n",
            "If your task is similar to the task the model of the checkpoint was trained on, you can already use TFBertModel for predictions without further training.\n"
          ],
          "name": "stderr"
        },
        {
          "output_type": "stream",
          "text": [
            "Model: \"functional_11\"\n",
            "__________________________________________________________________________________________________\n",
            "Layer (type)                    Output Shape         Param #     Connected to                     \n",
            "==================================================================================================\n",
            "input_ids (InputLayer)          [(None, 128)]        0                                            \n",
            "__________________________________________________________________________________________________\n",
            "attention_masks (InputLayer)    [(None, 128)]        0                                            \n",
            "__________________________________________________________________________________________________\n",
            "token_type_ids (InputLayer)     [(None, 128)]        0                                            \n",
            "__________________________________________________________________________________________________\n",
            "tf_bert_model_2 (TFBertModel)   ((None, 128, 768), ( 109482240   input_ids[0][0]                  \n",
            "                                                                 attention_masks[0][0]            \n",
            "                                                                 token_type_ids[0][0]             \n",
            "__________________________________________________________________________________________________\n",
            "flatten_2 (Flatten)             (None, 98304)        0           tf_bert_model_2[0][0]            \n",
            "__________________________________________________________________________________________________\n",
            "dense_2 (Dense)                 (None, 3)            294915      flatten_2[0][0]                  \n",
            "==================================================================================================\n",
            "Total params: 109,777,155\n",
            "Trainable params: 294,915\n",
            "Non-trainable params: 109,482,240\n",
            "__________________________________________________________________________________________________\n"
          ],
          "name": "stdout"
        }
      ]
    },
    {
      "cell_type": "markdown",
      "metadata": {
        "id": "VZnMz__qWgRs"
      },
      "source": [
        "## 4. Train the model"
      ]
    },
    {
      "cell_type": "code",
      "metadata": {
        "colab": {
          "base_uri": "https://localhost:8080/"
        },
        "id": "oYqdCtIRWkoN",
        "outputId": "cd2a959d-de8c-40d4-9184-6695a59ff0c5"
      },
      "source": [
        "training_history = model.fit(x_train,y_train,validation_data=valid_data,epochs=2,batch_size=16, verbose=1)"
      ],
      "execution_count": null,
      "outputs": [
        {
          "output_type": "stream",
          "text": [
            "Epoch 1/2\n",
            "7/7 [==============================] - 93s 13s/step - loss: 3.0424 - acc: 0.6400 - val_loss: 6.7266 - val_acc: 0.3636\n",
            "Epoch 2/2\n",
            "7/7 [==============================] - 92s 13s/step - loss: 2.0224 - acc: 0.7300 - val_loss: 9.0143 - val_acc: 0.3706\n"
          ],
          "name": "stdout"
        }
      ]
    },
    {
      "cell_type": "markdown",
      "metadata": {
        "id": "NVhJTIFbYGkL"
      },
      "source": [
        "## 5. Save the model (Optional)"
      ]
    },
    {
      "cell_type": "code",
      "metadata": {
        "id": "_lgHiYMwYLZv"
      },
      "source": [
        "model.save_weights('BERT_Plain.h5')"
      ],
      "execution_count": null,
      "outputs": []
    },
    {
      "cell_type": "markdown",
      "metadata": {
        "id": "DXcnrgvMYUKt"
      },
      "source": [
        "## 6. Verify the model performance"
      ]
    },
    {
      "cell_type": "code",
      "metadata": {
        "colab": {
          "base_uri": "https://localhost:8080/"
        },
        "id": "e5l0qwNkYm6O",
        "outputId": "56577449-bec8-4bdd-e2ba-f6c501ba9009"
      },
      "source": [
        "is_similar(\"Charlie went to the cycle shop on Sunday\",\"Charlie was resting at home on Sunday\", model)"
      ],
      "execution_count": null,
      "outputs": [
        {
          "output_type": "stream",
          "text": [
            "[2.9220257e-09 1.0498572e-06 9.9999893e-01]\n",
            "2\n",
            "neutral\n",
            "0.9999989\n"
          ],
          "name": "stdout"
        },
        {
          "output_type": "stream",
          "text": [
            "/usr/local/lib/python3.6/dist-packages/transformers/tokenization_utils_base.py:2022: FutureWarning: The `pad_to_max_length` argument is deprecated and will be removed in a future version, use `padding=True` or `padding='longest'` to pad to the longest sequence in the batch, or use `padding='max_length'` to pad to a max length. In this case, you can give a specific length with `max_length` (e.g. `max_length=45`) or leave max_length to None to pad to the maximal input size of the model (e.g. 512 for Bert).\n",
            "  FutureWarning,\n"
          ],
          "name": "stderr"
        }
      ]
    },
    {
      "cell_type": "markdown",
      "metadata": {
        "id": "LkclRoW7dY_U"
      },
      "source": [
        "## 7. Test the model"
      ]
    },
    {
      "cell_type": "code",
      "metadata": {
        "colab": {
          "base_uri": "https://localhost:8080/"
        },
        "id": "LLqGt_cuepZ4",
        "outputId": "db9fd24c-7ed9-494d-8b6f-57c4df3edde7"
      },
      "source": [
        "encoded = tokenizer(test_df[[\"sentence1\", \"sentence2\"]].values.astype(\"str\").tolist(), return_tensors='pt',\n",
        "        add_special_tokens=True,\n",
        "        max_length=max_length,\n",
        "        return_attention_mask=True,\n",
        "        return_token_type_ids=True,\n",
        "        pad_to_max_length=True,\n",
        "        )\n",
        "\n",
        "input_ids = np.array(encoded[\"input_ids\"], dtype=\"int32\")\n",
        "attention_masks = np.array(encoded[\"attention_mask\"], dtype=\"int32\")\n",
        "token_type_ids = np.array(encoded[\"token_type_ids\"], dtype=\"int32\")\n",
        "\n",
        "x_test = [input_ids, attention_masks, token_type_ids]\n",
        "y_test = tf.keras.utils.to_categorical(test_df.label, num_classes=3)\n",
        "\n",
        "model.evaluate(x_test,y_test, verbose=1)"
      ],
      "execution_count": null,
      "outputs": [
        {
          "output_type": "stream",
          "text": [
            "/usr/local/lib/python3.6/dist-packages/transformers/tokenization_utils_base.py:2022: FutureWarning: The `pad_to_max_length` argument is deprecated and will be removed in a future version, use `padding=True` or `padding='longest'` to pad to the longest sequence in the batch, or use `padding='max_length'` to pad to a max length. In this case, you can give a specific length with `max_length` (e.g. `max_length=45`) or leave max_length to None to pad to the maximal input size of the model (e.g. 512 for Bert).\n",
            "  FutureWarning,\n"
          ],
          "name": "stderr"
        },
        {
          "output_type": "stream",
          "text": [
            "313/313 [==============================] - 90s 287ms/step - loss: 8.7918 - acc: 0.3697\n"
          ],
          "name": "stdout"
        },
        {
          "output_type": "execute_result",
          "data": {
            "text/plain": [
              "[8.791777610778809, 0.36970001459121704]"
            ]
          },
          "metadata": {
            "tags": []
          },
          "execution_count": 44
        }
      ]
    },
    {
      "cell_type": "markdown",
      "metadata": {
        "id": "Nn4FJ8EV0azm"
      },
      "source": [
        "## 8. Metrics"
      ]
    },
    {
      "cell_type": "code",
      "metadata": {
        "colab": {
          "base_uri": "https://localhost:8080/",
          "height": 295
        },
        "id": "7R2KiuJfqkdA",
        "outputId": "6e6777d7-4c53-4272-8d8e-1d4ea26e6475"
      },
      "source": [
        "from sklearn import metrics\n",
        "import matplotlib.pyplot as plt\n",
        "\n",
        "y_pred = model.predict(x_test, verbose=1)\n",
        "\n",
        "print(\"Confusion Matrix:\\n\")\n",
        "print(metrics.confusion_matrix(np.argmax(y_test, axis=1), np.argmax(y_pred, axis=1)))\n",
        "\n",
        "\n",
        "loss_train = training_history.history['loss']\n",
        "loss_val = training_history.history['val_loss']\n",
        "epochs = np.arange(1,3)\n",
        "plt.plot(epochs, np.array(loss_train), 'g', label='Training loss')\n",
        "plt.plot(epochs, np.array(loss_val), 'b', label='validation loss')\n",
        "plt.title('Training and Validation loss')\n",
        "plt.xlabel('Epochs')\n",
        "plt.ylabel('Loss')\n",
        "plt.legend()\n",
        "plt.show()\n"
      ],
      "execution_count": null,
      "outputs": [
        {
          "output_type": "display_data",
          "data": {
            "image/png": "[encoded data removed]",
            "text/plain": [
              "<Figure size 432x288 with 1 Axes>"
            ]
          },
          "metadata": {
            "tags": [],
            "needs_background": "light"
          }
        }
      ]
    },
    {
      "cell_type": "code",
      "metadata": {
        "colab": {
          "base_uri": "https://localhost:8080/"
        },
        "id": "5FhIJJ_6ypgp",
        "outputId": "41fc49df-f3dd-438c-b57c-0cc207161dfc"
      },
      "source": [
        ""
      ],
      "execution_count": null,
      "outputs": [
        {
          "output_type": "stream",
          "text": [
            "[2 1 0 ... 0 1 2]\n",
            "[[0. 0. 1.]\n",
            " [0. 1. 0.]\n",
            " [1. 0. 0.]\n",
            " ...\n",
            " [1. 0. 0.]\n",
            " [0. 1. 0.]\n",
            " [0. 0. 1.]]\n"
          ],
          "name": "stdout"
        }
      ]
    },
    {
      "cell_type": "markdown",
      "metadata": {
        "id": "lOeBcOdhvCVR"
      },
      "source": [
        "# Model 2 : Bi-directional LSTM"
      ]
    },
    {
      "cell_type": "markdown",
      "metadata": {
        "id": "OLKL3EGGfgyB"
      },
      "source": [
        "## 1. Create word embeddings"
      ]
    },
    {
      "cell_type": "code",
      "metadata": {
        "colab": {
          "base_uri": "https://localhost:8080/"
        },
        "id": "3G3DOeoSfli2",
        "outputId": "af670891-4d04-4c98-a687-bc17c2eeaaa0"
      },
      "source": [
        "!wget -c \"https://s3.amazonaws.com/dl4j-distribution/GoogleNews-vectors-negative300.bin.gz\""
      ],
      "execution_count": null,
      "outputs": [
        {
          "output_type": "stream",
          "text": [
            "--2020-11-28 01:38:02--  https://s3.amazonaws.com/dl4j-distribution/GoogleNews-vectors-negative300.bin.gz\n",
            "Resolving s3.amazonaws.com (s3.amazonaws.com)... 52.217.74.22\n",
            "Connecting to s3.amazonaws.com (s3.amazonaws.com)|52.217.74.22|:443... connected.\n",
            "HTTP request sent, awaiting response... 200 OK\n",
            "Length: 1647046227 (1.5G) [application/x-gzip]\n",
            "Saving to: ‘GoogleNews-vectors-negative300.bin.gz’\n",
            "\n",
            "GoogleNews-vectors- 100%[===================>]   1.53G  65.8MB/s    in 23s     \n",
            "\n",
            "2020-11-28 01:38:25 (69.3 MB/s) - ‘GoogleNews-vectors-negative300.bin.gz’ saved [1647046227/1647046227]\n",
            "\n"
          ],
          "name": "stdout"
        }
      ]
    },
    {
      "cell_type": "markdown",
      "metadata": {
        "id": "_unQ00uKvxOb"
      },
      "source": [
        "# Model 3 : BERT-large pre-trained on SQuAD"
      ]
    },
    {
      "cell_type": "markdown",
      "metadata": {
        "id": "jYfEa2NSRAQV"
      },
      "source": [
        "## 1. Create BERT-large tokenizer"
      ]
    },
    {
      "cell_type": "code",
      "metadata": {
        "colab": {
          "base_uri": "https://localhost:8080/",
          "height": 66,
          "referenced_widgets": [
            "eb6cafa56d8847189e1b91cd2d4cfda8",
            "7f16cab5437e471581c49d2e3eafe0f8",
            "5014c7697e374c729ecf830ce99ba584",
            "55962961d4864c25b1f9c65578446c82",
            "cbe2e3b0f7d742128ce7abbfcb3ca26f",
            "470bdc4eac3b45a689a51bc5dea662c1",
            "da83bfd86d4745dea765bd89adddcd25",
            "fe53240ac04d43da85c09d3a196276b0"
          ]
        },
        "id": "B-QhJk5JRGEk",
        "outputId": "8e720ab3-b4d4-42a2-f77d-5b6f77963cad"
      },
      "source": [
        "tokenizer_bl = BertTokenizer.from_pretrained('bert-large-uncased-whole-word-masking-finetuned-squad', do_lower_case=True)"
      ],
      "execution_count": null,
      "outputs": [
        {
          "output_type": "display_data",
          "data": {
            "application/vnd.jupyter.widget-view+json": {
              "model_id": "eb6cafa56d8847189e1b91cd2d4cfda8",
              "version_minor": 0,
              "version_major": 2
            },
            "text/plain": [
              "HBox(children=(FloatProgress(value=0.0, description='Downloading', max=231508.0, style=ProgressStyle(descripti…"
            ]
          },
          "metadata": {
            "tags": []
          }
        },
        {
          "output_type": "stream",
          "text": [
            "\n"
          ],
          "name": "stdout"
        }
      ]
    },
    {
      "cell_type": "markdown",
      "metadata": {
        "id": "agAA_d0GROBH"
      },
      "source": [
        "## 2. Encode the train data using BERT-large tokenizer"
      ]
    },
    {
      "cell_type": "code",
      "metadata": {
        "colab": {
          "base_uri": "https://localhost:8080/"
        },
        "id": "l0WVFyWDRVAD",
        "outputId": "bdf7c04a-cde0-4f02-9e56-00f025417533"
      },
      "source": [
        "max_length = 128\n",
        "\n",
        "x_train = train_df[[\"sentence1\", \"sentence2\"]].values.astype(\"str\")\n",
        "\n",
        "encoded = tokenizer_bl(x_train[0:100].tolist(), return_tensors='pt', add_special_tokens=True,\n",
        "            max_length=max_length,\n",
        "            return_attention_mask=True,\n",
        "            return_token_type_ids=True,\n",
        "            pad_to_max_length=True,\n",
        "            )\n",
        "\n",
        "\n",
        "#Embedding and stuff\n",
        "input_ids = np.array(encoded[\"input_ids\"], dtype=\"int32\")\n",
        "attention_masks = np.array(encoded[\"attention_mask\"], dtype=\"int32\")\n",
        "token_type_ids = np.array(encoded[\"token_type_ids\"], dtype=\"int32\")\n",
        "\n",
        "x_train = [input_ids, attention_masks, token_type_ids]\n",
        "y_train = tf.keras.utils.to_categorical(train_df[0:100].label, num_classes=3)\n",
        "\n",
        "\n",
        "# Encoded token ids from BERT tokenizer.\n",
        "input_ids = tf.keras.layers.Input(\n",
        "    shape=(max_length,), dtype=tf.int32, name=\"input_ids\"\n",
        ")\n",
        "# Attention masks indicates to the model which tokens should be attended to.\n",
        "attention_masks = tf.keras.layers.Input(\n",
        "    shape=(max_length,), dtype=tf.int32, name=\"attention_masks\"\n",
        ")\n",
        "# Token type ids are binary masks identifying different sequences in the model.\n",
        "token_type_ids = tf.keras.layers.Input(\n",
        "    shape=(max_length,), dtype=tf.int32, name=\"token_type_ids\"\n",
        ")\n",
        "\n",
        "\n",
        "#Encode the validation set\n",
        "encoded_valid = tokenizer_bl(valid_df[[\"sentence1\", \"sentence2\"]].values.astype(\"str\").tolist(), return_tensors='pt',\n",
        "        add_special_tokens=True,\n",
        "        max_length=max_length,\n",
        "        return_attention_mask=True,\n",
        "        return_token_type_ids=True,\n",
        "        pad_to_max_length=True,\n",
        "        )\n",
        "\n",
        "input_ids_valid = np.array(encoded_valid[\"input_ids\"], dtype=\"int32\")\n",
        "attention_masks_valid = np.array(encoded_valid[\"attention_mask\"], dtype=\"int32\")\n",
        "token_type_ids_valid = np.array(encoded_valid[\"token_type_ids\"], dtype=\"int32\")\n",
        "\n",
        "x_valid = [input_ids_valid, attention_masks_valid, token_type_ids_valid]\n",
        "y_valid = tf.keras.utils.to_categorical(valid_df.label, num_classes=3)\n",
        "\n",
        "valid_data = x_valid,y_valid"
      ],
      "execution_count": null,
      "outputs": [
        {
          "output_type": "stream",
          "text": [
            "Truncation was not explicitly activated but `max_length` is provided a specific value, please use `truncation=True` to explicitly truncate examples to max length. Defaulting to 'longest_first' truncation strategy. If you encode pairs of sequences (GLUE-style) with the tokenizer you can select this strategy more precisely by providing a specific strategy to `truncation`.\n",
            "/usr/local/lib/python3.6/dist-packages/transformers/tokenization_utils_base.py:2022: FutureWarning: The `pad_to_max_length` argument is deprecated and will be removed in a future version, use `padding=True` or `padding='longest'` to pad to the longest sequence in the batch, or use `padding='max_length'` to pad to a max length. In this case, you can give a specific length with `max_length` (e.g. `max_length=45`) or leave max_length to None to pad to the maximal input size of the model (e.g. 512 for Bert).\n",
            "  FutureWarning,\n"
          ],
          "name": "stderr"
        }
      ]
    },
    {
      "cell_type": "markdown",
      "metadata": {
        "id": "wxma6Dg1Stw2"
      },
      "source": [
        "## 3. Load the BERT-large pre-trained model"
      ]
    },
    {
      "cell_type": "code",
      "metadata": {
        "colab": {
          "base_uri": "https://localhost:8080/",
          "height": 747,
          "referenced_widgets": [
            "b1aae569eb5f41aab511131d219a3cf5",
            "7c79af664d944c9aace19a908f2bb0ae",
            "033bd0ee03e6474a8214f51732a716fc",
            "f1f09220b71a43b8930340605b397050",
            "ff73979bb12d43b69eb36595f25b5fca",
            "a8f7ec4feff4405481d7caf7c00aa49d",
            "4b5aed0e1be849a59c5117a47efcddae",
            "74fc8793e41944ed8f42c23315c953b5",
            "58cb01057f48417a8f386f5b12857c6c",
            "120c8c6d848749a0a20dcce9acdb09f0",
            "35ee0f8ebb354b378b19bf9423384ef8",
            "e474751191d6484498f023c92291eb59",
            "c6f35cd0fc7f47429a583865f6195afa",
            "dc7cd749aa0043ff9c69d31712e20ef5",
            "3fb2ac2dba34430d8c6c8eb2513a9eb8",
            "b4f9bf4c56104945b673c5c40f4be7f1"
          ]
        },
        "id": "Bz7AhPoYS0Nu",
        "outputId": "708e1274-695a-4de9-a44e-b542a39e6fb9"
      },
      "source": [
        "# Loading pretrained BERT model.\n",
        "bert_model = transformers.TFBertModel.from_pretrained(\"bert-large-uncased-whole-word-masking-finetuned-squad\")\n",
        "\n",
        "# Freeze the BERT model to reuse the pretrained features without modifying them.\n",
        "bert_model.trainable = False\n",
        "\n",
        "sequence_output, pooled_output = bert_model(\n",
        "  input_ids, attention_mask=attention_masks, token_type_ids=token_type_ids\n",
        ")\n",
        "\n",
        "# Add trainable layers on top of frozen layers to adapt the pretrained features on the new data.\n",
        "bi_lstm = tf.keras.layers.Bidirectional(\n",
        "tf.keras.layers.LSTM(64, return_sequences=True)\n",
        ")(sequence_output)\n",
        "\n",
        "# Applying hybrid pooling approach to bi_lstm sequence output.\n",
        "avg_pool = tf.keras.layers.GlobalAveragePooling1D()(bi_lstm)\n",
        "max_pool = tf.keras.layers.GlobalMaxPooling1D()(bi_lstm)\n",
        "concat = tf.keras.layers.concatenate([avg_pool, max_pool])\n",
        "dropout = tf.keras.layers.Dropout(0.3)(concat)\n",
        "\n",
        "output = tf.keras.layers.Dense(3, activation=\"softmax\")(dropout)\n",
        "\n",
        "model_bl = tf.keras.models.Model(\n",
        "    inputs=[input_ids, attention_masks, token_type_ids], outputs=output\n",
        ")\n",
        "\n",
        "model_bl.compile(\n",
        "    optimizer=tf.keras.optimizers.Adam(),\n",
        "    loss=\"categorical_crossentropy\",\n",
        "    metrics=[\"acc\"],\n",
        ")\n",
        "model_bl.summary()"
      ],
      "execution_count": null,
      "outputs": [
        {
          "output_type": "display_data",
          "data": {
            "application/vnd.jupyter.widget-view+json": {
              "model_id": "b1aae569eb5f41aab511131d219a3cf5",
              "version_minor": 0,
              "version_major": 2
            },
            "text/plain": [
              "HBox(children=(FloatProgress(value=0.0, description='Downloading', max=443.0, style=ProgressStyle(description_…"
            ]
          },
          "metadata": {
            "tags": []
          }
        },
        {
          "output_type": "stream",
          "text": [
            "\n"
          ],
          "name": "stdout"
        },
        {
          "output_type": "display_data",
          "data": {
            "application/vnd.jupyter.widget-view+json": {
              "model_id": "58cb01057f48417a8f386f5b12857c6c",
              "version_minor": 0,
              "version_major": 2
            },
            "text/plain": [
              "HBox(children=(FloatProgress(value=0.0, description='Downloading', max=1341090760.0, style=ProgressStyle(descr…"
            ]
          },
          "metadata": {
            "tags": []
          }
        },
        {
          "output_type": "stream",
          "text": [
            "\n"
          ],
          "name": "stdout"
        },
        {
          "output_type": "stream",
          "text": [
            "Some layers from the model checkpoint at bert-large-uncased-whole-word-masking-finetuned-squad were not used when initializing TFBertModel: ['qa_outputs']\n",
            "- This IS expected if you are initializing TFBertModel from the checkpoint of a model trained on another task or with another architecture (e.g. initializing a BertForSequenceClassification model from a BertForPreTraining model).\n",
            "- This IS NOT expected if you are initializing TFBertModel from the checkpoint of a model that you expect to be exactly identical (initializing a BertForSequenceClassification model from a BertForSequenceClassification model).\n",
            "All the layers of TFBertModel were initialized from the model checkpoint at bert-large-uncased-whole-word-masking-finetuned-squad.\n",
            "If your task is similar to the task the model of the checkpoint was trained on, you can already use TFBertModel for predictions without further training.\n"
          ],
          "name": "stderr"
        },
        {
          "output_type": "stream",
          "text": [
            "Model: \"functional_15\"\n",
            "__________________________________________________________________________________________________\n",
            "Layer (type)                    Output Shape         Param #     Connected to                     \n",
            "==================================================================================================\n",
            "input_ids (InputLayer)          [(None, 128)]        0                                            \n",
            "__________________________________________________________________________________________________\n",
            "attention_masks (InputLayer)    [(None, 128)]        0                                            \n",
            "__________________________________________________________________________________________________\n",
            "token_type_ids (InputLayer)     [(None, 128)]        0                                            \n",
            "__________________________________________________________________________________________________\n",
            "tf_bert_model_4 (TFBertModel)   ((None, 128, 1024),  335141888   input_ids[0][0]                  \n",
            "                                                                 attention_masks[0][0]            \n",
            "                                                                 token_type_ids[0][0]             \n",
            "__________________________________________________________________________________________________\n",
            "bidirectional_1 (Bidirectional) (None, 128, 128)     557568      tf_bert_model_4[0][0]            \n",
            "__________________________________________________________________________________________________\n",
            "global_average_pooling1d_1 (Glo (None, 128)          0           bidirectional_1[0][0]            \n",
            "__________________________________________________________________________________________________\n",
            "global_max_pooling1d_1 (GlobalM (None, 128)          0           bidirectional_1[0][0]            \n",
            "__________________________________________________________________________________________________\n",
            "concatenate_1 (Concatenate)     (None, 256)          0           global_average_pooling1d_1[0][0] \n",
            "                                                                 global_max_pooling1d_1[0][0]     \n",
            "__________________________________________________________________________________________________\n",
            "dropout_222 (Dropout)           (None, 256)          0           concatenate_1[0][0]              \n",
            "__________________________________________________________________________________________________\n",
            "dense_4 (Dense)                 (None, 3)            771         dropout_222[0][0]                \n",
            "==================================================================================================\n",
            "Total params: 335,700,227\n",
            "Trainable params: 558,339\n",
            "Non-trainable params: 335,141,888\n",
            "__________________________________________________________________________________________________\n"
          ],
          "name": "stdout"
        }
      ]
    },
    {
      "cell_type": "markdown",
      "metadata": {
        "id": "Om7mDhzUTlVU"
      },
      "source": [
        "## 4. Train the model"
      ]
    },
    {
      "cell_type": "code",
      "metadata": {
        "colab": {
          "base_uri": "https://localhost:8080/"
        },
        "id": "UhkpZO6JT4g6",
        "outputId": "244c3163-4c38-4ec9-8505-e329760cd468"
      },
      "source": [
        "training_history = model_bl.fit(x_train,y_train,validation_data=valid_data,epochs=2,batch_size=16, verbose=1)"
      ],
      "execution_count": null,
      "outputs": [
        {
          "output_type": "stream",
          "text": [
            "Epoch 1/2\n",
            "7/7 [==============================] - 293s 42s/step - loss: 1.2248 - acc: 0.4000 - val_loss: 1.1042 - val_acc: 0.3339\n",
            "Epoch 2/2\n",
            "7/7 [==============================] - 287s 41s/step - loss: 1.2388 - acc: 0.3400 - val_loss: 1.1328 - val_acc: 0.3287\n"
          ],
          "name": "stdout"
        }
      ]
    },
    {
      "cell_type": "markdown",
      "metadata": {
        "id": "Yf6fFn_lUIPE"
      },
      "source": [
        "## 5. Finetune the model"
      ]
    },
    {
      "cell_type": "code",
      "metadata": {
        "colab": {
          "base_uri": "https://localhost:8080/"
        },
        "id": "gDzF2POcULdc",
        "outputId": "1cfb8adf-917d-4184-9930-344ad77ec189"
      },
      "source": [
        "# Unfreeze the bert_model.\n",
        "bert_model.trainable = True\n",
        "# Recompile the model to make the change effective.\n",
        "model_bl.compile(\n",
        "    optimizer=tf.keras.optimizers.Adam(1e-5),\n",
        "    loss=\"categorical_crossentropy\",\n",
        "    metrics=[\"accuracy\"],\n",
        ")\n",
        "model_bl.summary()\n",
        "\n",
        "finetuning_history = model_bl.fit(x_train,y_train, validation_data=valid_data, epochs=1,batch_size=16)"
      ],
      "execution_count": null,
      "outputs": [
        {
          "output_type": "stream",
          "text": [
            "Model: \"functional_15\"\n",
            "__________________________________________________________________________________________________\n",
            "Layer (type)                    Output Shape         Param #     Connected to                     \n",
            "==================================================================================================\n",
            "input_ids (InputLayer)          [(None, 128)]        0                                            \n",
            "__________________________________________________________________________________________________\n",
            "attention_masks (InputLayer)    [(None, 128)]        0                                            \n",
            "__________________________________________________________________________________________________\n",
            "token_type_ids (InputLayer)     [(None, 128)]        0                                            \n",
            "__________________________________________________________________________________________________\n",
            "tf_bert_model_4 (TFBertModel)   ((None, 128, 1024),  335141888   input_ids[0][0]                  \n",
            "                                                                 attention_masks[0][0]            \n",
            "                                                                 token_type_ids[0][0]             \n",
            "__________________________________________________________________________________________________\n",
            "bidirectional_1 (Bidirectional) (None, 128, 128)     557568      tf_bert_model_4[0][0]            \n",
            "__________________________________________________________________________________________________\n",
            "global_average_pooling1d_1 (Glo (None, 128)          0           bidirectional_1[0][0]            \n",
            "__________________________________________________________________________________________________\n",
            "global_max_pooling1d_1 (GlobalM (None, 128)          0           bidirectional_1[0][0]            \n",
            "__________________________________________________________________________________________________\n",
            "concatenate_1 (Concatenate)     (None, 256)          0           global_average_pooling1d_1[0][0] \n",
            "                                                                 global_max_pooling1d_1[0][0]     \n",
            "__________________________________________________________________________________________________\n",
            "dropout_222 (Dropout)           (None, 256)          0           concatenate_1[0][0]              \n",
            "__________________________________________________________________________________________________\n",
            "dense_4 (Dense)                 (None, 3)            771         dropout_222[0][0]                \n",
            "==================================================================================================\n",
            "Total params: 335,700,227\n",
            "Trainable params: 335,700,227\n",
            "Non-trainable params: 0\n",
            "__________________________________________________________________________________________________\n",
            "WARNING:tensorflow:Gradients do not exist for variables ['tf_bert_model_4/bert/pooler/dense/kernel:0', 'tf_bert_model_4/bert/pooler/dense/bias:0'] when minimizing the loss.\n",
            "WARNING:tensorflow:Gradients do not exist for variables ['tf_bert_model_4/bert/pooler/dense/kernel:0', 'tf_bert_model_4/bert/pooler/dense/bias:0'] when minimizing the loss.\n",
            "WARNING:tensorflow:Gradients do not exist for variables ['tf_bert_model_4/bert/pooler/dense/kernel:0', 'tf_bert_model_4/bert/pooler/dense/bias:0'] when minimizing the loss.\n",
            "WARNING:tensorflow:Gradients do not exist for variables ['tf_bert_model_4/bert/pooler/dense/kernel:0', 'tf_bert_model_4/bert/pooler/dense/bias:0'] when minimizing the loss.\n",
            "7/7 [==============================] - 299s 43s/step - loss: 1.1823 - accuracy: 0.3900 - val_loss: 1.1023 - val_accuracy: 0.3295\n"
          ],
          "name": "stdout"
        }
      ]
    },
    {
      "cell_type": "markdown",
      "metadata": {
        "id": "bWD8tMIVVYSe"
      },
      "source": [
        "## 6. Save the model (Optional)"
      ]
    },
    {
      "cell_type": "code",
      "metadata": {
        "id": "R1AeYQMYWHbU"
      },
      "source": [
        "model_bl.save_weights('BERT_large_SQuAD.h5')"
      ],
      "execution_count": null,
      "outputs": []
    },
    {
      "cell_type": "markdown",
      "metadata": {
        "id": "C_I9Z6oPWOXy"
      },
      "source": [
        "## 7. Verify the model performance"
      ]
    },
    {
      "cell_type": "code",
      "metadata": {
        "colab": {
          "base_uri": "https://localhost:8080/"
        },
        "id": "KcuEFsJ9WRaa",
        "outputId": "fac46d6c-367a-474d-c98c-acd4f1871c77"
      },
      "source": [
        "is_similar(\"Charlie went to the cycle shop on Sunday\",\"Charlie was resting at home on Sunday\", model_bl)"
      ],
      "execution_count": null,
      "outputs": [
        {
          "output_type": "stream",
          "text": [
            "/usr/local/lib/python3.6/dist-packages/transformers/tokenization_utils_base.py:2022: FutureWarning: The `pad_to_max_length` argument is deprecated and will be removed in a future version, use `padding=True` or `padding='longest'` to pad to the longest sequence in the batch, or use `padding='max_length'` to pad to a max length. In this case, you can give a specific length with `max_length` (e.g. `max_length=45`) or leave max_length to None to pad to the maximal input size of the model (e.g. 512 for Bert).\n",
            "  FutureWarning,\n"
          ],
          "name": "stderr"
        },
        {
          "output_type": "stream",
          "text": [
            "[0.28575215 0.23886827 0.47537965]\n",
            "2\n",
            "neutral\n",
            "0.47537965\n"
          ],
          "name": "stdout"
        }
      ]
    },
    {
      "cell_type": "markdown",
      "metadata": {
        "id": "bwF9W9MIWav9"
      },
      "source": [
        "## 8. Test the model"
      ]
    },
    {
      "cell_type": "code",
      "metadata": {
        "colab": {
          "base_uri": "https://localhost:8080/"
        },
        "id": "coe1yiUsWdl7",
        "outputId": "2f7b352d-706d-4fd8-cff9-efb2d2ab02c1"
      },
      "source": [
        "encoded = tokenizer_bl(test_df[[\"sentence1\", \"sentence2\"]].values.astype(\"str\").tolist(), return_tensors='pt',\n",
        "        add_special_tokens=True,\n",
        "        max_length=max_length,\n",
        "        return_attention_mask=True,\n",
        "        return_token_type_ids=True,\n",
        "        pad_to_max_length=True,\n",
        "        )\n",
        "\n",
        "input_ids = np.array(encoded[\"input_ids\"], dtype=\"int32\")\n",
        "attention_masks = np.array(encoded[\"attention_mask\"], dtype=\"int32\")\n",
        "token_type_ids = np.array(encoded[\"token_type_ids\"], dtype=\"int32\")\n",
        "\n",
        "x_test = [input_ids, attention_masks, token_type_ids]\n",
        "y_test = tf.keras.utils.to_categorical(test_df.label, num_classes=3)\n",
        "\n",
        "model_bl.evaluate(x_test,y_test, verbose=1)"
      ],
      "execution_count": null,
      "outputs": [
        {
          "output_type": "stream",
          "text": [
            "/usr/local/lib/python3.6/dist-packages/transformers/tokenization_utils_base.py:2022: FutureWarning: The `pad_to_max_length` argument is deprecated and will be removed in a future version, use `padding=True` or `padding='longest'` to pad to the longest sequence in the batch, or use `padding='max_length'` to pad to a max length. In this case, you can give a specific length with `max_length` (e.g. `max_length=45`) or leave max_length to None to pad to the maximal input size of the model (e.g. 512 for Bert).\n",
            "  FutureWarning,\n"
          ],
          "name": "stderr"
        },
        {
          "output_type": "stream",
          "text": [
            "313/313 [==============================] - 280s 895ms/step - loss: 1.0980 - accuracy: 0.3403\n"
          ],
          "name": "stdout"
        },
        {
          "output_type": "execute_result",
          "data": {
            "text/plain": [
              "[1.0979816913604736, 0.3402999937534332]"
            ]
          },
          "metadata": {
            "tags": []
          },
          "execution_count": 84
        }
      ]
    },
    {
      "cell_type": "markdown",
      "metadata": {
        "id": "DwmftZYRW04T"
      },
      "source": [
        "## 9. Metrics"
      ]
    },
    {
      "cell_type": "code",
      "metadata": {
        "colab": {
          "base_uri": "https://localhost:8080/",
          "height": 675
        },
        "id": "Cev2VTw0W3k8",
        "outputId": "70373c81-db25-44cb-fbca-2af205f5b683"
      },
      "source": [
        "from sklearn import metrics\n",
        "import matplotlib.pyplot as plt\n",
        "\n",
        "y_pred = model_bl.predict(x_test, verbose=1)\n",
        "\n",
        "print(\"Confusion Matrix:\\n\")\n",
        "print(metrics.confusion_matrix(np.argmax(y_test, axis=1), np.argmax(y_pred, axis=1)))\n",
        "\n",
        "\n",
        "loss_train = training_history.history['loss']\n",
        "loss_val = training_history.history['val_loss']\n",
        "epochs = np.arange(1,3)\n",
        "plt.plot(epochs, np.array(loss_train), 'g', label='Training loss')\n",
        "plt.plot(epochs, np.array(loss_val), 'b', label='validation loss')\n",
        "plt.title('Training and Validation loss')\n",
        "plt.xlabel('Epochs')\n",
        "plt.ylabel('Loss')\n",
        "plt.legend()\n",
        "plt.show()\n",
        "\n",
        "\n",
        "loss_train = finetuning_history.history['loss']\n",
        "loss_val = finetuning_history.history['val_loss']\n",
        "epochs = np.arange(1,2)\n",
        "plt.plot(epochs, np.array(loss_train), 'g', label='Training loss')\n",
        "plt.plot(epochs, np.array(loss_val), 'b', label='validation loss')\n",
        "plt.title('Training and Validation loss')\n",
        "plt.xlabel('Epochs')\n",
        "plt.ylabel('Loss')\n",
        "plt.legend()\n",
        "plt.show()"
      ],
      "execution_count": null,
      "outputs": [
        {
          "output_type": "stream",
          "text": [
            "313/313 [==============================] - 292s 933ms/step\n",
            "Confusion Matrix:\n",
            "\n",
            "[[   1    2 3234]\n",
            " [   0    7 3361]\n",
            " [   0    0 3395]]\n"
          ],
          "name": "stdout"
        },
        {
          "output_type": "display_data",
          "data": {
            "image/png": "[encoded data removed]",
            "text/plain": [
              "<Figure size 432x288 with 1 Axes>"
            ]
          },
          "metadata": {
            "tags": [],
            "needs_background": "light"
          }
        },
        {
          "output_type": "display_data",
          "data": {
            "image/png": "[encoded data removed]",
            "text/plain": [
              "<Figure size 432x288 with 1 Axes>"
            ]
          },
          "metadata": {
            "tags": [],
            "needs_background": "light"
          }
        }
      ]
    },
    {
      "cell_type": "markdown",
      "metadata": {
        "id": "jM2WOL2lxHxM"
      },
      "source": [
        "# Model 4 : Plain BERT(small) with Bi-Directional LSTM for finetuning"
      ]
    },
    {
      "cell_type": "markdown",
      "metadata": {
        "id": "R6ZgkXpbBBp2"
      },
      "source": [
        "## 1. Create BERT tokenizer"
      ]
    },
    {
      "cell_type": "code",
      "metadata": {
        "id": "VIj8lsozBGsl"
      },
      "source": [
        "tokenizer = transformers.BertTokenizer.from_pretrained(\n",
        "            \"bert-base-uncased\", do_lower_case=True\n",
        "        )"
      ],
      "execution_count": 110,
      "outputs": []
    },
    {
      "cell_type": "markdown",
      "metadata": {
        "id": "2zFBDsWtCEET"
      },
      "source": [
        "## 2. Encode the train data using BERT tokenizer"
      ]
    },
    {
      "cell_type": "code",
      "metadata": {
        "colab": {
          "base_uri": "https://localhost:8080/"
        },
        "id": "skWJIOGLCRJE",
        "outputId": "49be1138-7ba4-4996-f6a8-59d5fd1226f3"
      },
      "source": [
        "max_length = 128\n",
        "\n",
        "x_train = train_df[[\"sentence1\", \"sentence2\"]].values.astype(\"str\")\n",
        "\n",
        "encoded = tokenizer(x_train[0:100000].tolist(), return_tensors='pt', add_special_tokens=True,\n",
        "            max_length=max_length,\n",
        "            return_attention_mask=True,\n",
        "            return_token_type_ids=True,\n",
        "            pad_to_max_length=True,\n",
        "            )\n",
        "\n",
        "\n",
        "#Embedding and stuff\n",
        "input_ids = np.array(encoded[\"input_ids\"], dtype=\"int32\")\n",
        "attention_masks = np.array(encoded[\"attention_mask\"], dtype=\"int32\")\n",
        "token_type_ids = np.array(encoded[\"token_type_ids\"], dtype=\"int32\")\n",
        "\n",
        "x_train = [input_ids, attention_masks, token_type_ids]\n",
        "y_train = tf.keras.utils.to_categorical(train_df[0:100000].label, num_classes=3)\n",
        "\n",
        "\n",
        "# Encoded token ids from BERT tokenizer.\n",
        "input_ids = tf.keras.layers.Input(\n",
        "    shape=(max_length,), dtype=tf.int32, name=\"input_ids\"\n",
        ")\n",
        "# Attention masks indicates to the model which tokens should be attended to.\n",
        "attention_masks = tf.keras.layers.Input(\n",
        "    shape=(max_length,), dtype=tf.int32, name=\"attention_masks\"\n",
        ")\n",
        "# Token type ids are binary masks identifying different sequences in the model.\n",
        "token_type_ids = tf.keras.layers.Input(\n",
        "    shape=(max_length,), dtype=tf.int32, name=\"token_type_ids\"\n",
        ")\n",
        "\n",
        "\n",
        "#Encode the validation set\n",
        "encoded_valid = tokenizer(valid_df[[\"sentence1\", \"sentence2\"]].values.astype(\"str\").tolist(), return_tensors='pt',\n",
        "        add_special_tokens=True,\n",
        "        max_length=max_length,\n",
        "        return_attention_mask=True,\n",
        "        return_token_type_ids=True,\n",
        "        pad_to_max_length=True,\n",
        "        )\n",
        "\n",
        "input_ids_valid = np.array(encoded_valid[\"input_ids\"], dtype=\"int32\")\n",
        "attention_masks_valid = np.array(encoded_valid[\"attention_mask\"], dtype=\"int32\")\n",
        "token_type_ids_valid = np.array(encoded_valid[\"token_type_ids\"], dtype=\"int32\")\n",
        "\n",
        "x_valid = [input_ids_valid, attention_masks_valid, token_type_ids_valid]\n",
        "y_valid = tf.keras.utils.to_categorical(valid_df.label, num_classes=3)\n",
        "\n",
        "valid_data = x_valid,y_valid"
      ],
      "execution_count": 111,
      "outputs": [
        {
          "output_type": "stream",
          "text": [
            "Truncation was not explicitly activated but `max_length` is provided a specific value, please use `truncation=True` to explicitly truncate examples to max length. Defaulting to 'longest_first' truncation strategy. If you encode pairs of sequences (GLUE-style) with the tokenizer you can select this strategy more precisely by providing a specific strategy to `truncation`.\n",
            "/usr/local/lib/python3.6/dist-packages/transformers/tokenization_utils_base.py:2022: FutureWarning: The `pad_to_max_length` argument is deprecated and will be removed in a future version, use `padding=True` or `padding='longest'` to pad to the longest sequence in the batch, or use `padding='max_length'` to pad to a max length. In this case, you can give a specific length with `max_length` (e.g. `max_length=45`) or leave max_length to None to pad to the maximal input size of the model (e.g. 512 for Bert).\n",
            "  FutureWarning,\n"
          ],
          "name": "stderr"
        }
      ]
    },
    {
      "cell_type": "markdown",
      "metadata": {
        "id": "c4nfbbwzCuL-"
      },
      "source": [
        "## 3. Load the BERT pre-trained model"
      ]
    },
    {
      "cell_type": "code",
      "metadata": {
        "colab": {
          "base_uri": "https://localhost:8080/"
        },
        "id": "mGPc775sC0XN",
        "outputId": "51c95b11-f8ce-4beb-e1c7-6b0669ae7d6e"
      },
      "source": [
        "# Loading pretrained BERT model.\n",
        "bert_model = transformers.TFBertModel.from_pretrained(\"bert-base-uncased\")\n",
        "\n",
        "# Freeze the BERT model to reuse the pretrained features without modifying them.\n",
        "bert_model.trainable = False\n",
        "\n",
        "sequence_output, pooled_output = bert_model(\n",
        "  input_ids, attention_mask=attention_masks, token_type_ids=token_type_ids\n",
        ")\n",
        "\n",
        "# Add trainable layers on top of frozen layers to adapt the pretrained features on the new data.\n",
        "bi_lstm = tf.keras.layers.Bidirectional(\n",
        "tf.keras.layers.LSTM(128, return_sequences=True)\n",
        ")(sequence_output)\n",
        "\n",
        "# Applying hybrid pooling approach to bi_lstm sequence output.\n",
        "avg_pool = tf.keras.layers.GlobalAveragePooling1D()(bi_lstm)\n",
        "max_pool = tf.keras.layers.GlobalMaxPooling1D()(bi_lstm)\n",
        "concat = tf.keras.layers.concatenate([avg_pool, max_pool])\n",
        "dropout = tf.keras.layers.Dropout(0.35)(concat)\n",
        "\n",
        "output = tf.keras.layers.Dense(3, activation=\"softmax\")(dropout)\n",
        "\n",
        "model_ft = tf.keras.models.Model(\n",
        "    inputs=[input_ids, attention_masks, token_type_ids], outputs=output\n",
        ")\n",
        "\n",
        "model_ft.compile(\n",
        "    optimizer=tf.keras.optimizers.Adam(),\n",
        "    loss=\"categorical_crossentropy\",\n",
        "    metrics=[\"acc\"],\n",
        ")\n",
        "model_ft.summary()"
      ],
      "execution_count": 112,
      "outputs": [
        {
          "output_type": "stream",
          "text": [
            "Some layers from the model checkpoint at bert-base-uncased were not used when initializing TFBertModel: ['mlm___cls', 'nsp___cls']\n",
            "- This IS expected if you are initializing TFBertModel from the checkpoint of a model trained on another task or with another architecture (e.g. initializing a BertForSequenceClassification model from a BertForPreTraining model).\n",
            "- This IS NOT expected if you are initializing TFBertModel from the checkpoint of a model that you expect to be exactly identical (initializing a BertForSequenceClassification model from a BertForSequenceClassification model).\n",
            "All the layers of TFBertModel were initialized from the model checkpoint at bert-base-uncased.\n",
            "If your task is similar to the task the model of the checkpoint was trained on, you can already use TFBertModel for predictions without further training.\n"
          ],
          "name": "stderr"
        },
        {
          "output_type": "stream",
          "text": [
            "Model: \"functional_21\"\n",
            "__________________________________________________________________________________________________\n",
            "Layer (type)                    Output Shape         Param #     Connected to                     \n",
            "==================================================================================================\n",
            "input_ids (InputLayer)          [(None, 128)]        0                                            \n",
            "__________________________________________________________________________________________________\n",
            "attention_masks (InputLayer)    [(None, 128)]        0                                            \n",
            "__________________________________________________________________________________________________\n",
            "token_type_ids (InputLayer)     [(None, 128)]        0                                            \n",
            "__________________________________________________________________________________________________\n",
            "tf_bert_model_6 (TFBertModel)   ((None, 128, 768), ( 109482240   input_ids[0][0]                  \n",
            "                                                                 attention_masks[0][0]            \n",
            "                                                                 token_type_ids[0][0]             \n",
            "__________________________________________________________________________________________________\n",
            "bidirectional_3 (Bidirectional) (None, 128, 256)     918528      tf_bert_model_6[0][0]            \n",
            "__________________________________________________________________________________________________\n",
            "global_average_pooling1d_3 (Glo (None, 256)          0           bidirectional_3[0][0]            \n",
            "__________________________________________________________________________________________________\n",
            "global_max_pooling1d_3 (GlobalM (None, 256)          0           bidirectional_3[0][0]            \n",
            "__________________________________________________________________________________________________\n",
            "concatenate_4 (Concatenate)     (None, 512)          0           global_average_pooling1d_3[0][0] \n",
            "                                                                 global_max_pooling1d_3[0][0]     \n",
            "__________________________________________________________________________________________________\n",
            "dropout_300 (Dropout)           (None, 512)          0           concatenate_4[0][0]              \n",
            "__________________________________________________________________________________________________\n",
            "dense_8 (Dense)                 (None, 3)            1539        dropout_300[0][0]                \n",
            "==================================================================================================\n",
            "Total params: 110,402,307\n",
            "Trainable params: 920,067\n",
            "Non-trainable params: 109,482,240\n",
            "__________________________________________________________________________________________________\n"
          ],
          "name": "stdout"
        }
      ]
    },
    {
      "cell_type": "markdown",
      "metadata": {
        "id": "4lus6LmHEpyN"
      },
      "source": [
        "## 4. Train the model"
      ]
    },
    {
      "cell_type": "code",
      "metadata": {
        "colab": {
          "base_uri": "https://localhost:8080/"
        },
        "id": "PwevigbLEtj5",
        "outputId": "d0889a7e-3365-4f5e-f731-34e8de02b163"
      },
      "source": [
        "training_history = model_ft.fit(x_train,y_train,validation_data=valid_data,epochs=2,batch_size=16, verbose=1)"
      ],
      "execution_count": 113,
      "outputs": [
        {
          "output_type": "stream",
          "text": [
            "Epoch 1/2\n",
            "6243/6243 [==============================] - 1176s 188ms/step - loss: 0.6844 - acc: 0.7104 - val_loss: 0.5408 - val_acc: 0.7779\n",
            "Epoch 2/2\n",
            "6243/6243 [==============================] - 1181s 189ms/step - loss: 0.5971 - acc: 0.7559 - val_loss: 0.5043 - val_acc: 0.8027\n"
          ],
          "name": "stdout"
        }
      ]
    },
    {
      "cell_type": "markdown",
      "metadata": {
        "id": "ozgispNgJMY2"
      },
      "source": [
        "## 5. Finetune the model"
      ]
    },
    {
      "cell_type": "code",
      "metadata": {
        "colab": {
          "base_uri": "https://localhost:8080/"
        },
        "id": "aXWi7-kbJQUG",
        "outputId": "4b3f8499-db37-4573-e7cb-94ae41a01a22"
      },
      "source": [
        "# Unfreeze the bert_model.\n",
        "bert_model.trainable = True\n",
        "# Recompile the model to make the change effective.\n",
        "model_ft.compile(\n",
        "    optimizer=tf.keras.optimizers.Adam(1e-5),\n",
        "    loss=\"categorical_crossentropy\",\n",
        "    metrics=[\"accuracy\"],\n",
        ")\n",
        "model_ft.summary()\n",
        "\n",
        "finetuning_history = model_ft.fit(x_train,y_train, validation_data=valid_data, epochs=1,batch_size=16)"
      ],
      "execution_count": 114,
      "outputs": [
        {
          "output_type": "stream",
          "text": [
            "Model: \"functional_21\"\n",
            "__________________________________________________________________________________________________\n",
            "Layer (type)                    Output Shape         Param #     Connected to                     \n",
            "==================================================================================================\n",
            "input_ids (InputLayer)          [(None, 128)]        0                                            \n",
            "__________________________________________________________________________________________________\n",
            "attention_masks (InputLayer)    [(None, 128)]        0                                            \n",
            "__________________________________________________________________________________________________\n",
            "token_type_ids (InputLayer)     [(None, 128)]        0                                            \n",
            "__________________________________________________________________________________________________\n",
            "tf_bert_model_6 (TFBertModel)   ((None, 128, 768), ( 109482240   input_ids[0][0]                  \n",
            "                                                                 attention_masks[0][0]            \n",
            "                                                                 token_type_ids[0][0]             \n",
            "__________________________________________________________________________________________________\n",
            "bidirectional_3 (Bidirectional) (None, 128, 256)     918528      tf_bert_model_6[0][0]            \n",
            "__________________________________________________________________________________________________\n",
            "global_average_pooling1d_3 (Glo (None, 256)          0           bidirectional_3[0][0]            \n",
            "__________________________________________________________________________________________________\n",
            "global_max_pooling1d_3 (GlobalM (None, 256)          0           bidirectional_3[0][0]            \n",
            "__________________________________________________________________________________________________\n",
            "concatenate_4 (Concatenate)     (None, 512)          0           global_average_pooling1d_3[0][0] \n",
            "                                                                 global_max_pooling1d_3[0][0]     \n",
            "__________________________________________________________________________________________________\n",
            "dropout_300 (Dropout)           (None, 512)          0           concatenate_4[0][0]              \n",
            "__________________________________________________________________________________________________\n",
            "dense_8 (Dense)                 (None, 3)            1539        dropout_300[0][0]                \n",
            "==================================================================================================\n",
            "Total params: 110,402,307\n",
            "Trainable params: 110,402,307\n",
            "Non-trainable params: 0\n",
            "__________________________________________________________________________________________________\n",
            "WARNING:tensorflow:Gradients do not exist for variables ['tf_bert_model_6/bert/pooler/dense/kernel:0', 'tf_bert_model_6/bert/pooler/dense/bias:0'] when minimizing the loss.\n",
            "WARNING:tensorflow:Gradients do not exist for variables ['tf_bert_model_6/bert/pooler/dense/kernel:0', 'tf_bert_model_6/bert/pooler/dense/bias:0'] when minimizing the loss.\n",
            "WARNING:tensorflow:Gradients do not exist for variables ['tf_bert_model_6/bert/pooler/dense/kernel:0', 'tf_bert_model_6/bert/pooler/dense/bias:0'] when minimizing the loss.\n",
            "WARNING:tensorflow:Gradients do not exist for variables ['tf_bert_model_6/bert/pooler/dense/kernel:0', 'tf_bert_model_6/bert/pooler/dense/bias:0'] when minimizing the loss.\n",
            "6243/6243 [==============================] - 3007s 482ms/step - loss: 0.4692 - accuracy: 0.8173 - val_loss: 0.3623 - val_accuracy: 0.8683\n"
          ],
          "name": "stdout"
        }
      ]
    },
    {
      "cell_type": "markdown",
      "metadata": {
        "id": "gysdZzVQEv7_"
      },
      "source": [
        "## 6. Save the model (Optional)"
      ]
    },
    {
      "cell_type": "code",
      "metadata": {
        "id": "X5rpq7nTEzyo"
      },
      "source": [
        "model_ft.save_weights('BERT_Finetuned_Experiment1.h5')"
      ],
      "execution_count": 115,
      "outputs": []
    },
    {
      "cell_type": "markdown",
      "metadata": {
        "id": "YYTVYtiPE7xy"
      },
      "source": [
        "## 7. Verify the model performance"
      ]
    },
    {
      "cell_type": "code",
      "metadata": {
        "colab": {
          "base_uri": "https://localhost:8080/"
        },
        "id": "MEoboVj2E_xu",
        "outputId": "ce6dadb2-25da-46de-d1ed-c3c61fec9dc8"
      },
      "source": [
        "is_similar(\"Charlie went to the cycle shop on Sunday\",\"Charlie was resting at home on Sunday\", model_ft)"
      ],
      "execution_count": 116,
      "outputs": [
        {
          "output_type": "stream",
          "text": [
            "/usr/local/lib/python3.6/dist-packages/transformers/tokenization_utils_base.py:2022: FutureWarning: The `pad_to_max_length` argument is deprecated and will be removed in a future version, use `padding=True` or `padding='longest'` to pad to the longest sequence in the batch, or use `padding='max_length'` to pad to a max length. In this case, you can give a specific length with `max_length` (e.g. `max_length=45`) or leave max_length to None to pad to the maximal input size of the model (e.g. 512 for Bert).\n",
            "  FutureWarning,\n"
          ],
          "name": "stderr"
        },
        {
          "output_type": "stream",
          "text": [
            "[9.9904543e-01 8.0301732e-05 8.7432918e-04]\n",
            "0\n",
            "contradiction\n",
            "0.99904543\n"
          ],
          "name": "stdout"
        }
      ]
    },
    {
      "cell_type": "markdown",
      "metadata": {
        "id": "PwHL5wZUILOH"
      },
      "source": [
        "## 8. Test the model"
      ]
    },
    {
      "cell_type": "code",
      "metadata": {
        "colab": {
          "base_uri": "https://localhost:8080/"
        },
        "id": "v27AwB5vIWx6",
        "outputId": "3638d8bf-b719-4859-dbbb-71ed4588b711"
      },
      "source": [
        "encoded = tokenizer(test_df[[\"sentence1\", \"sentence2\"]].values.astype(\"str\").tolist(), return_tensors='pt',\n",
        "        add_special_tokens=True,\n",
        "        max_length=max_length,\n",
        "        return_attention_mask=True,\n",
        "        return_token_type_ids=True,\n",
        "        pad_to_max_length=True,\n",
        "        )\n",
        "\n",
        "input_ids = np.array(encoded[\"input_ids\"], dtype=\"int32\")\n",
        "attention_masks = np.array(encoded[\"attention_mask\"], dtype=\"int32\")\n",
        "token_type_ids = np.array(encoded[\"token_type_ids\"], dtype=\"int32\")\n",
        "\n",
        "x_test = [input_ids, attention_masks, token_type_ids]\n",
        "y_test = tf.keras.utils.to_categorical(test_df.label, num_classes=3)\n",
        "\n",
        "model_ft.evaluate(x_test,y_test, verbose=1)"
      ],
      "execution_count": 117,
      "outputs": [
        {
          "output_type": "stream",
          "text": [
            "/usr/local/lib/python3.6/dist-packages/transformers/tokenization_utils_base.py:2022: FutureWarning: The `pad_to_max_length` argument is deprecated and will be removed in a future version, use `padding=True` or `padding='longest'` to pad to the longest sequence in the batch, or use `padding='max_length'` to pad to a max length. In this case, you can give a specific length with `max_length` (e.g. `max_length=45`) or leave max_length to None to pad to the maximal input size of the model (e.g. 512 for Bert).\n",
            "  FutureWarning,\n"
          ],
          "name": "stderr"
        },
        {
          "output_type": "stream",
          "text": [
            "313/313 [==============================] - 84s 270ms/step - loss: 0.3819 - accuracy: 0.8587\n"
          ],
          "name": "stdout"
        },
        {
          "output_type": "execute_result",
          "data": {
            "text/plain": [
              "[0.3819321095943451, 0.8586999773979187]"
            ]
          },
          "metadata": {
            "tags": []
          },
          "execution_count": 117
        }
      ]
    },
    {
      "cell_type": "markdown",
      "metadata": {
        "id": "uz0C17EXL6gg"
      },
      "source": [
        "## 9. Metrics"
      ]
    },
    {
      "cell_type": "code",
      "metadata": {
        "colab": {
          "base_uri": "https://localhost:8080/",
          "height": 675
        },
        "id": "YClE5hGNL-n0",
        "outputId": "df52c6fb-f8e5-49e1-ec1a-4ff128853d12"
      },
      "source": [
        "from sklearn import metrics\n",
        "import matplotlib.pyplot as plt\n",
        "\n",
        "y_pred = model_ft.predict(x_test, verbose=1)\n",
        "\n",
        "print(\"Confusion Matrix:\\n\")\n",
        "print(metrics.confusion_matrix(np.argmax(y_test, axis=1), np.argmax(y_pred, axis=1)))\n",
        "\n",
        "\n",
        "loss_train = training_history.history['loss']\n",
        "loss_val = training_history.history['val_loss']\n",
        "epochs = np.arange(1,3)\n",
        "plt.plot(epochs, np.array(loss_train), 'g', label='Training loss')\n",
        "plt.plot(epochs, np.array(loss_val), 'b', label='validation loss')\n",
        "plt.title('Training and Validation loss')\n",
        "plt.xlabel('Epochs')\n",
        "plt.ylabel('Loss')\n",
        "plt.legend()\n",
        "plt.show()\n",
        "\n",
        "\n",
        "loss_train = finetuning_history.history['loss']\n",
        "loss_val = finetuning_history.history['val_loss']\n",
        "epochs = np.arange(1,2)\n",
        "plt.plot(epochs, np.array(loss_train), 'g', label='Training loss')\n",
        "plt.plot(epochs, np.array(loss_val), 'b', label='validation loss')\n",
        "plt.title('Training and Validation loss')\n",
        "plt.xlabel('Epochs')\n",
        "plt.ylabel('Loss')\n",
        "plt.legend()\n",
        "plt.show()"
      ],
      "execution_count": 118,
      "outputs": [
        {
          "output_type": "stream",
          "text": [
            "313/313 [==============================] - 88s 280ms/step\n",
            "Confusion Matrix:\n",
            "\n",
            "[[2774  164  299]\n",
            " [  65 3056  247]\n",
            " [ 247  391 2757]]\n"
          ],
          "name": "stdout"
        },
        {
          "output_type": "display_data",
          "data": {
            "image/png": "[encoded data removed]",
            "text/plain": [
              "<Figure size 432x288 with 1 Axes>"
            ]
          },
          "metadata": {
            "tags": [],
            "needs_background": "light"
          }
        },
        {
          "output_type": "display_data",
          "data": {
            "image/png": "[encoded data removed]",
            "text/plain": [
              "<Figure size 432x288 with 1 Axes>"
            ]
          },
          "metadata": {
            "tags": [],
            "needs_background": "light"
          }
        }
      ]
    },
    {
      "cell_type": "markdown",
      "metadata": {
        "id": "PRwDkKlQzMKK"
      },
      "source": [
        "# Other Optimizations"
      ]
    },
    {
      "cell_type": "markdown",
      "metadata": {
        "id": "l0IZ3FFggrzV"
      },
      "source": [
        "# Experiments on LSTM\n",
        "\n"
      ]
    },
    {
      "cell_type": "code",
      "metadata": {
        "colab": {
          "base_uri": "https://localhost:8080/",
          "height": 700
        },
        "id": "OqC34XiUg0uF",
        "outputId": "3e38fc2e-bbcc-4cf3-c64a-aae004de07e0"
      },
      "source": [
        "import numpy as np\n",
        "import pandas as pd\n",
        "from gensim.models import KeyedVectors\n",
        "from keras.preprocessing.text import Tokenizer\n",
        "from keras.preprocessing.sequence import pad_sequences\n",
        "from keras.layers import Dense, Input, LSTM, Embedding, Dropout, Activation\n",
        "from keras.layers.merge import concatenate\n",
        "from keras.models import Model\n",
        "from keras.layers.normalization import BatchNormalization\n",
        "from keras.callbacks import EarlyStopping\n",
        "from keras.utils import to_categorical\n",
        "\n",
        "EMBEDDING_FILE  = 'GoogleNews-vectors-negative300.bin.gz'\n",
        "TRAIN_DATA_FILE = \"SNLI_Corpus/snli_1.0_train.csv\"\n",
        "TEST_DATA_FILE  = \"SNLI_Corpus/snli_1.0_test.csv\"\n",
        "MAX_SEQUENCE_LENGTH = 30\n",
        "MAX_NB_WORDS = 200000\n",
        "EMBEDDING_DIM = 300\n",
        "VALIDATION_SPLIT = 0.1\n",
        "rate_drop_lstm = 0.15 + np.random.rand() * 0.25\n",
        "rate_drop_dense = 0.15 + np.random.rand() * 0.25\n",
        "\n",
        "def text_to_tokens(text):\n",
        "    return text.lower()\n",
        "\n",
        "def get_label_index_mapping():\n",
        "    return {\"neutral\": 0, \"contradiction\": 1, \"entailment\": 2, \"-\": 3}\n",
        "    \n",
        "def create_embedding_matrix(word_index):\n",
        "    nb_words = min(MAX_NB_WORDS, len(word_index))+1\n",
        "    word2vec = KeyedVectors.load_word2vec_format(EMBEDDING_FILE, binary=True)\n",
        "    embedding_matrix = np.zeros((nb_words, EMBEDDING_DIM))\n",
        "    for word, i in word_index.items():\n",
        "        if word in word2vec.vocab:\n",
        "            embedding_matrix[i] = word2vec.word_vec(word)\n",
        "    return embedding_matrix\n",
        "\n",
        "def load_data():\n",
        "    train_df = pd.read_csv(TRAIN_DATA_FILE, sep=\",\", usecols=[\"sentence1\", \"sentence2\", \"similarity\"], dtype={\"sentence1\": str, \"sentence2\": str, \"similarity\": str})\n",
        "    train_df.fillna(\"\", inplace=True)\n",
        "    sentence1 = train_df[\"sentence1\"].apply(text_to_tokens)\n",
        "    sentence2 = train_df[\"sentence2\"].apply(text_to_tokens)\n",
        "    y = train_df[\"similarity\"].map(get_label_index_mapping())\n",
        "    tokenizer = Tokenizer(num_words=MAX_NB_WORDS)\n",
        "    tokenizer.fit_on_texts(sentence1 + sentence2)\n",
        "    sequences1 = tokenizer.texts_to_sequences(sentence1)\n",
        "    sequences2 = tokenizer.texts_to_sequences(sentence2)\n",
        "    X1 = pad_sequences(sequences1, maxlen=MAX_SEQUENCE_LENGTH)\n",
        "    X2 = pad_sequences(sequences2, maxlen=MAX_SEQUENCE_LENGTH)\n",
        "    perm = np.random.permutation(len(X1))\n",
        "    num_train   = int(len(X1)*(1-VALIDATION_SPLIT))\n",
        "    train_index = perm[:num_train]\n",
        "    valid_index = perm[num_train:]\n",
        "    X1_train    = X1[train_index]\n",
        "    X2_train    = X2[train_index]\n",
        "    y_train     = y[train_index]\n",
        "    X1_valid    = X1[valid_index]\n",
        "    X2_valid    = X2[valid_index]\n",
        "    y_valid     = y[valid_index]\n",
        "    return (X1_train, X2_train, y_train), (X1_valid, X2_valid, y_valid), tokenizer\n",
        "\n",
        "def StaticEmbedding(embedding_matrix):\n",
        "    input_dim, output_dim = embedding_matrix.shape\n",
        "    return Embedding(input_dim,\n",
        "            output_dim,\n",
        "            weights=[embedding_matrix],\n",
        "            input_length=MAX_SEQUENCE_LENGTH,\n",
        "            trainable=False)\n",
        "    \n",
        "def entail(feat1, feat2, num_dense=300):\n",
        "    x = concatenate([feat1, feat2])\n",
        "    x = Dropout(rate_drop_dense)(x)\n",
        "    x = BatchNormalization()(x)\n",
        "    x = Dense(num_dense, activation=\"relu\")(x)\n",
        "    x = Dropout(rate_drop_dense)(x)\n",
        "    x = BatchNormalization()(x)\n",
        "    return x\n",
        "\n",
        "def build_model(output_dim, embedding_matrix, num_lstm=300):\n",
        "    sequence1_input = Input(shape=(MAX_SEQUENCE_LENGTH,), dtype='int32')\n",
        "    sequence2_input = Input(shape=(MAX_SEQUENCE_LENGTH,), dtype='int32')\n",
        "   \n",
        "    # Embedding\n",
        "    embed = StaticEmbedding(embedding_matrix)\n",
        "    embedded_sequences1 = embed(sequence1_input)\n",
        "    embedded_sequences2 = embed(sequence2_input)\n",
        "    \n",
        "    # Encoding\n",
        "    encode = LSTM(num_lstm, dropout=rate_drop_lstm, recurrent_dropout=rate_drop_lstm)\n",
        "    feat1 = encode(embedded_sequences1)\n",
        "    feat2 = encode(embedded_sequences2)\n",
        "   \n",
        "    x = entail(feat1, feat2)\n",
        "    preds = Dense(output_dim, activation='softmax')(x)\n",
        "    model = Model(inputs=[sequence1_input, sequence2_input], outputs=preds)\n",
        "    return model\n",
        "\n",
        "def run():\n",
        "    num_class = len(get_label_index_mapping())\n",
        "    (X1_train, X2_train, y_train), (X1_valid, X2_valid, y_valid), tokenizer = load_data()\n",
        "    Y_train, Y_valid = to_categorical(y_train, num_class), to_categorical(y_valid, num_class)\n",
        "    embedding_matrix = create_embedding_matrix(tokenizer.word_index) \n",
        "    model = build_model(output_dim=num_class, embedding_matrix=embedding_matrix) \n",
        "    model.compile(loss='categorical_crossentropy', optimizer='nadam', metrics=['acc'])\n",
        "    early_stopping = EarlyStopping(monitor='val_loss', patience=10)\n",
        "    hist = model.fit([X1_train, X2_train], Y_train,\n",
        "            validation_data=([X1_valid, X2_valid], Y_valid),\n",
        "            epochs=200, batch_size=2048, shuffle=True,\n",
        "            callbacks=[early_stopping])\n",
        "\n",
        "if __name__ == \"__main__\":\n",
        "    run()"
      ],
      "execution_count": null,
      "outputs": [
        {
          "output_type": "stream",
          "text": [
            "WARNING:tensorflow:Layer lstm_2 will not use cuDNN kernel since it doesn't meet the cuDNN kernel criteria. It will use generic GPU kernel as fallback when running on GPU\n",
            "Epoch 1/200\n",
            "242/242 [==============================] - 87s 361ms/step - loss: 0.9878 - acc: 0.5785 - val_loss: 1.0320 - val_acc: 0.4187\n",
            "Epoch 2/200\n",
            "242/242 [==============================] - 88s 365ms/step - loss: 0.7795 - acc: 0.6613 - val_loss: 0.8100 - val_acc: 0.6364\n",
            "Epoch 3/200\n",
            "242/242 [==============================] - 89s 369ms/step - loss: 0.7238 - acc: 0.6919 - val_loss: 0.6754 - val_acc: 0.7148\n",
            "Epoch 4/200\n",
            "242/242 [==============================] - 89s 369ms/step - loss: 0.6878 - acc: 0.7112 - val_loss: 0.6493 - val_acc: 0.7266\n",
            "Epoch 5/200\n",
            "242/242 [==============================] - 89s 369ms/step - loss: 0.6588 - acc: 0.7265 - val_loss: 0.6150 - val_acc: 0.7460\n",
            "Epoch 6/200\n",
            "242/242 [==============================] - 90s 373ms/step - loss: 0.6366 - acc: 0.7376 - val_loss: 0.5939 - val_acc: 0.7571\n",
            "Epoch 7/200\n",
            "242/242 [==============================] - 90s 370ms/step - loss: 0.6211 - acc: 0.7456 - val_loss: 0.5932 - val_acc: 0.7557\n",
            "Epoch 8/200\n",
            "242/242 [==============================] - 90s 371ms/step - loss: 0.6062 - acc: 0.7529 - val_loss: 0.5820 - val_acc: 0.7638\n",
            "Epoch 9/200\n",
            "179/242 [=====================>........] - ETA: 22s - loss: 0.5927 - acc: 0.7597"
          ],
          "name": "stdout"
        },
        {
          "output_type": "error",
          "ename": "KeyboardInterrupt",
          "evalue": "ignored",
          "traceback": [
            "\u001b[0;31m---------------------------------------------------------------------------\u001b[0m",
            "\u001b[0;31mKeyboardInterrupt\u001b[0m                         Traceback (most recent call last)",
            "\u001b[0;32m<ipython-input-94-3455e848e4f7>\u001b[0m in \u001b[0;36m<module>\u001b[0;34m()\u001b[0m\n\u001b[1;32m    110\u001b[0m \u001b[0;34m\u001b[0m\u001b[0m\n\u001b[1;32m    111\u001b[0m \u001b[0;32mif\u001b[0m \u001b[0m__name__\u001b[0m \u001b[0;34m==\u001b[0m \u001b[0;34m\"__main__\"\u001b[0m\u001b[0;34m:\u001b[0m\u001b[0;34m\u001b[0m\u001b[0;34m\u001b[0m\u001b[0m\n\u001b[0;32m--> 112\u001b[0;31m     \u001b[0mrun\u001b[0m\u001b[0;34m(\u001b[0m\u001b[0;34m)\u001b[0m\u001b[0;34m\u001b[0m\u001b[0;34m\u001b[0m\u001b[0m\n\u001b[0m",
            "\u001b[0;32m<ipython-input-94-3455e848e4f7>\u001b[0m in \u001b[0;36mrun\u001b[0;34m()\u001b[0m\n\u001b[1;32m    107\u001b[0m             \u001b[0mvalidation_data\u001b[0m\u001b[0;34m=\u001b[0m\u001b[0;34m(\u001b[0m\u001b[0;34m[\u001b[0m\u001b[0mX1_valid\u001b[0m\u001b[0;34m,\u001b[0m \u001b[0mX2_valid\u001b[0m\u001b[0;34m]\u001b[0m\u001b[0;34m,\u001b[0m \u001b[0mY_valid\u001b[0m\u001b[0;34m)\u001b[0m\u001b[0;34m,\u001b[0m\u001b[0;34m\u001b[0m\u001b[0;34m\u001b[0m\u001b[0m\n\u001b[1;32m    108\u001b[0m             \u001b[0mepochs\u001b[0m\u001b[0;34m=\u001b[0m\u001b[0;36m200\u001b[0m\u001b[0;34m,\u001b[0m \u001b[0mbatch_size\u001b[0m\u001b[0;34m=\u001b[0m\u001b[0;36m2048\u001b[0m\u001b[0;34m,\u001b[0m \u001b[0mshuffle\u001b[0m\u001b[0;34m=\u001b[0m\u001b[0;32mTrue\u001b[0m\u001b[0;34m,\u001b[0m\u001b[0;34m\u001b[0m\u001b[0;34m\u001b[0m\u001b[0m\n\u001b[0;32m--> 109\u001b[0;31m             callbacks=[early_stopping])\n\u001b[0m\u001b[1;32m    110\u001b[0m \u001b[0;34m\u001b[0m\u001b[0m\n\u001b[1;32m    111\u001b[0m \u001b[0;32mif\u001b[0m \u001b[0m__name__\u001b[0m \u001b[0;34m==\u001b[0m \u001b[0;34m\"__main__\"\u001b[0m\u001b[0;34m:\u001b[0m\u001b[0;34m\u001b[0m\u001b[0;34m\u001b[0m\u001b[0m\n",
            "\u001b[0;32m/usr/local/lib/python3.6/dist-packages/tensorflow/python/keras/engine/training.py\u001b[0m in \u001b[0;36m_method_wrapper\u001b[0;34m(self, *args, **kwargs)\u001b[0m\n\u001b[1;32m    106\u001b[0m   \u001b[0;32mdef\u001b[0m \u001b[0m_method_wrapper\u001b[0m\u001b[0;34m(\u001b[0m\u001b[0mself\u001b[0m\u001b[0;34m,\u001b[0m \u001b[0;34m*\u001b[0m\u001b[0margs\u001b[0m\u001b[0;34m,\u001b[0m \u001b[0;34m**\u001b[0m\u001b[0mkwargs\u001b[0m\u001b[0;34m)\u001b[0m\u001b[0;34m:\u001b[0m\u001b[0;34m\u001b[0m\u001b[0;34m\u001b[0m\u001b[0m\n\u001b[1;32m    107\u001b[0m     \u001b[0;32mif\u001b[0m \u001b[0;32mnot\u001b[0m \u001b[0mself\u001b[0m\u001b[0;34m.\u001b[0m\u001b[0m_in_multi_worker_mode\u001b[0m\u001b[0;34m(\u001b[0m\u001b[0;34m)\u001b[0m\u001b[0;34m:\u001b[0m  \u001b[0;31m# pylint: disable=protected-access\u001b[0m\u001b[0;34m\u001b[0m\u001b[0;34m\u001b[0m\u001b[0m\n\u001b[0;32m--> 108\u001b[0;31m       \u001b[0;32mreturn\u001b[0m \u001b[0mmethod\u001b[0m\u001b[0;34m(\u001b[0m\u001b[0mself\u001b[0m\u001b[0;34m,\u001b[0m \u001b[0;34m*\u001b[0m\u001b[0margs\u001b[0m\u001b[0;34m,\u001b[0m \u001b[0;34m**\u001b[0m\u001b[0mkwargs\u001b[0m\u001b[0;34m)\u001b[0m\u001b[0;34m\u001b[0m\u001b[0;34m\u001b[0m\u001b[0m\n\u001b[0m\u001b[1;32m    109\u001b[0m \u001b[0;34m\u001b[0m\u001b[0m\n\u001b[1;32m    110\u001b[0m     \u001b[0;31m# Running inside `run_distribute_coordinator` already.\u001b[0m\u001b[0;34m\u001b[0m\u001b[0;34m\u001b[0m\u001b[0;34m\u001b[0m\u001b[0m\n",
            "\u001b[0;32m/usr/local/lib/python3.6/dist-packages/tensorflow/python/keras/engine/training.py\u001b[0m in \u001b[0;36mfit\u001b[0;34m(self, x, y, batch_size, epochs, verbose, callbacks, validation_split, validation_data, shuffle, class_weight, sample_weight, initial_epoch, steps_per_epoch, validation_steps, validation_batch_size, validation_freq, max_queue_size, workers, use_multiprocessing)\u001b[0m\n\u001b[1;32m   1096\u001b[0m                 batch_size=batch_size):\n\u001b[1;32m   1097\u001b[0m               \u001b[0mcallbacks\u001b[0m\u001b[0;34m.\u001b[0m\u001b[0mon_train_batch_begin\u001b[0m\u001b[0;34m(\u001b[0m\u001b[0mstep\u001b[0m\u001b[0;34m)\u001b[0m\u001b[0;34m\u001b[0m\u001b[0;34m\u001b[0m\u001b[0m\n\u001b[0;32m-> 1098\u001b[0;31m               \u001b[0mtmp_logs\u001b[0m \u001b[0;34m=\u001b[0m \u001b[0mtrain_function\u001b[0m\u001b[0;34m(\u001b[0m\u001b[0miterator\u001b[0m\u001b[0;34m)\u001b[0m\u001b[0;34m\u001b[0m\u001b[0;34m\u001b[0m\u001b[0m\n\u001b[0m\u001b[1;32m   1099\u001b[0m               \u001b[0;32mif\u001b[0m \u001b[0mdata_handler\u001b[0m\u001b[0;34m.\u001b[0m\u001b[0mshould_sync\u001b[0m\u001b[0;34m:\u001b[0m\u001b[0;34m\u001b[0m\u001b[0;34m\u001b[0m\u001b[0m\n\u001b[1;32m   1100\u001b[0m                 \u001b[0mcontext\u001b[0m\u001b[0;34m.\u001b[0m\u001b[0masync_wait\u001b[0m\u001b[0;34m(\u001b[0m\u001b[0;34m)\u001b[0m\u001b[0;34m\u001b[0m\u001b[0;34m\u001b[0m\u001b[0m\n",
            "\u001b[0;32m/usr/local/lib/python3.6/dist-packages/tensorflow/python/eager/def_function.py\u001b[0m in \u001b[0;36m__call__\u001b[0;34m(self, *args, **kwds)\u001b[0m\n\u001b[1;32m    778\u001b[0m       \u001b[0;32melse\u001b[0m\u001b[0;34m:\u001b[0m\u001b[0;34m\u001b[0m\u001b[0;34m\u001b[0m\u001b[0m\n\u001b[1;32m    779\u001b[0m         \u001b[0mcompiler\u001b[0m \u001b[0;34m=\u001b[0m \u001b[0;34m\"nonXla\"\u001b[0m\u001b[0;34m\u001b[0m\u001b[0;34m\u001b[0m\u001b[0m\n\u001b[0;32m--> 780\u001b[0;31m         \u001b[0mresult\u001b[0m \u001b[0;34m=\u001b[0m \u001b[0mself\u001b[0m\u001b[0;34m.\u001b[0m\u001b[0m_call\u001b[0m\u001b[0;34m(\u001b[0m\u001b[0;34m*\u001b[0m\u001b[0margs\u001b[0m\u001b[0;34m,\u001b[0m \u001b[0;34m**\u001b[0m\u001b[0mkwds\u001b[0m\u001b[0;34m)\u001b[0m\u001b[0;34m\u001b[0m\u001b[0;34m\u001b[0m\u001b[0m\n\u001b[0m\u001b[1;32m    781\u001b[0m \u001b[0;34m\u001b[0m\u001b[0m\n\u001b[1;32m    782\u001b[0m       \u001b[0mnew_tracing_count\u001b[0m \u001b[0;34m=\u001b[0m \u001b[0mself\u001b[0m\u001b[0;34m.\u001b[0m\u001b[0m_get_tracing_count\u001b[0m\u001b[0;34m(\u001b[0m\u001b[0;34m)\u001b[0m\u001b[0;34m\u001b[0m\u001b[0;34m\u001b[0m\u001b[0m\n",
            "\u001b[0;32m/usr/local/lib/python3.6/dist-packages/tensorflow/python/eager/def_function.py\u001b[0m in \u001b[0;36m_call\u001b[0;34m(self, *args, **kwds)\u001b[0m\n\u001b[1;32m    805\u001b[0m       \u001b[0;31m# In this case we have created variables on the first call, so we run the\u001b[0m\u001b[0;34m\u001b[0m\u001b[0;34m\u001b[0m\u001b[0;34m\u001b[0m\u001b[0m\n\u001b[1;32m    806\u001b[0m       \u001b[0;31m# defunned version which is guaranteed to never create variables.\u001b[0m\u001b[0;34m\u001b[0m\u001b[0;34m\u001b[0m\u001b[0;34m\u001b[0m\u001b[0m\n\u001b[0;32m--> 807\u001b[0;31m       \u001b[0;32mreturn\u001b[0m \u001b[0mself\u001b[0m\u001b[0;34m.\u001b[0m\u001b[0m_stateless_fn\u001b[0m\u001b[0;34m(\u001b[0m\u001b[0;34m*\u001b[0m\u001b[0margs\u001b[0m\u001b[0;34m,\u001b[0m \u001b[0;34m**\u001b[0m\u001b[0mkwds\u001b[0m\u001b[0;34m)\u001b[0m  \u001b[0;31m# pylint: disable=not-callable\u001b[0m\u001b[0;34m\u001b[0m\u001b[0;34m\u001b[0m\u001b[0m\n\u001b[0m\u001b[1;32m    808\u001b[0m     \u001b[0;32melif\u001b[0m \u001b[0mself\u001b[0m\u001b[0;34m.\u001b[0m\u001b[0m_stateful_fn\u001b[0m \u001b[0;32mis\u001b[0m \u001b[0;32mnot\u001b[0m \u001b[0;32mNone\u001b[0m\u001b[0;34m:\u001b[0m\u001b[0;34m\u001b[0m\u001b[0;34m\u001b[0m\u001b[0m\n\u001b[1;32m    809\u001b[0m       \u001b[0;31m# Release the lock early so that multiple threads can perform the call\u001b[0m\u001b[0;34m\u001b[0m\u001b[0;34m\u001b[0m\u001b[0;34m\u001b[0m\u001b[0m\n",
            "\u001b[0;32m/usr/local/lib/python3.6/dist-packages/tensorflow/python/eager/function.py\u001b[0m in \u001b[0;36m__call__\u001b[0;34m(self, *args, **kwargs)\u001b[0m\n\u001b[1;32m   2827\u001b[0m     \u001b[0;32mwith\u001b[0m \u001b[0mself\u001b[0m\u001b[0;34m.\u001b[0m\u001b[0m_lock\u001b[0m\u001b[0;34m:\u001b[0m\u001b[0;34m\u001b[0m\u001b[0;34m\u001b[0m\u001b[0m\n\u001b[1;32m   2828\u001b[0m       \u001b[0mgraph_function\u001b[0m\u001b[0;34m,\u001b[0m \u001b[0margs\u001b[0m\u001b[0;34m,\u001b[0m \u001b[0mkwargs\u001b[0m \u001b[0;34m=\u001b[0m \u001b[0mself\u001b[0m\u001b[0;34m.\u001b[0m\u001b[0m_maybe_define_function\u001b[0m\u001b[0;34m(\u001b[0m\u001b[0margs\u001b[0m\u001b[0;34m,\u001b[0m \u001b[0mkwargs\u001b[0m\u001b[0;34m)\u001b[0m\u001b[0;34m\u001b[0m\u001b[0;34m\u001b[0m\u001b[0m\n\u001b[0;32m-> 2829\u001b[0;31m     \u001b[0;32mreturn\u001b[0m \u001b[0mgraph_function\u001b[0m\u001b[0;34m.\u001b[0m\u001b[0m_filtered_call\u001b[0m\u001b[0;34m(\u001b[0m\u001b[0margs\u001b[0m\u001b[0;34m,\u001b[0m \u001b[0mkwargs\u001b[0m\u001b[0;34m)\u001b[0m  \u001b[0;31m# pylint: disable=protected-access\u001b[0m\u001b[0;34m\u001b[0m\u001b[0;34m\u001b[0m\u001b[0m\n\u001b[0m\u001b[1;32m   2830\u001b[0m \u001b[0;34m\u001b[0m\u001b[0m\n\u001b[1;32m   2831\u001b[0m   \u001b[0;34m@\u001b[0m\u001b[0mproperty\u001b[0m\u001b[0;34m\u001b[0m\u001b[0;34m\u001b[0m\u001b[0m\n",
            "\u001b[0;32m/usr/local/lib/python3.6/dist-packages/tensorflow/python/eager/function.py\u001b[0m in \u001b[0;36m_filtered_call\u001b[0;34m(self, args, kwargs, cancellation_manager)\u001b[0m\n\u001b[1;32m   1846\u001b[0m                            resource_variable_ops.BaseResourceVariable))],\n\u001b[1;32m   1847\u001b[0m         \u001b[0mcaptured_inputs\u001b[0m\u001b[0;34m=\u001b[0m\u001b[0mself\u001b[0m\u001b[0;34m.\u001b[0m\u001b[0mcaptured_inputs\u001b[0m\u001b[0;34m,\u001b[0m\u001b[0;34m\u001b[0m\u001b[0;34m\u001b[0m\u001b[0m\n\u001b[0;32m-> 1848\u001b[0;31m         cancellation_manager=cancellation_manager)\n\u001b[0m\u001b[1;32m   1849\u001b[0m \u001b[0;34m\u001b[0m\u001b[0m\n\u001b[1;32m   1850\u001b[0m   \u001b[0;32mdef\u001b[0m \u001b[0m_call_flat\u001b[0m\u001b[0;34m(\u001b[0m\u001b[0mself\u001b[0m\u001b[0;34m,\u001b[0m \u001b[0margs\u001b[0m\u001b[0;34m,\u001b[0m \u001b[0mcaptured_inputs\u001b[0m\u001b[0;34m,\u001b[0m \u001b[0mcancellation_manager\u001b[0m\u001b[0;34m=\u001b[0m\u001b[0;32mNone\u001b[0m\u001b[0;34m)\u001b[0m\u001b[0;34m:\u001b[0m\u001b[0;34m\u001b[0m\u001b[0;34m\u001b[0m\u001b[0m\n",
            "\u001b[0;32m/usr/local/lib/python3.6/dist-packages/tensorflow/python/eager/function.py\u001b[0m in \u001b[0;36m_call_flat\u001b[0;34m(self, args, captured_inputs, cancellation_manager)\u001b[0m\n\u001b[1;32m   1922\u001b[0m       \u001b[0;31m# No tape is watching; skip to running the function.\u001b[0m\u001b[0;34m\u001b[0m\u001b[0;34m\u001b[0m\u001b[0;34m\u001b[0m\u001b[0m\n\u001b[1;32m   1923\u001b[0m       return self._build_call_outputs(self._inference_function.call(\n\u001b[0;32m-> 1924\u001b[0;31m           ctx, args, cancellation_manager=cancellation_manager))\n\u001b[0m\u001b[1;32m   1925\u001b[0m     forward_backward = self._select_forward_and_backward_functions(\n\u001b[1;32m   1926\u001b[0m         \u001b[0margs\u001b[0m\u001b[0;34m,\u001b[0m\u001b[0;34m\u001b[0m\u001b[0;34m\u001b[0m\u001b[0m\n",
            "\u001b[0;32m/usr/local/lib/python3.6/dist-packages/tensorflow/python/eager/function.py\u001b[0m in \u001b[0;36mcall\u001b[0;34m(self, ctx, args, cancellation_manager)\u001b[0m\n\u001b[1;32m    548\u001b[0m               \u001b[0minputs\u001b[0m\u001b[0;34m=\u001b[0m\u001b[0margs\u001b[0m\u001b[0;34m,\u001b[0m\u001b[0;34m\u001b[0m\u001b[0;34m\u001b[0m\u001b[0m\n\u001b[1;32m    549\u001b[0m               \u001b[0mattrs\u001b[0m\u001b[0;34m=\u001b[0m\u001b[0mattrs\u001b[0m\u001b[0;34m,\u001b[0m\u001b[0;34m\u001b[0m\u001b[0;34m\u001b[0m\u001b[0m\n\u001b[0;32m--> 550\u001b[0;31m               ctx=ctx)\n\u001b[0m\u001b[1;32m    551\u001b[0m         \u001b[0;32melse\u001b[0m\u001b[0;34m:\u001b[0m\u001b[0;34m\u001b[0m\u001b[0;34m\u001b[0m\u001b[0m\n\u001b[1;32m    552\u001b[0m           outputs = execute.execute_with_cancellation(\n",
            "\u001b[0;32m/usr/local/lib/python3.6/dist-packages/tensorflow/python/eager/execute.py\u001b[0m in \u001b[0;36mquick_execute\u001b[0;34m(op_name, num_outputs, inputs, attrs, ctx, name)\u001b[0m\n\u001b[1;32m     58\u001b[0m     \u001b[0mctx\u001b[0m\u001b[0;34m.\u001b[0m\u001b[0mensure_initialized\u001b[0m\u001b[0;34m(\u001b[0m\u001b[0;34m)\u001b[0m\u001b[0;34m\u001b[0m\u001b[0;34m\u001b[0m\u001b[0m\n\u001b[1;32m     59\u001b[0m     tensors = pywrap_tfe.TFE_Py_Execute(ctx._handle, device_name, op_name,\n\u001b[0;32m---> 60\u001b[0;31m                                         inputs, attrs, num_outputs)\n\u001b[0m\u001b[1;32m     61\u001b[0m   \u001b[0;32mexcept\u001b[0m \u001b[0mcore\u001b[0m\u001b[0;34m.\u001b[0m\u001b[0m_NotOkStatusException\u001b[0m \u001b[0;32mas\u001b[0m \u001b[0me\u001b[0m\u001b[0;34m:\u001b[0m\u001b[0;34m\u001b[0m\u001b[0;34m\u001b[0m\u001b[0m\n\u001b[1;32m     62\u001b[0m     \u001b[0;32mif\u001b[0m \u001b[0mname\u001b[0m \u001b[0;32mis\u001b[0m \u001b[0;32mnot\u001b[0m \u001b[0;32mNone\u001b[0m\u001b[0;34m:\u001b[0m\u001b[0;34m\u001b[0m\u001b[0;34m\u001b[0m\u001b[0m\n",
            "\u001b[0;31mKeyboardInterrupt\u001b[0m: "
          ]
        }
      ]
    }
  ]
}